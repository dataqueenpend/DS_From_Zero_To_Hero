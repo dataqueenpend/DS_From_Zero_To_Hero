{
  "nbformat": 4,
  "nbformat_minor": 0,
  "metadata": {
    "colab": {
      "name": "Cluster Analysis in Python.ipynb",
      "provenance": [],
      "authorship_tag": "ABX9TyOwGDzdabFa0BeLuo9zP2qx",
      "include_colab_link": true
    },
    "kernelspec": {
      "name": "python3",
      "display_name": "Python 3"
    },
    "language_info": {
      "name": "python"
    }
  },
  "cells": [
    {
      "cell_type": "markdown",
      "metadata": {
        "id": "view-in-github",
        "colab_type": "text"
      },
      "source": [
        "<a href=\"https://colab.research.google.com/github/dataqueenpend/DS_From_Zero_To_Hero/blob/gh-pages/Cluster_Analysis_in_Python.ipynb\" target=\"_parent\"><img src=\"https://colab.research.google.com/assets/colab-badge.svg\" alt=\"Open In Colab\"/></a>"
      ]
    },
    {
      "cell_type": "markdown",
      "metadata": {
        "id": "DXJnAC8bbZt3"
      },
      "source": [
        "#Cluster Analysis in Python\n",
        "\n",
        "In this course, you will be introduced to unsupervised learning through clustering using the SciPy library in Python.\n",
        "\n",
        "This course covers pre-processing of data and application of hierarchical and k-means clustering.  After completing the course, you will be able to\n",
        "* quickly apply various clustering algorithms on data,\n",
        "* visualize the clusters formed \n",
        "* and analyze results."
      ]
    },
    {
      "cell_type": "markdown",
      "metadata": {
        "id": "ag05HvYdbaE-"
      },
      "source": [
        "##Introduction to Clustering\n",
        "\n"
      ]
    },
    {
      "cell_type": "markdown",
      "metadata": {
        "id": "hZwVoNKcbaS7"
      },
      "source": [
        "##Hierarchical Clustering"
      ]
    },
    {
      "cell_type": "markdown",
      "metadata": {
        "id": "QJI3oUeobadN"
      },
      "source": [
        "##K-Means Clustering\n"
      ]
    },
    {
      "cell_type": "markdown",
      "metadata": {
        "id": "P0L03rl0ba2l"
      },
      "source": [
        "##Clustering in Real World\n"
      ]
    }
  ]
}