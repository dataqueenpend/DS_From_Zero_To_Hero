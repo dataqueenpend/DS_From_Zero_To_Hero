{
  "nbformat": 4,
  "nbformat_minor": 0,
  "metadata": {
    "colab": {
      "name": "r_notes.ipynb",
      "provenance": [],
      "collapsed_sections": [],
      "authorship_tag": "ABX9TyNyHl0y9fdPyrhlaZJiov4h",
      "include_colab_link": true
    },
    "kernelspec": {
      "name": "python3",
      "display_name": "Python 3"
    },
    "language_info": {
      "name": "python"
    }
  },
  "cells": [
    {
      "cell_type": "markdown",
      "metadata": {
        "id": "view-in-github",
        "colab_type": "text"
      },
      "source": [
        "<a href=\"https://colab.research.google.com/github/dataqueenpend/DS_From_Zero_To_Hero/blob/gh-pages/r_notes.ipynb\" target=\"_parent\"><img src=\"https://colab.research.google.com/assets/colab-badge.svg\" alt=\"Open In Colab\"/></a>"
      ]
    },
    {
      "cell_type": "code",
      "metadata": {
        "id": "4_FjFm8nErmN",
        "colab": {
          "base_uri": "https://localhost:8080/"
        },
        "outputId": "d72202de-8ec8-453d-ecaf-a874262a41b9"
      },
      "source": [
        "%load_ext rpy2.ipython\n"
      ],
      "execution_count": null,
      "outputs": [
        {
          "output_type": "stream",
          "name": "stdout",
          "text": [
            "The rpy2.ipython extension is already loaded. To reload it, use:\n",
            "  %reload_ext rpy2.ipython\n"
          ]
        }
      ]
    },
    {
      "cell_type": "code",
      "metadata": {
        "id": "0PI2PNihE9hl"
      },
      "source": [
        "%%R\n",
        "z <- c(pi, 205, 149, -2)\n",
        "y <- c(z, 555, z)\n",
        "y <- 2 * y + 760\n",
        "my_sqrt <- sqrt(y - 1)"
      ],
      "execution_count": null,
      "outputs": []
    },
    {
      "cell_type": "code",
      "metadata": {
        "colab": {
          "base_uri": "https://localhost:8080/"
        },
        "id": "6z4sjsXFFHK0",
        "outputId": "fb9d5c22-5902-42a3-92a7-c85f25538cf0"
      },
      "source": [
        "%%R\n",
        "my_sqrt"
      ],
      "execution_count": null,
      "outputs": [
        {
          "output_type": "stream",
          "name": "stdout",
          "text": [
            "[1] 27.66375 34.19064 32.51154 27.47726 43.23193 27.66375 34.19064 32.51154\n",
            "[9] 27.47726\n"
          ]
        }
      ]
    },
    {
      "cell_type": "code",
      "metadata": {
        "colab": {
          "base_uri": "https://localhost:8080/"
        },
        "id": "X8Cc8HcoFPaE",
        "outputId": "ff9052db-97f2-4595-c5d3-290dccef7554"
      },
      "source": [
        "%%R\n",
        "NA + 5\n",
        "\n"
      ],
      "execution_count": null,
      "outputs": [
        {
          "output_type": "stream",
          "name": "stdout",
          "text": [
            "[1] NA\n"
          ]
        }
      ]
    },
    {
      "cell_type": "code",
      "metadata": {
        "colab": {
          "base_uri": "https://localhost:8080/"
        },
        "id": "dZxG4SS-GcGs",
        "outputId": "c27f19a7-4692-4f8b-885c-d45c479c06e4"
      },
      "source": [
        "%%R\n",
        "NA+5\n"
      ],
      "execution_count": null,
      "outputs": [
        {
          "output_type": "stream",
          "name": "stdout",
          "text": [
            "[1] NA\n"
          ]
        }
      ]
    },
    {
      "cell_type": "code",
      "metadata": {
        "id": "Ndf-d4ViVKH3"
      },
      "source": [
        "%%R\n",
        "age <- c(12, 28, 35, 27, NA, 25, 32, 45, 31, 23, NA, 34)\n"
      ],
      "execution_count": null,
      "outputs": []
    },
    {
      "cell_type": "code",
      "metadata": {
        "colab": {
          "base_uri": "https://localhost:8080/"
        },
        "id": "F0u9la-YVS_t",
        "outputId": "9291906a-7ef3-4129-f081-a09eb69c479d"
      },
      "source": [
        "%%R\n",
        "age[!is.na(age)]"
      ],
      "execution_count": null,
      "outputs": [
        {
          "output_type": "stream",
          "name": "stdout",
          "text": [
            " [1] 12 28 35 27 25 32 45 31 23 34\n"
          ]
        }
      ]
    },
    {
      "cell_type": "code",
      "metadata": {
        "colab": {
          "base_uri": "https://localhost:8080/"
        },
        "id": "9HbJm01QVYlN",
        "outputId": "60515a87-8403-4dbe-faa7-17e09dfd8454"
      },
      "source": [
        "%%R\n",
        "age[c(1, 2, 3, 4, 6, 7, 8, 9, 10, 12)]"
      ],
      "execution_count": null,
      "outputs": [
        {
          "output_type": "stream",
          "name": "stdout",
          "text": [
            " [1] 12 28 35 27 25 32 45 31 23 34\n"
          ]
        }
      ]
    },
    {
      "cell_type": "code",
      "metadata": {
        "colab": {
          "base_uri": "https://localhost:8080/"
        },
        "id": "NQgw1mPQVndt",
        "outputId": "da28fa71-25dd-400f-f63a-10e8706d8b13"
      },
      "source": [
        "%%R\n",
        "age[c(-5, -11)]"
      ],
      "execution_count": null,
      "outputs": [
        {
          "output_type": "stream",
          "name": "stdout",
          "text": [
            " [1] 12 28 35 27 25 32 45 31 23 34\n"
          ]
        }
      ]
    },
    {
      "cell_type": "code",
      "metadata": {
        "colab": {
          "base_uri": "https://localhost:8080/"
        },
        "id": "xscyBVZRVogV",
        "outputId": "7fb824d1-32d0-4b6f-9eea-942ad278199d"
      },
      "source": [
        "%%R\n",
        "age[-c(5, 11)]"
      ],
      "execution_count": null,
      "outputs": [
        {
          "output_type": "stream",
          "name": "stdout",
          "text": [
            " [1] 12 28 35 27 25 32 45 31 23 34\n"
          ]
        }
      ]
    },
    {
      "cell_type": "code",
      "metadata": {
        "colab": {
          "base_uri": "https://localhost:8080/"
        },
        "id": "_-Jwjz23WIB1",
        "outputId": "45d64c37-ac2c-4bd6-c668-82aec0b8b68a"
      },
      "source": [
        "%%R\n",
        "library(tidyverse)\n",
        "papers <- as_tibble(read_csv(\"/content/CitesforSara.csv\"))"
      ],
      "execution_count": null,
      "outputs": [
        {
          "output_type": "stream",
          "name": "stdout",
          "text": [
            "Rows: 4182 Columns: 22\n",
            "── Column specification ────────────────────────────────────────────────────────\n",
            "Delimiter: \",\"\n",
            "chr  (5): journal, title, au1, au2, au3\n",
            "dbl (17): year, cites, female1, female2, female3, page, order, nauthor, past...\n",
            "\n",
            "ℹ Use `spec()` to retrieve the full column specification for this data.\n",
            "ℹ Specify the column types or set `show_col_types = FALSE` to quiet this message.\n"
          ]
        }
      ]
    },
    {
      "cell_type": "code",
      "metadata": {
        "id": "rLHy9yVpjWcY"
      },
      "source": [
        " %%R\n",
        " papers_select <- select(papers, journal, year, cites, title, au1)"
      ],
      "execution_count": null,
      "outputs": []
    },
    {
      "cell_type": "code",
      "metadata": {
        "colab": {
          "base_uri": "https://localhost:8080/"
        },
        "id": "fJ-MoPT1pSUq",
        "outputId": "12c6f4c4-c787-4c81-de7f-e4046a4cfd06"
      },
      "source": [
        " %%R\n",
        " head(papers_select)"
      ],
      "execution_count": null,
      "outputs": [
        {
          "output_type": "stream",
          "name": "stdout",
          "text": [
            "# A tibble: 6 × 5\n",
            "  journal                   year cites title                          au1       \n",
            "  <chr>                    <dbl> <dbl> <chr>                          <chr>     \n",
            "1 American-Economic-Review  1993    31 Jeux Sans Frontieres:  Tax Co… Kanbur,-R…\n",
            "2 American-Economic-Review  1993     4 Changes in Economic Instabili… James,-Jo…\n",
            "3 American-Economic-Review  1993    28 Factor Shares and Savings in … Bertola,-…\n",
            "4 American-Economic-Review  1993    10 Strategic Discipline in Monet… Garfinkel…\n",
            "5 American-Economic-Review  1993     5 Will Affirmative-Action Polic… Coate,-St…\n",
            "6 American-Economic-Review  1993    21 Mergers and Market Power:  Ev… Kim,-E.-H…\n"
          ]
        }
      ]
    },
    {
      "cell_type": "code",
      "metadata": {
        "colab": {
          "base_uri": "https://localhost:8080/"
        },
        "id": "tHIlHarOoCc_",
        "outputId": "5f1465de-5b2a-467d-8a2a-51713ba86be4"
      },
      "source": [
        " %%R\n",
        "rows100 <- filter(papers_select, cites >= 100)\n",
        "rows100"
      ],
      "execution_count": null,
      "outputs": [
        {
          "output_type": "stream",
          "name": "stdout",
          "text": [
            "# A tibble: 205 × 5\n",
            "   journal                   year cites title                         au1       \n",
            "   <chr>                    <dbl> <dbl> <chr>                         <chr>     \n",
            " 1 American-Economic-Review  1994   117 Is Inequality Harmful for Gr… Persson,-…\n",
            " 2 Econometrica              1971   149 Further Evidence on the Esti… Nerlove,-…\n",
            " 3 Econometrica              1971   170 The Use of Variance Componen… Maddala,-…\n",
            " 4 Econometrica              1971   155 Investment Under Uncertainty  Lucas,-Ro…\n",
            " 5 Econometrica              1971   139 Some Statistical Models for … Cragg,-Jo…\n",
            " 6 Econometrica              1971   108 Identification in Parametric… Rothenber…\n",
            " 7 Econometrica              1972   164 Methods of Estimation for Ma… Fair,-Ray…\n",
            " 8 Econometrica              1972   150 Existence of Equilibrium of … Radner,-R…\n",
            " 9 Econometrica              1973   361 Manipulation of Voting Schem… Gibbard,-…\n",
            "10 Econometrica              1973   107 On a Class of Equilibrium Co… Kramer,-G…\n",
            "# … with 195 more rows\n"
          ]
        }
      ]
    },
    {
      "cell_type": "code",
      "metadata": {
        "colab": {
          "base_uri": "https://localhost:8080/"
        },
        "id": "McSDJwjPpnE1",
        "outputId": "3ce2ede8-cd3a-49c1-8d2d-d94a8f30f7f9"
      },
      "source": [
        " %%R\n",
        "group <- group_by(papers_select, journal)\n",
        "group"
      ],
      "execution_count": null,
      "outputs": [
        {
          "output_type": "stream",
          "name": "stdout",
          "text": [
            "# A tibble: 4,182 × 5\n",
            "# Groups:   journal [7]\n",
            "   journal                   year cites title                         au1       \n",
            "   <chr>                    <dbl> <dbl> <chr>                         <chr>     \n",
            " 1 American-Economic-Review  1993    31 Jeux Sans Frontieres:  Tax C… Kanbur,-R…\n",
            " 2 American-Economic-Review  1993     4 Changes in Economic Instabil… James,-Jo…\n",
            " 3 American-Economic-Review  1993    28 Factor Shares and Savings in… Bertola,-…\n",
            " 4 American-Economic-Review  1993    10 Strategic Discipline in Mone… Garfinkel…\n",
            " 5 American-Economic-Review  1993     5 Will Affirmative-Action Poli… Coate,-St…\n",
            " 6 American-Economic-Review  1993    21 Mergers and Market Power:  E… Kim,-E.-H…\n",
            " 7 American-Economic-Review  1993    45 A Search-Theoretic Approach … Kiyotaki,…\n",
            " 8 American-Economic-Review  1993    13 An Experimental Test of the … Andreoni,…\n",
            " 9 American-Economic-Review  1993     5 A General Experiment on Barg… Kahn,-Law…\n",
            "10 American-Economic-Review  1993     2 Nominal-Contracting Theories… Keane,-Mi…\n",
            "# … with 4,172 more rows\n"
          ]
        }
      ]
    },
    {
      "cell_type": "code",
      "metadata": {
        "id": "M-i9eCgL45Qe"
      },
      "source": [
        "%%R\n",
        "\n",
        "papers_female <- select(papers, contains(\"female\"))"
      ],
      "execution_count": null,
      "outputs": []
    },
    {
      "cell_type": "code",
      "metadata": {
        "colab": {
          "base_uri": "https://localhost:8080/",
          "height": 204
        },
        "id": "KP7_3gB50R_x",
        "outputId": "666dc99d-2269-4576-a870-db7023497132"
      },
      "source": [
        "import pandas as pd\n",
        "\n",
        "df=pd.read_csv('/content/CitesforSara.csv')\n",
        "df.head()\n",
        "selected = df[['journal', 'year', 'cites', 'title', 'au1']]\n",
        "selected.head()"
      ],
      "execution_count": null,
      "outputs": [
        {
          "output_type": "execute_result",
          "data": {
            "text/html": [
              "<div>\n",
              "<style scoped>\n",
              "    .dataframe tbody tr th:only-of-type {\n",
              "        vertical-align: middle;\n",
              "    }\n",
              "\n",
              "    .dataframe tbody tr th {\n",
              "        vertical-align: top;\n",
              "    }\n",
              "\n",
              "    .dataframe thead th {\n",
              "        text-align: right;\n",
              "    }\n",
              "</style>\n",
              "<table border=\"1\" class=\"dataframe\">\n",
              "  <thead>\n",
              "    <tr style=\"text-align: right;\">\n",
              "      <th></th>\n",
              "      <th>journal</th>\n",
              "      <th>year</th>\n",
              "      <th>cites</th>\n",
              "      <th>title</th>\n",
              "      <th>au1</th>\n",
              "    </tr>\n",
              "  </thead>\n",
              "  <tbody>\n",
              "    <tr>\n",
              "      <th>0</th>\n",
              "      <td>American-Economic-Review</td>\n",
              "      <td>1993</td>\n",
              "      <td>31</td>\n",
              "      <td>Jeux Sans Frontieres:  Tax Competition and Tax...</td>\n",
              "      <td>Kanbur,-Ravi</td>\n",
              "    </tr>\n",
              "    <tr>\n",
              "      <th>1</th>\n",
              "      <td>American-Economic-Review</td>\n",
              "      <td>1993</td>\n",
              "      <td>4</td>\n",
              "      <td>Changes in Economic Instability in 19th-Centur...</td>\n",
              "      <td>James,-John-A.</td>\n",
              "    </tr>\n",
              "    <tr>\n",
              "      <th>2</th>\n",
              "      <td>American-Economic-Review</td>\n",
              "      <td>1993</td>\n",
              "      <td>28</td>\n",
              "      <td>Factor Shares and Savings in Endogenous Growth</td>\n",
              "      <td>Bertola,-Giuseppe</td>\n",
              "    </tr>\n",
              "    <tr>\n",
              "      <th>3</th>\n",
              "      <td>American-Economic-Review</td>\n",
              "      <td>1993</td>\n",
              "      <td>10</td>\n",
              "      <td>Strategic Discipline in Monetary Policy with P...</td>\n",
              "      <td>Garfinkel,-Michelle-R.</td>\n",
              "    </tr>\n",
              "    <tr>\n",
              "      <th>4</th>\n",
              "      <td>American-Economic-Review</td>\n",
              "      <td>1993</td>\n",
              "      <td>5</td>\n",
              "      <td>Will Affirmative-Action Policies Eliminate Neg...</td>\n",
              "      <td>Coate,-Stephen</td>\n",
              "    </tr>\n",
              "  </tbody>\n",
              "</table>\n",
              "</div>"
            ],
            "text/plain": [
              "                    journal  ...                     au1\n",
              "0  American-Economic-Review  ...            Kanbur,-Ravi\n",
              "1  American-Economic-Review  ...          James,-John-A.\n",
              "2  American-Economic-Review  ...       Bertola,-Giuseppe\n",
              "3  American-Economic-Review  ...  Garfinkel,-Michelle-R.\n",
              "4  American-Economic-Review  ...          Coate,-Stephen\n",
              "\n",
              "[5 rows x 5 columns]"
            ]
          },
          "metadata": {},
          "execution_count": 73
        }
      ]
    },
    {
      "cell_type": "code",
      "metadata": {
        "colab": {
          "base_uri": "https://localhost:8080/",
          "height": 204
        },
        "id": "3uVl7uwV1UhY",
        "outputId": "d45a61e7-16c6-41f7-83a4-f9b9f730563f"
      },
      "source": [
        "sel = selected\n",
        "sel.head()"
      ],
      "execution_count": null,
      "outputs": [
        {
          "output_type": "execute_result",
          "data": {
            "text/html": [
              "<div>\n",
              "<style scoped>\n",
              "    .dataframe tbody tr th:only-of-type {\n",
              "        vertical-align: middle;\n",
              "    }\n",
              "\n",
              "    .dataframe tbody tr th {\n",
              "        vertical-align: top;\n",
              "    }\n",
              "\n",
              "    .dataframe thead th {\n",
              "        text-align: right;\n",
              "    }\n",
              "</style>\n",
              "<table border=\"1\" class=\"dataframe\">\n",
              "  <thead>\n",
              "    <tr style=\"text-align: right;\">\n",
              "      <th></th>\n",
              "      <th>journal</th>\n",
              "      <th>year</th>\n",
              "      <th>cites</th>\n",
              "      <th>title</th>\n",
              "      <th>au1</th>\n",
              "    </tr>\n",
              "  </thead>\n",
              "  <tbody>\n",
              "    <tr>\n",
              "      <th>0</th>\n",
              "      <td>American-Economic-Review</td>\n",
              "      <td>1993</td>\n",
              "      <td>31</td>\n",
              "      <td>Jeux Sans Frontieres:  Tax Competition and Tax...</td>\n",
              "      <td>Kanbur,-Ravi</td>\n",
              "    </tr>\n",
              "    <tr>\n",
              "      <th>1</th>\n",
              "      <td>American-Economic-Review</td>\n",
              "      <td>1993</td>\n",
              "      <td>4</td>\n",
              "      <td>Changes in Economic Instability in 19th-Centur...</td>\n",
              "      <td>James,-John-A.</td>\n",
              "    </tr>\n",
              "    <tr>\n",
              "      <th>2</th>\n",
              "      <td>American-Economic-Review</td>\n",
              "      <td>1993</td>\n",
              "      <td>28</td>\n",
              "      <td>Factor Shares and Savings in Endogenous Growth</td>\n",
              "      <td>Bertola,-Giuseppe</td>\n",
              "    </tr>\n",
              "    <tr>\n",
              "      <th>3</th>\n",
              "      <td>American-Economic-Review</td>\n",
              "      <td>1993</td>\n",
              "      <td>10</td>\n",
              "      <td>Strategic Discipline in Monetary Policy with P...</td>\n",
              "      <td>Garfinkel,-Michelle-R.</td>\n",
              "    </tr>\n",
              "    <tr>\n",
              "      <th>4</th>\n",
              "      <td>American-Economic-Review</td>\n",
              "      <td>1993</td>\n",
              "      <td>5</td>\n",
              "      <td>Will Affirmative-Action Policies Eliminate Neg...</td>\n",
              "      <td>Coate,-Stephen</td>\n",
              "    </tr>\n",
              "  </tbody>\n",
              "</table>\n",
              "</div>"
            ],
            "text/plain": [
              "                    journal  ...                     au1\n",
              "0  American-Economic-Review  ...            Kanbur,-Ravi\n",
              "1  American-Economic-Review  ...          James,-John-A.\n",
              "2  American-Economic-Review  ...       Bertola,-Giuseppe\n",
              "3  American-Economic-Review  ...  Garfinkel,-Michelle-R.\n",
              "4  American-Economic-Review  ...          Coate,-Stephen\n",
              "\n",
              "[5 rows x 5 columns]"
            ]
          },
          "metadata": {},
          "execution_count": 76
        }
      ]
    },
    {
      "cell_type": "code",
      "metadata": {
        "colab": {
          "base_uri": "https://localhost:8080/",
          "height": 266
        },
        "id": "0N5c7PAF1YKw",
        "outputId": "9ffa1b26-e5de-4f58-c3bf-e91809453c61"
      },
      "source": [
        "df.groupby('journal').agg({'cites': 'sum'}) \n"
      ],
      "execution_count": null,
      "outputs": [
        {
          "output_type": "execute_result",
          "data": {
            "text/html": [
              "<div>\n",
              "<style scoped>\n",
              "    .dataframe tbody tr th:only-of-type {\n",
              "        vertical-align: middle;\n",
              "    }\n",
              "\n",
              "    .dataframe tbody tr th {\n",
              "        vertical-align: top;\n",
              "    }\n",
              "\n",
              "    .dataframe thead th {\n",
              "        text-align: right;\n",
              "    }\n",
              "</style>\n",
              "<table border=\"1\" class=\"dataframe\">\n",
              "  <thead>\n",
              "    <tr style=\"text-align: right;\">\n",
              "      <th></th>\n",
              "      <th>cites</th>\n",
              "    </tr>\n",
              "    <tr>\n",
              "      <th>journal</th>\n",
              "      <th></th>\n",
              "    </tr>\n",
              "  </thead>\n",
              "  <tbody>\n",
              "    <tr>\n",
              "      <th>American-Economic-Review</th>\n",
              "      <td>3738</td>\n",
              "    </tr>\n",
              "    <tr>\n",
              "      <th>Econometrica</th>\n",
              "      <td>75789</td>\n",
              "    </tr>\n",
              "    <tr>\n",
              "      <th>Journal-of-Political-Economy</th>\n",
              "      <td>3398</td>\n",
              "    </tr>\n",
              "    <tr>\n",
              "      <th>Quarterly-Journal-of-Economics</th>\n",
              "      <td>8844</td>\n",
              "    </tr>\n",
              "    <tr>\n",
              "      <th>Review-of-Economic-Studies</th>\n",
              "      <td>21937</td>\n",
              "    </tr>\n",
              "    <tr>\n",
              "      <th>Review-of-Economics-and-Statistics</th>\n",
              "      <td>8473</td>\n",
              "    </tr>\n",
              "  </tbody>\n",
              "</table>\n",
              "</div>"
            ],
            "text/plain": [
              "                                    cites\n",
              "journal                                  \n",
              "American-Economic-Review             3738\n",
              "Econometrica                        75789\n",
              "Journal-of-Political-Economy         3398\n",
              "Quarterly-Journal-of-Economics       8844\n",
              "Review-of-Economic-Studies          21937\n",
              "Review-of-Economics-and-Statistics   8473"
            ]
          },
          "metadata": {},
          "execution_count": 86
        }
      ]
    },
    {
      "cell_type": "code",
      "metadata": {
        "colab": {
          "base_uri": "https://localhost:8080/"
        },
        "id": "o0XCLB6R3mxI",
        "outputId": "1b7d84a6-5a0b-4279-dc46-54f38dcc18c0"
      },
      "source": [
        "sel.info()"
      ],
      "execution_count": null,
      "outputs": [
        {
          "output_type": "stream",
          "name": "stdout",
          "text": [
            "<class 'pandas.core.frame.DataFrame'>\n",
            "RangeIndex: 4182 entries, 0 to 4181\n",
            "Data columns (total 5 columns):\n",
            " #   Column   Non-Null Count  Dtype \n",
            "---  ------   --------------  ----- \n",
            " 0   journal  4176 non-null   object\n",
            " 1   year     4182 non-null   int64 \n",
            " 2   cites    4182 non-null   int64 \n",
            " 3   title    4181 non-null   object\n",
            " 4   au1      4179 non-null   object\n",
            "dtypes: int64(2), object(3)\n",
            "memory usage: 163.5+ KB\n"
          ]
        }
      ]
    },
    {
      "cell_type": "code",
      "metadata": {
        "colab": {
          "base_uri": "https://localhost:8080/"
        },
        "id": "GLPd84T04DGC",
        "outputId": "34b9a805-fd2d-427e-db8b-3afd5674696e"
      },
      "source": [
        "df['au1'].value_counts().sort_index() \n"
      ],
      "execution_count": null,
      "outputs": [
        {
          "output_type": "execute_result",
          "data": {
            "text/plain": [
              " Williamson,-Stephen-D.            1\n",
              "Aaron,-Henry-J.                    1\n",
              "Abbott,-Michael                    1\n",
              "Abel,-Andrew-B.                    9\n",
              "Abowd,-John-M.                     2\n",
              "                                  ..\n",
              "van-der-Ploeg,-Frederick           1\n",
              "von-Thadden,-Ernst-Ludwig          1\n",
              "von-Ungern-Sternberg,-Thomas       1\n",
              "von-Weizsacker,-C.-Christian       1\n",
              "von-der-Fehr,-Nils-Henrik-Morch    1\n",
              "Name: au1, Length: 2332, dtype: int64"
            ]
          },
          "metadata": {},
          "execution_count": 87
        }
      ]
    }
  ]
}