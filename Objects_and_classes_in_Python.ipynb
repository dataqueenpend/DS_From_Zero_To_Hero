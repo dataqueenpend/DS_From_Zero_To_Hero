{
  "nbformat": 4,
  "nbformat_minor": 0,
  "metadata": {
    "colab": {
      "name": "Objects and classes in Python.ipynb",
      "provenance": [],
      "collapsed_sections": [],
      "authorship_tag": "ABX9TyPcxjyfYFn+eolmD8sXJDTI",
      "include_colab_link": true
    },
    "kernelspec": {
      "name": "python3",
      "display_name": "Python 3"
    },
    "language_info": {
      "name": "python"
    }
  },
  "cells": [
    {
      "cell_type": "markdown",
      "metadata": {
        "id": "view-in-github",
        "colab_type": "text"
      },
      "source": [
        "<a href=\"https://colab.research.google.com/github/dataqueenpend/DS_From_Zero_To_Hero/blob/gh-pages/Objects_and_classes_in_Python.ipynb\" target=\"_parent\"><img src=\"https://colab.research.google.com/assets/colab-badge.svg\" alt=\"Open In Colab\"/></a>"
      ]
    },
    {
      "cell_type": "markdown",
      "metadata": {
        "id": "BdIKF0iIqpow"
      },
      "source": [
        "# Objects and classes in Python\n",
        "\n",
        "exercises by DataCamp \n",
        "solved by me\n",
        "\n",
        "## OOP Fundamentals\n",
        "\n",
        "useful functions: \n",
        "* type() - check the class of the object\n",
        "* dir() - check the functions of the object\n",
        "* help() - check useful info about the object\n",
        "\n",
        "\n",
        "**Creating a class**\n",
        "\n",
        "Create an empty class Employee.\n",
        "Create an object emp of the class Employee by calling Employee().\n",
        "\n"
      ]
    },
    {
      "cell_type": "code",
      "metadata": {
        "id": "mXj9QatPzAWx"
      },
      "source": [
        "# Create an empty class Employee\n",
        "class Employee:\n",
        "    pass\n",
        "\n",
        "# Create an object emp of class Employee \n",
        "emp = Employee()\n"
      ],
      "execution_count": null,
      "outputs": []
    },
    {
      "cell_type": "markdown",
      "metadata": {
        "id": "dmjDvfr-zsXB"
      },
      "source": [
        "* Modify the Employee class to include a .set_name() method that takes a new_name argument, and assigns new_name to the .name attribute of the class.\n",
        "* Use the set_name() method on emp to set the name to 'Korel Rossi'.\n",
        "* Print emp.name."
      ]
    },
    {
      "cell_type": "code",
      "metadata": {
        "colab": {
          "base_uri": "https://localhost:8080/"
        },
        "id": "V59UMb59zqfS",
        "outputId": "536b9aaa-f4b7-497f-e420-7cf71da74264"
      },
      "source": [
        "# Include a set_name method\n",
        "class Employee:\n",
        "  \n",
        "  def set_name(self, new_name):\n",
        "    self.name = new_name\n",
        "  \n",
        "# Create an object emp of class Employee  \n",
        "emp = Employee()\n",
        "\n",
        "# Use set_name() on emp to set the name of emp to 'Korel Rossi'\n",
        "emp.set_name('Korel Rossi')\n",
        "\n",
        "# Print the name of emp\n",
        "print(emp.name)"
      ],
      "execution_count": null,
      "outputs": [
        {
          "output_type": "stream",
          "text": [
            "Korel Rossi\n"
          ],
          "name": "stdout"
        }
      ]
    },
    {
      "cell_type": "markdown",
      "metadata": {
        "id": "i9dBuert1d03"
      },
      "source": [
        "* Follow the pattern to add another method - set_salary() - that will set the salary attribute of the class to the parameter new_salary passed to method.\n",
        "* Set the salary of emp to 50000."
      ]
    },
    {
      "cell_type": "code",
      "metadata": {
        "id": "Y8HDBQHg2EiT"
      },
      "source": [
        "class Employee:\n",
        "  \n",
        "  def set_name(self, new_name):\n",
        "    self.name = new_name\n",
        "  \n",
        "  # Add set_salary() method\n",
        "  def set_salary(self, new_salary):\n",
        "    self.salary = new_salary\n",
        "  \n",
        "  \n",
        "# Create an object emp of class Employee  \n",
        "emp = Employee()\n",
        "\n",
        "# Use set_name to set the name of emp to 'Korel Rossi'\n",
        "emp.set_name('Korel Rossi')\n",
        "\n",
        "# Set the salary of emp to 50000\n",
        "emp.set_salary(50000)\n"
      ],
      "execution_count": null,
      "outputs": []
    },
    {
      "cell_type": "markdown",
      "metadata": {
        "id": "A_zYHxm42fwu"
      },
      "source": [
        "**Using attributes in class definition**\n",
        "\n",
        "* Print the salary attribute of emp.\n",
        "* Attributes aren't read-only: use assignment (equality sign) to increase the salary attribute of emp by 1500, and print it again\n"
      ]
    },
    {
      "cell_type": "code",
      "metadata": {
        "colab": {
          "base_uri": "https://localhost:8080/"
        },
        "id": "rdV0Q6O84Jle",
        "outputId": "65f57a28-b049-40ae-dd3c-243b7a9819d2"
      },
      "source": [
        "class Employee:\n",
        "    def set_name(self, new_name):\n",
        "        self.name = new_name\n",
        "\n",
        "    def set_salary(self, new_salary):\n",
        "        self.salary = new_salary \n",
        "  \n",
        "emp = Employee()\n",
        "emp.set_name('Korel Rossi')\n",
        "emp.set_salary(50000)\n",
        "\n",
        "# Print the salary attribute of emp\n",
        "print(emp.salary)\n",
        "\n",
        "# Increase salary of emp by 1500\n",
        "emp.salary = emp.salary + 1500\n",
        "\n",
        "# Print the salary attribute of emp again\n",
        "print(emp.salary)"
      ],
      "execution_count": null,
      "outputs": [
        {
          "output_type": "stream",
          "text": [
            "50000\n",
            "51500\n"
          ],
          "name": "stdout"
        }
      ]
    },
    {
      "cell_type": "markdown",
      "metadata": {
        "id": "mZIOBLrE4ifL"
      },
      "source": [
        "* Raising a salary for an employee is a common pattern of behavior, so it should be part of the class definition instead.\n",
        "\n",
        "Add a method give_raise() to Employee that increases the salary by the amount passed to give_raise() as a parameter."
      ]
    },
    {
      "cell_type": "code",
      "metadata": {
        "colab": {
          "base_uri": "https://localhost:8080/"
        },
        "id": "chd5jxDn4pre",
        "outputId": "0b241a94-2e8d-4115-cfdf-42bf9e508f25"
      },
      "source": [
        "class Employee:\n",
        "    def set_name(self, new_name):\n",
        "        self.name = new_name\n",
        "\n",
        "    def set_salary(self, new_salary):\n",
        "        self.salary = new_salary \n",
        "\n",
        "    # Add a give_raise() method with raise amount as a parameter\n",
        "    def give_raise(self, raise_amount):\n",
        "        self.salary = self.salary + raise_amount \n",
        "\n",
        "\n",
        "emp = Employee()\n",
        "emp.set_name('Korel Rossi')\n",
        "emp.set_salary(50000)\n",
        "\n",
        "print(emp.salary)\n",
        "emp.give_raise(1500)\n",
        "print(emp.salary)"
      ],
      "execution_count": null,
      "outputs": [
        {
          "output_type": "stream",
          "text": [
            "50000\n",
            "51500\n"
          ],
          "name": "stdout"
        }
      ]
    },
    {
      "cell_type": "markdown",
      "metadata": {
        "id": "1ehXiTmT5nm0"
      },
      "source": [
        "Methods don't have to just modify the attributes - they can return values as well!\n",
        "\n",
        "* Add a method monthly_salary() that returns the value of the .salary attribute divided by 12.\n",
        "* Call .monthly_salary() on emp, assign it to mon_sal, and print."
      ]
    },
    {
      "cell_type": "code",
      "metadata": {
        "colab": {
          "base_uri": "https://localhost:8080/"
        },
        "id": "CsPPEgt751S4",
        "outputId": "20b1962f-c76a-4d8a-eeee-3e9344341ce9"
      },
      "source": [
        "class Employee:\n",
        "    def set_name(self, new_name):\n",
        "        self.name = new_name\n",
        "\n",
        "    def set_salary(self, new_salary):\n",
        "        self.salary = new_salary \n",
        "\n",
        "    def give_raise(self, amount):\n",
        "        self.salary = self.salary + amount\n",
        "\n",
        "    # Add monthly_salary method that returns 1/12th of salary attribute\n",
        "    def monthly_salary(self):\n",
        "        \n",
        "        return self.salary / 12\n",
        "\n",
        "    \n",
        "emp = Employee()\n",
        "emp.set_name('Korel Rossi')\n",
        "emp.set_salary(50000)\n",
        "\n",
        "# Get monthly salary of emp and assign to mon_sal\n",
        "mon_sal = emp.monthly_salary()\n",
        "\n",
        "# Print mon_sal\n",
        "print(mon_sal)"
      ],
      "execution_count": null,
      "outputs": [
        {
          "output_type": "stream",
          "text": [
            "4166.666666666667\n"
          ],
          "name": "stdout"
        }
      ]
    },
    {
      "cell_type": "markdown",
      "metadata": {
        "id": "0Ju9nYgy7aW5"
      },
      "source": [
        "**Class constructor** allows to assign data to object upon creation\n",
        "\n",
        " Define the class Employee with a constructor __init__() that:\n",
        "\n",
        "* accepts two arguments, name and salary (with default value0),\n",
        "creates two attributes, also called name and salary,\n",
        "sets their values to the corresponding arguments.\n",
        "\n",
        "\n",
        "\n"
      ]
    },
    {
      "cell_type": "code",
      "metadata": {
        "colab": {
          "base_uri": "https://localhost:8080/"
        },
        "id": "bzjjRdBIbDq9",
        "outputId": "f886f078-f736-4480-94c3-244164228329"
      },
      "source": [
        "class Employee:\n",
        "    # Create __init__() method\n",
        "    def __init__(self, name, salary = 0):\n",
        "        # Create the name and salary attributes\n",
        "        self.name = name\n",
        "        self.salary = salary\n",
        "    \n",
        "    # From the previous lesson\n",
        "    def give_raise(self, amount):\n",
        "        self.salary += amount\n",
        "\n",
        "    def monthly_salary(self):\n",
        "        return self.salary/12\n",
        "        \n",
        "emp = Employee(\"Korel Rossi\")\n",
        "print(emp.name)\n",
        "print(emp.salary)     "
      ],
      "execution_count": 10,
      "outputs": [
        {
          "output_type": "stream",
          "text": [
            "Korel Rossi\n",
            "0\n"
          ],
          "name": "stdout"
        }
      ]
    },
    {
      "cell_type": "markdown",
      "metadata": {
        "id": "qefjhB-FbgiB"
      },
      "source": [
        "The __init__() method is a great place to do preprocessing.\n",
        "\n",
        " Modify __init__() to check whether the salary parameter is positive:\n",
        "* if yes, assign it to the salary attribute,\n",
        "* if not, assign 0 to the attribute and print \"Invalid salary!\"."
      ]
    },
    {
      "cell_type": "code",
      "metadata": {
        "colab": {
          "base_uri": "https://localhost:8080/"
        },
        "id": "bGLK0qEKbrEV",
        "outputId": "ac2e5040-9db6-493c-8edc-c2f54f5fa9e9"
      },
      "source": [
        "class Employee:\n",
        "  \n",
        "    def __init__(self, name, salary=0):\n",
        "        self.name = name\n",
        "        # Modify code below to check if salary is positive\n",
        "        \n",
        "        if salary > 0:\n",
        "            self.salary = salary \n",
        "        else:\n",
        "            self.salary = 0\n",
        "            print('Invalid salary!')\n",
        "   \n",
        "   # ...Other methods omitted for brevity ...\n",
        "      \n",
        "emp = Employee(\"Korel Rossi\", -1000)\n",
        "print(emp.name)\n",
        "print(emp.salary)"
      ],
      "execution_count": 11,
      "outputs": [
        {
          "output_type": "stream",
          "text": [
            "Invalid salary!\n",
            "Korel Rossi\n",
            "0\n"
          ],
          "name": "stdout"
        }
      ]
    },
    {
      "cell_type": "markdown",
      "metadata": {
        "id": "P1P3m0oBcRvj"
      },
      "source": [
        "* Import datetime from the datetime module. This contains the function that returns current date.\n",
        "* Add an attribute hire_date and set it to datetime.today()."
      ]
    },
    {
      "cell_type": "code",
      "metadata": {
        "colab": {
          "base_uri": "https://localhost:8080/"
        },
        "id": "8GOqiPxSckK0",
        "outputId": "325485eb-6b36-4643-fb8f-dcbb5f5bf185"
      },
      "source": [
        "# Import datetime from datetime\n",
        "from datetime import datetime\n",
        "\n",
        "class Employee:\n",
        "    \n",
        "    def __init__(self, name, salary=0):\n",
        "        self.name = name\n",
        "        if salary > 0:\n",
        "          self.salary = salary\n",
        "        else:\n",
        "          self.salary = 0\n",
        "          print(\"Invalid salary!\")\n",
        "          \n",
        "        # Add the hire_date attribute and set it to today's date\n",
        "        self.hire_date = datetime.today()\n",
        "        \n",
        "   # ...Other methods omitted for brevity ...\n",
        "      \n",
        "emp = Employee(\"Korel Rossi\", -1000)\n",
        "print(emp.name)\n",
        "print(emp.salary)"
      ],
      "execution_count": 12,
      "outputs": [
        {
          "output_type": "stream",
          "text": [
            "Invalid salary!\n",
            "Korel Rossi\n",
            "0\n"
          ],
          "name": "stdout"
        }
      ]
    },
    {
      "cell_type": "markdown",
      "metadata": {
        "id": "h3nw82TaczH6"
      },
      "source": [
        "---\n",
        "**Write a class from scratch**\n",
        "\n",
        "Define the class Point that has:\n",
        "\n",
        "* Two attributes, x and y - the coordinates of the point on the plane;\n",
        "* A constructor that accepts two arguments, x and y, that initialize the corresponding attributes. These arguments should have default value of 0.0;\n",
        "* A method distance_to_origin() that returns the distance from the point to the origin. The formula for that is .\n",
        "* A method reflect(), that reflects the point with respect to the x- or y-axis:\n",
        "  * accepts one argument axis,\n",
        "  * if axis=\"x\" , it sets the y (not a typo!) attribute to the negative value of the y attribute,\n",
        "  * if axis=\"y\", it sets the x attribute to the negative value of the x attribute,\n",
        "  * for any other value of axis, prints an error message. Reflection of a point with respect to y and x axes\n",
        "\n",
        "! Note: You can choose to use sqrt() function from either the numpy or the math package, but whichever package you choose, don't forget to import it before starting the class definition!\n",
        "\n",
        "* To check your work, you should be able to run the following code without errors:\n",
        "\n",
        "```\n",
        "pt = Point(x=3.0)\n",
        "pt.reflect(\"y\")\n",
        "print((pt.x, pt.y))\n",
        "pt.y = 4.0\n",
        "print(pt.distance_to_origin())\n",
        "```\n",
        " and return the output \n",
        " ```\n",
        " (-3.0,0.0) \n",
        " 5.0\n",
        " ```"
      ]
    },
    {
      "cell_type": "code",
      "metadata": {
        "colab": {
          "base_uri": "https://localhost:8080/"
        },
        "id": "EYnNFEghd8FD",
        "outputId": "3f800e9f-e4fa-453d-9838-1138b2c913bc"
      },
      "source": [
        "# Write the class Point as outlined in the instructions\n",
        "import math\n",
        "class Point():\n",
        "    def __init__(self, x = 0.0, y = 0.0):\n",
        "        self.x = x\n",
        "        self.y = y\n",
        "    \n",
        "    def distance_to_origin(self):\n",
        "        return math.sqrt(self.x**2 + self.y**2)\n",
        "    \n",
        "    def reflect(self, axis):\n",
        "        if axis=='x':\n",
        "            self.y = -self.y\n",
        "        elif axis=='y':\n",
        "            self.x = -self.x\n",
        "        else:\n",
        "            print('Value error')\n",
        "\n",
        "pt = Point(x=3.0)\n",
        "pt.reflect(\"y\")\n",
        "print((pt.x, pt.y))\n",
        "pt.y = 4.0\n",
        "print(pt.distance_to_origin())\n"
      ],
      "execution_count": 13,
      "outputs": [
        {
          "output_type": "stream",
          "text": [
            "(-3.0, 0.0)\n",
            "5.0\n"
          ],
          "name": "stdout"
        }
      ]
    },
    {
      "cell_type": "markdown",
      "metadata": {
        "id": "l3A3QDF-jSOE"
      },
      "source": [
        "## Inheritance and Polymorphism\n",
        "\n"
      ]
    }
  ]
}