{
  "nbformat": 4,
  "nbformat_minor": 0,
  "metadata": {
    "colab": {
      "name": "Objects and classes in Python.ipynb",
      "provenance": [],
      "collapsed_sections": [],
      "authorship_tag": "ABX9TyOjrboSMFteS3qBXuSliMUL",
      "include_colab_link": true
    },
    "kernelspec": {
      "name": "python3",
      "display_name": "Python 3"
    },
    "language_info": {
      "name": "python"
    }
  },
  "cells": [
    {
      "cell_type": "markdown",
      "metadata": {
        "id": "view-in-github",
        "colab_type": "text"
      },
      "source": [
        "<a href=\"https://colab.research.google.com/github/dataqueenpend/DS_From_Zero_To_Hero/blob/gh-pages/Objects_and_classes_in_Python.ipynb\" target=\"_parent\"><img src=\"https://colab.research.google.com/assets/colab-badge.svg\" alt=\"Open In Colab\"/></a>"
      ]
    },
    {
      "cell_type": "markdown",
      "metadata": {
        "id": "BdIKF0iIqpow"
      },
      "source": [
        "# Objects and classes in Python\n",
        "\n",
        "exercises by DataCamp \n",
        "solved by me\n",
        "\n",
        "## OOP Fundamentals\n",
        "\n",
        "useful functions: \n",
        "* type() - check the class of the object\n",
        "* dir() - check the functions of the object\n",
        "* help() - check useful info about the object\n",
        "\n",
        "\n",
        "**Creating a class**\n",
        "\n",
        "Create an empty class Employee.\n",
        "Create an object emp of the class Employee by calling Employee().\n",
        "\n"
      ]
    },
    {
      "cell_type": "code",
      "metadata": {
        "id": "mXj9QatPzAWx"
      },
      "source": [
        "# Create an empty class Employee\n",
        "class Employee:\n",
        "    pass\n",
        "\n",
        "# Create an object emp of class Employee \n",
        "emp = Employee()\n"
      ],
      "execution_count": null,
      "outputs": []
    },
    {
      "cell_type": "markdown",
      "metadata": {
        "id": "dmjDvfr-zsXB"
      },
      "source": [
        "* Modify the Employee class to include a .set_name() method that takes a new_name argument, and assigns new_name to the .name attribute of the class.\n",
        "* Use the set_name() method on emp to set the name to 'Korel Rossi'.\n",
        "* Print emp.name."
      ]
    },
    {
      "cell_type": "code",
      "metadata": {
        "colab": {
          "base_uri": "https://localhost:8080/"
        },
        "id": "V59UMb59zqfS",
        "outputId": "536b9aaa-f4b7-497f-e420-7cf71da74264"
      },
      "source": [
        "# Include a set_name method\n",
        "class Employee:\n",
        "  \n",
        "  def set_name(self, new_name):\n",
        "    self.name = new_name\n",
        "  \n",
        "# Create an object emp of class Employee  \n",
        "emp = Employee()\n",
        "\n",
        "# Use set_name() on emp to set the name of emp to 'Korel Rossi'\n",
        "emp.set_name('Korel Rossi')\n",
        "\n",
        "# Print the name of emp\n",
        "print(emp.name)"
      ],
      "execution_count": null,
      "outputs": [
        {
          "output_type": "stream",
          "text": [
            "Korel Rossi\n"
          ],
          "name": "stdout"
        }
      ]
    },
    {
      "cell_type": "markdown",
      "metadata": {
        "id": "i9dBuert1d03"
      },
      "source": [
        "* Follow the pattern to add another method - set_salary() - that will set the salary attribute of the class to the parameter new_salary passed to method.\n",
        "* Set the salary of emp to 50000."
      ]
    },
    {
      "cell_type": "code",
      "metadata": {
        "id": "Y8HDBQHg2EiT"
      },
      "source": [
        "class Employee:\n",
        "  \n",
        "  def set_name(self, new_name):\n",
        "    self.name = new_name\n",
        "  \n",
        "  # Add set_salary() method\n",
        "  def set_salary(self, new_salary):\n",
        "    self.salary = new_salary\n",
        "  \n",
        "  \n",
        "# Create an object emp of class Employee  \n",
        "emp = Employee()\n",
        "\n",
        "# Use set_name to set the name of emp to 'Korel Rossi'\n",
        "emp.set_name('Korel Rossi')\n",
        "\n",
        "# Set the salary of emp to 50000\n",
        "emp.set_salary(50000)\n"
      ],
      "execution_count": null,
      "outputs": []
    },
    {
      "cell_type": "markdown",
      "metadata": {
        "id": "A_zYHxm42fwu"
      },
      "source": [
        "**Using attributes in class definition**\n",
        "\n",
        "* Print the salary attribute of emp.\n",
        "* Attributes aren't read-only: use assignment (equality sign) to increase the salary attribute of emp by 1500, and print it again\n"
      ]
    },
    {
      "cell_type": "code",
      "metadata": {
        "colab": {
          "base_uri": "https://localhost:8080/"
        },
        "id": "rdV0Q6O84Jle",
        "outputId": "65f57a28-b049-40ae-dd3c-243b7a9819d2"
      },
      "source": [
        "class Employee:\n",
        "    def set_name(self, new_name):\n",
        "        self.name = new_name\n",
        "\n",
        "    def set_salary(self, new_salary):\n",
        "        self.salary = new_salary \n",
        "  \n",
        "emp = Employee()\n",
        "emp.set_name('Korel Rossi')\n",
        "emp.set_salary(50000)\n",
        "\n",
        "# Print the salary attribute of emp\n",
        "print(emp.salary)\n",
        "\n",
        "# Increase salary of emp by 1500\n",
        "emp.salary = emp.salary + 1500\n",
        "\n",
        "# Print the salary attribute of emp again\n",
        "print(emp.salary)"
      ],
      "execution_count": null,
      "outputs": [
        {
          "output_type": "stream",
          "text": [
            "50000\n",
            "51500\n"
          ],
          "name": "stdout"
        }
      ]
    },
    {
      "cell_type": "markdown",
      "metadata": {
        "id": "mZIOBLrE4ifL"
      },
      "source": [
        "* Raising a salary for an employee is a common pattern of behavior, so it should be part of the class definition instead.\n",
        "\n",
        "Add a method give_raise() to Employee that increases the salary by the amount passed to give_raise() as a parameter."
      ]
    },
    {
      "cell_type": "code",
      "metadata": {
        "colab": {
          "base_uri": "https://localhost:8080/"
        },
        "id": "chd5jxDn4pre",
        "outputId": "0b241a94-2e8d-4115-cfdf-42bf9e508f25"
      },
      "source": [
        "class Employee:\n",
        "    def set_name(self, new_name):\n",
        "        self.name = new_name\n",
        "\n",
        "    def set_salary(self, new_salary):\n",
        "        self.salary = new_salary \n",
        "\n",
        "    # Add a give_raise() method with raise amount as a parameter\n",
        "    def give_raise(self, raise_amount):\n",
        "        self.salary = self.salary + raise_amount \n",
        "\n",
        "\n",
        "emp = Employee()\n",
        "emp.set_name('Korel Rossi')\n",
        "emp.set_salary(50000)\n",
        "\n",
        "print(emp.salary)\n",
        "emp.give_raise(1500)\n",
        "print(emp.salary)"
      ],
      "execution_count": null,
      "outputs": [
        {
          "output_type": "stream",
          "text": [
            "50000\n",
            "51500\n"
          ],
          "name": "stdout"
        }
      ]
    },
    {
      "cell_type": "markdown",
      "metadata": {
        "id": "1ehXiTmT5nm0"
      },
      "source": [
        "Methods don't have to just modify the attributes - they can return values as well!\n",
        "\n",
        "* Add a method monthly_salary() that returns the value of the .salary attribute divided by 12.\n",
        "* Call .monthly_salary() on emp, assign it to mon_sal, and print."
      ]
    },
    {
      "cell_type": "code",
      "metadata": {
        "colab": {
          "base_uri": "https://localhost:8080/"
        },
        "id": "CsPPEgt751S4",
        "outputId": "20b1962f-c76a-4d8a-eeee-3e9344341ce9"
      },
      "source": [
        "class Employee:\n",
        "    def set_name(self, new_name):\n",
        "        self.name = new_name\n",
        "\n",
        "    def set_salary(self, new_salary):\n",
        "        self.salary = new_salary \n",
        "\n",
        "    def give_raise(self, amount):\n",
        "        self.salary = self.salary + amount\n",
        "\n",
        "    # Add monthly_salary method that returns 1/12th of salary attribute\n",
        "    def monthly_salary(self):\n",
        "        \n",
        "        return self.salary / 12\n",
        "\n",
        "    \n",
        "emp = Employee()\n",
        "emp.set_name('Korel Rossi')\n",
        "emp.set_salary(50000)\n",
        "\n",
        "# Get monthly salary of emp and assign to mon_sal\n",
        "mon_sal = emp.monthly_salary()\n",
        "\n",
        "# Print mon_sal\n",
        "print(mon_sal)"
      ],
      "execution_count": null,
      "outputs": [
        {
          "output_type": "stream",
          "text": [
            "4166.666666666667\n"
          ],
          "name": "stdout"
        }
      ]
    },
    {
      "cell_type": "markdown",
      "metadata": {
        "id": "0Ju9nYgy7aW5"
      },
      "source": [
        "**Class constructor** allows to assign data to object upon creation\n",
        "\n",
        " Define the class Employee with a constructor __init__() that:\n",
        "\n",
        "* accepts two arguments, name and salary (with default value0),\n",
        "creates two attributes, also called name and salary,\n",
        "sets their values to the corresponding arguments.\n",
        "\n",
        "\n",
        "\n"
      ]
    },
    {
      "cell_type": "code",
      "metadata": {
        "colab": {
          "base_uri": "https://localhost:8080/"
        },
        "id": "bzjjRdBIbDq9",
        "outputId": "f886f078-f736-4480-94c3-244164228329"
      },
      "source": [
        "class Employee:\n",
        "    # Create __init__() method\n",
        "    def __init__(self, name, salary = 0):\n",
        "        # Create the name and salary attributes\n",
        "        self.name = name\n",
        "        self.salary = salary\n",
        "    \n",
        "    # From the previous lesson\n",
        "    def give_raise(self, amount):\n",
        "        self.salary += amount\n",
        "\n",
        "    def monthly_salary(self):\n",
        "        return self.salary/12\n",
        "        \n",
        "emp = Employee(\"Korel Rossi\")\n",
        "print(emp.name)\n",
        "print(emp.salary)     "
      ],
      "execution_count": null,
      "outputs": [
        {
          "output_type": "stream",
          "text": [
            "Korel Rossi\n",
            "0\n"
          ],
          "name": "stdout"
        }
      ]
    },
    {
      "cell_type": "markdown",
      "metadata": {
        "id": "qefjhB-FbgiB"
      },
      "source": [
        "The __init__() method is a great place to do preprocessing.\n",
        "\n",
        " Modify __init__() to check whether the salary parameter is positive:\n",
        "* if yes, assign it to the salary attribute,\n",
        "* if not, assign 0 to the attribute and print \"Invalid salary!\"."
      ]
    },
    {
      "cell_type": "code",
      "metadata": {
        "colab": {
          "base_uri": "https://localhost:8080/"
        },
        "id": "bGLK0qEKbrEV",
        "outputId": "ac2e5040-9db6-493c-8edc-c2f54f5fa9e9"
      },
      "source": [
        "class Employee:\n",
        "  \n",
        "    def __init__(self, name, salary=0):\n",
        "        self.name = name\n",
        "        # Modify code below to check if salary is positive\n",
        "        \n",
        "        if salary > 0:\n",
        "            self.salary = salary \n",
        "        else:\n",
        "            self.salary = 0\n",
        "            print('Invalid salary!')\n",
        "   \n",
        "   # ...Other methods omitted for brevity ...\n",
        "      \n",
        "emp = Employee(\"Korel Rossi\", -1000)\n",
        "print(emp.name)\n",
        "print(emp.salary)"
      ],
      "execution_count": null,
      "outputs": [
        {
          "output_type": "stream",
          "text": [
            "Invalid salary!\n",
            "Korel Rossi\n",
            "0\n"
          ],
          "name": "stdout"
        }
      ]
    },
    {
      "cell_type": "markdown",
      "metadata": {
        "id": "P1P3m0oBcRvj"
      },
      "source": [
        "* Import datetime from the datetime module. This contains the function that returns current date.\n",
        "* Add an attribute hire_date and set it to datetime.today()."
      ]
    },
    {
      "cell_type": "code",
      "metadata": {
        "colab": {
          "base_uri": "https://localhost:8080/"
        },
        "id": "8GOqiPxSckK0",
        "outputId": "325485eb-6b36-4643-fb8f-dcbb5f5bf185"
      },
      "source": [
        "# Import datetime from datetime\n",
        "from datetime import datetime\n",
        "\n",
        "class Employee:\n",
        "    \n",
        "    def __init__(self, name, salary=0):\n",
        "        self.name = name\n",
        "        if salary > 0:\n",
        "          self.salary = salary\n",
        "        else:\n",
        "          self.salary = 0\n",
        "          print(\"Invalid salary!\")\n",
        "          \n",
        "        # Add the hire_date attribute and set it to today's date\n",
        "        self.hire_date = datetime.today()\n",
        "        \n",
        "   # ...Other methods omitted for brevity ...\n",
        "      \n",
        "emp = Employee(\"Korel Rossi\", -1000)\n",
        "print(emp.name)\n",
        "print(emp.salary)"
      ],
      "execution_count": null,
      "outputs": [
        {
          "output_type": "stream",
          "text": [
            "Invalid salary!\n",
            "Korel Rossi\n",
            "0\n"
          ],
          "name": "stdout"
        }
      ]
    },
    {
      "cell_type": "markdown",
      "metadata": {
        "id": "h3nw82TaczH6"
      },
      "source": [
        "---\n",
        "**Write a class from scratch**\n",
        "\n",
        "Define the class Point that has:\n",
        "\n",
        "* Two attributes, x and y - the coordinates of the point on the plane;\n",
        "* A constructor that accepts two arguments, x and y, that initialize the corresponding attributes. These arguments should have default value of 0.0;\n",
        "* A method distance_to_origin() that returns the distance from the point to the origin. The formula for that is .\n",
        "* A method reflect(), that reflects the point with respect to the x- or y-axis:\n",
        "  * accepts one argument axis,\n",
        "  * if axis=\"x\" , it sets the y (not a typo!) attribute to the negative value of the y attribute,\n",
        "  * if axis=\"y\", it sets the x attribute to the negative value of the x attribute,\n",
        "  * for any other value of axis, prints an error message. Reflection of a point with respect to y and x axes\n",
        "\n",
        "! Note: You can choose to use sqrt() function from either the numpy or the math package, but whichever package you choose, don't forget to import it before starting the class definition!\n",
        "\n",
        "* To check your work, you should be able to run the following code without errors:\n",
        "\n",
        "```\n",
        "pt = Point(x=3.0)\n",
        "pt.reflect(\"y\")\n",
        "print((pt.x, pt.y))\n",
        "pt.y = 4.0\n",
        "print(pt.distance_to_origin())\n",
        "```\n",
        " and return the output \n",
        " ```\n",
        " (-3.0,0.0) \n",
        " 5.0\n",
        " ```"
      ]
    },
    {
      "cell_type": "code",
      "metadata": {
        "colab": {
          "base_uri": "https://localhost:8080/"
        },
        "id": "EYnNFEghd8FD",
        "outputId": "3f800e9f-e4fa-453d-9838-1138b2c913bc"
      },
      "source": [
        "# Write the class Point as outlined in the instructions\n",
        "import math\n",
        "class Point():\n",
        "    def __init__(self, x = 0.0, y = 0.0):\n",
        "        self.x = x\n",
        "        self.y = y\n",
        "    \n",
        "    def distance_to_origin(self):\n",
        "        return math.sqrt(self.x**2 + self.y**2)\n",
        "    \n",
        "    def reflect(self, axis):\n",
        "        if axis=='x':\n",
        "            self.y = -self.y\n",
        "        elif axis=='y':\n",
        "            self.x = -self.x\n",
        "        else:\n",
        "            print('Value error')\n",
        "\n",
        "pt = Point(x=3.0)\n",
        "pt.reflect(\"y\")\n",
        "print((pt.x, pt.y))\n",
        "pt.y = 4.0\n",
        "print(pt.distance_to_origin())\n"
      ],
      "execution_count": null,
      "outputs": [
        {
          "output_type": "stream",
          "text": [
            "(-3.0, 0.0)\n",
            "5.0\n"
          ],
          "name": "stdout"
        }
      ]
    },
    {
      "cell_type": "markdown",
      "metadata": {
        "id": "l3A3QDF-jSOE"
      },
      "source": [
        "## Inheritance and Polymorphism\n",
        "\n",
        "**Class-level attributes**\n",
        "\n",
        "Define a class Player that has:\n",
        "* A class attribute MAX_POSITION with value 10.\n",
        "* The __init__() method that sets the position instance attribute to 0.\n",
        "* Print Player.MAX_POSITION.\n",
        "* Create a Player object p and print its MAX_POSITION.\n",
        "\n"
      ]
    },
    {
      "cell_type": "code",
      "metadata": {
        "colab": {
          "base_uri": "https://localhost:8080/"
        },
        "id": "Jmc1vk74nhIP",
        "outputId": "efd41469-c4cf-451e-e63f-e72263d5fcdf"
      },
      "source": [
        "# Create a Player class\n",
        "class Player:\n",
        "    MAX_POSITION = 10\n",
        "    def __init__(self):\n",
        "        self.position = 0\n",
        "\n",
        "\n",
        "# Print Player.MAX_POSITION       \n",
        "print(Player.MAX_POSITION)\n",
        "\n",
        "# Create a player p and print its MAX_POSITITON\n",
        "p = Player()\n",
        "print(p.MAX_POSITION)"
      ],
      "execution_count": null,
      "outputs": [
        {
          "output_type": "stream",
          "text": [
            "10\n",
            "10\n"
          ],
          "name": "stdout"
        }
      ]
    },
    {
      "cell_type": "markdown",
      "metadata": {
        "id": "gBKsZYYcnjxc"
      },
      "source": [
        "Add a move() method with a steps parameter such that:\n",
        "\n",
        "* if position plus steps is less than MAX_POSITION, then add steps to position and assign the result back to position;\n",
        "* otherwise, set position to MAX_POSITION."
      ]
    },
    {
      "cell_type": "code",
      "metadata": {
        "colab": {
          "base_uri": "https://localhost:8080/"
        },
        "id": "4Sy6ZMxCoBoq",
        "outputId": "9eaa1262-21ae-4846-c182-e54643a9fc82"
      },
      "source": [
        "class Player:\n",
        "    MAX_POSITION = 10\n",
        "    \n",
        "    def __init__(self):\n",
        "        self.position = 0\n",
        "\n",
        "    # Add a move() method with steps parameter\n",
        "    def move(self, steps):\n",
        "        if self.position + steps < Player.MAX_POSITION:\n",
        "            self.position = self.position + steps\n",
        "        else:\n",
        "            self.position = Player.MAX_POSITION\n",
        "    \n",
        "\n",
        "       \n",
        "    # This method provides a rudimentary visualization in the console    \n",
        "    def draw(self):\n",
        "        drawing = \"-\" * self.position + \"|\" +\"-\"*(Player.MAX_POSITION - self.position)\n",
        "        print(drawing)\n",
        "\n",
        "p = Player(); p.draw()\n",
        "p.move(4); p.draw()\n",
        "p.move(5); p.draw()\n",
        "p.move(3); p.draw()"
      ],
      "execution_count": null,
      "outputs": [
        {
          "output_type": "stream",
          "text": [
            "|----------\n",
            "----|------\n",
            "---------|-\n",
            "----------|\n"
          ],
          "name": "stdout"
        }
      ]
    },
    {
      "cell_type": "markdown",
      "metadata": {
        "id": "CfUsEvNOor9n"
      },
      "source": [
        "**Changing class attributes**\n",
        "\n",
        "* Create two Player objects p1 and p2.\n",
        "* Print p1.MAX_SPEED and p2.MAX_SPEED.\n",
        "* Assign 7 to p1.MAX_SPEED.\n",
        "* Print p1.MAX_SPEED and p2.MAX_SPEED again.\n",
        "* Print Player.MAX_SPEED.\n",
        "\n",
        "Examine the output carefully.\n",
        "\n",
        "\n",
        "```\n",
        "# Create Players p1 and p2\n",
        "p1= Player()\n",
        "p2 = Player()\n",
        "\n",
        "print(\"MAX_SPEED of p1 and p2 before assignment:\")\n",
        "# Print p1.MAX_SPEED and p2.MAX_SPEED\n",
        "print(p1.MAX_SPEED)\n",
        "print(p2.MAX_SPEED)\n",
        "\n",
        "# Assign 7 to p1.MAX_SPEED\n",
        "p1.MAX_SPEED = 7\n",
        "\n",
        "print(\"MAX_SPEED of p1 and p2 after assignment:\")\n",
        "# Print p1.MAX_SPEED and p2.MAX_SPEED\n",
        "print(p1.MAX_SPEED)\n",
        "print(p2.MAX_SPEED)\n",
        "\n",
        "print(\"MAX_SPEED of Player:\")\n",
        "# Print Player.MAX_SPEED\n",
        "print(Player.MAX_SPEED)\n",
        "```\n",
        "```\n",
        "<script.py> output:\n",
        "    MAX_SPEED of p1 and p2 before assignment:\n",
        "    3\n",
        "    3\n",
        "    MAX_SPEED of p1 and p2 after assignment:\n",
        "    7\n",
        "    3\n",
        "    MAX_SPEED of Player:\n",
        "    3\n",
        "```\n",
        "\n",
        "Even though MAX_SPEED is shared across instances, assigning 7 to p1.MAX_SPEED didn't change the value of MAX_SPEED in p2, or in the Player class.\n",
        "\n",
        "So what happened? In fact, Python created a new instance attribute in p1, also called it MAX_SPEED, and assigned 7 to it, without touching the class attribute.\n",
        "\n",
        "Now let's change the class attribute value for real.\n",
        "\n",
        "Modify the assignment to assign 7 to Player.MAX_SPEED instead.\n",
        "\n",
        "```\n",
        "# Create Players p1 and p2\n",
        "p1, p2 = Player(), Player()\n",
        "\n",
        "print(\"MAX_SPEED of p1 and p2 before assignment:\")\n",
        "# Print p1.MAX_SPEED and p2.MAX_SPEED\n",
        "print(p1.MAX_SPEED)\n",
        "print(p2.MAX_SPEED)\n",
        "\n",
        "# ---MODIFY THIS LINE--- \n",
        "Player.MAX_SPEED = 7\n",
        "\n",
        "print(\"MAX_SPEED of p1 and p2 after assignment:\")\n",
        "# Print p1.MAX_SPEED and p2.MAX_SPEED\n",
        "print(p1.MAX_SPEED)\n",
        "print(p2.MAX_SPEED)\n",
        "\n",
        "print(\"MAX_SPEED of Player:\")\n",
        "# Print Player.MAX_SPEED\n",
        "print(Player.MAX_SPEED)\n",
        "\n",
        "```\n",
        "```\n",
        "<script.py> output:\n",
        "    MAX_SPEED of p1 and p2 before assignment:\n",
        "    3\n",
        "    3\n",
        "    MAX_SPEED of p1 and p2 after assignment:\n",
        "    7\n",
        "    7\n",
        "    MAX_SPEED of Player:\n",
        "    7\n",
        "```\n"
      ]
    },
    {
      "cell_type": "markdown",
      "metadata": {
        "id": "yfFctQynuFmN"
      },
      "source": [
        "**Alternative constructors**\n",
        "\n",
        "Add a class method from_str() that:\n",
        "\n",
        "* accepts a string datestr of the format'YYYY-MM-DD',\n",
        "* splits datestr and converts each part into an integer,\n",
        "* returns an instance of the class with the attributes set to the values extracted from datestr.\n",
        "\n"
      ]
    },
    {
      "cell_type": "code",
      "metadata": {
        "colab": {
          "base_uri": "https://localhost:8080/"
        },
        "id": "G_3uHlBFpC8d",
        "outputId": "a6e5cb79-fca9-4f6c-9c00-b60056454653"
      },
      "source": [
        "class BetterDate:    \n",
        "    # Constructor\n",
        "    def __init__(self, year, month, day):\n",
        "      # Recall that Python allows multiple variable assignments in one line\n",
        "      self.year, self.month, self.day = year, month, day\n",
        "    \n",
        "    # Define a class method from_str\n",
        "    @classmethod\n",
        "    def from_str(cls, datestr):\n",
        "        # Split the string at \"-\" and convert each part to integer\n",
        "        parts = datestr.split(\"-\")\n",
        "        year, month, day = int(parts[0]), int(parts[1]), int(parts[2])\n",
        "        # Return the class instance\n",
        "        return cls(year, month, day)\n",
        "        \n",
        "bd = BetterDate.from_str('2020-04-30')   \n",
        "print(bd.year)\n",
        "print(bd.month)\n",
        "print(bd.day)"
      ],
      "execution_count": null,
      "outputs": [
        {
          "output_type": "stream",
          "text": [
            "2020\n",
            "4\n",
            "30\n"
          ],
          "name": "stdout"
        }
      ]
    },
    {
      "cell_type": "markdown",
      "metadata": {
        "id": "FQoxgdXPyIoK"
      },
      "source": [
        "For compatibility, you also want to be able to convert a datetime object into a BetterDate object.\n",
        "\n",
        "* Add a class method from_datetime() that accepts a datetime object as the argument, and uses its attributes .year, .month and .day to create a BetterDate object with the same attribute values."
      ]
    },
    {
      "cell_type": "code",
      "metadata": {
        "colab": {
          "base_uri": "https://localhost:8080/"
        },
        "id": "0zJLzQrk0hT3",
        "outputId": "ae70eba9-d50e-4341-d77d-69bad95ed0df"
      },
      "source": [
        "# import datetime from datetime\n",
        "from datetime import datetime\n",
        "\n",
        "class BetterDate:\n",
        "    def __init__(self, year, month, day):\n",
        "      self.year, self.month, self.day = year, month, day\n",
        "      \n",
        "    @classmethod\n",
        "    def from_str(cls, datestr):\n",
        "        year, month, day = map(int, datestr.split(\"-\"))\n",
        "        return cls(year, month, day)\n",
        "      \n",
        "    # Define a class method from_datetime accepting a datetime object\n",
        "    @classmethod\n",
        "    def from_datetime(cls, datetime):\n",
        "      BetterDate = datetime.year, datetime.month, datetime.day\n",
        "      return cls(datetime.year, datetime.month, datetime.day)\n",
        "\n",
        "# You should be able to run the code below with no errors: \n",
        "today = datetime.today()     \n",
        "bd = BetterDate.from_datetime(today)   \n",
        "print(bd.year)\n",
        "print(bd.month)\n",
        "print(bd.day)"
      ],
      "execution_count": null,
      "outputs": [
        {
          "output_type": "stream",
          "text": [
            "2021\n",
            "8\n",
            "6\n"
          ],
          "name": "stdout"
        }
      ]
    },
    {
      "cell_type": "markdown",
      "metadata": {
        "id": "C9OHeacL0j4O"
      },
      "source": [
        "### Class inheritance\n",
        "\n",
        "**Creating a subclass**\n",
        "\n",
        "* Add an empty Manager class that is inherited from Employee.\n",
        "* Create an object mng of the Manager class with the name Debbie Lashko and salary 86500.\n",
        "* Print the name of mng."
      ]
    },
    {
      "cell_type": "code",
      "metadata": {
        "colab": {
          "base_uri": "https://localhost:8080/"
        },
        "id": "7xmCRdhqAUy2",
        "outputId": "3faa4a55-978e-4877-ce59-ea12ab3bc345"
      },
      "source": [
        "class Employee:\n",
        "  MIN_SALARY = 30000    \n",
        "\n",
        "  def __init__(self, name, salary=MIN_SALARY):\n",
        "      self.name = name\n",
        "      if salary >= Employee.MIN_SALARY:\n",
        "        self.salary = salary\n",
        "      else:\n",
        "        self.salary = Employee.MIN_SALARY\n",
        "        \n",
        "  def give_raise(self, amount):\n",
        "      self.salary += amount      \n",
        "        \n",
        "# Define a new class Manager inheriting from Employee\n",
        "class Manager(Employee):\n",
        "  pass\n",
        "\n",
        "# Define a Manager object\n",
        "mng = Manager('Debbie Lashko', 86500)\n",
        "\n",
        "# Print mng's name\n",
        "print(mng.name)"
      ],
      "execution_count": null,
      "outputs": [
        {
          "output_type": "stream",
          "text": [
            "Debbie Lashko\n"
          ],
          "name": "stdout"
        }
      ]
    },
    {
      "cell_type": "markdown",
      "metadata": {
        "id": "yXyE-3bIAXd7"
      },
      "source": [
        "* Remove the pass statement and add a display() method to the Manager class that just prints the string \"Manager\" followed by the full name, e.g. \"Manager Katie Flatcher\"\n",
        "* Call the .display()method from the mnginstance."
      ]
    },
    {
      "cell_type": "code",
      "metadata": {
        "colab": {
          "base_uri": "https://localhost:8080/"
        },
        "id": "QmpPZY4-A4c4",
        "outputId": "3713dea9-54cf-4162-d79d-fb00171cd42f"
      },
      "source": [
        "class Employee:\n",
        "  MIN_SALARY = 30000    \n",
        "\n",
        "  def __init__(self, name, salary=MIN_SALARY):\n",
        "      self.name = name\n",
        "      if salary >= Employee.MIN_SALARY:\n",
        "        self.salary = salary\n",
        "      else:\n",
        "        self.salary = Employee.MIN_SALARY\n",
        "  def give_raise(self, amount):\n",
        "    self.salary += amount      \n",
        "        \n",
        "# MODIFY Manager class and add a display method\n",
        "class Manager(Employee):\n",
        "  def display(self):\n",
        "    print('Manager ' + self.name)\n",
        "\n",
        "mng = Manager(\"Debbie Lashko\", 86500)\n",
        "print(mng.name)\n",
        "\n",
        "# Call mng.display()\n",
        "mng.display()"
      ],
      "execution_count": null,
      "outputs": [
        {
          "output_type": "stream",
          "text": [
            "Debbie Lashko\n",
            "Manager Debbie Lashko\n"
          ],
          "name": "stdout"
        }
      ]
    },
    {
      "cell_type": "markdown",
      "metadata": {
        "id": "SWBVxI1VBJ-h"
      },
      "source": [
        "### Customizing functionality vs inheritance\n",
        "\n",
        "**Method inheritance**\n",
        "\n",
        " Add a constructor to Manager that:\n",
        "\n",
        "* accepts name, salary (default 50000), and project (default None)\n",
        "* calls the constructor of the Employee class with the name and salary parameters,\n",
        "* creates a project attribute and sets it to the project parameter.\n",
        "\n",
        "\n"
      ]
    },
    {
      "cell_type": "code",
      "metadata": {
        "id": "1cpRmbgOHg3B"
      },
      "source": [
        "class Employee:\n",
        "    def __init__(self, name, salary=30000):\n",
        "        self.name = name\n",
        "        self.salary = salary\n",
        "\n",
        "    def give_raise(self, amount):\n",
        "        self.salary += amount\n",
        "\n",
        "        \n",
        "class Manager(Employee):\n",
        "  # Add a constructor \n",
        "    def __init__(self, name, salary = 50000, project = None):\n",
        "\n",
        "        # Call the parent's constructor   \n",
        "        Employee.__init__(self, name, salary)\n",
        "\n",
        "        # Assign project attribute\n",
        "        self.project = project\n",
        "\n",
        "  \n",
        "    def display(self):\n",
        "        print(\"Manager \", self.name)\n",
        " "
      ],
      "execution_count": null,
      "outputs": []
    },
    {
      "cell_type": "markdown",
      "metadata": {
        "id": "vyLWYdQwHjyK"
      },
      "source": [
        "Add a give_raise() method to Manager that:\n",
        "\n",
        "* accepts the same parameters as Employee.give_raise(), plus a bonus parameter with the default value of 1.05 (bonus of 5%),\n",
        "* multiplies amount by bonus,\n",
        "* uses the Employee's method to raise salary by that product."
      ]
    },
    {
      "cell_type": "code",
      "metadata": {
        "colab": {
          "base_uri": "https://localhost:8080/"
        },
        "id": "ED2z1No5HnKF",
        "outputId": "cb9e4f17-1359-4d38-82f0-42eceadeab34"
      },
      "source": [
        "class Employee:\n",
        "    def __init__(self, name, salary=30000):\n",
        "        self.name = name\n",
        "        self.salary = salary\n",
        "\n",
        "    def give_raise(self, amount):\n",
        "        self.salary += amount\n",
        "\n",
        "        \n",
        "class Manager(Employee):\n",
        "    def display(self):\n",
        "        print(\"Manager \", self.name)\n",
        "\n",
        "    def __init__(self, name, salary=50000, project=None):\n",
        "        Employee.__init__(self, name, salary)\n",
        "        self.project = project\n",
        "\n",
        "    # Add a give_raise method\n",
        "    def give_raise(self, amount, bonus = 1.05):\n",
        "        \n",
        "        new_amount = amount * bonus\n",
        "        Employee.give_raise(self, new_amount)\n",
        "    \n",
        "    \n",
        "mngr = Manager(\"Ashta Dunbar\", 78500)\n",
        "mngr.give_raise(1000)\n",
        "print(mngr.salary)\n",
        "mngr.give_raise(2000, bonus=1.03)\n",
        "print(mngr.salary)"
      ],
      "execution_count": null,
      "outputs": [
        {
          "output_type": "stream",
          "text": [
            "79550.0\n",
            "81610.0\n"
          ],
          "name": "stdout"
        }
      ]
    },
    {
      "cell_type": "markdown",
      "metadata": {
        "id": "cFCyPnpdK5Sc"
      },
      "source": [
        "**Inheritance of class attributes**\n",
        "\n",
        "* Create a class Racer inherited from Player,\n",
        "* Assign 5 to MAX_SPEED in the body of the class.\n",
        "* Create a Player object p and a Racer object r (no arguments needed for the constructor).\n",
        "\n",
        "```\n",
        "# Create a Racer class and set MAX_SPEED to 5\n",
        "class Racer(Player):\n",
        "    MAX_SPEED = 5\n",
        " \n",
        "# Create a Player and a Racer objects\n",
        "p = Player()\n",
        "r = Racer()\n",
        "\n",
        "print(\"p.MAX_SPEED = \", p.MAX_SPEED)\n",
        "print(\"r.MAX_SPEED = \", r.MAX_SPEED)\n",
        "\n",
        "print(\"p.MAX_POSITION = \", p.MAX_POSITION)\n",
        "print(\"r.MAX_POSITION = \", r.MAX_POSITION)\n",
        "```\n",
        "\n",
        "```\n",
        "<script.py> output:\n",
        "    p.MAX_SPEED =  3\n",
        "    r.MAX_SPEED =  5\n",
        "    p.MAX_POSITION =  10\n",
        "    r.MAX_POSITION =  10\n",
        "```\n",
        "\n",
        "* Which of the following statements about inheritance of class attributes is correct?\n",
        "\n",
        "> Class attributes CAN be inherited, and the value of class attributes CAN be overwritten in the child class\n",
        "\n",
        "**Customizing a DataFrame**\n",
        "\n",
        "* Import pandas as pd.\n",
        "* Define LoggedDF class inherited from pd.DataFrame.\n",
        "* Define a constructor with arguments *args and **kwargs that:\n",
        "  * calls the pd.DataFrame constructor with the same arguments,\n",
        "  * assigns datetime.today() to self.created_at.\n",
        "\n",
        "  "
      ]
    },
    {
      "cell_type": "code",
      "metadata": {
        "colab": {
          "base_uri": "https://localhost:8080/"
        },
        "id": "8tJev3_oR4HF",
        "outputId": "164681de-1316-430b-ad34-0429c2130090"
      },
      "source": [
        "# Import pandas as pd\n",
        "import pandas as pd\n",
        "\n",
        "# Define LoggedDF inherited from pd.DataFrame and add the constructor\n",
        "class LoggedDF(pd.DataFrame):\n",
        "    def __init__(self, *args, **kwargs):\n",
        "        pd.DataFrame.__init__(self, *args, **kwargs)\n",
        "        self.created_at = datetime.today()\n",
        "    \n",
        "    \n",
        "ldf = LoggedDF({\"col1\": [1,2], \"col2\": [3,4]})\n",
        "print(ldf.values)\n",
        "print(ldf.created_at)"
      ],
      "execution_count": null,
      "outputs": [
        {
          "output_type": "stream",
          "text": [
            "[[1 3]\n",
            " [2 4]]\n",
            "2021-08-06 11:44:39.371791\n"
          ],
          "name": "stdout"
        }
      ]
    },
    {
      "cell_type": "markdown",
      "metadata": {
        "id": "vqFzh3FxR6LU"
      },
      "source": [
        "* Add a to_csv() method to LoggedDF that:\n",
        "  * copies self to a temporary DataFrame using .copy(),\n",
        "  * creates a new column created_at in the temporary DataFrame and fills it  with self.created_at\n",
        "  * calls pd.DataFrame.to_csv() on the temporary variable."
      ]
    },
    {
      "cell_type": "code",
      "metadata": {
        "id": "4xJpkKv-SIpz"
      },
      "source": [
        "# Import pandas as pd\n",
        "import pandas as pd\n",
        "\n",
        "# Define LoggedDF inherited from pd.DataFrame and add the constructor\n",
        "class LoggedDF(pd.DataFrame):\n",
        "  \n",
        "  def __init__(self, *args, **kwargs):\n",
        "    pd.DataFrame.__init__(self, *args, **kwargs)\n",
        "    self.created_at = datetime.today()\n",
        "    \n",
        "  def to_csv(self, *args, **kwargs):\n",
        "    # Copy self to a temporary DataFrame\n",
        "    temp = self.copy()\n",
        "    \n",
        "    # Create a new column filled with self.created_at\n",
        "    temp[\"created_at\"] = self.created_at\n",
        "    \n",
        "    # Call pd.DataFrame.to_csv on temp, passing in *args and **kwargs\n",
        "    pd.DataFrame.to_csv(temp, *args, **kwargs)"
      ],
      "execution_count": null,
      "outputs": []
    },
    {
      "cell_type": "markdown",
      "metadata": {
        "id": "RBVO0g8sTY2m"
      },
      "source": [
        "## Integrating with Standard Python\n",
        "\n",
        "**Custom equality function**\n",
        "\n",
        "* Modify the __init__() method to accept a new parameter - number - and initialize a new number attribute.\n",
        "* Define an __eq__() method that returns True if the number attribute of two objects is equal.\n",
        "\n"
      ]
    },
    {
      "cell_type": "code",
      "metadata": {
        "colab": {
          "base_uri": "https://localhost:8080/"
        },
        "id": "Ey362W_nZuCJ",
        "outputId": "e2b2e14b-9a25-4bcb-cccd-818b7b19db0c"
      },
      "source": [
        "class BankAccount:\n",
        "   # MODIFY to initialize a number attribute\n",
        "    def __init__(self, number, balance=0):\n",
        "        self.balance = balance\n",
        "        self.number = number\n",
        "      \n",
        "    def withdraw(self, amount):\n",
        "        self.balance -= amount \n",
        "    \n",
        "    # Define __eq__ that returns True if the number attributes are equal \n",
        "    def __eq__(self, other):\n",
        "        return self.number == other.number   \n",
        "\n",
        "# Create accounts and compare them       \n",
        "acct1 = BankAccount(123, 1000)\n",
        "acct2 = BankAccount(123, 1000)\n",
        "acct3 = BankAccount(456, 1000)\n",
        "print(acct1 == acct2)\n",
        "print(acct1 == acct3)\n",
        "    "
      ],
      "execution_count": null,
      "outputs": [
        {
          "output_type": "stream",
          "text": [
            "True\n",
            "False\n"
          ],
          "name": "stdout"
        }
      ]
    },
    {
      "cell_type": "markdown",
      "metadata": {
        "id": "suLq9U-4bJWf"
      },
      "source": [
        "**Checking class equality**\n",
        "\n",
        "* "
      ]
    }
  ]
}