{
  "nbformat": 4,
  "nbformat_minor": 0,
  "metadata": {
    "colab": {
      "name": "Objects and classes in Python.ipynb",
      "provenance": [],
      "collapsed_sections": [],
      "authorship_tag": "ABX9TyO7DEtM1ddBfSxivAVnyVxs",
      "include_colab_link": true
    },
    "kernelspec": {
      "name": "python3",
      "display_name": "Python 3"
    },
    "language_info": {
      "name": "python"
    }
  },
  "cells": [
    {
      "cell_type": "markdown",
      "metadata": {
        "id": "view-in-github",
        "colab_type": "text"
      },
      "source": [
        "<a href=\"https://colab.research.google.com/github/dataqueenpend/DS_From_Zero_To_Hero/blob/gh-pages/Objects_and_classes_in_Python.ipynb\" target=\"_parent\"><img src=\"https://colab.research.google.com/assets/colab-badge.svg\" alt=\"Open In Colab\"/></a>"
      ]
    },
    {
      "cell_type": "markdown",
      "metadata": {
        "id": "BdIKF0iIqpow"
      },
      "source": [
        "# Objects and classes in Python\n",
        "\n",
        "exercises by DataCamp \n",
        "solved by me\n",
        "\n",
        "## OOP Fundamentals\n",
        "\n",
        "useful functions: \n",
        "* type() - check the class of the object\n",
        "* dir() - check the functions of the object\n",
        "* help() - check useful info about the object\n",
        "\n",
        "\n",
        "**Creating a class**\n",
        "\n",
        "Create an empty class Employee.\n",
        "Create an object emp of the class Employee by calling Employee().\n",
        "\n"
      ]
    },
    {
      "cell_type": "code",
      "metadata": {
        "id": "mXj9QatPzAWx"
      },
      "source": [
        "# Create an empty class Employee\n",
        "class Employee:\n",
        "    pass\n",
        "\n",
        "# Create an object emp of class Employee \n",
        "emp = Employee()\n"
      ],
      "execution_count": null,
      "outputs": []
    },
    {
      "cell_type": "markdown",
      "metadata": {
        "id": "dmjDvfr-zsXB"
      },
      "source": [
        "* Modify the Employee class to include a .set_name() method that takes a new_name argument, and assigns new_name to the .name attribute of the class.\n",
        "* Use the set_name() method on emp to set the name to 'Korel Rossi'.\n",
        "* Print emp.name."
      ]
    },
    {
      "cell_type": "code",
      "metadata": {
        "colab": {
          "base_uri": "https://localhost:8080/"
        },
        "id": "V59UMb59zqfS",
        "outputId": "086cc3b3-9435-4f48-80c1-d65e19e587bb"
      },
      "source": [
        "# Include a set_name method\n",
        "class Employee:\n",
        "  \n",
        "  def set_name(self, new_name):\n",
        "    self.name = new_name\n",
        "  \n",
        "# Create an object emp of class Employee  \n",
        "emp = Employee()\n",
        "\n",
        "# Use set_name() on emp to set the name of emp to 'Korel Rossi'\n",
        "emp.set_name('Korel Rossi')\n",
        "\n",
        "# Print the name of emp\n",
        "print(emp.name)"
      ],
      "execution_count": null,
      "outputs": [
        {
          "output_type": "stream",
          "text": [
            "Korel Rossi\n"
          ],
          "name": "stdout"
        }
      ]
    },
    {
      "cell_type": "markdown",
      "metadata": {
        "id": "i9dBuert1d03"
      },
      "source": [
        "* Follow the pattern to add another method - set_salary() - that will set the salary attribute of the class to the parameter new_salary passed to method.\n",
        "* Set the salary of emp to 50000."
      ]
    },
    {
      "cell_type": "code",
      "metadata": {
        "id": "Y8HDBQHg2EiT"
      },
      "source": [
        "class Employee:\n",
        "  \n",
        "  def set_name(self, new_name):\n",
        "    self.name = new_name\n",
        "  \n",
        "  # Add set_salary() method\n",
        "  def set_salary(self, new_salary):\n",
        "    self.salary = new_salary\n",
        "  \n",
        "  \n",
        "# Create an object emp of class Employee  \n",
        "emp = Employee()\n",
        "\n",
        "# Use set_name to set the name of emp to 'Korel Rossi'\n",
        "emp.set_name('Korel Rossi')\n",
        "\n",
        "# Set the salary of emp to 50000\n",
        "emp.set_salary(50000)\n"
      ],
      "execution_count": null,
      "outputs": []
    },
    {
      "cell_type": "markdown",
      "metadata": {
        "id": "A_zYHxm42fwu"
      },
      "source": [
        "**Using attributes in class definition**\n",
        "\n",
        "* Print the salary attribute of emp.\n",
        "* Attributes aren't read-only: use assignment (equality sign) to increase the salary attribute of emp by 1500, and print it again\n"
      ]
    },
    {
      "cell_type": "code",
      "metadata": {
        "colab": {
          "base_uri": "https://localhost:8080/"
        },
        "id": "rdV0Q6O84Jle",
        "outputId": "38e5d994-2f35-4c8d-e2df-a1cf0a93dc11"
      },
      "source": [
        "class Employee:\n",
        "    def set_name(self, new_name):\n",
        "        self.name = new_name\n",
        "\n",
        "    def set_salary(self, new_salary):\n",
        "        self.salary = new_salary \n",
        "  \n",
        "emp = Employee()\n",
        "emp.set_name('Korel Rossi')\n",
        "emp.set_salary(50000)\n",
        "\n",
        "# Print the salary attribute of emp\n",
        "print(emp.salary)\n",
        "\n",
        "# Increase salary of emp by 1500\n",
        "emp.salary = emp.salary + 1500\n",
        "\n",
        "# Print the salary attribute of emp again\n",
        "print(emp.salary)"
      ],
      "execution_count": null,
      "outputs": [
        {
          "output_type": "stream",
          "text": [
            "50000\n",
            "51500\n"
          ],
          "name": "stdout"
        }
      ]
    },
    {
      "cell_type": "markdown",
      "metadata": {
        "id": "mZIOBLrE4ifL"
      },
      "source": [
        "* Raising a salary for an employee is a common pattern of behavior, so it should be part of the class definition instead.\n",
        "\n",
        "Add a method give_raise() to Employee that increases the salary by the amount passed to give_raise() as a parameter."
      ]
    },
    {
      "cell_type": "code",
      "metadata": {
        "colab": {
          "base_uri": "https://localhost:8080/"
        },
        "id": "chd5jxDn4pre",
        "outputId": "eb42046c-2a2f-46e2-d037-e24721ded9b0"
      },
      "source": [
        "class Employee:\n",
        "    def set_name(self, new_name):\n",
        "        self.name = new_name\n",
        "\n",
        "    def set_salary(self, new_salary):\n",
        "        self.salary = new_salary \n",
        "\n",
        "    # Add a give_raise() method with raise amount as a parameter\n",
        "    def give_raise(self, raise_amount):\n",
        "        self.salary = self.salary + raise_amount \n",
        "\n",
        "\n",
        "emp = Employee()\n",
        "emp.set_name('Korel Rossi')\n",
        "emp.set_salary(50000)\n",
        "\n",
        "print(emp.salary)\n",
        "emp.give_raise(1500)\n",
        "print(emp.salary)"
      ],
      "execution_count": null,
      "outputs": [
        {
          "output_type": "stream",
          "text": [
            "50000\n",
            "51500\n"
          ],
          "name": "stdout"
        }
      ]
    },
    {
      "cell_type": "markdown",
      "metadata": {
        "id": "1ehXiTmT5nm0"
      },
      "source": [
        "Methods don't have to just modify the attributes - they can return values as well!\n",
        "\n",
        "* Add a method monthly_salary() that returns the value of the .salary attribute divided by 12.\n",
        "* Call .monthly_salary() on emp, assign it to mon_sal, and print."
      ]
    },
    {
      "cell_type": "code",
      "metadata": {
        "colab": {
          "base_uri": "https://localhost:8080/"
        },
        "id": "CsPPEgt751S4",
        "outputId": "1a469f47-cf01-46a3-ca07-16eb865779e0"
      },
      "source": [
        "class Employee:\n",
        "    def set_name(self, new_name):\n",
        "        self.name = new_name\n",
        "\n",
        "    def set_salary(self, new_salary):\n",
        "        self.salary = new_salary \n",
        "\n",
        "    def give_raise(self, amount):\n",
        "        self.salary = self.salary + amount\n",
        "\n",
        "    # Add monthly_salary method that returns 1/12th of salary attribute\n",
        "    def monthly_salary(self):\n",
        "        \n",
        "        return self.salary / 12\n",
        "\n",
        "    \n",
        "emp = Employee()\n",
        "emp.set_name('Korel Rossi')\n",
        "emp.set_salary(50000)\n",
        "\n",
        "# Get monthly salary of emp and assign to mon_sal\n",
        "mon_sal = emp.monthly_salary()\n",
        "\n",
        "# Print mon_sal\n",
        "print(mon_sal)"
      ],
      "execution_count": null,
      "outputs": [
        {
          "output_type": "stream",
          "text": [
            "4166.666666666667\n"
          ],
          "name": "stdout"
        }
      ]
    },
    {
      "cell_type": "markdown",
      "metadata": {
        "id": "0Ju9nYgy7aW5"
      },
      "source": [
        "**Class constructor** allows to assign data to object upon creation\n",
        "\n",
        " Define the class Employee with a constructor __init__() that:\n",
        "\n",
        "* accepts two arguments, name and salary (with default value0),\n",
        "creates two attributes, also called name and salary,\n",
        "sets their values to the corresponding arguments.\n",
        "\n",
        "\n",
        "\n"
      ]
    },
    {
      "cell_type": "code",
      "metadata": {
        "colab": {
          "base_uri": "https://localhost:8080/"
        },
        "id": "bzjjRdBIbDq9",
        "outputId": "146f75d1-421c-40df-fe5c-d520df201065"
      },
      "source": [
        "class Employee:\n",
        "    # Create __init__() method\n",
        "    def __init__(self, name, salary = 0):\n",
        "        # Create the name and salary attributes\n",
        "        self.name = name\n",
        "        self.salary = salary\n",
        "    \n",
        "    # From the previous lesson\n",
        "    def give_raise(self, amount):\n",
        "        self.salary += amount\n",
        "\n",
        "    def monthly_salary(self):\n",
        "        return self.salary/12\n",
        "        \n",
        "emp = Employee(\"Korel Rossi\")\n",
        "print(emp.name)\n",
        "print(emp.salary)     "
      ],
      "execution_count": null,
      "outputs": [
        {
          "output_type": "stream",
          "text": [
            "Korel Rossi\n",
            "0\n"
          ],
          "name": "stdout"
        }
      ]
    },
    {
      "cell_type": "markdown",
      "metadata": {
        "id": "qefjhB-FbgiB"
      },
      "source": [
        "The __init__() method is a great place to do preprocessing.\n",
        "\n",
        " Modify __init__() to check whether the salary parameter is positive:\n",
        "* if yes, assign it to the salary attribute,\n",
        "* if not, assign 0 to the attribute and print \"Invalid salary!\"."
      ]
    },
    {
      "cell_type": "code",
      "metadata": {
        "colab": {
          "base_uri": "https://localhost:8080/"
        },
        "id": "bGLK0qEKbrEV",
        "outputId": "d07831ea-36d3-45e8-8780-819c8f09c445"
      },
      "source": [
        "class Employee:\n",
        "  \n",
        "    def __init__(self, name, salary=0):\n",
        "        self.name = name\n",
        "        # Modify code below to check if salary is positive\n",
        "        \n",
        "        if salary > 0:\n",
        "            self.salary = salary \n",
        "        else:\n",
        "            self.salary = 0\n",
        "            print('Invalid salary!')\n",
        "   \n",
        "   # ...Other methods omitted for brevity ...\n",
        "      \n",
        "emp = Employee(\"Korel Rossi\", -1000)\n",
        "print(emp.name)\n",
        "print(emp.salary)"
      ],
      "execution_count": null,
      "outputs": [
        {
          "output_type": "stream",
          "text": [
            "Invalid salary!\n",
            "Korel Rossi\n",
            "0\n"
          ],
          "name": "stdout"
        }
      ]
    },
    {
      "cell_type": "markdown",
      "metadata": {
        "id": "P1P3m0oBcRvj"
      },
      "source": [
        "* Import datetime from the datetime module. This contains the function that returns current date.\n",
        "* Add an attribute hire_date and set it to datetime.today()."
      ]
    },
    {
      "cell_type": "code",
      "metadata": {
        "colab": {
          "base_uri": "https://localhost:8080/"
        },
        "id": "8GOqiPxSckK0",
        "outputId": "5d59b478-4bde-4fcd-9b32-542b20a1f92b"
      },
      "source": [
        "# Import datetime from datetime\n",
        "from datetime import datetime\n",
        "\n",
        "class Employee:\n",
        "    \n",
        "    def __init__(self, name, salary=0):\n",
        "        self.name = name\n",
        "        if salary > 0:\n",
        "          self.salary = salary\n",
        "        else:\n",
        "          self.salary = 0\n",
        "          print(\"Invalid salary!\")\n",
        "          \n",
        "        # Add the hire_date attribute and set it to today's date\n",
        "        self.hire_date = datetime.today()\n",
        "        \n",
        "   # ...Other methods omitted for brevity ...\n",
        "      \n",
        "emp = Employee(\"Korel Rossi\", -1000)\n",
        "print(emp.name)\n",
        "print(emp.salary)"
      ],
      "execution_count": null,
      "outputs": [
        {
          "output_type": "stream",
          "text": [
            "Invalid salary!\n",
            "Korel Rossi\n",
            "0\n"
          ],
          "name": "stdout"
        }
      ]
    },
    {
      "cell_type": "markdown",
      "metadata": {
        "id": "h3nw82TaczH6"
      },
      "source": [
        "---\n",
        "**Write a class from scratch**\n",
        "\n",
        "Define the class Point that has:\n",
        "\n",
        "* Two attributes, x and y - the coordinates of the point on the plane;\n",
        "* A constructor that accepts two arguments, x and y, that initialize the corresponding attributes. These arguments should have default value of 0.0;\n",
        "* A method distance_to_origin() that returns the distance from the point to the origin. The formula for that is .\n",
        "* A method reflect(), that reflects the point with respect to the x- or y-axis:\n",
        "  * accepts one argument axis,\n",
        "  * if axis=\"x\" , it sets the y (not a typo!) attribute to the negative value of the y attribute,\n",
        "  * if axis=\"y\", it sets the x attribute to the negative value of the x attribute,\n",
        "  * for any other value of axis, prints an error message. Reflection of a point with respect to y and x axes\n",
        "\n",
        "! Note: You can choose to use sqrt() function from either the numpy or the math package, but whichever package you choose, don't forget to import it before starting the class definition!\n",
        "\n",
        "* To check your work, you should be able to run the following code without errors:\n",
        "\n",
        "```\n",
        "pt = Point(x=3.0)\n",
        "pt.reflect(\"y\")\n",
        "print((pt.x, pt.y))\n",
        "pt.y = 4.0\n",
        "print(pt.distance_to_origin())\n",
        "```\n",
        " and return the output \n",
        " ```\n",
        " (-3.0,0.0) \n",
        " 5.0\n",
        " ```"
      ]
    },
    {
      "cell_type": "code",
      "metadata": {
        "colab": {
          "base_uri": "https://localhost:8080/"
        },
        "id": "EYnNFEghd8FD",
        "outputId": "52b541e7-04c4-4fdc-9dde-134e7f1eeb77"
      },
      "source": [
        "# Write the class Point as outlined in the instructions\n",
        "import math\n",
        "class Point():\n",
        "    def __init__(self, x = 0.0, y = 0.0):\n",
        "        self.x = x\n",
        "        self.y = y\n",
        "    \n",
        "    def distance_to_origin(self):\n",
        "        return math.sqrt(self.x**2 + self.y**2)\n",
        "    \n",
        "    def reflect(self, axis):\n",
        "        if axis=='x':\n",
        "            self.y = -self.y\n",
        "        elif axis=='y':\n",
        "            self.x = -self.x\n",
        "        else:\n",
        "            print('Value error')\n",
        "\n",
        "pt = Point(x=3.0)\n",
        "pt.reflect(\"y\")\n",
        "print((pt.x, pt.y))\n",
        "pt.y = 4.0\n",
        "print(pt.distance_to_origin())\n"
      ],
      "execution_count": null,
      "outputs": [
        {
          "output_type": "stream",
          "text": [
            "(-3.0, 0.0)\n",
            "5.0\n"
          ],
          "name": "stdout"
        }
      ]
    },
    {
      "cell_type": "markdown",
      "metadata": {
        "id": "l3A3QDF-jSOE"
      },
      "source": [
        "## Inheritance and Polymorphism\n",
        "\n",
        "**Class-level attributes**\n",
        "\n",
        "Define a class Player that has:\n",
        "* A class attribute MAX_POSITION with value 10.\n",
        "* The __init__() method that sets the position instance attribute to 0.\n",
        "* Print Player.MAX_POSITION.\n",
        "* Create a Player object p and print its MAX_POSITION.\n",
        "\n"
      ]
    },
    {
      "cell_type": "code",
      "metadata": {
        "colab": {
          "base_uri": "https://localhost:8080/"
        },
        "id": "Jmc1vk74nhIP",
        "outputId": "0c2fa9d2-482d-460e-888b-31ee315bc641"
      },
      "source": [
        "# Create a Player class\n",
        "class Player:\n",
        "    MAX_POSITION = 10\n",
        "    def __init__(self):\n",
        "        self.position = 0\n",
        "\n",
        "\n",
        "# Print Player.MAX_POSITION       \n",
        "print(Player.MAX_POSITION)\n",
        "\n",
        "# Create a player p and print its MAX_POSITITON\n",
        "p = Player()\n",
        "print(p.MAX_POSITION)"
      ],
      "execution_count": null,
      "outputs": [
        {
          "output_type": "stream",
          "text": [
            "10\n",
            "10\n"
          ],
          "name": "stdout"
        }
      ]
    },
    {
      "cell_type": "markdown",
      "metadata": {
        "id": "gBKsZYYcnjxc"
      },
      "source": [
        "Add a move() method with a steps parameter such that:\n",
        "\n",
        "* if position plus steps is less than MAX_POSITION, then add steps to position and assign the result back to position;\n",
        "* otherwise, set position to MAX_POSITION."
      ]
    },
    {
      "cell_type": "code",
      "metadata": {
        "colab": {
          "base_uri": "https://localhost:8080/"
        },
        "id": "4Sy6ZMxCoBoq",
        "outputId": "aa6e8d8e-18a4-4ce4-ced8-3fa6fc550c60"
      },
      "source": [
        "class Player:\n",
        "    MAX_POSITION = 10\n",
        "    \n",
        "    def __init__(self):\n",
        "        self.position = 0\n",
        "\n",
        "    # Add a move() method with steps parameter\n",
        "    def move(self, steps):\n",
        "        if self.position + steps < Player.MAX_POSITION:\n",
        "            self.position = self.position + steps\n",
        "        else:\n",
        "            self.position = Player.MAX_POSITION\n",
        "    \n",
        "\n",
        "       \n",
        "    # This method provides a rudimentary visualization in the console    \n",
        "    def draw(self):\n",
        "        drawing = \"-\" * self.position + \"|\" +\"-\"*(Player.MAX_POSITION - self.position)\n",
        "        print(drawing)\n",
        "\n",
        "p = Player(); p.draw()\n",
        "p.move(4); p.draw()\n",
        "p.move(5); p.draw()\n",
        "p.move(3); p.draw()"
      ],
      "execution_count": null,
      "outputs": [
        {
          "output_type": "stream",
          "text": [
            "|----------\n",
            "----|------\n",
            "---------|-\n",
            "----------|\n"
          ],
          "name": "stdout"
        }
      ]
    },
    {
      "cell_type": "markdown",
      "metadata": {
        "id": "CfUsEvNOor9n"
      },
      "source": [
        "**Changing class attributes**\n",
        "\n",
        "* Create two Player objects p1 and p2.\n",
        "* Print p1.MAX_SPEED and p2.MAX_SPEED.\n",
        "* Assign 7 to p1.MAX_SPEED.\n",
        "* Print p1.MAX_SPEED and p2.MAX_SPEED again.\n",
        "* Print Player.MAX_SPEED.\n",
        "\n",
        "Examine the output carefully.\n",
        "\n",
        "\n",
        "```\n",
        "# Create Players p1 and p2\n",
        "p1= Player()\n",
        "p2 = Player()\n",
        "\n",
        "print(\"MAX_SPEED of p1 and p2 before assignment:\")\n",
        "# Print p1.MAX_SPEED and p2.MAX_SPEED\n",
        "print(p1.MAX_SPEED)\n",
        "print(p2.MAX_SPEED)\n",
        "\n",
        "# Assign 7 to p1.MAX_SPEED\n",
        "p1.MAX_SPEED = 7\n",
        "\n",
        "print(\"MAX_SPEED of p1 and p2 after assignment:\")\n",
        "# Print p1.MAX_SPEED and p2.MAX_SPEED\n",
        "print(p1.MAX_SPEED)\n",
        "print(p2.MAX_SPEED)\n",
        "\n",
        "print(\"MAX_SPEED of Player:\")\n",
        "# Print Player.MAX_SPEED\n",
        "print(Player.MAX_SPEED)\n",
        "```\n",
        "```\n",
        "<script.py> output:\n",
        "    MAX_SPEED of p1 and p2 before assignment:\n",
        "    3\n",
        "    3\n",
        "    MAX_SPEED of p1 and p2 after assignment:\n",
        "    7\n",
        "    3\n",
        "    MAX_SPEED of Player:\n",
        "    3\n",
        "```\n",
        "\n",
        "Even though MAX_SPEED is shared across instances, assigning 7 to p1.MAX_SPEED didn't change the value of MAX_SPEED in p2, or in the Player class.\n",
        "\n",
        "So what happened? In fact, Python created a new instance attribute in p1, also called it MAX_SPEED, and assigned 7 to it, without touching the class attribute.\n",
        "\n",
        "Now let's change the class attribute value for real.\n",
        "\n",
        "Modify the assignment to assign 7 to Player.MAX_SPEED instead.\n",
        "\n",
        "```\n",
        "# Create Players p1 and p2\n",
        "p1, p2 = Player(), Player()\n",
        "\n",
        "print(\"MAX_SPEED of p1 and p2 before assignment:\")\n",
        "# Print p1.MAX_SPEED and p2.MAX_SPEED\n",
        "print(p1.MAX_SPEED)\n",
        "print(p2.MAX_SPEED)\n",
        "\n",
        "# ---MODIFY THIS LINE--- \n",
        "Player.MAX_SPEED = 7\n",
        "\n",
        "print(\"MAX_SPEED of p1 and p2 after assignment:\")\n",
        "# Print p1.MAX_SPEED and p2.MAX_SPEED\n",
        "print(p1.MAX_SPEED)\n",
        "print(p2.MAX_SPEED)\n",
        "\n",
        "print(\"MAX_SPEED of Player:\")\n",
        "# Print Player.MAX_SPEED\n",
        "print(Player.MAX_SPEED)\n",
        "\n",
        "```\n",
        "```\n",
        "<script.py> output:\n",
        "    MAX_SPEED of p1 and p2 before assignment:\n",
        "    3\n",
        "    3\n",
        "    MAX_SPEED of p1 and p2 after assignment:\n",
        "    7\n",
        "    7\n",
        "    MAX_SPEED of Player:\n",
        "    7\n",
        "```\n"
      ]
    },
    {
      "cell_type": "markdown",
      "metadata": {
        "id": "yfFctQynuFmN"
      },
      "source": [
        "**Alternative constructors**\n",
        "\n",
        "Add a class method from_str() that:\n",
        "\n",
        "* accepts a string datestr of the format'YYYY-MM-DD',\n",
        "* splits datestr and converts each part into an integer,\n",
        "* returns an instance of the class with the attributes set to the values extracted from datestr.\n",
        "\n"
      ]
    },
    {
      "cell_type": "code",
      "metadata": {
        "colab": {
          "base_uri": "https://localhost:8080/"
        },
        "id": "G_3uHlBFpC8d",
        "outputId": "77a452ca-cc66-4fcb-8949-65615e5167a0"
      },
      "source": [
        "class BetterDate:    \n",
        "    # Constructor\n",
        "    def __init__(self, year, month, day):\n",
        "      # Recall that Python allows multiple variable assignments in one line\n",
        "      self.year, self.month, self.day = year, month, day\n",
        "    \n",
        "    # Define a class method from_str\n",
        "    @classmethod\n",
        "    def from_str(cls, datestr):\n",
        "        # Split the string at \"-\" and convert each part to integer\n",
        "        parts = datestr.split(\"-\")\n",
        "        year, month, day = int(parts[0]), int(parts[1]), int(parts[2])\n",
        "        # Return the class instance\n",
        "        return cls(year, month, day)\n",
        "        \n",
        "bd = BetterDate.from_str('2020-04-30')   \n",
        "print(bd.year)\n",
        "print(bd.month)\n",
        "print(bd.day)"
      ],
      "execution_count": null,
      "outputs": [
        {
          "output_type": "stream",
          "text": [
            "2020\n",
            "4\n",
            "30\n"
          ],
          "name": "stdout"
        }
      ]
    },
    {
      "cell_type": "markdown",
      "metadata": {
        "id": "FQoxgdXPyIoK"
      },
      "source": [
        "For compatibility, you also want to be able to convert a datetime object into a BetterDate object.\n",
        "\n",
        "* Add a class method from_datetime() that accepts a datetime object as the argument, and uses its attributes .year, .month and .day to create a BetterDate object with the same attribute values."
      ]
    },
    {
      "cell_type": "code",
      "metadata": {
        "colab": {
          "base_uri": "https://localhost:8080/"
        },
        "id": "0zJLzQrk0hT3",
        "outputId": "41136726-449e-417a-f3e0-69daa357d0d0"
      },
      "source": [
        "# import datetime from datetime\n",
        "from datetime import datetime\n",
        "\n",
        "class BetterDate:\n",
        "    def __init__(self, year, month, day):\n",
        "      self.year, self.month, self.day = year, month, day\n",
        "      \n",
        "    @classmethod\n",
        "    def from_str(cls, datestr):\n",
        "        year, month, day = map(int, datestr.split(\"-\"))\n",
        "        return cls(year, month, day)\n",
        "      \n",
        "    # Define a class method from_datetime accepting a datetime object\n",
        "    @classmethod\n",
        "    def from_datetime(cls, datetime):\n",
        "      BetterDate = datetime.year, datetime.month, datetime.day\n",
        "      return cls(datetime.year, datetime.month, datetime.day)\n",
        "\n",
        "# You should be able to run the code below with no errors: \n",
        "today = datetime.today()     \n",
        "bd = BetterDate.from_datetime(today)   \n",
        "print(bd.year)\n",
        "print(bd.month)\n",
        "print(bd.day)"
      ],
      "execution_count": null,
      "outputs": [
        {
          "output_type": "stream",
          "text": [
            "2021\n",
            "8\n",
            "19\n"
          ],
          "name": "stdout"
        }
      ]
    },
    {
      "cell_type": "markdown",
      "metadata": {
        "id": "C9OHeacL0j4O"
      },
      "source": [
        "### Class inheritance\n",
        "\n",
        "**Creating a subclass**\n",
        "\n",
        "* Add an empty Manager class that is inherited from Employee.\n",
        "* Create an object mng of the Manager class with the name Debbie Lashko and salary 86500.\n",
        "* Print the name of mng."
      ]
    },
    {
      "cell_type": "code",
      "metadata": {
        "colab": {
          "base_uri": "https://localhost:8080/"
        },
        "id": "7xmCRdhqAUy2",
        "outputId": "1aa71072-8f44-4ff9-dfc5-51ce6dc2a968"
      },
      "source": [
        "class Employee:\n",
        "  MIN_SALARY = 30000    \n",
        "\n",
        "  def __init__(self, name, salary=MIN_SALARY):\n",
        "      self.name = name\n",
        "      if salary >= Employee.MIN_SALARY:\n",
        "        self.salary = salary\n",
        "      else:\n",
        "        self.salary = Employee.MIN_SALARY\n",
        "        \n",
        "  def give_raise(self, amount):\n",
        "      self.salary += amount      \n",
        "        \n",
        "# Define a new class Manager inheriting from Employee\n",
        "class Manager(Employee):\n",
        "  pass\n",
        "\n",
        "# Define a Manager object\n",
        "mng = Manager('Debbie Lashko', 86500)\n",
        "\n",
        "# Print mng's name\n",
        "print(mng.name)"
      ],
      "execution_count": null,
      "outputs": [
        {
          "output_type": "stream",
          "text": [
            "Debbie Lashko\n"
          ],
          "name": "stdout"
        }
      ]
    },
    {
      "cell_type": "markdown",
      "metadata": {
        "id": "yXyE-3bIAXd7"
      },
      "source": [
        "* Remove the pass statement and add a display() method to the Manager class that just prints the string \"Manager\" followed by the full name, e.g. \"Manager Katie Flatcher\"\n",
        "* Call the .display()method from the mnginstance."
      ]
    },
    {
      "cell_type": "code",
      "metadata": {
        "colab": {
          "base_uri": "https://localhost:8080/"
        },
        "id": "QmpPZY4-A4c4",
        "outputId": "6ecae51f-003d-4588-8117-b9cc17ebe371"
      },
      "source": [
        "class Employee:\n",
        "  MIN_SALARY = 30000    \n",
        "\n",
        "  def __init__(self, name, salary=MIN_SALARY):\n",
        "      self.name = name\n",
        "      if salary >= Employee.MIN_SALARY:\n",
        "        self.salary = salary\n",
        "      else:\n",
        "        self.salary = Employee.MIN_SALARY\n",
        "  def give_raise(self, amount):\n",
        "    self.salary += amount      \n",
        "        \n",
        "# MODIFY Manager class and add a display method\n",
        "class Manager(Employee):\n",
        "  def display(self):\n",
        "    print('Manager ' + self.name)\n",
        "\n",
        "mng = Manager(\"Debbie Lashko\", 86500)\n",
        "print(mng.name)\n",
        "\n",
        "# Call mng.display()\n",
        "mng.display()"
      ],
      "execution_count": null,
      "outputs": [
        {
          "output_type": "stream",
          "text": [
            "Debbie Lashko\n",
            "Manager Debbie Lashko\n"
          ],
          "name": "stdout"
        }
      ]
    },
    {
      "cell_type": "markdown",
      "metadata": {
        "id": "SWBVxI1VBJ-h"
      },
      "source": [
        "### Customizing functionality vs inheritance\n",
        "\n",
        "**Method inheritance**\n",
        "\n",
        " Add a constructor to Manager that:\n",
        "\n",
        "* accepts name, salary (default 50000), and project (default None)\n",
        "* calls the constructor of the Employee class with the name and salary parameters,\n",
        "* creates a project attribute and sets it to the project parameter.\n",
        "\n",
        "\n"
      ]
    },
    {
      "cell_type": "code",
      "metadata": {
        "id": "1cpRmbgOHg3B"
      },
      "source": [
        "class Employee:\n",
        "    def __init__(self, name, salary=30000):\n",
        "        self.name = name\n",
        "        self.salary = salary\n",
        "\n",
        "    def give_raise(self, amount):\n",
        "        self.salary += amount\n",
        "\n",
        "        \n",
        "class Manager(Employee):\n",
        "  # Add a constructor \n",
        "    def __init__(self, name, salary = 50000, project = None):\n",
        "\n",
        "        # Call the parent's constructor   \n",
        "        Employee.__init__(self, name, salary)\n",
        "\n",
        "        # Assign project attribute\n",
        "        self.project = project\n",
        "\n",
        "  \n",
        "    def display(self):\n",
        "        print(\"Manager \", self.name)\n",
        " "
      ],
      "execution_count": null,
      "outputs": []
    },
    {
      "cell_type": "markdown",
      "metadata": {
        "id": "vyLWYdQwHjyK"
      },
      "source": [
        "Add a give_raise() method to Manager that:\n",
        "\n",
        "* accepts the same parameters as Employee.give_raise(), plus a bonus parameter with the default value of 1.05 (bonus of 5%),\n",
        "* multiplies amount by bonus,\n",
        "* uses the Employee's method to raise salary by that product."
      ]
    },
    {
      "cell_type": "code",
      "metadata": {
        "colab": {
          "base_uri": "https://localhost:8080/"
        },
        "id": "ED2z1No5HnKF",
        "outputId": "499b4398-ad03-4f41-abc4-a05cc4b99b80"
      },
      "source": [
        "class Employee:\n",
        "    def __init__(self, name, salary=30000):\n",
        "        self.name = name\n",
        "        self.salary = salary\n",
        "\n",
        "    def give_raise(self, amount):\n",
        "        self.salary += amount\n",
        "\n",
        "        \n",
        "class Manager(Employee):\n",
        "    def display(self):\n",
        "        print(\"Manager \", self.name)\n",
        "\n",
        "    def __init__(self, name, salary=50000, project=None):\n",
        "        Employee.__init__(self, name, salary)\n",
        "        self.project = project\n",
        "\n",
        "    # Add a give_raise method\n",
        "    def give_raise(self, amount, bonus = 1.05):\n",
        "        \n",
        "        new_amount = amount * bonus\n",
        "        Employee.give_raise(self, new_amount)\n",
        "    \n",
        "    \n",
        "mngr = Manager(\"Ashta Dunbar\", 78500)\n",
        "mngr.give_raise(1000)\n",
        "print(mngr.salary)\n",
        "mngr.give_raise(2000, bonus=1.03)\n",
        "print(mngr.salary)"
      ],
      "execution_count": null,
      "outputs": [
        {
          "output_type": "stream",
          "text": [
            "79550.0\n",
            "81610.0\n"
          ],
          "name": "stdout"
        }
      ]
    },
    {
      "cell_type": "markdown",
      "metadata": {
        "id": "cFCyPnpdK5Sc"
      },
      "source": [
        "**Inheritance of class attributes**\n",
        "\n",
        "* Create a class Racer inherited from Player,\n",
        "* Assign 5 to MAX_SPEED in the body of the class.\n",
        "* Create a Player object p and a Racer object r (no arguments needed for the constructor).\n",
        "\n",
        "```\n",
        "# Create a Racer class and set MAX_SPEED to 5\n",
        "class Racer(Player):\n",
        "    MAX_SPEED = 5\n",
        " \n",
        "# Create a Player and a Racer objects\n",
        "p = Player()\n",
        "r = Racer()\n",
        "\n",
        "print(\"p.MAX_SPEED = \", p.MAX_SPEED)\n",
        "print(\"r.MAX_SPEED = \", r.MAX_SPEED)\n",
        "\n",
        "print(\"p.MAX_POSITION = \", p.MAX_POSITION)\n",
        "print(\"r.MAX_POSITION = \", r.MAX_POSITION)\n",
        "```\n",
        "\n",
        "```\n",
        "<script.py> output:\n",
        "    p.MAX_SPEED =  3\n",
        "    r.MAX_SPEED =  5\n",
        "    p.MAX_POSITION =  10\n",
        "    r.MAX_POSITION =  10\n",
        "```\n",
        "\n",
        "* Which of the following statements about inheritance of class attributes is correct?\n",
        "\n",
        "> Class attributes CAN be inherited, and the value of class attributes CAN be overwritten in the child class\n",
        "\n",
        "**Customizing a DataFrame**\n",
        "\n",
        "* Import pandas as pd.\n",
        "* Define LoggedDF class inherited from pd.DataFrame.\n",
        "* Define a constructor with arguments *args and **kwargs that:\n",
        "  * calls the pd.DataFrame constructor with the same arguments,\n",
        "  * assigns datetime.today() to self.created_at.\n",
        "\n",
        "  "
      ]
    },
    {
      "cell_type": "code",
      "metadata": {
        "colab": {
          "base_uri": "https://localhost:8080/"
        },
        "id": "8tJev3_oR4HF",
        "outputId": "5794f6b6-5bec-4ecb-dc05-0c093bb03e85"
      },
      "source": [
        "# Import pandas as pd\n",
        "import pandas as pd\n",
        "\n",
        "# Define LoggedDF inherited from pd.DataFrame and add the constructor\n",
        "class LoggedDF(pd.DataFrame):\n",
        "    def __init__(self, *args, **kwargs):\n",
        "        pd.DataFrame.__init__(self, *args, **kwargs)\n",
        "        self.created_at = datetime.today()\n",
        "    \n",
        "    \n",
        "ldf = LoggedDF({\"col1\": [1,2], \"col2\": [3,4]})\n",
        "print(ldf.values)\n",
        "print(ldf.created_at)"
      ],
      "execution_count": null,
      "outputs": [
        {
          "output_type": "stream",
          "text": [
            "[[1 3]\n",
            " [2 4]]\n",
            "2021-08-19 11:12:42.973793\n"
          ],
          "name": "stdout"
        }
      ]
    },
    {
      "cell_type": "markdown",
      "metadata": {
        "id": "vqFzh3FxR6LU"
      },
      "source": [
        "* Add a to_csv() method to LoggedDF that:\n",
        "  * copies self to a temporary DataFrame using .copy(),\n",
        "  * creates a new column created_at in the temporary DataFrame and fills it  with self.created_at\n",
        "  * calls pd.DataFrame.to_csv() on the temporary variable."
      ]
    },
    {
      "cell_type": "code",
      "metadata": {
        "id": "4xJpkKv-SIpz"
      },
      "source": [
        "# Import pandas as pd\n",
        "import pandas as pd\n",
        "\n",
        "# Define LoggedDF inherited from pd.DataFrame and add the constructor\n",
        "class LoggedDF(pd.DataFrame):\n",
        "  \n",
        "  def __init__(self, *args, **kwargs):\n",
        "    pd.DataFrame.__init__(self, *args, **kwargs)\n",
        "    self.created_at = datetime.today()\n",
        "    \n",
        "  def to_csv(self, *args, **kwargs):\n",
        "    # Copy self to a temporary DataFrame\n",
        "    temp = self.copy()\n",
        "    \n",
        "    # Create a new column filled with self.created_at\n",
        "    temp[\"created_at\"] = self.created_at\n",
        "    \n",
        "    # Call pd.DataFrame.to_csv on temp, passing in *args and **kwargs\n",
        "    pd.DataFrame.to_csv(temp, *args, **kwargs)"
      ],
      "execution_count": null,
      "outputs": []
    },
    {
      "cell_type": "markdown",
      "metadata": {
        "id": "RBVO0g8sTY2m"
      },
      "source": [
        "## Integrating with Standard Python\n",
        "\n",
        "**Custom equality function**\n",
        "\n",
        "* Modify the __init__() method to accept a new parameter - number - and initialize a new number attribute.\n",
        "* Define an __eq__() method that returns True if the number attribute of two objects is equal.\n",
        "\n"
      ]
    },
    {
      "cell_type": "code",
      "metadata": {
        "colab": {
          "base_uri": "https://localhost:8080/"
        },
        "id": "Ey362W_nZuCJ",
        "outputId": "7163dcfc-ab93-4c7c-f177-a9f1c8bff019"
      },
      "source": [
        "class BankAccount:\n",
        "   # MODIFY to initialize a number attribute\n",
        "    def __init__(self, number, balance=0):\n",
        "        self.balance = balance\n",
        "        self.number = number\n",
        "      \n",
        "    def withdraw(self, amount):\n",
        "        self.balance -= amount \n",
        "    \n",
        "    # Define __eq__ that returns True if the number attributes are equal \n",
        "    def __eq__(self, other):\n",
        "        return self.number == other.number   \n",
        "\n",
        "# Create accounts and compare them       \n",
        "acct1 = BankAccount(123, 1000)\n",
        "acct2 = BankAccount(123, 1000)\n",
        "acct3 = BankAccount(456, 1000)\n",
        "print(acct1 == acct2)\n",
        "print(acct1 == acct3)\n",
        "    "
      ],
      "execution_count": null,
      "outputs": [
        {
          "output_type": "stream",
          "text": [
            "True\n",
            "False\n"
          ],
          "name": "stdout"
        }
      ]
    },
    {
      "cell_type": "markdown",
      "metadata": {
        "id": "suLq9U-4bJWf"
      },
      "source": [
        "**Checking class equality**\n",
        "\n",
        "* Modify the definition of BankAccount to only return True if the number attribute is the same and the type() of both objects passed to it is the same.\n",
        "\n"
      ]
    },
    {
      "cell_type": "code",
      "metadata": {
        "colab": {
          "base_uri": "https://localhost:8080/",
          "height": 215
        },
        "id": "N_Z1AUgcGP5B",
        "outputId": "7b09b77e-efa3-4e1f-d048-4bd95d383ded"
      },
      "source": [
        "class BankAccount:\n",
        "    def __init__(self, number, balance=0):\n",
        "        self.number, self.balance = number, balance\n",
        "      \n",
        "    def withdraw(self, amount):\n",
        "        self.balance -= amount \n",
        "\n",
        "    # MODIFY to add a check for the type()\n",
        "    def __eq__(self, other):\n",
        "        return (self.number == other.number) and (type(self) == type(other))    \n",
        "\n",
        "acct = BankAccount(873555333)      \n",
        "pn = Phone(873555333)\n",
        "print(acct == pn)"
      ],
      "execution_count": null,
      "outputs": [
        {
          "output_type": "error",
          "ename": "NameError",
          "evalue": "ignored",
          "traceback": [
            "\u001b[0;31m---------------------------------------------------------------------------\u001b[0m",
            "\u001b[0;31mNameError\u001b[0m                                 Traceback (most recent call last)",
            "\u001b[0;32m<ipython-input-44-cbe045f6c309>\u001b[0m in \u001b[0;36m<module>\u001b[0;34m()\u001b[0m\n\u001b[1;32m     11\u001b[0m \u001b[0;34m\u001b[0m\u001b[0m\n\u001b[1;32m     12\u001b[0m \u001b[0macct\u001b[0m \u001b[0;34m=\u001b[0m \u001b[0mBankAccount\u001b[0m\u001b[0;34m(\u001b[0m\u001b[0;36m873555333\u001b[0m\u001b[0;34m)\u001b[0m\u001b[0;34m\u001b[0m\u001b[0;34m\u001b[0m\u001b[0m\n\u001b[0;32m---> 13\u001b[0;31m \u001b[0mpn\u001b[0m \u001b[0;34m=\u001b[0m \u001b[0mPhone\u001b[0m\u001b[0;34m(\u001b[0m\u001b[0;36m873555333\u001b[0m\u001b[0;34m)\u001b[0m\u001b[0;34m\u001b[0m\u001b[0;34m\u001b[0m\u001b[0m\n\u001b[0m\u001b[1;32m     14\u001b[0m \u001b[0mprint\u001b[0m\u001b[0;34m(\u001b[0m\u001b[0macct\u001b[0m \u001b[0;34m==\u001b[0m \u001b[0mpn\u001b[0m\u001b[0;34m)\u001b[0m\u001b[0;34m\u001b[0m\u001b[0;34m\u001b[0m\u001b[0m\n",
            "\u001b[0;31mNameError\u001b[0m: name 'Phone' is not defined"
          ]
        }
      ]
    },
    {
      "cell_type": "markdown",
      "metadata": {
        "id": "joAE59iHOKNS"
      },
      "source": [
        "> Now only comparing objects of the same class BankAccount could return True. Another way to ensure that an object has the same type as you expect is to use the isinstance(obj, Class) function. This can helpful when handling inheritance, as Python considers an object to be an instance of both the parent and the child class. Try running pn == acct in the console (with reversed order of equality). What does this tell you about the __eq__() method?"
      ]
    },
    {
      "cell_type": "markdown",
      "metadata": {
        "id": "Mp5MMMeYOLRr"
      },
      "source": [
        "###Operator overloading: string representation\n",
        "\n",
        "**String representation of objects**\n",
        "\n",
        "* Add the __str__() method to Employee that satisfies the following:\n",
        "\n",
        "* If emp is an Employee object with name \"Amar Howard\" and salary of 40000, then print(emp) outputs\n",
        "```\n",
        "Employee name: Amar Howard\n",
        "Employee salary: 40000\n",
        "```\n"
      ]
    },
    {
      "cell_type": "code",
      "metadata": {
        "colab": {
          "base_uri": "https://localhost:8080/"
        },
        "id": "c4yv5cZG8wxn",
        "outputId": "0115cc2b-9333-4ec9-8295-60fee4b560c4"
      },
      "source": [
        "class Employee:\n",
        "    def __init__(self, name, salary=30000):\n",
        "        self.name, self.salary = name, salary\n",
        "            \n",
        "    # Add the __str__() method\n",
        "    def __str__(self):\n",
        "        emp = \"\"\"\n",
        "        Customer:\n",
        "            Employee: {name}\n",
        "            Employee salary: {salary}\n",
        "        \"\"\".format(name = self.name, salary = self.salary)\n",
        "        return emp\n",
        "\n",
        "emp1 = Employee(\"Amar Howard\", 30000)\n",
        "print(emp1)\n",
        "emp2 = Employee(\"Carolyn Ramirez\", 35000)\n",
        "print(emp2)"
      ],
      "execution_count": null,
      "outputs": [
        {
          "output_type": "stream",
          "text": [
            "\n",
            "        Customer:\n",
            "            Employee: Amar Howard\n",
            "            Employee salary: 30000\n",
            "        \n",
            "\n",
            "        Customer:\n",
            "            Employee: Carolyn Ramirez\n",
            "            Employee salary: 35000\n",
            "        \n"
          ],
          "name": "stdout"
        }
      ]
    },
    {
      "cell_type": "markdown",
      "metadata": {
        "id": "W97jhuvd842y"
      },
      "source": [
        "* Add the __repr__() method to Employee that satisfies the following:\n",
        "\n",
        "* If emp is an Employee object with name \"Amar Howard\" and salary of 40000, then repr(emp) outputs\n",
        "```\n",
        "Employee(\"Amar Howard\", 40000)\n",
        "```"
      ]
    },
    {
      "cell_type": "code",
      "metadata": {
        "colab": {
          "base_uri": "https://localhost:8080/"
        },
        "id": "V5Z6ncwF9ADu",
        "outputId": "ef788f7d-2275-4464-e848-643729fd26de"
      },
      "source": [
        "class Employee:\n",
        "    def __init__(self, name, salary=30000):\n",
        "        self.name, self.salary = name, salary\n",
        "      \n",
        "\n",
        "    def __str__(self):\n",
        "        s = \"Employee name: {name}\\nEmployee salary: {salary}\".format(name=self.name, salary=self.salary)      \n",
        "        return s\n",
        "      \n",
        "    # Add the __repr__method  \n",
        "    def __repr__(self): \n",
        "    # Notice the '...' around name\n",
        "        return \"Employee('{name}', {salary})\".format(name = self.name, salary = self.salary)\n",
        "\n",
        "emp1 = Employee(\"Amar Howard\", 30000)\n",
        "print(repr(emp1))\n",
        "emp2 = Employee(\"Carolyn Ramirez\", 35000)\n",
        "print(repr(emp2))"
      ],
      "execution_count": null,
      "outputs": [
        {
          "output_type": "stream",
          "text": [
            "Employee('Amar Howard', 30000)\n",
            "Employee('Carolyn Ramirez', 35000)\n"
          ],
          "name": "stdout"
        }
      ]
    },
    {
      "cell_type": "markdown",
      "metadata": {
        "id": "YXxV9FeV9n9m"
      },
      "source": [
        "> You should always define at least one of the string representation methods for your object to make sure that the person using your class can get important information about the object easily."
      ]
    },
    {
      "cell_type": "markdown",
      "metadata": {
        "id": "HjDZtUlG9owG"
      },
      "source": [
        "###Exceptions\n",
        "\n",
        "\n",
        "**Catching exceptions**\n",
        "\n"
      ]
    },
    {
      "cell_type": "code",
      "metadata": {
        "colab": {
          "base_uri": "https://localhost:8080/"
        },
        "id": "LJque8qiKKNr",
        "outputId": "f218a88c-be71-4ff2-9b90-dd8ff581a063"
      },
      "source": [
        "# MODIFY the function to catch exceptions\n",
        "def invert_at_index(x, ind):\n",
        "    try:\n",
        "        return 1/x[ind]\n",
        "    except ZeroDivisionError:\n",
        "        print('Cannot divide by zero!')\n",
        "    except IndexError:\n",
        "        print('Index out of range!')\n",
        "a = [5,6,0,7]\n",
        "\n",
        "# Works okay\n",
        "print(invert_at_index(a, 1))\n",
        "\n",
        "# Potential ZeroDivisionError\n",
        "print(invert_at_index(a, 2))\n",
        "\n",
        "# Potential IndexError\n",
        "print(invert_at_index(a, 5))"
      ],
      "execution_count": null,
      "outputs": [
        {
          "output_type": "stream",
          "text": [
            "0.16666666666666666\n",
            "Cannot divide by zero!\n",
            "None\n",
            "Index out of range!\n",
            "None\n"
          ],
          "name": "stdout"
        }
      ]
    },
    {
      "cell_type": "markdown",
      "metadata": {
        "id": "iZZONW43KXgS"
      },
      "source": [
        "> It's important to note, though, that this code will only be able to handle the two particular errors specified in the except blocks. Any other error would still terminate the program."
      ]
    },
    {
      "cell_type": "markdown",
      "metadata": {
        "id": "yDtR5e84KYej"
      },
      "source": [
        "**Custom exceptions**\n",
        "\n",
        "To define an exception is you need a class inherited from the built-in Exception class or one of its subclasses.\n",
        "\n",
        "* Define an empty class SalaryError inherited from the built-in ValueError class.\n",
        "* Define an empty class BonusError inherited from the SalaryError class.\n"
      ]
    },
    {
      "cell_type": "code",
      "metadata": {
        "id": "Ecqz4Sf6PDUw"
      },
      "source": [
        "# Define SalaryError inherited from ValueError\n",
        "class SalaryError(ValueError): pass\n",
        "\n",
        "# Define BonusError inherited from SalaryError\n",
        "class BonusError(SalaryError): pass\n",
        "\n"
      ],
      "execution_count": null,
      "outputs": []
    },
    {
      "cell_type": "markdown",
      "metadata": {
        "id": "IO0wb1ldPl0s"
      },
      "source": [
        "* Complete the definition of __init__() to raise a SalaryError with the message \"Salary is too low!\" if the salary parameter is less than MIN_SALARY class attribute.\n",
        "\n",
        "*There's no need for else because raise terminates the program anyway.*"
      ]
    },
    {
      "cell_type": "code",
      "metadata": {
        "id": "-aOBJaLoPpco"
      },
      "source": [
        "class SalaryError(ValueError): pass\n",
        "class BonusError(SalaryError): pass\n",
        "\n",
        "class Employee:\n",
        "  MIN_SALARY = 30000\n",
        "  MAX_RAISE = 5000\n",
        "\n",
        "  def __init__(self, name, salary = 30000):\n",
        "    self.name = name\n",
        "    \n",
        "    # If salary is too low\n",
        "    if salary < MIN_SALARY:\n",
        "      # Raise a SalaryError exception\n",
        "      raise SalaryError('Salary is too low!')        \n",
        "      \n",
        "    self.salary = salary\n",
        "      "
      ],
      "execution_count": null,
      "outputs": []
    },
    {
      "cell_type": "markdown",
      "metadata": {
        "id": "I4mVcpucP46n"
      },
      "source": [
        "* Examine the give_bonus() method, and the rewrite it using exceptions instead of print statements:\n",
        "\n",
        "  * raise a BonusError if the bonus amount is too high;\n",
        "  * raise a SalaryError if the result of adding the bonus would be too low."
      ]
    },
    {
      "cell_type": "code",
      "metadata": {
        "id": "K8h8KasER3iX"
      },
      "source": [
        "class SalaryError(ValueError): pass\n",
        "class BonusError(SalaryError): pass\n",
        "\n",
        "class Employee:\n",
        "  MIN_SALARY = 30000\n",
        "  MAX_BONUS = 5000\n",
        "\n",
        "  def __init__(self, name, salary = 30000):\n",
        "    self.name = name    \n",
        "    if salary < Employee.MIN_SALARY:\n",
        "      raise SalaryError(\"Salary is too low!\")      \n",
        "    self.salary = salary\n",
        "    \n",
        "  # Rewrite using exceptions  \n",
        "  def give_bonus(self, amount):\n",
        "    if amount > Employee.MAX_BONUS:\n",
        "       raise BonusError(\"The bonus amount is too high!\")  \n",
        "        \n",
        "    elif self.salary + amount <  Employee.MIN_SALARY:\n",
        "       raise SalaryError(\"The salary after bonus is too low!\")\n",
        "      \n",
        "    else:  \n",
        "      self.salary += amount"
      ],
      "execution_count": null,
      "outputs": []
    },
    {
      "cell_type": "markdown",
      "metadata": {
        "id": "Xv50tL1aR4bk"
      },
      "source": [
        "!Note -  It's better to list the except blocks in the increasing order of specificity, i.e. children before parents, otherwise the child exception will be called in the parent except block."
      ]
    },
    {
      "cell_type": "markdown",
      "metadata": {
        "id": "6k2Xr0_3eRHg"
      },
      "source": [
        "## Best Practices of Class Design\n",
        "\n",
        "###Designing for inheritance and polymorphism\n",
        "\n",
        "**Liskov substitution principle**\n",
        "*Base class should be\n",
        "interchangeable with any of its\n",
        "subclasses without altering any\n",
        "properties of the program*\n",
        "\n",
        "> No LSP – No Inheritance\n",
        "\n",
        "**Inheritance and polymorphism**\n",
        "\n",
        "* Create a class Rectangle with a constructor that accepts two parameters, h and w, and sets its h and w attributes to the values of h and w.\n",
        "* Create a class Square inherited from Rectangle with a constructor that accepts one parameter w, and sets both the h and w attributes to the value of w\n",
        "\n"
      ]
    },
    {
      "cell_type": "code",
      "metadata": {
        "id": "K5oPJUWlHIny"
      },
      "source": [
        "# Define a Rectangle class\n",
        "class Rectangle:\n",
        "    def __init__(self, h, w):\n",
        "      self.h, self.w = h, w\n",
        "\n",
        "# Define a Square class\n",
        "class Square(Rectangle):\n",
        "    def __init__(self, w):\n",
        "      self.h, self.w = w, w  \n",
        "      "
      ],
      "execution_count": null,
      "outputs": []
    },
    {
      "cell_type": "markdown",
      "metadata": {
        "id": "LkMnRhZ-KAxq"
      },
      "source": [
        "* A Square inherited from a Rectangle will always have both the h and w attributes, but we can't allow them to change independently of each other.\n",
        "\n",
        "  * Define methods set_h() and set_w() in Rectangle, each accepting one parameter and setting h and w.\n",
        "  * Define methods set_h() and set_w() in Square, each accepting one parameter, and setting both h and w to that parameter in both methods.\n",
        "\n"
      ]
    },
    {
      "cell_type": "code",
      "metadata": {
        "id": "FV1qMfW_KEF1"
      },
      "source": [
        "class Rectangle:\n",
        "    def __init__(self, w,h):\n",
        "      self.w, self.h = w,h\n",
        "      \n",
        "# Define set_h to set h       \n",
        "    def set_h(self, h):\n",
        "      self.h = h\n",
        "\n",
        "# Define set_w to set w\n",
        "    def set_w(self, w):\n",
        "      self.w = w   \n",
        "      \n",
        "class Square(Rectangle):\n",
        "    def __init__(self, w):\n",
        "      self.w, self.h = w, w \n",
        "      \n",
        "# Define set_h to set w and h \n",
        "    def set_h(self, h):\n",
        "      self.h = h\n",
        "      self.w = h\n",
        "      \n",
        "# Define set_w to set w and h \n",
        "    def set_w(self, w):\n",
        "      self.w = w   \n",
        "      self.h = w  "
      ],
      "execution_count": null,
      "outputs": []
    },
    {
      "cell_type": "markdown",
      "metadata": {
        "id": "q8cCfFvVQ8R5"
      },
      "source": [
        "> Later in this chapter you'll learn how to make these setter methods run automatically when attributes are assigned new values, don't worry about that for now, just assume that when we assign a value to h of a square, now the w attribute will be changed accordingly.\n",
        "\n",
        "* How does using these setter methods violate Liskov Substitution principle?\n",
        "\n",
        "> Each of the setter methods of Square change both h and w attributes, while setter methods of Rectangle change only one attribute at a time, so the Square objects cannot be substituted for Rectangle into programs that rely on one attribute staying constant.\n",
        "\n",
        "### Managing data access: private attributes\n",
        "\n",
        "**Naming convention: internal attributes**\n",
        "``` obj._att_name , obj._method_name()```\n",
        "* Starts with a single _ → \"internal\"\n",
        "* Not a part of the public API\n",
        "* As a class user: \"don't touch this\"\n",
        "* As a class developer: use for implementation details, helper functions..\n",
        "df._is_mixed_type , datetime._ymd2ord()\n",
        "\n",
        "**Using internal attributes**\n",
        "\n",
        "> Add a method that checks the validity of the date, but you don't want to make it a part of BetterDate's public interface.\n",
        "\n",
        "* Add a class attribute _MAX_DAYS storing the maximal number of days in a month - 30.\n",
        "* Add another class attribute storing the maximal number of months in a year - 12. Use the appropriate naming convention to indicate that this is an internal attribute.\n",
        "* Add an _is_valid() method that returns True if the day and month attributes are less than or equal to the corresponding maximum values, and False otherwise. Make sure to refer to the class attributes by their names!\n"
      ]
    },
    {
      "cell_type": "code",
      "metadata": {
        "colab": {
          "base_uri": "https://localhost:8080/"
        },
        "id": "RHexGRbAdbq9",
        "outputId": "5e70533f-3b6a-47f3-bac8-ff4d564b686b"
      },
      "source": [
        "# Add class attributes for max number of days and months\n",
        "class BetterDate:\n",
        "    _MAX_DAYS = 30\n",
        "    _MAX_MONTHS = 12\n",
        "    def __init__(self, year, month, day):\n",
        "        self.year, self.month, self.day = year, month, day\n",
        "        \n",
        "    @classmethod\n",
        "    def from_str(cls, datestr):\n",
        "        year, month, day = map(int, datestr.split(\"-\"))\n",
        "        return cls(year, month, day)\n",
        "    \n",
        "    # Add _is_valid() checking day and month values\n",
        "    def _is_valid(self):\n",
        "        return (self.day <= BetterDate._MAX_DAYS) and (self.month <= BetterDate._MAX_MONTHS)\n",
        "    \n",
        "bd1 = BetterDate(2020, 4, 30)\n",
        "print(bd1._is_valid())\n",
        "\n",
        "bd2 = BetterDate(2020, 6, 45)\n",
        "print(bd2._is_valid())"
      ],
      "execution_count": null,
      "outputs": [
        {
          "output_type": "stream",
          "text": [
            "True\n",
            "False\n"
          ],
          "name": "stdout"
        }
      ]
    },
    {
      "cell_type": "markdown",
      "metadata": {
        "id": "jHW824I4gl2r"
      },
      "source": [
        "> Notice that you were still able to use the _is_valid() method as usual. The single underscore naming convention is purely a convention, and Python doesn't do anything special with such attributes and methods behind the scenes. That convention is widely followed, though, so if you see an attribute name with one leading underscore in someone's class - don't use it! The class developer trusts you with this responsibility.\n",
        "\n",
        "### Properties\n",
        "\n",
        "**Create and set properties**\n",
        "\n",
        "> There are two parts to defining a property:\n",
        "\n",
        "  * first, define an \"internal\" attribute that will contain the data;\n",
        "then, define a @property-decorated method whose name is the property name, and that returns the internal attribute storing the data.\n",
        "If you'd also like to define a custom setter method, there's an additional step:\n",
        "\n",
        "  * define another method whose name is exactly the property name (again), and decorate it with @prop_name.setter where prop_name is the name of the property. The method should take two arguments -- self (as always), and the value that's being assigned to the property.\n",
        "  > In this exercise, you'll create a balance property for a Customer class - a better, more controlled version of the balance attribute that you worked with before.\n",
        "\n",
        "* Create a Customer class with the __init__() method that:\n",
        "\n",
        "  * takes parameters name and new_bal,\n",
        "  * assigns name to the attribute name,\n",
        "  * raises a ValueError if new_bal is negative,\n",
        "  * otherwise, assigns new_bal to the attribute _balance (with _)."
      ]
    },
    {
      "cell_type": "code",
      "metadata": {
        "id": "gOd144Q8sZzS"
      },
      "source": [
        "class Customer:\n",
        "    def __init__(self, name, new_bal):\n",
        "        self.name = name\n",
        "        if new_bal < 0:\n",
        "           raise ValueError(\"Invalid balance!\")\n",
        "        self._balance = new_bal "
      ],
      "execution_count": null,
      "outputs": []
    },
    {
      "cell_type": "markdown",
      "metadata": {
        "id": "GPgx09EjuSUf"
      },
      "source": [
        "* Add a method balance() with a @property decorator that returns the _balance attribute.\n"
      ]
    },
    {
      "cell_type": "code",
      "metadata": {
        "id": "_lJlePp8uXz7"
      },
      "source": [
        "class Customer:\n",
        "    def __init__(self, name, new_bal):\n",
        "        self.name = name\n",
        "        if new_bal < 0:\n",
        "           raise ValueError(\"Invalid balance!\")\n",
        "        self._balance = new_bal  \n",
        "\n",
        "    # Add a decorated balance() method returning _balance        \n",
        "    @property\n",
        "    def balance(self):\n",
        "        return self._balance"
      ],
      "execution_count": null,
      "outputs": []
    },
    {
      "cell_type": "markdown",
      "metadata": {
        "id": "gNOFVZOeuzj3"
      },
      "source": [
        "* Define another balance() method to serve as a setter, with the appropriate decorator and an additional parameter:\n",
        "\n",
        "  * Raise a ValueError if the parameter is negative,\n",
        "  * otherwise assign it to _balance ;\n",
        "  * print \"Setter method is called\".\n"
      ]
    },
    {
      "cell_type": "code",
      "metadata": {
        "id": "hYjYwgMBu3ap"
      },
      "source": [
        "class Customer:\n",
        "    def __init__(self, name, new_bal):\n",
        "        self.name = name\n",
        "        if new_bal < 0:\n",
        "           raise ValueError(\"Invalid balance!\")\n",
        "        self._balance = new_bal  \n",
        "\n",
        "    # Add a decorated balance() method returning _balance        \n",
        "    @property\n",
        "    def balance(self):\n",
        "        return self._balance\n",
        "\n",
        "    # Add a setter balance() method\n",
        "    @balance.setter\n",
        "    def balance(self, new_bal):\n",
        "        # Validate the parameter value\n",
        "        if new_bal < 0:\n",
        "           raise ValueError(\"Invalid balance!\")\n",
        "        self._balance = new_bal\n",
        "        print(\"Setter method called\")"
      ],
      "execution_count": null,
      "outputs": []
    },
    {
      "cell_type": "markdown",
      "metadata": {
        "id": "Ww43pvGfD_uN"
      },
      "source": [
        "* Create a Customer named Belinda Lutz with the balance of 2000 and save it as cust.\n",
        "  * Use the dot syntax and the = to assign 3000 to cust.balance.\n",
        "  * Print cust.balance.\n",
        "\n",
        "*In the console, try assigning -1000 to cust.balance. What happens?*\n",
        "\n"
      ]
    },
    {
      "cell_type": "code",
      "metadata": {
        "colab": {
          "base_uri": "https://localhost:8080/"
        },
        "id": "aKf4nQCaEHoJ",
        "outputId": "33c59b63-48bd-4351-a1e0-006e66d13ab0"
      },
      "source": [
        "class Customer:\n",
        "    def __init__(self, name, new_bal):\n",
        "        self.name = name\n",
        "        if new_bal < 0:\n",
        "           raise ValueError(\"Invalid balance!\")\n",
        "        self._balance = new_bal  \n",
        "\n",
        "    # Add a decorated balance() method returning _balance        \n",
        "    @property\n",
        "    def balance(self):\n",
        "        return self._balance\n",
        "\n",
        "    # Add a setter balance() method\n",
        "    @balance.setter\n",
        "    def balance(self, new_bal):\n",
        "        # Validate the parameter value\n",
        "        if new_bal < 0:\n",
        "           raise ValueError(\"Invalid balance!\")\n",
        "        self._balance = new_bal\n",
        "        print(\"Setter method called\")\n",
        "\n",
        "# Create a Customer        \n",
        "cust = Customer('Belinda Lutz', 2000)\n",
        "\n",
        "# Assign 3000 to the balance property\n",
        "cust.balance = 3000\n",
        "\n",
        "# Print the balance property\n",
        "print(cust.balance)"
      ],
      "execution_count": null,
      "outputs": [
        {
          "output_type": "stream",
          "text": [
            "Setter method called\n",
            "3000\n"
          ],
          "name": "stdout"
        }
      ]
    },
    {
      "cell_type": "markdown",
      "metadata": {
        "id": "fC7TsjHOEwT5"
      },
      "source": [
        "> Now the user of your Customer class won't be able to assign arbitrary values to the customers' balance. You could also add a custom getter method (with a decorator @balance.getter) that returns a value and gets executed every time the attribute is accessed.\n",
        "\n",
        "*Other possibilities*\n",
        "\n",
        "→ Do not add @attr.setter\n",
        "  * Create a read-only property\n",
        "\n",
        "→ Add @attr.getter\n",
        "  * Use for the method that is called when the property's value is retrieved\n",
        "\n",
        "→ Add @attr.deleter\n",
        "  * Use for the method that is called when the property is deleted using del\n",
        "\n",
        "  Example usage:\n",
        "\n",
        "```\n",
        "@property\n",
        "class Employer:\n",
        "  def __init__(self, name, new_salary):\n",
        "    self._salary = new_salary\n",
        "@property\n",
        "  def salary(self):\n",
        "    return self._salary\n",
        "@salary.setter\n",
        "  def salary(self, new_salary):\n",
        "  if new_salary < 0:\n",
        "    raise ValueError(\"Invalid salary\")\n",
        "  self._salary = new_salary\n",
        "\n",
        "emp = Employee(\"Miriam Azari\", 35000)\n",
        "# accessing the \"property\"\n",
        "emp.salary\n",
        "emp.salary = 60000 # <-- @salary.setter\n",
        "emp.salary = -1000\n",
        "\n",
        "```\n",
        "\n",
        "←Use \"protected\" attribute with leading _ to\n",
        "store data\n",
        " \n",
        "  ← Use @property on a method whose name\n",
        "is exactly the name of the restricted attribute;\n",
        "return the internal a?ribute\n",
        "\n",
        "  ← Use @attr.setter on a method attr()\n",
        "that will be called on obj.attr = value\n",
        "the value to assign passed as argument\n"
      ]
    },
    {
      "cell_type": "markdown",
      "metadata": {
        "id": "cXVqojVdF--c"
      },
      "source": [
        "**Read-only properties**\n",
        "\n",
        "The LoggedDF class from Chapter 2 was an extension of the pandas DataFrame class that had an additional created_at attribute that stored the timestamp when the DataFrame was created, so that the user could see how out-of-date the data is.\n",
        "\n",
        "But that class wasn't very useful: we could just assign any value to created_at after the DataFrame was created, thus defeating the whole point of the attribute! Now, using properties, we can make the attribute read-only.\n",
        "\n",
        "* Assign a new value of '2035-07-13' to the created_at attribute.\n",
        "* Print the value of ldf's created_at attribute to verify that your assignment was successful.\n",
        "\n",
        "\n"
      ]
    },
    {
      "cell_type": "code",
      "metadata": {
        "colab": {
          "base_uri": "https://localhost:8080/"
        },
        "id": "1XbDD8F8_xgn",
        "outputId": "adc69f83-dbf5-4c45-e710-ed16fb17c2c1"
      },
      "source": [
        "import pandas as pd\n",
        "from datetime import datetime\n",
        "\n",
        "# LoggedDF class definition from Chapter 2\n",
        "class LoggedDF(pd.DataFrame):\n",
        "    def __init__(self, *args, **kwargs):\n",
        "        pd.DataFrame.__init__(self, *args, **kwargs)\n",
        "        self.created_at = datetime.today()\n",
        "\n",
        "    def to_csv(self, *args, **kwargs):\n",
        "        temp = self.copy()\n",
        "        temp[\"created_at\"] = self.created_at\n",
        "        pd.DataFrame.to_csv(temp, *args, **kwargs)   \n",
        "\n",
        "# Instantiate a LoggedDF called ldf\n",
        "ldf = LoggedDF({\"col1\": [1,2], \"col2\":[3,4]}) \n",
        "\n",
        "# Assign a new value to ldf's created_at attribute and print\n",
        "ldf.created_at = '2035-07-13'\n",
        "print(ldf.created_at)"
      ],
      "execution_count": 1,
      "outputs": [
        {
          "output_type": "stream",
          "text": [
            "2035-07-13\n"
          ],
          "name": "stdout"
        }
      ]
    },
    {
      "cell_type": "markdown",
      "metadata": {
        "id": "3RpoAQJnDKp1"
      },
      "source": [
        "* Create an internal attribute called _created_at to turn created_at into a read-only attribute.\n",
        "* Modify the class to use the internal attribute, _created_at, in place of created_at."
      ]
    },
    {
      "cell_type": "code",
      "metadata": {
        "id": "tcfF9thrDMb5"
      },
      "source": [
        "import pandas as pd\n",
        "from datetime import datetime\n",
        "\n",
        "# MODIFY the class to use _created_at instead of created_at\n",
        "class LoggedDF(pd.DataFrame):\n",
        "    def __init__(self, *args, **kwargs):\n",
        "        pd.DataFrame.__init__(self, *args, **kwargs)\n",
        "        self._created_at = datetime.today()\n",
        "    \n",
        "    def to_csv(self, *args, **kwargs):\n",
        "        temp = self.copy()\n",
        "        temp[\"created_at\"] = self._created_at\n",
        "        pd.DataFrame.to_csv(temp, *args, **kwargs)   \n",
        "    \n",
        "    # Add a read-only property: _created_at\n",
        "    @property\n",
        "    def created_at(self, *args, **kwargs):\n",
        "        return self._created_at \n",
        "\n",
        "# Instantiate a LoggedDF called ldf\n",
        "ldf = LoggedDF({\"col1\": [1,2], \"col2\":[3,4]}) "
      ],
      "execution_count": 2,
      "outputs": []
    },
    {
      "cell_type": "code",
      "metadata": {
        "colab": {
          "base_uri": "https://localhost:8080/",
          "height": 426
        },
        "id": "cGJx3MBNGnIw",
        "outputId": "81e4578a-a61e-4ba8-f23b-93f06f08387d"
      },
      "source": [
        "ldf.created_at = '2035-07-13'"
      ],
      "execution_count": 3,
      "outputs": [
        {
          "output_type": "error",
          "ename": "AttributeError",
          "evalue": "ignored",
          "traceback": [
            "\u001b[0;31m---------------------------------------------------------------------------\u001b[0m",
            "\u001b[0;31mAttributeError\u001b[0m                            Traceback (most recent call last)",
            "\u001b[0;32m/usr/local/lib/python3.7/dist-packages/pandas/core/generic.py\u001b[0m in \u001b[0;36m__setattr__\u001b[0;34m(self, name, value)\u001b[0m\n\u001b[1;32m   5171\u001b[0m                 \u001b[0;32melse\u001b[0m\u001b[0;34m:\u001b[0m\u001b[0;34m\u001b[0m\u001b[0;34m\u001b[0m\u001b[0m\n\u001b[0;32m-> 5172\u001b[0;31m                     \u001b[0mobject\u001b[0m\u001b[0;34m.\u001b[0m\u001b[0m__setattr__\u001b[0m\u001b[0;34m(\u001b[0m\u001b[0mself\u001b[0m\u001b[0;34m,\u001b[0m \u001b[0mname\u001b[0m\u001b[0;34m,\u001b[0m \u001b[0mvalue\u001b[0m\u001b[0;34m)\u001b[0m\u001b[0;34m\u001b[0m\u001b[0;34m\u001b[0m\u001b[0m\n\u001b[0m\u001b[1;32m   5173\u001b[0m             \u001b[0;32mexcept\u001b[0m \u001b[0;34m(\u001b[0m\u001b[0mAttributeError\u001b[0m\u001b[0;34m,\u001b[0m \u001b[0mTypeError\u001b[0m\u001b[0;34m)\u001b[0m\u001b[0;34m:\u001b[0m\u001b[0;34m\u001b[0m\u001b[0;34m\u001b[0m\u001b[0m\n",
            "\u001b[0;31mAttributeError\u001b[0m: can't set attribute",
            "\nDuring handling of the above exception, another exception occurred:\n",
            "\u001b[0;31mAttributeError\u001b[0m                            Traceback (most recent call last)",
            "\u001b[0;32m<ipython-input-3-1c14d4a98ca4>\u001b[0m in \u001b[0;36m<module>\u001b[0;34m()\u001b[0m\n\u001b[0;32m----> 1\u001b[0;31m \u001b[0mldf\u001b[0m\u001b[0;34m.\u001b[0m\u001b[0mcreated_at\u001b[0m \u001b[0;34m=\u001b[0m \u001b[0;34m'2035-07-13'\u001b[0m\u001b[0;34m\u001b[0m\u001b[0;34m\u001b[0m\u001b[0m\n\u001b[0m",
            "\u001b[0;32m/usr/local/lib/python3.7/dist-packages/pandas/core/generic.py\u001b[0m in \u001b[0;36m__setattr__\u001b[0;34m(self, name, value)\u001b[0m\n\u001b[1;32m   5180\u001b[0m                         \u001b[0mstacklevel\u001b[0m\u001b[0;34m=\u001b[0m\u001b[0;36m2\u001b[0m\u001b[0;34m,\u001b[0m\u001b[0;34m\u001b[0m\u001b[0;34m\u001b[0m\u001b[0m\n\u001b[1;32m   5181\u001b[0m                     )\n\u001b[0;32m-> 5182\u001b[0;31m                 \u001b[0mobject\u001b[0m\u001b[0;34m.\u001b[0m\u001b[0m__setattr__\u001b[0m\u001b[0;34m(\u001b[0m\u001b[0mself\u001b[0m\u001b[0;34m,\u001b[0m \u001b[0mname\u001b[0m\u001b[0;34m,\u001b[0m \u001b[0mvalue\u001b[0m\u001b[0;34m)\u001b[0m\u001b[0;34m\u001b[0m\u001b[0;34m\u001b[0m\u001b[0m\n\u001b[0m\u001b[1;32m   5183\u001b[0m \u001b[0;34m\u001b[0m\u001b[0m\n\u001b[1;32m   5184\u001b[0m     \u001b[0;32mdef\u001b[0m \u001b[0m_dir_additions\u001b[0m\u001b[0;34m(\u001b[0m\u001b[0mself\u001b[0m\u001b[0;34m)\u001b[0m\u001b[0;34m:\u001b[0m\u001b[0;34m\u001b[0m\u001b[0;34m\u001b[0m\u001b[0m\n",
            "\u001b[0;31mAttributeError\u001b[0m: can't set attribute"
          ]
        }
      ]
    },
    {
      "cell_type": "markdown",
      "metadata": {
        "id": "wquKfBo6Gt0s"
      },
      "source": [
        "> An AttributeError is thrown since ldf.created_at is read-only.\n",
        "\n",
        "*Notice that the to_csv() method in the original class was using the original created_at attribute. After converting the attribute into a property, you could replace the call to self.created_at with the call to the internal attribute that's attached to the property, or you could keep it as self.created_at, in which case you'll now be accessing the property. Either way works!*"
      ]
    }
  ]
}