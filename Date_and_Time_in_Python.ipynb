{
  "nbformat": 4,
  "nbformat_minor": 0,
  "metadata": {
    "colab": {
      "name": "Date and Time in Python.ipynb",
      "provenance": [],
      "collapsed_sections": [],
      "authorship_tag": "ABX9TyMbrxPZ4gQ5eITYDu0RxFB2",
      "include_colab_link": true
    },
    "kernelspec": {
      "name": "python3",
      "display_name": "Python 3"
    },
    "language_info": {
      "name": "python"
    }
  },
  "cells": [
    {
      "cell_type": "markdown",
      "metadata": {
        "id": "view-in-github",
        "colab_type": "text"
      },
      "source": [
        "<a href=\"https://colab.research.google.com/github/dataqueenpend/DS_From_Zero_To_Hero/blob/gh-pages/Date_and_Time_in_Python.ipynb\" target=\"_parent\"><img src=\"https://colab.research.google.com/assets/colab-badge.svg\" alt=\"Open In Colab\"/></a>"
      ]
    },
    {
      "cell_type": "markdown",
      "metadata": {
        "id": "LTGauyu9ufql"
      },
      "source": [
        "#Dates and times in Python\n",
        "Exercices, examples from Datacamp \n",
        "\n",
        "solved by me\n",
        "\n",
        "**Importing date, creating date object and checking day of the week**"
      ]
    },
    {
      "cell_type": "code",
      "metadata": {
        "colab": {
          "base_uri": "https://localhost:8080/"
        },
        "id": "GA5naYT-uvK3",
        "outputId": "2fd9a3e2-f572-4ae8-d008-5f7b22a5c65b"
      },
      "source": [
        "# Import date from datetime\n",
        "from datetime import date\n",
        "\n",
        "# Create a date object\n",
        "hurricane_andrew = date(1992, 8, 24)\n",
        "\n",
        "# Which day of the week is the date?\n",
        "print(hurricane_andrew.weekday())"
      ],
      "execution_count": null,
      "outputs": [
        {
          "output_type": "stream",
          "text": [
            "0\n"
          ],
          "name": "stdout"
        }
      ]
    },
    {
      "cell_type": "markdown",
      "metadata": {
        "id": "RJXWBHJIu1s8"
      },
      "source": [
        "Output returned '0', which means that date object is reffering to firstday of the week - Monday.\n",
        "\n",
        "---\n",
        "\n",
        "**Iterating through dates**\n",
        "```\n",
        "# Counter for how many before June 1\n",
        "early_hurricanes = 0\n",
        "\n",
        "# We loop over the dates\n",
        "for hurricane in florida_hurricane_dates:\n",
        "  # Check if the month is before June (month number 6)\n",
        "  if hurricane.month < 6:\n",
        "    early_hurricanes = early_hurricanes + 1\n",
        "    \n",
        "print(early_hurricanes)\n",
        "```\n",
        "\n",
        "---\n",
        "\n",
        "\n",
        "### Math with Dates\n",
        "\n",
        "**Subtracting Dates**\n",
        "\n",
        "* Import date from datetime.\n",
        "* Create a date object for May 9th, 2007, and assign it to the start variable.\n",
        "* Create a date object for December 13th, 2007, and assign it to the end variable.\n",
        "* Subtract start from end, to print the number of days in the resulting timedelta object.\n",
        "\n",
        "```\n",
        "# Import date\n",
        "from datetime import date\n",
        "\n",
        "# Create a date object for May 9th, 2007\n",
        "start = date(2007, 5, 9)\n",
        "\n",
        "# Create a date object for December 13th, 2007\n",
        "end = date(2007, 12, 13)\n",
        "\n",
        "# Subtract the two dates and print the number of days\n",
        "print((end- start).days)\n",
        "```\n",
        "\n",
        "**Counting events per calendar**\n",
        "\n",
        "* Within the for loop:\n",
        "* Assign month to be the month of that hurricane.\n",
        "* Increment hurricanes_each_month for the relevant month by 1.\n",
        "\n",
        "```\n",
        "# A dictionary to count hurricanes per calendar month\n",
        "hurricanes_each_month = {1: 0, 2: 0, 3: 0, 4: 0, 5: 0, 6:0,\n",
        "\t\t  \t\t\t\t 7: 0, 8:0, 9:0, 10:0, 11:0, 12:0}\n",
        "\n",
        "# Loop over all hurricanes\n",
        "for hurricane in florida_hurricane_dates:\n",
        "  # Pull out the month\n",
        "  month = hurricane.month\n",
        "  # Increment the count in your dictionary by one\n",
        "  hurricanes_each_month[month] += 1\n",
        "  \n",
        "print(hurricanes_each_month)\n",
        "```\n",
        "**Sorting the list of dates**\n",
        "\n",
        "* Print the first and last dates in dates_scrambled.\n",
        "\n",
        "```\n",
        "# Print the first and last scrambled dates\n",
        "print(dates_scrambled[0])\n",
        "print(dates_scrambled[-1])\n",
        "```\n",
        "```\n",
        "<script.py> output:\n",
        "    1988-08-04\n",
        "    2011-07-18\n",
        "```\n",
        "\n",
        "* Sort dates_scrambled using Python's built-in sorted() method, and save the results to dates_ordered.\n",
        "* Print the first and last dates in dates_ordered.\n",
        "\n",
        "```\n",
        "# Print the first and last scrambled dates\n",
        "print(dates_scrambled[0])\n",
        "print(dates_scrambled[-1])\n",
        "\n",
        "# Put the dates in order\n",
        "dates_ordered = sorted(dates_scrambled)\n",
        "\n",
        "# Print the first and last ordered dates\n",
        "print(dates_ordered[0])\n",
        "print(dates_ordered[-1])\n",
        "```\n",
        "\n",
        "```\n",
        "<script.py> output:\n",
        "    1988-08-04\n",
        "    2011-07-18\n",
        "    1950-08-31\n",
        "    2017-10-29\n",
        "```\n",
        "---"
      ]
    },
    {
      "cell_type": "markdown",
      "metadata": {
        "id": "Uwu0_zj84WeU"
      },
      "source": [
        "### Turning dates into strings\n",
        "\n",
        "Because dates are worldwide printed in couple of different formats, it is good to know a method, which allows us to transform data in these formats. \n",
        "\n",
        "For doing so, we need to turn ```date``` object into string and style the date according to our need with ```.strftime()```.\n",
        "\n",
        "* Assign the earliest date in florida_hurricane_dates to first_date.\n",
        "* Print first_date in the ISO standard. For example, December 1st, 2000 would be \"2000-12-01\".\n",
        "* Print first_date in the US style, using .strftime(). For example, December 1st, 2000 would be \"12/1/2000\" .\n",
        "\n",
        "```\n",
        "# Assign the earliest date to first_date\n",
        "first_date = min(florida_hurricane_dates)\n",
        "\n",
        "# Convert to ISO and US formats\n",
        "iso = \"Our earliest hurricane date: \" + first_date.isoformat()\n",
        "us = \"Our earliest hurricane date: \" + first_date.strftime(\"%m/%d/%Y\")\n",
        "\n",
        "print(\"ISO: \" + iso)\n",
        "print(\"US: \" + us)\n",
        "```\n",
        "\n",
        "\n",
        "**Converting dates to different formats**\n",
        "\n",
        "* Print andrew in the format 'YYYY-MM'.\n",
        "\n",
        "```\n",
        "# Import date\n",
        "from datetime import date\n",
        "\n",
        "# Create a date object\n",
        "andrew = date(1992, 8, 26)\n",
        "\n",
        "# Print the date in the format 'YYYY-MM'\n",
        "print(andrew.strftime('%Y-%m'))\n",
        "```\n",
        "\n",
        "* Print andrew in the format 'MONTH (YYYY)', using %B for the month's full name, which in this case will be August.\n",
        "\n",
        "```\n",
        "# Import date\n",
        "from datetime import date\n",
        "\n",
        "# Create a date object\n",
        "andrew = date(1992, 8, 26)\n",
        "\n",
        "# Print the date in the format 'MONTH (YYYY)'\n",
        "print(andrew.strftime('%B (%Y)'))\n",
        "```\n",
        "\n",
        "* Print andrew in the format 'YYYY-DDD' (where DDD is the day of the year) using %j.\n",
        "\n",
        "```\n",
        "# Import date\n",
        "from datetime import date\n",
        "\n",
        "# Create a date object\n",
        "andrew = date(1992, 8, 26)\n",
        "\n",
        "# Print the date in the format 'YYYY-DDD'\n",
        "print(andrew.strftime('%Y-%j'))\n",
        "```\n"
      ]
    },
    {
      "cell_type": "markdown",
      "metadata": {
        "id": "U8jfB3Pu9123"
      },
      "source": [
        "\n",
        "\n",
        "---\n",
        "## Combining Date and Time\n",
        "\n",
        "**Creating datetime object manually**\n",
        "\n",
        "* Import the datetime class.\n",
        "* Create a datetime for October 1, 2017 at 15:26:26.\n",
        "* Print the results in ISO format.\n",
        "\n"
      ]
    },
    {
      "cell_type": "code",
      "metadata": {
        "colab": {
          "base_uri": "https://localhost:8080/"
        },
        "id": "36gktU71_uLF",
        "outputId": "f0a89da9-78a4-48d0-d3e6-f2b6abd106a4"
      },
      "source": [
        "# Import datetime\n",
        "from datetime import datetime\n",
        "\n",
        "# Create a datetime object\n",
        "dt = datetime(2017, 10, 1, 15, 26, 26)\n",
        "\n",
        "# Print the results in ISO 8601 format\n",
        "print(dt.isoformat())"
      ],
      "execution_count": 1,
      "outputs": [
        {
          "output_type": "stream",
          "text": [
            "2017-10-01T15:26:26\n"
          ],
          "name": "stdout"
        }
      ]
    },
    {
      "cell_type": "markdown",
      "metadata": {
        "id": "3h6lX0m6_z0c"
      },
      "source": [
        "* Import the datetime class.\n",
        "* Create a datetime for December 31, 2017 at 15:19:13.\n",
        "* Print the results in ISO format."
      ]
    },
    {
      "cell_type": "code",
      "metadata": {
        "colab": {
          "base_uri": "https://localhost:8080/"
        },
        "id": "Hf7RmO0NAGUU",
        "outputId": "50232761-370b-46be-8027-278368deb738"
      },
      "source": [
        "# Import datetime\n",
        "from datetime import datetime\n",
        "\n",
        "# Create a datetime object\n",
        "dt = datetime(2017, 12, 31, 15, 19, 13)\n",
        "\n",
        "# Print the results in ISO 8601 format\n",
        "print(dt.isoformat())"
      ],
      "execution_count": 2,
      "outputs": [
        {
          "output_type": "stream",
          "text": [
            "2017-12-31T15:19:13\n"
          ],
          "name": "stdout"
        }
      ]
    },
    {
      "cell_type": "markdown",
      "metadata": {
        "id": "3f2n9QUmAH4E"
      },
      "source": [
        "* Create a new datetime by replacing the year in dt with 1917 (instead of 2017)"
      ]
    },
    {
      "cell_type": "code",
      "metadata": {
        "id": "3WqzF4ETAK67"
      },
      "source": [
        "# Import datetime\n",
        "from datetime import datetime\n",
        "\n",
        "# Create a datetime object\n",
        "dt = datetime(2017, 12, 31, 15, 19, 13)\n",
        "\n",
        "# Replace the year with 1917\n",
        "dt_old = dt.replace(year=1917)\n",
        "\n",
        "# Print the results in ISO 8601 format\n",
        "print(dt_old)"
      ],
      "execution_count": null,
      "outputs": []
    },
    {
      "cell_type": "markdown",
      "metadata": {
        "id": "ANa8QkMFAVd8"
      },
      "source": [
        "**Counting events by time and date**\n",
        "\n",
        "* Within the for loop, complete the if statement to check if the trip started before noon.\n",
        "* Within the for loop, increment trip_counts['AM'] if the trip started before noon, and trip_counts['PM'] if it started after noon.\n",
        "\n",
        "```\n",
        "# Create dictionary to hold results\n",
        "trip_counts = {'AM': 0, 'PM': 0}\n",
        "  \n",
        "# Loop over all trips\n",
        "for trip in onebike_datetimes:\n",
        "  # Check to see if the trip starts before noon\n",
        "  if trip['start'].hour < 12:\n",
        "    # Increment the counter for before noon\n",
        "    trip_counts['AM'] += 1\n",
        "  else:\n",
        "    # Increment the counter for after noon\n",
        "    trip_counts['PM'] += 1\n",
        "  \n",
        "print(trip_counts)\n",
        "```\n",
        "\n",
        "**Printing and parsing datetimes**\n",
        "\n",
        "Transforming strings into datetimes objects. \n",
        "\n",
        "* Determine the format needed to convert s to datetime and assign it to fmt.\n",
        "* Convert the string s to datetime using fmt.\n",
        "\n",
        "```\n",
        "# Import the datetime class\n",
        "from datetime import datetime\n",
        "\n",
        "# Starting string, in YYYY-MM-DD HH:MM:SS format\n",
        "s = '2017-02-03 00:00:01'\n",
        "\n",
        "# Write a format string to parse s\n",
        "fmt = '%Y-%m-%d %H:%M:%S'\n",
        "\n",
        "# Create a datetime object d\n",
        "d = datetime.strptime(s, fmt)\n",
        "\n",
        "# Print d\n",
        "print(d)\n",
        "\n",
        "```\n",
        "\n",
        "* Determine the format needed to convert s to datetime and assign it to fmt.\n",
        "* Convert the string s to datetime using fmt.\n",
        "\n"
      ]
    },
    {
      "cell_type": "code",
      "metadata": {
        "colab": {
          "base_uri": "https://localhost:8080/"
        },
        "id": "DnSzvGIxJ4rg",
        "outputId": "b8c7cedf-de42-4390-ea34-6d64e66fc05a"
      },
      "source": [
        "# Import the datetime class\n",
        "from datetime import datetime\n",
        "\n",
        "# Starting string, in YYYY-MM-DD format\n",
        "s = '2030-10-15'\n",
        "\n",
        "# Write a format string to parse s\n",
        "fmt = '%Y-%m-%d'\n",
        "\n",
        "# Create a datetime object d\n",
        "d = datetime.strptime(s, fmt)\n",
        "\n",
        "# Print d\n",
        "print(d)"
      ],
      "execution_count": 3,
      "outputs": [
        {
          "output_type": "stream",
          "text": [
            "2030-10-15 00:00:00\n"
          ],
          "name": "stdout"
        }
      ]
    },
    {
      "cell_type": "markdown",
      "metadata": {
        "id": "7wc0g4UHJ7hv"
      },
      "source": [
        "* Determine the format needed to convert s to datetime and assign it to fmt.\n",
        "* Convert the string s to datetime using fmt."
      ]
    },
    {
      "cell_type": "code",
      "metadata": {
        "colab": {
          "base_uri": "https://localhost:8080/"
        },
        "id": "ONugdsmPJ-o7",
        "outputId": "b9b97132-69f7-4cb9-d05c-85a199b91072"
      },
      "source": [
        "# Import the datetime class\n",
        "from datetime import datetime\n",
        "\n",
        "# Starting string, in MM/DD/YYYY HH:MM:SS format\n",
        "s = '12/15/1986 08:00:00'\n",
        "\n",
        "# Write a format string to parse s\n",
        "fmt = '%m/%d/%Y %H:%M:%S'\n",
        "\n",
        "# Create a datetime object d\n",
        "d = datetime.strptime(s, fmt)\n",
        "\n",
        "# Print d\n",
        "print(d)"
      ],
      "execution_count": 4,
      "outputs": [
        {
          "output_type": "stream",
          "text": [
            "1986-12-15 08:00:00\n"
          ],
          "name": "stdout"
        }
      ]
    },
    {
      "cell_type": "markdown",
      "metadata": {
        "id": "LuLaIY3oK94u"
      },
      "source": [
        "**Parsing pairs of strings as datetimes**\n",
        "\n",
        "* Outside the for loop, fill out the fmt string with the correct parsing format for the data.\n",
        "* Within the for loop, parse the start and end strings into the trip dictionary with start and end keys and datetime objects for values.\n",
        "\n",
        "```\n",
        "# Write down the format string\n",
        "fmt = \"%Y-%m-%d %H:%M:%S\"\n",
        "\n",
        "# Initialize a list for holding the pairs of datetime objects\n",
        "onebike_datetimes = []\n",
        "\n",
        "# Loop over all trips\n",
        "for (start, end) in onebike_datetime_strings:\n",
        "  trip = {'start': datetime.strptime(start, fmt),\n",
        "          'end': datetime.strptime(end, fmt)}\n",
        "  \n",
        "  # Append the trip\n",
        "  onebike_datetimes.append(trip)\n",
        "```\n",
        "**Recreating ISO format with strftime()**\n",
        "\n",
        "* Complete fmt to match the format of ISO 8601.\n",
        "* Print first_start with both .isoformat() and .strftime(); they should match.\n",
        "\n",
        "```\n",
        "# Import datetime\n",
        "from datetime import datetime\n",
        "\n",
        "# Pull out the start of the first trip\n",
        "first_start = onebike_datetimes[0]['start']\n",
        "\n",
        "# Format to feed to strftime()\n",
        "fmt = \"%Y-%m-%dT%H:%M:%S\"\n",
        "\n",
        "# Print out date with .isoformat(), then with .strftime() to compare\n",
        "print(first_start.isoformat())\n",
        "print(first_start.strftime(fmt))\n",
        "```\n",
        "\n",
        "**Unix timestamps**\n",
        "\n",
        "* Complete the for loop to loop over timestamps.\n",
        "* Complete the code to turn each timestamp ts into a datetime.\n",
        "\n"
      ]
    },
    {
      "cell_type": "code",
      "metadata": {
        "colab": {
          "base_uri": "https://localhost:8080/"
        },
        "id": "bdvJXBQiNnbh",
        "outputId": "3494a7e9-3537-4e30-c6ff-3d05c91b5b2d"
      },
      "source": [
        "# Import datetime\n",
        "from datetime import datetime\n",
        "\n",
        "# Starting timestamps\n",
        "timestamps = [1514665153, 1514664543]\n",
        "\n",
        "# Datetime objects\n",
        "dts = []\n",
        "\n",
        "# Loop\n",
        "for ts in timestamps:\n",
        "  dts.append(datetime.fromtimestamp(ts))\n",
        "  \n",
        "# Print results\n",
        "print(dts)"
      ],
      "execution_count": 5,
      "outputs": [
        {
          "output_type": "stream",
          "text": [
            "[datetime.datetime(2017, 12, 30, 20, 19, 13), datetime.datetime(2017, 12, 30, 20, 9, 3)]\n"
          ],
          "name": "stdout"
        }
      ]
    },
    {
      "cell_type": "markdown",
      "metadata": {
        "id": "hUqomg2LOQrg"
      },
      "source": [
        "**Working with durations**\n",
        "\n",
        "How much time passed between two time events?\n",
        "\n",
        "* Within the loop:\n",
        "* Use arithmetic on the start and end elements to find the length of the trip\n",
        "* Save the results to trip_duration.\n",
        "* Calculate trip_length_seconds from trip_duration.\n",
        "\n",
        "```\n",
        "# Initialize a list for all the trip durations\n",
        "onebike_durations = []\n",
        "\n",
        "for trip in onebike_datetimes:\n",
        "  # Create a timedelta object corresponding to the length of the trip\n",
        "  trip_duration = trip['end'] - trip['start']\n",
        "  \n",
        "  # Get the total elapsed seconds in trip_duration\n",
        "  trip_length_seconds = trip_duration.total_seconds()\n",
        "  \n",
        "  # Append the results to our list\n",
        "  onebike_durations.append(trip_length_seconds)\n",
        "```\n",
        "\n",
        "**Calculating average time**\n",
        "\n",
        "* Calculate total_elapsed_time across all trips in onebike_durations.\n",
        "* Calculate number_of_trips for onebike_durations.\n",
        "* Divide total_elapsed_time by number_of_trips to get the average trip length.\n",
        "\n",
        "```\n",
        "# What was the total duration of all trips?\n",
        "total_elapsed_time = sum(onebike_durations)\n",
        "\n",
        "# What was the total number of trips?\n",
        "number_of_trips = len(onebike_durations)\n",
        "  \n",
        "# Divide the total duration by the number of trips\n",
        "print(total_elapsed_time/ number_of_trips)\n",
        "```\n",
        "\n",
        "**The longest and shortest time event**\n",
        "\n",
        "* Calculate shortest_trip from onebike_durations.\n",
        "* Calculate longest_trip from onebike_durations.\n",
        "* Print the results, turning shortest_trip and longest_trip into strings so they can print.\n",
        "\n",
        "```\n",
        "# Calculate shortest and longest trips\n",
        "shortest_trip = min(onebike_durations)\n",
        "longest_trip = max(onebike_durations)\n",
        "\n",
        "# Print out the results\n",
        "print(\"The shortest trip was \" + str(shortest_trip) + \" seconds\")\n",
        "print(\"The longest trip was \" + str(longest_trip) + \" seconds\")\n",
        "```\n",
        "---"
      ]
    },
    {
      "cell_type": "markdown",
      "metadata": {
        "id": "MNDSTsKQUYBa"
      },
      "source": [
        "## Timezones and daylight saving"
      ]
    }
  ]
}