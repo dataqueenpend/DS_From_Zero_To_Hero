{
  "nbformat": 4,
  "nbformat_minor": 0,
  "metadata": {
    "colab": {
      "name": "DS_ Python_toolset.ipynb",
      "provenance": [],
      "collapsed_sections": [],
      "authorship_tag": "ABX9TyMWXGOtt9wddSEW64bx7GsE",
      "include_colab_link": true
    },
    "kernelspec": {
      "name": "python3",
      "display_name": "Python 3"
    },
    "language_info": {
      "name": "python"
    }
  },
  "cells": [
    {
      "cell_type": "markdown",
      "metadata": {
        "id": "view-in-github",
        "colab_type": "text"
      },
      "source": [
        "<a href=\"https://colab.research.google.com/github/dataqueenpend/DS_From_Zero_To_Hero/blob/gh-pages/DS__Python_toolset.ipynb\" target=\"_parent\"><img src=\"https://colab.research.google.com/assets/colab-badge.svg\" alt=\"Open In Colab\"/></a>"
      ]
    },
    {
      "cell_type": "markdown",
      "metadata": {
        "id": "YljxjUNlRTmI"
      },
      "source": [
        "**Lambda Functions**\n",
        "\n",
        "---\n",
        "\n"
      ]
    },
    {
      "cell_type": "markdown",
      "metadata": {
        "id": "kqMOCWg4Ru4H"
      },
      "source": [
        "*A quicker way to write functions in Python*\n",
        "\n",
        "For writing Function with lambda we use:\n",
        "\n",
        "1.   Lambda function\n",
        "2.   Specify name(s) of the arguments\n",
        "3.   Then we use a colon and...\n",
        "4.   Specify the expression what we wish the function to return. \n",
        "\n",
        "\n",
        "\n"
      ]
    },
    {
      "cell_type": "markdown",
      "metadata": {
        "id": "9Uh0je0RYtGw"
      },
      "source": [
        ""
      ]
    },
    {
      "cell_type": "code",
      "metadata": {
        "colab": {
          "base_uri": "https://localhost:8080/"
        },
        "id": "GZpmlN6WRs8k",
        "outputId": "4d411360-41b8-406b-94e3-450919c6cdbf"
      },
      "source": [
        "raise_to_power = lambda x, y: x ** y\n",
        "raise_to_power(2,3) "
      ],
      "execution_count": null,
      "outputs": [
        {
          "output_type": "execute_result",
          "data": {
            "text/plain": [
              "8"
            ]
          },
          "metadata": {
            "tags": []
          },
          "execution_count": 1
        }
      ]
    },
    {
      "cell_type": "markdown",
      "metadata": {
        "id": "kUV8_WD4TZFR"
      },
      "source": [
        "**When to use Lambda function?**\n",
        "It is not advisible to use Lambda function all the time. They allow to define a function quickly, but they are a bit of dirty part of the code. \n",
        "\n",
        "\n",
        "---\n",
        "\n",
        "\n",
        "\n",
        "**Anonymous functions**\n",
        "For example map function that takes two arguments, and a sequence (f.e. list), and applies the function on all elements of the given sequence. \n",
        "\n",
        "**Why lambda function is useful here?** Because we can pass lambda functions to map without even naming them. Because of that, we call them anonymous functions. "
      ]
    },
    {
      "cell_type": "code",
      "metadata": {
        "colab": {
          "base_uri": "https://localhost:8080/"
        },
        "id": "tAFxDKrOXpai",
        "outputId": "79541bd1-a091-470a-b07f-4b7e2ddba0d4"
      },
      "source": [
        "nums = [48,6,9,4]\n",
        "square_all = map(lambda num: num **2, nums)\n",
        "\n",
        "print(square_all)"
      ],
      "execution_count": null,
      "outputs": [
        {
          "output_type": "stream",
          "text": [
            "<map object at 0x7f71f3b90450>\n"
          ],
          "name": "stdout"
        }
      ]
    },
    {
      "cell_type": "markdown",
      "metadata": {
        "id": "4EctoClNYJp_"
      },
      "source": [
        "Printing square_all reveals that this is a square object. \n",
        "\n",
        "If we want to see what this object contains, we need to print it as a list. \n",
        "Like this:"
      ]
    },
    {
      "cell_type": "code",
      "metadata": {
        "colab": {
          "base_uri": "https://localhost:8080/"
        },
        "id": "bRIiHACbYd5g",
        "outputId": "a04b8737-7b85-478e-fdd8-ca52a14812ff"
      },
      "source": [
        "print(list(square_all))"
      ],
      "execution_count": null,
      "outputs": [
        {
          "output_type": "stream",
          "text": [
            "[2304, 36, 81, 16]\n"
          ],
          "name": "stdout"
        }
      ]
    },
    {
      "cell_type": "markdown",
      "metadata": {
        "id": "vwanX-m2Yu-q"
      },
      "source": [
        "Now - as you can see - square_all, contains elements of the nums list squared with a lambda functions we created. \n",
        "\n",
        "---\n",
        "\n",
        "\n",
        "\n",
        "---\n",
        "**Exercices!**\n",
        "\n",
        "Pop quiz on lambda functions\n",
        "In this exercise, you will practice writing a simple lambda function and calling this function. Recall what you know about lambda functions and answer the following questions:\n",
        "\n",
        "How would you write a lambda function add_bangs that adds three exclamation points '!!!' to the end of a string a?\n",
        "How would you call add_bangs with the argument 'hello'?\n"
      ]
    },
    {
      "cell_type": "code",
      "metadata": {
        "colab": {
          "base_uri": "https://localhost:8080/",
          "height": 35
        },
        "id": "a4iPGnyBaNEa",
        "outputId": "4c22179c-c9e8-40c6-fd10-0e5dc1353088"
      },
      "source": [
        "add_bangs = (lambda a: a+'!!!')\n",
        "add_bangs('hello')"
      ],
      "execution_count": null,
      "outputs": [
        {
          "output_type": "execute_result",
          "data": {
            "application/vnd.google.colaboratory.intrinsic+json": {
              "type": "string"
            },
            "text/plain": [
              "'hello!!!'"
            ]
          },
          "metadata": {
            "tags": []
          },
          "execution_count": 5
        }
      ]
    },
    {
      "cell_type": "markdown",
      "metadata": {
        "id": "dKAoqdWHOqd5"
      },
      "source": [
        "\n",
        "\n",
        "---\n",
        "\n",
        "**Exercise #2**\n",
        "\n",
        "Modify following function into lambda function:"
      ]
    },
    {
      "cell_type": "code",
      "metadata": {
        "id": "9g7Wy_IvO5xR"
      },
      "source": [
        "def echo_word(word1, echo):\n",
        "    \"\"\"Concatenate echo copies of word1.\"\"\"\n",
        "    words = word1 * echo\n",
        "    return words"
      ],
      "execution_count": null,
      "outputs": []
    },
    {
      "cell_type": "code",
      "metadata": {
        "id": "_ito3kAVO83H",
        "colab": {
          "base_uri": "https://localhost:8080/"
        },
        "outputId": "645964a6-e026-4b3f-d308-ad2946a7992f"
      },
      "source": [
        "# Define echo_word as a lambda function: echo_word\n",
        "echo_word = (lambda word1, echo: word1 * echo)\n",
        "\n",
        "# Call echo_word: result\n",
        "result = echo_word('hey', 5)\n",
        "\n",
        "# Print result\n",
        "print(result)"
      ],
      "execution_count": null,
      "outputs": [
        {
          "output_type": "stream",
          "text": [
            "heyheyheyheyhey\n"
          ],
          "name": "stdout"
        }
      ]
    },
    {
      "cell_type": "markdown",
      "metadata": {
        "id": "ru_mW0BdPNmY"
      },
      "source": [
        "\n",
        "\n",
        "---\n",
        "\n",
        "**Exercise #3 - map() and lambda function**\n",
        "\n",
        "Best use for lambda function is for creating functions with anonymously embedded expressions (as in previous example). Which means that those larger expressions are not stored in the function itself. Unlike in the def created functions. "
      ]
    },
    {
      "cell_type": "code",
      "metadata": {
        "id": "sPR6JJb7RLha"
      },
      "source": [
        "# Create a list of strings: spells\n",
        "spells = [\"protego\", \"accio\", \"expecto patronum\", \"legilimens\"]\n",
        "\n",
        "# Use map() to apply a lambda function over spells: shout_spells\n",
        "shout_spells = map(lambda item: item + '!!!', spells)\n",
        "\n",
        "# Convert shout_spells to a list: shout_spells_list\n",
        "shout_spells_list = list(shout_spells)\n",
        "\n",
        "# Print the result\n",
        "print(shout_spells_list)"
      ],
      "execution_count": null,
      "outputs": []
    },
    {
      "cell_type": "markdown",
      "metadata": {
        "id": "SMDryGvyRPfH"
      },
      "source": [
        "\n",
        "\n",
        "---\n",
        "**Exercise #4 - filter() and lambda function**\n",
        "\n",
        "Creating a lambda function with filter(), we can filter the elemnts from the list, which does not meet our criteria.\n",
        "\n",
        "In this exercise we will use filter() on input list of strings, to create new list with strings that have more than 6 characters. \n"
      ]
    },
    {
      "cell_type": "code",
      "metadata": {
        "colab": {
          "base_uri": "https://localhost:8080/"
        },
        "id": "LHEtiAsv9Zu9",
        "outputId": "070f9d8b-7ab6-43f9-9f91-5be7ac873b90"
      },
      "source": [
        "# Create a list of strings: fellowship\n",
        "fellowship = ['frodo', 'samwise', 'merry', 'pippin', 'aragorn', 'boromir', 'legolas', 'gimli', 'gandalf']\n",
        "\n",
        "# Use filter() to apply a lambda function over fellowship: result\n",
        "result = filter(lambda member: len(member)>6, fellowship)\n",
        "\n",
        "# Convert result to a list: result_list\n",
        "result_list = list(result)\n",
        "\n",
        "# Print result_list\n",
        "print(result_list)"
      ],
      "execution_count": null,
      "outputs": [
        {
          "output_type": "stream",
          "text": [
            "['samwise', 'aragorn', 'boromir', 'legolas', 'gandalf']\n"
          ],
          "name": "stdout"
        }
      ]
    },
    {
      "cell_type": "markdown",
      "metadata": {
        "id": "W37iAPhs9f4j"
      },
      "source": [
        "\n",
        "\n",
        "---\n",
        "\n",
        "**Exercise #5 - reduce() and lambda functions**\n",
        "\n",
        "Reduce can be useful when we want to perform some computation on a list. Unlike filter() and map() it returns single element. Not a list. \n",
        "\n",
        "For using reduce() function we need to **import** it **from functools module** first. "
      ]
    },
    {
      "cell_type": "code",
      "metadata": {
        "id": "qZTV-VPx-qw6"
      },
      "source": [
        "# Import reduce from functools\n",
        "from functools import reduce\n",
        "\n",
        "# Create a list of strings: stark\n",
        "stark = ['robb', 'sansa', 'arya', 'brandon', 'rickon']\n",
        "\n",
        "# Use reduce() to apply a lambda function over stark: result\n",
        "result = reduce(lambda item1, item2: item1+item2, stark)\n",
        "\n",
        "# Print the result\n",
        "print(result)"
      ],
      "execution_count": null,
      "outputs": []
    },
    {
      "cell_type": "markdown",
      "metadata": {
        "id": "kwHB4E6v-1ny"
      },
      "source": [
        "\n",
        "\n",
        "---\n",
        "\n",
        "\n",
        "\n",
        "---\n",
        "\n",
        "\n",
        "\n",
        "---\n",
        "**Introduction to error handling**\n",
        "\n",
        "Using a function incorectly, should result in throwing an error. For example:\n",
        "\n",
        "If you pass as an parameter that function is not programmed to manage, Python will respond with error. \n"
      ]
    },
    {
      "cell_type": "code",
      "metadata": {
        "colab": {
          "base_uri": "https://localhost:8080/"
        },
        "id": "xoInTBQdrmyH",
        "outputId": "f29853c4-f65b-4726-d4a2-3967ce9d0e42"
      },
      "source": [
        "float(2)"
      ],
      "execution_count": null,
      "outputs": [
        {
          "output_type": "execute_result",
          "data": {
            "text/plain": [
              "2.0"
            ]
          },
          "metadata": {
            "tags": []
          },
          "execution_count": 1
        }
      ]
    },
    {
      "cell_type": "markdown",
      "metadata": {
        "id": "hZnjcCxhr3uW"
      },
      "source": [
        "Correct using of the function above.\n",
        "\n",
        "Incorrect use of the function below."
      ]
    },
    {
      "cell_type": "code",
      "metadata": {
        "colab": {
          "base_uri": "https://localhost:8080/",
          "height": 181
        },
        "id": "HUY0AugXrpJl",
        "outputId": "c6354858-8ed8-4a28-ef6a-37388d668141"
      },
      "source": [
        "float(2,3)\n"
      ],
      "execution_count": null,
      "outputs": [
        {
          "output_type": "error",
          "ename": "TypeError",
          "evalue": "ignored",
          "traceback": [
            "\u001b[0;31m---------------------------------------------------------------------------\u001b[0m",
            "\u001b[0;31mTypeError\u001b[0m                                 Traceback (most recent call last)",
            "\u001b[0;32m<ipython-input-2-af3957516e4a>\u001b[0m in \u001b[0;36m<module>\u001b[0;34m()\u001b[0m\n\u001b[0;32m----> 1\u001b[0;31m \u001b[0mfloat\u001b[0m\u001b[0;34m(\u001b[0m\u001b[0;36m2\u001b[0m\u001b[0;34m,\u001b[0m\u001b[0;36m3\u001b[0m\u001b[0;34m)\u001b[0m\u001b[0;34m\u001b[0m\u001b[0;34m\u001b[0m\u001b[0m\n\u001b[0m\u001b[1;32m      2\u001b[0m \u001b[0mfloat\u001b[0m\u001b[0;34m(\u001b[0m\u001b[0;34m'Hello'\u001b[0m\u001b[0;34m)\u001b[0m\u001b[0;34m\u001b[0m\u001b[0;34m\u001b[0m\u001b[0m\n",
            "\u001b[0;31mTypeError\u001b[0m: float expected at most 1 arguments, got 2"
          ]
        }
      ]
    },
    {
      "cell_type": "code",
      "metadata": {
        "colab": {
          "base_uri": "https://localhost:8080/",
          "height": 164
        },
        "id": "3Hke3Egmrt6c",
        "outputId": "82152be0-dedb-4584-be53-0401a18d2585"
      },
      "source": [
        "float('Hello')\n"
      ],
      "execution_count": null,
      "outputs": [
        {
          "output_type": "error",
          "ename": "ValueError",
          "evalue": "ignored",
          "traceback": [
            "\u001b[0;31m---------------------------------------------------------------------------\u001b[0m",
            "\u001b[0;31mValueError\u001b[0m                                Traceback (most recent call last)",
            "\u001b[0;32m<ipython-input-3-62e6d411d8e4>\u001b[0m in \u001b[0;36m<module>\u001b[0;34m()\u001b[0m\n\u001b[0;32m----> 1\u001b[0;31m \u001b[0mfloat\u001b[0m\u001b[0;34m(\u001b[0m\u001b[0;34m'Hello'\u001b[0m\u001b[0;34m)\u001b[0m\u001b[0;34m\u001b[0m\u001b[0;34m\u001b[0m\u001b[0m\n\u001b[0m",
            "\u001b[0;31mValueError\u001b[0m: could not convert string to float: 'Hello'"
          ]
        }
      ]
    },
    {
      "cell_type": "markdown",
      "metadata": {
        "id": "WgUOt7CUsEqm"
      },
      "source": [
        "**Why it has occurred?** Because float() function is programmed to take in and convert to float, only a number (string, integer).\n",
        "\n",
        "\n",
        "\n",
        "---\n",
        "\n",
        "**Passing invalid arguments**\n",
        "\n",
        "When writing a function. We should provide useful error messages for the use, that can help him/her_ to easly resolve prompted issue. \n",
        "\n",
        "\n",
        "```\n",
        "# TypeError                                 Traceback (most recent call last)\n",
        "<ipython-input-2-af3957516e4a> in <module>()\n",
        "----> 1 float(2,3)\n",
        "\n",
        "TypeError: float expected at most 1 arguments, got 2\n",
        "```\n",
        "\n",
        "\n",
        "\n",
        "Type error, as seen above, sometimes will not provide useful and easy to read information on how to use the function properly. \n",
        "\n",
        "\n",
        "\n",
        "---\n",
        "\n",
        "\n",
        "**Errors and exceptions**\n",
        "\n",
        "There are multiple error and exceptions that can occur while code execution. One of them is **Exception.**\n",
        "\n",
        "**How to catch exception?** The main way is to try-except clause. Python tries to run the code following the try. If it runs, all is going according to the written function. But if something is odd, it runs another code. The one following except.  \n",
        "\n",
        "\n",
        "---\n",
        "Now we rewrite squareroot function, to cath an exception. \n"
      ]
    },
    {
      "cell_type": "code",
      "metadata": {
        "colab": {
          "base_uri": "https://localhost:8080/"
        },
        "id": "jC1afuL_2Xxg",
        "outputId": "40354e0d-be04-4a65-e5ba-9d7b36c66e6b"
      },
      "source": [
        "def sqrt(x):\n",
        "  \"\"\"Returns the square root of a number.\"\"\"\n",
        "  try:\n",
        "    return x ** 0.5\n",
        "  except:\n",
        "    print('Provide an int or float.')\n",
        "\n",
        "print(sqrt(3))"
      ],
      "execution_count": null,
      "outputs": [
        {
          "output_type": "stream",
          "text": [
            "1.7320508075688772\n"
          ],
          "name": "stdout"
        }
      ]
    },
    {
      "cell_type": "markdown",
      "metadata": {
        "id": "VhicdGiS3V7o"
      },
      "source": [
        "\n",
        "\n",
        "---\n",
        "\n",
        "For more exception error info go to Python documentation available online. \n",
        "\n",
        "\n",
        "**Raising an error**\n",
        "\n",
        "If you want, instead of just printing an error to user, raise an error. You can do so by using a keyword raise. \n",
        "\n",
        "Defining a function that doesn't work for negative numbers using raise:"
      ]
    },
    {
      "cell_type": "code",
      "metadata": {
        "colab": {
          "base_uri": "https://localhost:8080/",
          "height": 317
        },
        "id": "lQMeoJTM4gSX",
        "outputId": "d099b6d1-094b-46a9-eb89-73abd1857d8e"
      },
      "source": [
        "def sqrt(x):\n",
        "  \"\"\"Returns the square root of a number.\"\"\"\n",
        "  if x < 0:\n",
        "    raise ValueError('Provide non-negative number')\n",
        "  try:\n",
        "    return x ** 0.5\n",
        "  except TypeError:\n",
        "    print('Provide an int or float.')\n",
        "\n",
        "print(sqrt('-3'))"
      ],
      "execution_count": null,
      "outputs": [
        {
          "output_type": "error",
          "ename": "TypeError",
          "evalue": "ignored",
          "traceback": [
            "\u001b[0;31m---------------------------------------------------------------------------\u001b[0m",
            "\u001b[0;31mTypeError\u001b[0m                                 Traceback (most recent call last)",
            "\u001b[0;32m<ipython-input-14-25e4c38d2f7a>\u001b[0m in \u001b[0;36m<module>\u001b[0;34m()\u001b[0m\n\u001b[1;32m      8\u001b[0m     \u001b[0mprint\u001b[0m\u001b[0;34m(\u001b[0m\u001b[0;34m'Provide an int or float.'\u001b[0m\u001b[0;34m)\u001b[0m\u001b[0;34m\u001b[0m\u001b[0;34m\u001b[0m\u001b[0m\n\u001b[1;32m      9\u001b[0m \u001b[0;34m\u001b[0m\u001b[0m\n\u001b[0;32m---> 10\u001b[0;31m \u001b[0mprint\u001b[0m\u001b[0;34m(\u001b[0m\u001b[0msqrt\u001b[0m\u001b[0;34m(\u001b[0m\u001b[0;34m'-3'\u001b[0m\u001b[0;34m)\u001b[0m\u001b[0;34m)\u001b[0m\u001b[0;34m\u001b[0m\u001b[0;34m\u001b[0m\u001b[0m\n\u001b[0m",
            "\u001b[0;32m<ipython-input-14-25e4c38d2f7a>\u001b[0m in \u001b[0;36msqrt\u001b[0;34m(x)\u001b[0m\n\u001b[1;32m      1\u001b[0m \u001b[0;32mdef\u001b[0m \u001b[0msqrt\u001b[0m\u001b[0;34m(\u001b[0m\u001b[0mx\u001b[0m\u001b[0;34m)\u001b[0m\u001b[0;34m:\u001b[0m\u001b[0;34m\u001b[0m\u001b[0;34m\u001b[0m\u001b[0m\n\u001b[1;32m      2\u001b[0m   \u001b[0;34m\"\"\"Returns the square root of a number.\"\"\"\u001b[0m\u001b[0;34m\u001b[0m\u001b[0;34m\u001b[0m\u001b[0m\n\u001b[0;32m----> 3\u001b[0;31m   \u001b[0;32mif\u001b[0m \u001b[0mx\u001b[0m \u001b[0;34m<\u001b[0m \u001b[0;36m0\u001b[0m\u001b[0;34m:\u001b[0m\u001b[0;34m\u001b[0m\u001b[0;34m\u001b[0m\u001b[0m\n\u001b[0m\u001b[1;32m      4\u001b[0m     \u001b[0;32mraise\u001b[0m \u001b[0mValueError\u001b[0m\u001b[0;34m(\u001b[0m\u001b[0;34m'Provide non-negative number'\u001b[0m\u001b[0;34m)\u001b[0m\u001b[0;34m\u001b[0m\u001b[0;34m\u001b[0m\u001b[0m\n\u001b[1;32m      5\u001b[0m   \u001b[0;32mtry\u001b[0m\u001b[0;34m:\u001b[0m\u001b[0;34m\u001b[0m\u001b[0;34m\u001b[0m\u001b[0m\n",
            "\u001b[0;31mTypeError\u001b[0m: '<' not supported between instances of 'str' and 'int'"
          ]
        }
      ]
    },
    {
      "cell_type": "markdown",
      "metadata": {
        "id": "n9GqEuh45R6Z"
      },
      "source": [
        "\n",
        "\n",
        "---\n",
        "\n",
        "\n",
        "\n",
        "---\n",
        "\n",
        "**Exercises!**\n",
        "\n",
        "While creating a function, is good to look at it in a way as some people (or yourself) could use it. It will help you to define exceptions and help users to use the function properly.\n",
        "\n",
        "Define a function from previous exercise (shout_echo), with your newly aquired skills: try and except. "
      ]
    },
    {
      "cell_type": "code",
      "metadata": {
        "colab": {
          "base_uri": "https://localhost:8080/",
          "height": 52
        },
        "id": "-vV-OQ_LBGMH",
        "outputId": "ed4b2f03-fcea-4602-f502-6d65a1c153e5"
      },
      "source": [
        "# Define shout_echo\n",
        "def shout_echo(word1, echo=1):\n",
        "    \"\"\"Concatenate echo copies of word1 and three\n",
        "    exclamation marks at the end of the string.\"\"\"\n",
        "\n",
        "    # Initialize empty strings: echo_word, shout_words\n",
        "    echo_word = ''\n",
        "    shout_words= ''\n",
        "\n",
        "    # Add exception handling with try-except\n",
        "    try:\n",
        "        # Concatenate echo copies of word1 using *: echo_word\n",
        "        echo_word = word1 * echo\n",
        "\n",
        "        # Concatenate '!!!' to echo_word: shout_words\n",
        "        shout_words = echo_word + '!!!'\n",
        "    except:\n",
        "        # Print error message\n",
        "        print(\"word1 must be a string and echo must be an integer.\")\n",
        "\n",
        "    # Return shout_words\n",
        "    return shout_words\n",
        "\n",
        "# Call shout_echo\n",
        "shout_echo(\"hello\", 3)"
      ],
      "execution_count": null,
      "outputs": [
        {
          "output_type": "stream",
          "text": [
            "word1 must be a string and echo must be an integer.\n"
          ],
          "name": "stdout"
        },
        {
          "output_type": "execute_result",
          "data": {
            "application/vnd.google.colaboratory.intrinsic+json": {
              "type": "string"
            },
            "text/plain": [
              "''"
            ]
          },
          "metadata": {
            "tags": []
          },
          "execution_count": 1
        }
      ]
    },
    {
      "cell_type": "markdown",
      "metadata": {
        "id": "qP8jBieyB4vu"
      },
      "source": [
        "\n",
        "\n",
        "---\n",
        "**Exercise #2 - Error handling by raising an error**\n",
        "\n",
        "Add a raise statemnt to shout_echo() function.  Raise an error message when the value supplied by the user to the echo argument is less than 0.\n"
      ]
    },
    {
      "cell_type": "code",
      "metadata": {
        "id": "OIsU2yZfCkxs"
      },
      "source": [
        "# Define shout_echo\n",
        "def shout_echo(word1, echo=1):\n",
        "    \"\"\"Concatenate echo copies of word1 and three\n",
        "    exclamation marks at the end of the string.\"\"\"\n",
        "\n",
        "    # Raise an error with raise\n",
        "    if echo < 0:\n",
        "        raise ValueError('echo must be greater than or equal to 0')\n",
        "\n",
        "    # Concatenate echo copies of word1 using *: echo_word\n",
        "    echo_word = word1 * echo\n",
        "\n",
        "    # Concatenate '!!!' to echo_word: shout_word\n",
        "    shout_word = echo_word + '!!!'\n",
        "\n",
        "    # Return shout_word\n",
        "    return shout_word\n",
        "\n",
        "# Call shout_echo\n",
        "shout_echo(\"particle\", echo=5)"
      ],
      "execution_count": null,
      "outputs": []
    },
    {
      "cell_type": "markdown",
      "metadata": {
        "id": "IeBnhc5bCl5d"
      },
      "source": [
        "\n",
        "\n",
        "---\n",
        "\n",
        "\n",
        "---\n",
        "**Sum it up!**\n",
        "\n",
        "In following lines of codes. I'll try a few dc exercies. Which can be of help in my future work. \n",
        "\n",
        "---\n",
        "\n",
        "**Exercise #1**\n",
        "\n",
        "Lines of code collected in the bottom are used on pandas DataFrame. They will not work here (because of df is not implemented here). \n",
        "\n",
        "**What is the use of this lines?** Selecting desirable columns from uploaded DataFrame. \n",
        "\n",
        "Here how it goes!\n",
        "\n",
        "Using lambda and filter() select tweets, that first 2 characters are 'RT'.\n",
        "\n"
      ]
    },
    {
      "cell_type": "code",
      "metadata": {
        "id": "XMJTN5IsF1km"
      },
      "source": [
        "# Select retweets from the Twitter DataFrame: result\n",
        "result = filter(lambda x: x[0:2] == 'RT', tweets_df['text'])\n",
        "\n",
        "# Create list from filter object result: res_list\n",
        "res_list = list(result)\n",
        "# Print all retweets in res_list\n",
        "for tweet in res_list:\n",
        "    print(tweet)"
      ],
      "execution_count": null,
      "outputs": []
    },
    {
      "cell_type": "markdown",
      "metadata": {
        "id": "GCgGotlJGDGE"
      },
      "source": [
        "\n",
        "\n",
        "---\n",
        "\n",
        "**Exercise #2 - Prevent col name type error**"
      ]
    },
    {
      "cell_type": "code",
      "metadata": {
        "id": "_UDuP3z-Gn1M"
      },
      "source": [
        "# Define count_entries()\n",
        "def count_entries(df, col_name='lang'):\n",
        "    \"\"\"Return a dictionary with counts of\n",
        "    occurrences as value for each key.\"\"\"\n",
        "\n",
        "    # Initialize an empty dictionary: cols_count\n",
        "    cols_count = {}\n",
        "\n",
        "    # Add try block\n",
        "    try:\n",
        "        # Extract column from DataFrame: col\n",
        "        col = df[col_name]\n",
        "        \n",
        "        # Iterate over the column in dataframe\n",
        "        for entry in col:\n",
        "    \n",
        "            # If entry is in cols_count, add 1\n",
        "            if entry in cols_count.keys():\n",
        "                cols_count[entry] += 1\n",
        "            # Else add the entry to cols_count, set the value to 1\n",
        "            else:\n",
        "                cols_count[entry] = 1\n",
        "    \n",
        "        # Return the cols_count dictionary\n",
        "        return cols_count\n",
        "\n",
        "    # Add except block\n",
        "    except:\n",
        "        print(\"The DataFrame does not have a ' + col_name ' column\")\n",
        "\n",
        "# Call count_entries(): result1\n",
        "result1 = count_entries(tweets_df, 'lang')\n",
        "\n",
        "# Print result1\n",
        "print(result1)"
      ],
      "execution_count": null,
      "outputs": []
    },
    {
      "cell_type": "markdown",
      "metadata": {
        "id": "OLQy8zIxGpsV"
      },
      "source": [
        "\n",
        "\n",
        "---\n",
        "\n",
        "**Exercise #3 - ValueError prompt, if user does not provide valid col name**\n"
      ]
    },
    {
      "cell_type": "code",
      "metadata": {
        "id": "hUMm52OvHEF0"
      },
      "source": [
        "# Define count_entries()\n",
        "def count_entries(df, col_name='lang'):\n",
        "    \"\"\"Return a dictionary with counts of\n",
        "    occurrences as value for each key.\"\"\"\n",
        "    \n",
        "    # Raise a ValueError if col_name is NOT in DataFrame\n",
        "    if col_name not in df.columns:\n",
        "        raise ValueError('The DataFrame does not have a ' + col_name + ' column.')\n",
        "\n",
        "    # Initialize an empty dictionary: cols_count\n",
        "    cols_count = {}\n",
        "    \n",
        "    # Extract column from DataFrame: col\n",
        "    col = df[col_name]\n",
        "    \n",
        "    # Iterate over the column in DataFrame\n",
        "    for entry in col:\n",
        "\n",
        "        # If entry is in cols_count, add 1\n",
        "        if entry in cols_count.keys():\n",
        "            cols_count[entry] += 1\n",
        "            # Else add the entry to cols_count, set the value to 1\n",
        "        else:\n",
        "            cols_count[entry] = 1\n",
        "        \n",
        "        # Return the cols_count dictionary\n",
        "    return cols_count\n",
        "\n",
        "# Call count_entries(): result1\n",
        "result1 = count_entries(tweets_df, 'lang')\n",
        "\n",
        "# Print result1\n",
        "print(result1)"
      ],
      "execution_count": null,
      "outputs": []
    },
    {
      "cell_type": "markdown",
      "metadata": {
        "id": "Ses6iwvyIn9_"
      },
      "source": [
        "\n",
        "\n",
        "---\n",
        "\n",
        "\n",
        "\n",
        "---\n",
        "\n",
        "**Introduction to iterators**\n",
        "\n",
        "Here I'll write all theory and exercises for all the basics of iterators, list comprehension and generators. Crucial for any Data Scientist in the work. \n",
        "\n",
        "**Iterating with a for loop.** When we want to print out every element of the list using for loop. We are iterating over this list.  "
      ]
    },
    {
      "cell_type": "code",
      "metadata": {
        "colab": {
          "base_uri": "https://localhost:8080/"
        },
        "id": "Rm3gcIM3FblF",
        "outputId": "83cbf8d8-709b-44f8-97c4-6acc764ff2f8"
      },
      "source": [
        "list = [1,2,3,4]\n",
        "for num in list:\n",
        "  print(num)"
      ],
      "execution_count": null,
      "outputs": [
        {
          "output_type": "stream",
          "text": [
            "1\n",
            "2\n",
            "3\n",
            "4\n"
          ],
          "name": "stdout"
        }
      ]
    },
    {
      "cell_type": "markdown",
      "metadata": {
        "id": "y8TOL3dgGpZH"
      },
      "source": [
        "---\n",
        "**Iterating with a for loop over characters in string.** Like this->\n",
        "\n"
      ]
    },
    {
      "cell_type": "code",
      "metadata": {
        "colab": {
          "base_uri": "https://localhost:8080/"
        },
        "id": "68hr_-qvHBL1",
        "outputId": "c26a747f-a61a-40aa-afd4-62a57f3d4be1"
      },
      "source": [
        "for char in 'I love Data':\n",
        "  print(char)"
      ],
      "execution_count": null,
      "outputs": [
        {
          "output_type": "stream",
          "text": [
            "I\n",
            " \n",
            "l\n",
            "o\n",
            "v\n",
            "e\n",
            " \n",
            "D\n",
            "a\n",
            "t\n",
            "a\n"
          ],
          "name": "stdout"
        }
      ]
    },
    {
      "cell_type": "markdown",
      "metadata": {
        "id": "WrAp_Y23Hai8"
      },
      "source": [
        "\n",
        "\n",
        "---\n",
        "\n",
        "**Iterating over sequence of numbers using range object.** Remember that in Python index starts with zero. "
      ]
    },
    {
      "cell_type": "code",
      "metadata": {
        "colab": {
          "base_uri": "https://localhost:8080/"
        },
        "id": "y9cpps6sHq0d",
        "outputId": "5116edde-5ca7-48fb-e998-4ef2aa93a264"
      },
      "source": [
        "for num in range(8):\n",
        "  print(num)"
      ],
      "execution_count": null,
      "outputs": [
        {
          "output_type": "stream",
          "text": [
            "0\n",
            "1\n",
            "2\n",
            "3\n",
            "4\n",
            "5\n",
            "6\n",
            "7\n"
          ],
          "name": "stdout"
        }
      ]
    },
    {
      "cell_type": "markdown",
      "metadata": {
        "id": "Rd43EVbVH6R-"
      },
      "source": [
        "\n",
        "\n",
        "---\n",
        "\n",
        "**Can we iterate over all objects?** No. To iterate over an object, this object must be - so called - iterable. **What kind of objects are iterable?** For example:\n",
        "\n",
        "*   strings\n",
        "*   list\n",
        "\n",
        "*   dictionaries\n",
        "*   file conections...\n",
        "\n",
        "All the objects that are associated with iter() method. Once we apply iter() method on iterable objects, iterator is created.\n",
        "So iterators are actually objects which are taken from iterable object and used to iterate over it. \n",
        "\n",
        "Iterators are objects that are defined as a objects associated with next() method. This method is used to produce consecutive values. \n",
        "\n",
        "---\n",
        "\n",
        "\n",
        "\n",
        "**Creating iterator from iterable with iter() and iterating over iterable with next().**\n",
        "\n",
        "\n",
        "\n",
        "\n"
      ]
    },
    {
      "cell_type": "code",
      "metadata": {
        "colab": {
          "base_uri": "https://localhost:8080/",
          "height": 35
        },
        "id": "5jmnQFE6KLrF",
        "outputId": "cbfd6f89-2fb3-44e5-eaa4-7eb5c4f45483"
      },
      "source": [
        "word = 'Love'\n",
        "count = iter(word)\n",
        "next(count)"
      ],
      "execution_count": null,
      "outputs": [
        {
          "output_type": "execute_result",
          "data": {
            "application/vnd.google.colaboratory.intrinsic+json": {
              "type": "string"
            },
            "text/plain": [
              "'L'"
            ]
          },
          "metadata": {
            "tags": []
          },
          "execution_count": 9
        }
      ]
    },
    {
      "cell_type": "code",
      "metadata": {
        "colab": {
          "base_uri": "https://localhost:8080/",
          "height": 35
        },
        "id": "gqJwoFckKqtt",
        "outputId": "07fbe6a8-a45d-4ae1-a816-87140637589e"
      },
      "source": [
        "#call the next method() to print another letter\n",
        "next(count)"
      ],
      "execution_count": null,
      "outputs": [
        {
          "output_type": "execute_result",
          "data": {
            "application/vnd.google.colaboratory.intrinsic+json": {
              "type": "string"
            },
            "text/plain": [
              "'o'"
            ]
          },
          "metadata": {
            "tags": []
          },
          "execution_count": 10
        }
      ]
    },
    {
      "cell_type": "code",
      "metadata": {
        "colab": {
          "base_uri": "https://localhost:8080/",
          "height": 35
        },
        "id": "z0fFqTm-K-mn",
        "outputId": "d17cd082-1dee-4792-d72e-b04363a30a18"
      },
      "source": [
        "#and another, and another\n",
        "next(count)"
      ],
      "execution_count": null,
      "outputs": [
        {
          "output_type": "execute_result",
          "data": {
            "application/vnd.google.colaboratory.intrinsic+json": {
              "type": "string"
            },
            "text/plain": [
              "'v'"
            ]
          },
          "metadata": {
            "tags": []
          },
          "execution_count": 11
        }
      ]
    },
    {
      "cell_type": "code",
      "metadata": {
        "colab": {
          "base_uri": "https://localhost:8080/",
          "height": 35
        },
        "id": "Dgw6M7qeLIyj",
        "outputId": "b9fb0e52-cf07-401e-ae11-5c8f635e3947"
      },
      "source": [
        "next(count)"
      ],
      "execution_count": null,
      "outputs": [
        {
          "output_type": "execute_result",
          "data": {
            "application/vnd.google.colaboratory.intrinsic+json": {
              "type": "string"
            },
            "text/plain": [
              "'e'"
            ]
          },
          "metadata": {
            "tags": []
          },
          "execution_count": 12
        }
      ]
    },
    {
      "cell_type": "markdown",
      "metadata": {
        "id": "Elsqmz3RLLgE"
      },
      "source": [
        "Until there is none left. And the iteration error will raise. "
      ]
    },
    {
      "cell_type": "code",
      "metadata": {
        "colab": {
          "base_uri": "https://localhost:8080/",
          "height": 164
        },
        "id": "lrREllxLLRBV",
        "outputId": "2138b07f-cbb7-42c4-bf77-bea9cc0250f6"
      },
      "source": [
        "next(count)"
      ],
      "execution_count": null,
      "outputs": [
        {
          "output_type": "error",
          "ename": "StopIteration",
          "evalue": "ignored",
          "traceback": [
            "\u001b[0;31m---------------------------------------------------------------------------\u001b[0m",
            "\u001b[0;31mStopIteration\u001b[0m                             Traceback (most recent call last)",
            "\u001b[0;32m<ipython-input-13-b91de551306c>\u001b[0m in \u001b[0;36m<module>\u001b[0;34m()\u001b[0m\n\u001b[0;32m----> 1\u001b[0;31m \u001b[0mnext\u001b[0m\u001b[0;34m(\u001b[0m\u001b[0mcount\u001b[0m\u001b[0;34m)\u001b[0m\u001b[0;34m\u001b[0m\u001b[0;34m\u001b[0m\u001b[0m\n\u001b[0m",
            "\u001b[0;31mStopIteration\u001b[0m: "
          ]
        }
      ]
    },
    {
      "cell_type": "markdown",
      "metadata": {
        "id": "DG0UiwOzKeBd"
      },
      "source": [
        "or... if you want to iterate over whole word at once. Try this:"
      ]
    },
    {
      "cell_type": "code",
      "metadata": {
        "colab": {
          "base_uri": "https://localhost:8080/"
        },
        "id": "ZFiJlBUqLXA-",
        "outputId": "87d15784-e6b9-4116-df80-faccb69c0170"
      },
      "source": [
        "word2 = 'Star'\n",
        "fallen = iter(word2)\n",
        "print(*fallen)"
      ],
      "execution_count": null,
      "outputs": [
        {
          "output_type": "stream",
          "text": [
            "S t a r\n"
          ],
          "name": "stdout"
        }
      ]
    },
    {
      "cell_type": "markdown",
      "metadata": {
        "id": "Cl5RwlzeL6GG"
      },
      "source": [
        "Remember that you can't print the word again. The are no values left to print!\n",
        "\n",
        "---\n",
        "\n",
        "**Iterating over dictionaries**\n",
        "To iterate over dictionaries key-value pairs we need to unpack them with item() method. "
      ]
    },
    {
      "cell_type": "code",
      "metadata": {
        "colab": {
          "base_uri": "https://localhost:8080/"
        },
        "id": "BLYo2L5eMZpe",
        "outputId": "635cae73-5626-4494-8bc9-884985ed9291"
      },
      "source": [
        "dictionary = {'star': 'sun', 'planet': 'mars', 'satellite': 'moon'}\n",
        "for key, value in dictionary.items():\n",
        "  print(key,value)"
      ],
      "execution_count": null,
      "outputs": [
        {
          "output_type": "stream",
          "text": [
            "star sun\n",
            "planet mars\n",
            "satellite moon\n"
          ],
          "name": "stdout"
        }
      ]
    },
    {
      "cell_type": "markdown",
      "metadata": {
        "id": "2oBwpBf4M4Al"
      },
      "source": [
        "\n",
        "\n",
        "---\n",
        "\n",
        "**Iterating over file connections** with next and iter methods to return the lines from the file. \n",
        "\n",
        "```\n",
        "file = open('file.txt')\n",
        "iterator = iter(file)\n",
        "print(next(iterator))\n",
        "```\n",
        "\n"
      ]
    },
    {
      "cell_type": "markdown",
      "metadata": {
        "id": "P273yTBrSNE_"
      },
      "source": [
        "\n",
        "\n",
        "---\n",
        "**Exercise #1**\n"
      ]
    },
    {
      "cell_type": "code",
      "metadata": {
        "id": "xgKoR2QRSSOV"
      },
      "source": [
        "# Create an iterator for range(3): small_value\n",
        "small_value = iter(range(3))\n",
        "\n",
        "# Print the values in small_value\n",
        "print(next(small_value))\n",
        "print(next(small_value))\n",
        "print(next(small_value))\n",
        "\n",
        "# Loop over range(3) and print the values\n",
        "for num in range(3):\n",
        "    print(num)\n",
        "\n",
        "# Create an iterator for range(10 ** 100): googol\n",
        "googol = iter(range(10 ** 100))\n",
        "\n",
        "# Print the first 5 values from googol\n",
        "print(next(googol))\n",
        "print(next(googol))\n",
        "print(next(googol))\n",
        "print(next(googol))\n",
        "print(next(googol))\n"
      ],
      "execution_count": null,
      "outputs": []
    },
    {
      "cell_type": "markdown",
      "metadata": {
        "id": "zfjas2xISZ59"
      },
      "source": [
        "\n",
        "\n",
        "---\n",
        "**Exercise #2 - iterators as function parameters**\n",
        "Some function takes iterable and iterators as parameters. List() function returns a list and sum() function returns a sum of elements respectively.\n"
      ]
    },
    {
      "cell_type": "code",
      "metadata": {
        "id": "dtdRmk_FWvz8"
      },
      "source": [
        "# Create a range object: values\n",
        "values = range(10,21)\n",
        "\n",
        "# Print the range object\n",
        "print(values)\n",
        "\n",
        "# Create a list of integers: values_list\n",
        "values_list = list(values)\n",
        "\n",
        "# Print values_list\n",
        "print(values_list)\n",
        "\n",
        "# Get the sum of values: values_sum\n",
        "values_sum = sum(values)\n",
        "\n",
        "# Print values_sum\n",
        "print(values_sum)\n"
      ],
      "execution_count": null,
      "outputs": []
    },
    {
      "cell_type": "markdown",
      "metadata": {
        "id": "P9RlDrYQW9Ff"
      },
      "source": [
        "\n",
        "\n",
        "---\n",
        "**Enumerate, zip and unzip**\n",
        "\n",
        "*   Enumerate - is a function, that allows to add a counter to any iterable. Takes in any iterable as an argument(list, string etc.) and returns an enumerate object.\n",
        "This enumerate object consists original elements of iterable and index going along with those elements. \n",
        "*   Element listy"
      ]
    },
    {
      "cell_type": "code",
      "metadata": {
        "colab": {
          "base_uri": "https://localhost:8080/"
        },
        "id": "jouL0Y_cD0Jd",
        "outputId": "c286a2da-b39e-47dc-a151-1cc03820f7c8"
      },
      "source": [
        "best_avengers = ['thor', 'iron man', 'hulk', 'black widow']\n",
        "enum = enumerate(best_avengers)\n",
        "print(type(enum))"
      ],
      "execution_count": null,
      "outputs": [
        {
          "output_type": "stream",
          "text": [
            "<class 'enumerate'>\n"
          ],
          "name": "stdout"
        }
      ]
    },
    {
      "cell_type": "markdown",
      "metadata": {
        "id": "r27Gz5gJErgr"
      },
      "source": [
        "What can we do with this enumerate objecte? For example turn in into list of tuples, using on it list() function. When we print it, we'll be able to see what it contains. "
      ]
    },
    {
      "cell_type": "code",
      "metadata": {
        "colab": {
          "base_uri": "https://localhost:8080/"
        },
        "id": "a47rOK_WFC47",
        "outputId": "bfbd8d69-8e20-4818-c4b4-68c15cc8d36d"
      },
      "source": [
        "list(enum)"
      ],
      "execution_count": null,
      "outputs": [
        {
          "output_type": "execute_result",
          "data": {
            "text/plain": [
              "[(0, 'thor'), (1, 'iron man'), (2, 'hulk'), (3, 'black widow')]"
            ]
          },
          "metadata": {
            "tags": []
          },
          "execution_count": 3
        }
      ]
    },
    {
      "cell_type": "markdown",
      "metadata": {
        "id": "pq5owIRDFKgr"
      },
      "source": [
        "Enumerate object is an iterable itself. So, we can iterate over it in a for loop and unpack the elements of it. "
      ]
    },
    {
      "cell_type": "code",
      "metadata": {
        "colab": {
          "base_uri": "https://localhost:8080/"
        },
        "id": "6LE96Pp1F1TD",
        "outputId": "ee915e04-36f1-40fb-f95b-6a48020846e5"
      },
      "source": [
        "best_avengers_l = ['thor', 'iron man', 'hulk', 'black widow']\n",
        "for index, value in enumerate(best_avengers_l):\n",
        "  print(index,value)"
      ],
      "execution_count": null,
      "outputs": [
        {
          "output_type": "stream",
          "text": [
            "0 thor\n",
            "1 iron man\n",
            "2 hulk\n",
            "3 black widow\n"
          ],
          "name": "stdout"
        }
      ]
    },
    {
      "cell_type": "markdown",
      "metadata": {
        "id": "6k9Difb7GI4a"
      },
      "source": [
        "As you see default behaviour of function enumerate is to begin with index 0. If you want to start the index with different value, just add an argument start= . And set it to desirable value."
      ]
    },
    {
      "cell_type": "code",
      "metadata": {
        "colab": {
          "base_uri": "https://localhost:8080/"
        },
        "id": "KNsi86rdGjYR",
        "outputId": "fd9c41aa-94dc-4694-b856-ef1ea06a7b5c"
      },
      "source": [
        "best_avengers_s = ['thor', 'iron man', 'hulk', 'black widow']\n",
        "for index, value in enumerate(best_avengers_s, start=2):\n",
        "  print(index,value)"
      ],
      "execution_count": null,
      "outputs": [
        {
          "output_type": "stream",
          "text": [
            "2 thor\n",
            "3 iron man\n",
            "4 hulk\n",
            "5 black widow\n"
          ],
          "name": "stdout"
        }
      ]
    },
    {
      "cell_type": "markdown",
      "metadata": {
        "id": "ItQRD1v0GsJC"
      },
      "source": [
        "\n",
        "\n",
        "---\n",
        "*   Zip - function which allows to stitch-together any number of iterables. Takes in an arbitrary number of iterables and returns iterator of tuples."
      ]
    },
    {
      "cell_type": "code",
      "metadata": {
        "colab": {
          "base_uri": "https://localhost:8080/"
        },
        "id": "YO6zlOBOHJqD",
        "outputId": "d6f1d4cc-b767-466d-86d5-f9bf8dcb433c"
      },
      "source": [
        "best_avengers_z = ['thor', 'iron man', 'hulk', 'black widow']\n",
        "namez = ['son of odin', 'tony', \"don't remember\", 'scarlett xD']\n",
        "z = zip(best_avengers_z, namez)\n",
        "print(type(z))"
      ],
      "execution_count": null,
      "outputs": [
        {
          "output_type": "stream",
          "text": [
            "<class 'zip'>\n"
          ],
          "name": "stdout"
        }
      ]
    },
    {
      "cell_type": "markdown",
      "metadata": {
        "id": "vbKWE-PgH1p8"
      },
      "source": [
        "By using zip function on those two lists, we created a zip object. Which is an iterator of tuples. Let's turn this object into a list, to see what is hidden there!"
      ]
    },
    {
      "cell_type": "code",
      "metadata": {
        "colab": {
          "base_uri": "https://localhost:8080/"
        },
        "id": "XeDdrf0cIMFS",
        "outputId": "855c6e4e-bc44-4bf5-e2d3-ddb4ad468930"
      },
      "source": [
        "z_list = list(z)\n",
        "print(z_list)"
      ],
      "execution_count": null,
      "outputs": [
        {
          "output_type": "stream",
          "text": [
            "[('thor', 'son of odin'), ('iron man', 'tony'), ('hulk', \"don't remember\"), ('black widow', 'scarlett xD')]\n"
          ],
          "name": "stdout"
        }
      ]
    },
    {
      "cell_type": "markdown",
      "metadata": {
        "id": "RhlcCcatIeqc"
      },
      "source": [
        "First element of each tuple is created from the subsequent elements of the first list. The second element of each tuple is created from subsequent elements of the second list. "
      ]
    },
    {
      "cell_type": "markdown",
      "metadata": {
        "id": "VoUB5nGvNlMc"
      },
      "source": [
        "As an alternative, we can also loop over zip object and print the tuples."
      ]
    },
    {
      "cell_type": "code",
      "metadata": {
        "colab": {
          "base_uri": "https://localhost:8080/"
        },
        "id": "1rU-tOH8Nvrj",
        "outputId": "517d80a8-bfce-45b6-d635-9e18a29e6437"
      },
      "source": [
        "for z1, z2 in zip(best_avengers_z, namez):\n",
        "  print(z1, z2)"
      ],
      "execution_count": null,
      "outputs": [
        {
          "output_type": "stream",
          "text": [
            "thor son of odin\n",
            "iron man tony\n",
            "hulk don't remember\n",
            "black widow scarlett xD\n"
          ],
          "name": "stdout"
        }
      ]
    },
    {
      "cell_type": "markdown",
      "metadata": {
        "id": "RUFl3QyfOIYq"
      },
      "source": [
        "Or use a splat operator to print all elements."
      ]
    },
    {
      "cell_type": "code",
      "metadata": {
        "colab": {
          "base_uri": "https://localhost:8080/"
        },
        "id": "c5PQ-0BNOHTR",
        "outputId": "0cdab162-8b90-4aeb-8b16-524d4d7058e9"
      },
      "source": [
        "z = zip(best_avengers_z, namez)\n",
        "print(*z)"
      ],
      "execution_count": null,
      "outputs": [
        {
          "output_type": "stream",
          "text": [
            "('thor', 'son of odin') ('iron man', 'tony') ('hulk', \"don't remember\") ('black widow', 'scarlett xD')\n"
          ],
          "name": "stdout"
        }
      ]
    },
    {
      "cell_type": "markdown",
      "metadata": {
        "id": "D3yTXjLbRpiN"
      },
      "source": [
        "\n",
        "\n",
        "---\n",
        "\n",
        "We don't have an unzip function. But we can reverse the doings of the zip function by using *. If you want to unpack zipped tuples try print them like in above example. Or the one, that I'll write below :)."
      ]
    },
    {
      "cell_type": "code",
      "metadata": {
        "colab": {
          "base_uri": "https://localhost:8080/"
        },
        "id": "_xBNK2zSSFfa",
        "outputId": "f4c06f20-bf4a-4897-d825-54edf09f59c9"
      },
      "source": [
        "mutants = (1,2,3,4)\n",
        "powers = ('a','b','c','d')\n",
        "# Create a zip object from mutants and powers: z1\n",
        "z1 = zip(mutants, powers)\n",
        "\n",
        "# Print the tuples in z1 by unpacking with *\n",
        "print(*z1)\n",
        "\n",
        "# Re-create a zip object from mutants and powers: z1\n",
        "z1 = zip(mutants, powers)\n",
        "\n",
        "# 'Unzip' the tuples in z1 by unpacking with * and zip(): result1, result2\n",
        "result1, result2 = zip(*z1)\n",
        "\n",
        "# Check if unpacked tuples are equivalent to original tuples\n",
        "print(result1 == mutants)\n",
        "print(result2 == powers)"
      ],
      "execution_count": null,
      "outputs": [
        {
          "output_type": "stream",
          "text": [
            "(1, 'a') (2, 'b') (3, 'c') (4, 'd')\n",
            "True\n",
            "True\n"
          ],
          "name": "stdout"
        }
      ]
    },
    {
      "cell_type": "markdown",
      "metadata": {
        "id": "D7kDyH1mU1PM"
      },
      "source": [
        "\n",
        "\n",
        "---\n",
        "**Using iterators to load large amount of data into memory**\n",
        "Pulling data from a file, api, database? Having trouble holding it into memory? You can split the data and upload it in parts, then after performing all the necessary operations, discard the part(you worked on), save the result and load the next part etc. Don't you think that this is a good job for a iterator? IT IS!\n",
        "\n",
        "\n",
        "Pandas function read_csv provide an option, which will be really helpful while working with large amount of data in parts(chunks) and iterating over them. We can do it by specifing the argument called chunksize.\n",
        "\n",
        "---\n",
        "\n",
        "**Example!!**\n",
        "\n",
        "We have a large amount of data in column 'x' of csv file. Col 'x' contains a numbers and we want to compute the sum of it. \n",
        "\n",
        "Step by step...\n",
        "\n",
        "1.   Import pandas\n",
        "2.   Create and empty list to hold result of each iteration\n",
        "3.   Creating a for loop with csv file*\n",
        "4.   Inside the for loop we compute the sum of the col 'x' and append the result into earlier created list. \n",
        "5.   Once loop is finished (iterated over all values in col 'x') we sum all the sums, which are store in a list. \n",
        "\n",
        "*Object created by read_csv is iterable. So we can easily iterate over it. Each chunk of data will be a DataFrame.\n",
        "\n",
        "\n",
        "\n",
        "\n",
        "```\n",
        "import pandas as pd\n",
        "result = []\n",
        "for chunk in pd.read_csv('data.csv', chunksize = 1000):\n",
        "  result.append(sum(chunk['x']))\n",
        "total = sum(result)\n",
        "print(total)\n",
        "```\n",
        "\n",
        "Alternativily we can do it like this:\n",
        "\n",
        "```\n",
        "import pandas as pd\n",
        "total = 0\n",
        "for chunk in pd.read_csv('data.csv', chunksize = 1000):\n",
        "  total += sum(chunk['x'])\n",
        "print(total)\n",
        "```\n"
      ]
    },
    {
      "cell_type": "markdown",
      "metadata": {
        "id": "pLUAZ6zle3mu"
      },
      "source": [
        "\n",
        "\n",
        "---\n",
        "\n",
        "\n",
        "\n",
        "---\n",
        "And now more examples of the code (which will not work here - the datasets are not loaded in this enviroment).\n",
        "\n",
        "Iterating over column 'lang' in tweets DataFrame. With each iteration we add number of entries in each language. \n"
      ]
    },
    {
      "cell_type": "code",
      "metadata": {
        "id": "JOBp7Wcff7Gs"
      },
      "source": [
        "# Initialize an empty dictionary: counts_dict\n",
        "counts_dict = {}\n",
        "\n",
        "# Iterate over the file chunk by chunk\n",
        "for chunk in pd.read_csv('tweets.csv', chunksize = 10):\n",
        "\n",
        "    # Iterate over the column in DataFrame\n",
        "    for entry in chunk['lang']:\n",
        "        if entry in counts_dict.keys():\n",
        "            counts_dict[entry] += 1\n",
        "        else:\n",
        "            counts_dict[entry] = 1\n",
        "\n",
        "# Print the populated dictionary\n",
        "print(counts_dict)\n"
      ],
      "execution_count": null,
      "outputs": []
    },
    {
      "cell_type": "markdown",
      "metadata": {
        "id": "nDmdJZYeggIe"
      },
      "source": [
        "\n",
        "\n",
        "---\n",
        "Don't want to write the same lines of codes over and over? You guessed it. We'll define a function here, which will help us to use the necessary code whenever we want to. \n"
      ]
    },
    {
      "cell_type": "code",
      "metadata": {
        "id": "8u9SWSo7jrRc"
      },
      "source": [
        "# Define count_entries()\n",
        "def count_entries(csv_file, c_size, colname):\n",
        "    \"\"\"Return a dictionary with counts of\n",
        "    occurrences as value for each key.\"\"\"\n",
        "    \n",
        "    # Initialize an empty dictionary: counts_dict\n",
        "    counts_dict = {}\n",
        "\n",
        "    # Iterate over the file chunk by chunk\n",
        "    for chunk in pd.read_csv(csv_file, chunksize = c_size):\n",
        "\n",
        "        # Iterate over the column in DataFrame\n",
        "        for entry in chunk[colname]:\n",
        "            if entry in counts_dict.keys():\n",
        "                counts_dict[entry] += 1\n",
        "            else:\n",
        "                counts_dict[entry] = 1\n",
        "\n",
        "    # Return counts_dict\n",
        "    return counts_dict\n",
        "\n",
        "# Call count_entries(): result_counts\n",
        "result_counts = count_entries('tweets.csv', 10, 'lang')\n",
        "\n",
        "# Print result_counts\n",
        "print(result_counts)"
      ],
      "execution_count": null,
      "outputs": []
    },
    {
      "cell_type": "markdown",
      "metadata": {
        "id": "9jYbNHMdg7-U"
      },
      "source": [
        "\n",
        "\n",
        "---\n",
        "\n",
        "\n",
        "\n",
        "---\n",
        "**List comprehension**\n",
        "\n",
        "There are 3 elements that are needed for list comprehension:\n",
        "\n",
        "1.   Iterable\n",
        "2.   Iterator\n",
        "3.   Output expression\n",
        "\n",
        "With this glorious 3 we can almost replace out traditional for loop. See how...\n",
        "\n",
        "\n",
        "\n",
        "For example pursposes: \n",
        "\n",
        "We have a list, and we want to create a new list. To every element in a new list we append +1. We can do it with a for loop like this:\n"
      ]
    },
    {
      "cell_type": "code",
      "metadata": {
        "colab": {
          "base_uri": "https://localhost:8080/"
        },
        "id": "Y8WKSZizivRn",
        "outputId": "012f9339-2e1c-4fdb-c55f-05511d705424"
      },
      "source": [
        "list = [1,2,3,4]\n",
        "new_list = []\n",
        "for num in list:\n",
        "  new_list.append(num + 1)\n",
        "print(new_list)"
      ],
      "execution_count": null,
      "outputs": [
        {
          "output_type": "stream",
          "text": [
            "[2, 3, 4, 5]\n"
          ],
          "name": "stdout"
        }
      ]
    },
    {
      "cell_type": "markdown",
      "metadata": {
        "id": "ahtE3Ew6jSEL"
      },
      "source": [
        "But you can perform the same computation in just one line of code by using list comprehension. \n",
        "\n",
        "**How to use list comprehension?** Within square brackets we write values we wish to create (an output expression) followed by the for clause referencing to the original list. "
      ]
    },
    {
      "cell_type": "code",
      "metadata": {
        "colab": {
          "base_uri": "https://localhost:8080/"
        },
        "id": "hqJxkuIjkBCO",
        "outputId": "c9366a20-bc9f-428d-f753-7a9acb4b4f6f"
      },
      "source": [
        "listc = [1,2,3,4]\n",
        "new_listc = [num + 1 for num in listc]\n",
        "print(new_listc)"
      ],
      "execution_count": null,
      "outputs": [
        {
          "output_type": "stream",
          "text": [
            "[2, 3, 4, 5]\n"
          ],
          "name": "stdout"
        }
      ]
    },
    {
      "cell_type": "markdown",
      "metadata": {
        "id": "90yeY9Ewkb6e"
      },
      "source": [
        "\n",
        "\n",
        "---\n",
        "List comprehension can be used not only with lists. But every iterable object!\n",
        "\n",
        "**List comprehension with range() object**\n"
      ]
    },
    {
      "cell_type": "code",
      "metadata": {
        "colab": {
          "base_uri": "https://localhost:8080/"
        },
        "id": "1HLArhNWkqFI",
        "outputId": "c2a6ec5c-7c0a-4373-918e-7a3de224a489"
      },
      "source": [
        "ran = [num for num in range(7)]\n",
        "print(ran)"
      ],
      "execution_count": null,
      "outputs": [
        {
          "output_type": "stream",
          "text": [
            "[0, 1, 2, 3, 4, 5, 6]\n"
          ],
          "name": "stdout"
        }
      ]
    },
    {
      "cell_type": "markdown",
      "metadata": {
        "id": "tLmrUvIllqS1"
      },
      "source": [
        "**List comprehension with nested for loops**\n",
        "Creating a list of tuple pairs using nested for loop. Outer for loop produce num in range (0,2). Inner for loop produce num in range (7,9)."
      ]
    },
    {
      "cell_type": "code",
      "metadata": {
        "colab": {
          "base_uri": "https://localhost:8080/"
        },
        "id": "L61WJhODlzAX",
        "outputId": "f1d6ba1a-8a8d-4a39-e19e-69c0ec490956"
      },
      "source": [
        "tup_pair_list = []\n",
        "for val1 in range(0, 2):\n",
        "  for val2 in range(7, 9):\n",
        "    vals = (val1, val2)\n",
        "    tup_pair_list.append(vals)\n",
        "print(tup_pair_list)"
      ],
      "execution_count": null,
      "outputs": [
        {
          "output_type": "stream",
          "text": [
            "[(0, 7), (0, 8), (1, 7), (1, 8)]\n"
          ],
          "name": "stdout"
        }
      ]
    },
    {
      "cell_type": "markdown",
      "metadata": {
        "id": "Wbnfrtp8on0W"
      },
      "source": [
        "The same list of tuples creation using list comprehension"
      ]
    },
    {
      "cell_type": "code",
      "metadata": {
        "colab": {
          "base_uri": "https://localhost:8080/"
        },
        "id": "FVvG2n3iowen",
        "outputId": "f8003f4e-0459-4949-aee8-58e18d5a9efd"
      },
      "source": [
        "tup_pair_list_c = [(val1, val2) for val1 in range(0, 2) for val2 in range(7, 9)]\n",
        "print(tup_pair_list_c)\n"
      ],
      "execution_count": null,
      "outputs": [
        {
          "output_type": "stream",
          "text": [
            "[(0, 7), (0, 8), (1, 7), (1, 8)]\n"
          ],
          "name": "stdout"
        }
      ]
    },
    {
      "cell_type": "markdown",
      "metadata": {
        "id": "y41qqx84p9MH"
      },
      "source": [
        "\n",
        "\n",
        "---\n",
        "\n",
        "**Exercise #1** Print the first letter of each word store in a list. "
      ]
    },
    {
      "cell_type": "code",
      "metadata": {
        "colab": {
          "base_uri": "https://localhost:8080/"
        },
        "id": "cD0O77q7qJ3O",
        "outputId": "f71d167c-568a-4b4b-d5b0-6715db81ae48"
      },
      "source": [
        "animals = ['cat', 'dog', 'parrot', 'horse']\n",
        "anima_first = [anim[0] for anim in animals]\n",
        "print(anima_first)"
      ],
      "execution_count": null,
      "outputs": [
        {
          "output_type": "stream",
          "text": [
            "['c', 'd', 'p', 'h']\n"
          ],
          "name": "stdout"
        }
      ]
    },
    {
      "cell_type": "markdown",
      "metadata": {
        "id": "DafPiEJjya_U"
      },
      "source": [
        "\n",
        "\n",
        "---\n",
        "\n",
        "**Exercise #2** Create a matrice with list comprehension.\n",
        "\n",
        "What is a matrice? Multi-dimensional object. In Python is represented as a list of lists. \n",
        "\n",
        "\n",
        "\n",
        "```\n",
        "matrix = [[0, 1, 2, 3, 4],\n",
        "          [0, 1, 2, 3, 4],\n",
        "          [0, 1, 2, 3, 4],\n",
        "          [0, 1, 2, 3, 4],\n",
        "          [0, 1, 2, 3, 4]]\n",
        "```\n",
        "\n"
      ]
    },
    {
      "cell_type": "code",
      "metadata": {
        "colab": {
          "base_uri": "https://localhost:8080/"
        },
        "id": "aj6W3ykNy89s",
        "outputId": "86b905a3-d934-4a53-ae29-a0ec1fb98b47"
      },
      "source": [
        "# Create a 5 x 5 matrix using a list of lists: matrix\n",
        "matrix = [[col for col in range(0,5)] for row in range(0, 5)]\n",
        "\n",
        "# Print the matrix\n",
        "for row in matrix:\n",
        "    print(row)\n"
      ],
      "execution_count": null,
      "outputs": [
        {
          "output_type": "stream",
          "text": [
            "[0, 1, 2, 3, 4]\n",
            "[0, 1, 2, 3, 4]\n",
            "[0, 1, 2, 3, 4]\n",
            "[0, 1, 2, 3, 4]\n",
            "[0, 1, 2, 3, 4]\n"
          ],
          "name": "stdout"
        }
      ]
    },
    {
      "cell_type": "markdown",
      "metadata": {
        "id": "MCH4HwHU1yy8"
      },
      "source": [
        "\n",
        "\n",
        "---\n",
        "**Conditionals in comprehensions** \n",
        "Using conditionals in comprehensions we can filter the output. \n",
        "\n",
        "Example -> square of the value in range 10, if the result is even."
      ]
    },
    {
      "cell_type": "code",
      "metadata": {
        "colab": {
          "base_uri": "https://localhost:8080/"
        },
        "id": "AKHaEoPkvbRu",
        "outputId": "84fea0ff-bae1-4c94-f736-7060d9295d67"
      },
      "source": [
        "conditionals_in_comprehension1 = [num ** 2 for num in range(10) if num % 2 == 0]\n",
        "print(conditionals_in_comprehension1)"
      ],
      "execution_count": null,
      "outputs": [
        {
          "output_type": "stream",
          "text": [
            "[0, 4, 16, 36, 64]\n"
          ],
          "name": "stdout"
        }
      ]
    },
    {
      "cell_type": "markdown",
      "metadata": {
        "id": "OdhGGpAQwBNh"
      },
      "source": [
        "*Modulo operator (%) used here produce a remainder of a division of first argument by the second.\n",
        "\n",
        "\n",
        "**Condtionals on the output expression**"
      ]
    },
    {
      "cell_type": "code",
      "metadata": {
        "colab": {
          "base_uri": "https://localhost:8080/"
        },
        "id": "OOukbFZdwiut",
        "outputId": "58ea1609-9c5f-4691-f4dd-6f455e9a5b1c"
      },
      "source": [
        "conditionals_in_comprehension2 = [num ** 2 if num % 2 == 0 else 0 for num in range(10)]\n",
        "print(conditionals_in_comprehension2)"
      ],
      "execution_count": null,
      "outputs": [
        {
          "output_type": "stream",
          "text": [
            "[0, 0, 4, 0, 16, 0, 36, 0, 64, 0]\n"
          ],
          "name": "stdout"
        }
      ]
    },
    {
      "cell_type": "markdown",
      "metadata": {
        "id": "RExwFwwAxMS8"
      },
      "source": [
        "**Dictionary comprehensions** For creating new dictionaries from iterables. Syntax is the same as in any other comprehensions, exept that in dict comprehensions we use:\n",
        "* Curly braces {} instead of squared brackets []\n",
        "* Key and value is seperated by the colon in the output expression\n",
        "\n",
        "\n",
        "Example -> Creating dictionary with positive integers and the respecitve negative integers."
      ]
    },
    {
      "cell_type": "code",
      "metadata": {
        "colab": {
          "base_uri": "https://localhost:8080/"
        },
        "id": "yfboG3y4yNQj",
        "outputId": "f90df904-4d68-4d7d-f0e4-3b7b817a8fcd"
      },
      "source": [
        "dict_comprehension = {num: -num for num in range(10)}\n",
        "print(dict_comprehension)"
      ],
      "execution_count": null,
      "outputs": [
        {
          "output_type": "stream",
          "text": [
            "{0: 0, 1: -1, 2: -2, 3: -3, 4: -4, 5: -5, 6: -6, 7: -7, 8: -8, 9: -9}\n"
          ],
          "name": "stdout"
        }
      ]
    },
    {
      "cell_type": "markdown",
      "metadata": {
        "id": "q74a6zHu2E5S"
      },
      "source": [
        "\n",
        "\n",
        "---\n",
        "**Exercise #1** Create a list with list comprehension in which all words will have 7 or more characters. Use if condition on predicate expression.\n"
      ]
    },
    {
      "cell_type": "code",
      "metadata": {
        "colab": {
          "base_uri": "https://localhost:8080/"
        },
        "id": "ThOHt83C2VpX",
        "outputId": "2c577711-630c-4605-c2fe-6d2ed0f6fde9"
      },
      "source": [
        "# Create a list of strings: fellowship\n",
        "fellowship = ['frodo', 'samwise', 'merry', 'aragorn', 'legolas', 'boromir', 'gimli']\n",
        "\n",
        "# Create list comprehension: new_fellowship\n",
        "new_fellowship = [member for member in fellowship if len(member) >= 7]\n",
        "\n",
        "# Print the new list\n",
        "print(new_fellowship)"
      ],
      "execution_count": null,
      "outputs": [
        {
          "output_type": "stream",
          "text": [
            "['samwise', 'aragorn', 'legolas', 'boromir']\n"
          ],
          "name": "stdout"
        }
      ]
    },
    {
      "cell_type": "markdown",
      "metadata": {
        "id": "96wsISn72imY"
      },
      "source": [
        "\n",
        "\n",
        "---\n",
        "\n",
        "**Exercise 2** Create a list with list comprehension that all strings in it have 7 or more characters. Ohther strings replace with an empty string. Use if on output expression."
      ]
    },
    {
      "cell_type": "code",
      "metadata": {
        "colab": {
          "base_uri": "https://localhost:8080/"
        },
        "id": "8iIyi0JH3FTI",
        "outputId": "06769206-d412-4dfe-ce2a-4cf2be0a756a"
      },
      "source": [
        "# Create a list of strings: fellowship\n",
        "fellowship = ['frodo', 'samwise', 'merry', 'aragorn', 'legolas', 'boromir', 'gimli']\n",
        "\n",
        "# Create list comprehension: new_fellowship\n",
        "new_fellowship = [member if len(member) >= 7 else '' for member in fellowship]\n",
        "\n",
        "# Print the new list\n",
        "print(new_fellowship)"
      ],
      "execution_count": null,
      "outputs": [
        {
          "output_type": "stream",
          "text": [
            "['', 'samwise', '', 'aragorn', 'legolas', 'boromir', '']\n"
          ],
          "name": "stdout"
        }
      ]
    },
    {
      "cell_type": "markdown",
      "metadata": {
        "id": "ZykZbUagCAKC"
      },
      "source": [
        "\n",
        "\n",
        "---\n",
        "**Exercise #3** Using list comprehension create a dictionary with the members of the list as key and the length of each key as a value.\n"
      ]
    },
    {
      "cell_type": "code",
      "metadata": {
        "id": "aM5Et2GLCavQ"
      },
      "source": [
        "# Create a list of strings: fellowship\n",
        "fellowship = ['frodo', 'samwise', 'merry', 'aragorn', 'legolas', 'boromir', 'gimli']\n",
        "\n",
        "# Create dict comprehension: new_fellowship\n",
        "new_fellowship = {member: len(member) for member in fellowship}\n",
        "\n",
        "# Print the new dictionary\n",
        "print(new_fellowship)"
      ],
      "execution_count": null,
      "outputs": []
    },
    {
      "cell_type": "markdown",
      "metadata": {
        "id": "DskEQbxwCdsG"
      },
      "source": [
        "\n",
        "\n",
        "---\n",
        "\n",
        "\n",
        "\n",
        "---\n",
        "\n",
        "**Introduction to generator expressions**\n",
        "Syntax is same as in list comprhension, but instead of square brackets [], we use parantheses().In this way we create a new type of object called generartor object. **What is generator object?** \n",
        "\n",
        "*   similar to comprehension but it is NOT storing list in the memory\n",
        "*   it is not creating a list, but it is an object we can iterate over to producce elements of the list as required\n",
        "\n"
      ]
    },
    {
      "cell_type": "code",
      "metadata": {
        "colab": {
          "base_uri": "https://localhost:8080/"
        },
        "id": "zkS-ufNQMgbN",
        "outputId": "42e4e1fc-458c-4468-9922-2aae5fb56e57"
      },
      "source": [
        "result = (num for num in range(5))\n",
        "print(result)\n",
        "for num in result:\n",
        "  print(num)"
      ],
      "execution_count": null,
      "outputs": [
        {
          "output_type": "stream",
          "text": [
            "<generator object <genexpr> at 0x7f425812d350>\n",
            "0\n",
            "1\n",
            "2\n",
            "3\n",
            "4\n"
          ],
          "name": "stdout"
        }
      ]
    },
    {
      "cell_type": "markdown",
      "metadata": {
        "id": "AeyseHBXM1f-"
      },
      "source": [
        "Printing result, will not return elements of the list. To print it we need to create a for loop like in the above example. Or transform the generator objects into list with a function list()."
      ]
    },
    {
      "cell_type": "code",
      "metadata": {
        "colab": {
          "base_uri": "https://localhost:8080/"
        },
        "id": "oeSbfyToNJWo",
        "outputId": "9b0218fa-1f9d-4153-a93d-d240523d9321"
      },
      "source": [
        "result2 = (num for num in range(4))\n",
        "print(list(result2))"
      ],
      "execution_count": null,
      "outputs": [
        {
          "output_type": "stream",
          "text": [
            "[0, 1, 2, 3]\n"
          ],
          "name": "stdout"
        }
      ]
    },
    {
      "cell_type": "markdown",
      "metadata": {
        "id": "9kZwcg9vSgjw"
      },
      "source": [
        "Generator object - like any other iterator - can be passed to function next() to iterate over its elements."
      ]
    },
    {
      "cell_type": "code",
      "metadata": {
        "colab": {
          "base_uri": "https://localhost:8080/"
        },
        "id": "PF3BbiXESquM",
        "outputId": "8b156be5-49b0-49d7-d6e1-1f9e9b26c509"
      },
      "source": [
        "result3 = (num for num in range(3))\n",
        "print(next(result3))"
      ],
      "execution_count": null,
      "outputs": [
        {
          "output_type": "stream",
          "text": [
            "0\n"
          ],
          "name": "stdout"
        }
      ]
    },
    {
      "cell_type": "code",
      "metadata": {
        "colab": {
          "base_uri": "https://localhost:8080/"
        },
        "id": "-OqjnrpFS1cd",
        "outputId": "9d767f83-9fb0-477c-f051-f62afc451f9e"
      },
      "source": [
        "print(next(result3))"
      ],
      "execution_count": null,
      "outputs": [
        {
          "output_type": "stream",
          "text": [
            "1\n"
          ],
          "name": "stdout"
        }
      ]
    },
    {
      "cell_type": "code",
      "metadata": {
        "colab": {
          "base_uri": "https://localhost:8080/"
        },
        "id": "ni7PV6B9S5z9",
        "outputId": "9a5ce364-14dd-490b-96d6-121f1eb40990"
      },
      "source": [
        "print(next(result3))"
      ],
      "execution_count": null,
      "outputs": [
        {
          "output_type": "stream",
          "text": [
            "2\n"
          ],
          "name": "stdout"
        }
      ]
    },
    {
      "cell_type": "markdown",
      "metadata": {
        "id": "Wxa_7b-KTGPr"
      },
      "source": [
        "Generator object is an example of so called 'lazy evaluation'. **Lazy evaluation**  - the evaluation of the expression is delayed until it is needed.\n",
        "\n",
        "**When structure like this is useful?** If we are working with extremely large sequences and we don't want to store the entire list in the memory (as comprehensions do). \n",
        "**What else we can do with generator expression?** Everything! Which we can do with comprehension!\n",
        "\n",
        "---\n",
        "\n",
        "**Generator functions** Generator function are used to produce generator objects on call. We are defining them as any other function, but inestead of returning single values with keyword return, we use yield keyword, which returns a sequence of values. "
      ]
    },
    {
      "cell_type": "code",
      "metadata": {
        "colab": {
          "base_uri": "https://localhost:8080/"
        },
        "id": "qH55WUSIfi37",
        "outputId": "c006b9c6-de4d-46be-99e6-aa59ff43e45e"
      },
      "source": [
        "def num_seq(n):\n",
        "  \"\"\"Generates sequence from 0 to n\"\"\"\n",
        "  i = 0\n",
        "  while i < n:\n",
        "    yield i\n",
        "    i += 1\n",
        "\n",
        "result4 = num_seq(5)\n",
        "for item in result4:\n",
        "  print(item)"
      ],
      "execution_count": null,
      "outputs": [
        {
          "output_type": "stream",
          "text": [
            "0\n",
            "1\n",
            "2\n",
            "3\n",
            "4\n"
          ],
          "name": "stdout"
        }
      ]
    },
    {
      "cell_type": "markdown",
      "metadata": {
        "id": "Cq65R7J5k__k"
      },
      "source": [
        "\n",
        "\n",
        "---\n",
        "**Exercise #1** Create an objects that will produce the values from 0 to 30 with expression generator. \n"
      ]
    },
    {
      "cell_type": "code",
      "metadata": {
        "colab": {
          "base_uri": "https://localhost:8080/"
        },
        "id": "eriuY1Lelr8D",
        "outputId": "6fbfc4d1-0dea-45b4-c3b2-474809f305c3"
      },
      "source": [
        "# Create generator object: result\n",
        "result5 = (num for num in range(31))\n",
        "\n",
        "# Print the first 5 values\n",
        "print(next(result5))\n",
        "print(next(result5))\n",
        "print(next(result5))\n",
        "print(next(result5))\n",
        "print(next(result5))\n",
        "\n",
        "# Print the rest of the values\n",
        "for value in result5:\n",
        "    print(value)\n"
      ],
      "execution_count": null,
      "outputs": [
        {
          "output_type": "stream",
          "text": [
            "0\n",
            "1\n",
            "2\n",
            "3\n",
            "4\n",
            "5\n",
            "6\n",
            "7\n",
            "8\n",
            "9\n",
            "10\n",
            "11\n",
            "12\n",
            "13\n",
            "14\n",
            "15\n",
            "16\n",
            "17\n",
            "18\n",
            "19\n",
            "20\n",
            "21\n",
            "22\n",
            "23\n",
            "24\n",
            "25\n",
            "26\n",
            "27\n",
            "28\n",
            "29\n",
            "30\n"
          ],
          "name": "stdout"
        }
      ]
    },
    {
      "cell_type": "markdown",
      "metadata": {
        "id": "3n_ihztYl-Mi"
      },
      "source": [
        "\n",
        "\n",
        "---\n",
        "\n",
        "**Exercise #2**  Write a generator expression that will generate the lengths of each string in lannister. "
      ]
    },
    {
      "cell_type": "code",
      "metadata": {
        "colab": {
          "base_uri": "https://localhost:8080/"
        },
        "id": "4wciQDX1mDJz",
        "outputId": "66687194-3c62-491d-b1a4-46075b9571b8"
      },
      "source": [
        "# Create a list of strings: lannister\n",
        "lannister = ['cersei', 'jaime', 'tywin', 'tyrion', 'joffrey']\n",
        "\n",
        "# Create a generator object: lengths\n",
        "lengths = (len(person) for person in lannister)\n",
        "\n",
        "# Iterate over and print the values in lengths\n",
        "for value in lengths:\n",
        "    print(value)"
      ],
      "execution_count": null,
      "outputs": [
        {
          "output_type": "stream",
          "text": [
            "6\n",
            "5\n",
            "5\n",
            "6\n",
            "7\n"
          ],
          "name": "stdout"
        }
      ]
    },
    {
      "cell_type": "markdown",
      "metadata": {
        "id": "n73WhYNzmdZF"
      },
      "source": [
        "\n",
        "\n",
        "---\n",
        "\n",
        "**Exercise #3**  Create a generator function with a similar mechanism as the generator expression you defined in the previous exercise:\n",
        "\n",
        "`lengths = (len(person) for person in lannister)`"
      ]
    },
    {
      "cell_type": "code",
      "metadata": {
        "colab": {
          "base_uri": "https://localhost:8080/"
        },
        "id": "ZCF_guCgmrmZ",
        "outputId": "12e5d8d2-1f07-4563-9d79-003ebd440610"
      },
      "source": [
        "# Create a list of strings\n",
        "lannister = ['cersei', 'jaime', 'tywin', 'tyrion', 'joffrey']\n",
        "\n",
        "# Define generator function get_lengths\n",
        "def get_lengths(input_list):\n",
        "    \"\"\"Generator function that yields the\n",
        "    length of the strings in input_list.\"\"\"\n",
        "\n",
        "    # Yield the length of a string\n",
        "    for person in input_list:\n",
        "        yield len(person)\n",
        "\n",
        "# Print the values generated by get_lengths()\n",
        "for value in get_lengths(lannister):\n",
        "    print(value)"
      ],
      "execution_count": null,
      "outputs": [
        {
          "output_type": "stream",
          "text": [
            "6\n",
            "5\n",
            "5\n",
            "6\n",
            "7\n"
          ],
          "name": "stdout"
        }
      ]
    },
    {
      "cell_type": "markdown",
      "metadata": {
        "id": "gjrUdfZO0YOc"
      },
      "source": [
        "\n",
        "\n",
        "---\n",
        "\n",
        "\n",
        "\n",
        "---\n",
        "\n",
        "**Examples and exercises from all the material from the essential Python Data Scientist toolset**\n",
        "\n",
        "Example #1 - Using list comprehension extract the time from time-stamped Twitter data. (dataset is not loaded, so starting the code will raise an error)\n",
        "*Each row is a string that represents a timestamp, and you will access the 12th to 19th characters in the string to extract the time."
      ]
    },
    {
      "cell_type": "code",
      "metadata": {
        "id": "7cBHAKnE1Dc2"
      },
      "source": [
        "# Extract the created_at column from df: tweet_time\n",
        "tweet_time = df['created_at']\n",
        "\n",
        "# Extract the clock time: tweet_clock_time\n",
        "tweet_clock_time = [entry[11:19] for entry in tweet_time]\n",
        "\n",
        "# Print the extracted times\n",
        "print(tweet_clock_time)\n"
      ],
      "execution_count": null,
      "outputs": []
    },
    {
      "cell_type": "markdown",
      "metadata": {
        "id": "sb6Z9VlW2LJt"
      },
      "source": [
        "\n",
        "\n",
        "---\n",
        "Example #2 - Using a list comprehension to extract the time from time-stamped Twitter data. You will add a conditional expression to the list comprehension so that you only select the times in which entry[17:19] is equal to '19'.\n"
      ]
    },
    {
      "cell_type": "code",
      "metadata": {
        "id": "G2Q9fYVj2peV"
      },
      "source": [
        "# Extract the created_at column from df: tweet_time\n",
        "tweet_time = df['created_at']\n",
        "\n",
        "# Extract the clock time: tweet_clock_time\n",
        "tweet_clock_time = [entry[11:19] for entry in tweet_time if entry[17:19] == '19']\n",
        "\n",
        "# Print the extracted times\n",
        "print(tweet_clock_time)"
      ],
      "execution_count": null,
      "outputs": []
    },
    {
      "cell_type": "markdown",
      "metadata": {
        "id": "74ZqCJ9q26-s"
      },
      "source": [
        "\n",
        "\n",
        "---\n",
        "**Case study** - Step by step examplary case study based on dataset of the World Bank's World Development Indicators. Dataset is not loaded - code will not show any results. \n",
        "\n",
        "**What skills will be used in this case study example?** User-defined functions, iterators, list comprehensions, generators, dictionaries, zipping.\n",
        "\n",
        "\n",
        "**Task#1** - Create a dictionary from two lists feature_names contains header names of the dataset and the second list row_vals contains actual values of a row from the dataset, corresponding to each of the header names.\n"
      ]
    },
    {
      "cell_type": "code",
      "metadata": {
        "id": "QowDeFCwBtdC"
      },
      "source": [
        "# Zip lists: zipped_lists\n",
        "zipped_lists = zip(feature_names, row_vals)\n",
        "\n",
        "# Create a dictionary: rs_dict\n",
        "rs_dict = dict(zipped_lists)\n",
        "\n",
        "# Print the dictionary\n",
        "print(rs_dict)\n"
      ],
      "execution_count": null,
      "outputs": []
    },
    {
      "cell_type": "markdown",
      "metadata": {
        "id": "bxhACIwEBzTF"
      },
      "source": [
        "**Task #2** - Create a function to house the code you wrote earlier. This way, you only need to call the function and supply the appropriate lists to create your dictionaries."
      ]
    },
    {
      "cell_type": "code",
      "metadata": {
        "id": "GmJdz3--C4QM"
      },
      "source": [
        "# Define lists2dict()\n",
        "def lists2dict(list1, list2):\n",
        "    \"\"\"Return a dictionary where list1 provides\n",
        "    the keys and list2 provides the values.\"\"\"\n",
        "\n",
        "    # Zip lists: zipped_lists\n",
        "    zipped_lists = zip(list1, list2)\n",
        "\n",
        "    # Create a dictionary: rs_dict\n",
        "    rs_dict = dict(zipped_lists)\n",
        "\n",
        "    # Return the dictionary\n",
        "    return rs_dict\n",
        "\n",
        "# Call lists2dict: rs_fxn\n",
        "rs_fxn = lists2dict(feature_names, row_vals)\n",
        "\n",
        "# Print rs_fxn\n",
        "print(rs_fxn)"
      ],
      "execution_count": null,
      "outputs": []
    },
    {
      "cell_type": "markdown",
      "metadata": {
        "id": "FOPPoEb_C5WC"
      },
      "source": [
        "**Task #3** -  Use a list comprehension to generate a list of dicts, where the keys are the header names and the values are the row entries."
      ]
    },
    {
      "cell_type": "code",
      "metadata": {
        "id": "KKRMFbh8FN1s"
      },
      "source": [
        "# Print the first two lists in row_lists\n",
        "print(row_lists[0])\n",
        "print(row_lists[1])\n",
        "\n",
        "# Turn list of lists into list of dicts: list_of_dicts\n",
        "list_of_dicts =[lists2dict(feature_names,sublist) for sublist in row_lists]\n",
        "\n",
        "# Print the first two dictionaries in list_of_dicts\n",
        "print(list_of_dicts[0])\n",
        "print(list_of_dicts[1])"
      ],
      "execution_count": null,
      "outputs": []
    },
    {
      "cell_type": "markdown",
      "metadata": {
        "id": "1AV4s9b7IkOO"
      },
      "source": [
        "**Task #4** - We have zipped the lists together, created a function, turned them into lists of dictionaries. Now it is time to convert list of dictionaries into DataFrame"
      ]
    },
    {
      "cell_type": "code",
      "metadata": {
        "id": "6t8LFbegI0Iq"
      },
      "source": [
        "# Import the pandas package\n",
        "import pandas as pd\n",
        "\n",
        "# Turn list of lists into list of dicts: list_of_dicts\n",
        "list_of_dicts = [lists2dict(feature_names, sublist) for sublist in row_lists]\n",
        "\n",
        "# Turn list of dicts into a DataFrame: df\n",
        "df = pd.DataFrame(list_of_dicts)\n",
        "\n",
        "# Print the head of the DataFrame\n",
        "print(df.head())\n"
      ],
      "execution_count": null,
      "outputs": []
    },
    {
      "cell_type": "markdown",
      "metadata": {
        "id": "yoDiEPKzJdeq"
      },
      "source": [
        "\n",
        "\n",
        "---\n",
        "\n",
        "Next step - Loading large amount of the data. Generators are great to use here. Because they will work also on the live streaming data (until there is no data left). \n",
        "\n",
        "**Task #5** - Open a connection to the file and process data in chunks (0, 1000)."
      ]
    },
    {
      "cell_type": "code",
      "metadata": {
        "id": "89zhVEHqLikN"
      },
      "source": [
        "# Open a connection to the file\n",
        "with open('world_dev_ind.csv') as file:\n",
        "\n",
        "    # Skip the column names\n",
        "    file.readline()\n",
        "\n",
        "    # Initialize an empty dictionary: counts_dict\n",
        "    counts_dict = {}\n",
        "\n",
        "    # Process only the first 1000 rows\n",
        "    for j in range(0, 1000):\n",
        "\n",
        "        # Split the current line into a list: line\n",
        "        line = file.readline().split(',')\n",
        "\n",
        "        # Get the value for the first column: first_col\n",
        "        first_col = line[0]\n",
        "\n",
        "        # If the column value is in the dict, increment its value\n",
        "        if first_col in counts_dict.keys():\n",
        "            counts_dict[first_col] += 1\n",
        "\n",
        "        # Else, add to the dict and set value to 1\n",
        "        else:\n",
        "            counts_dict[first_col] = 1\n",
        "\n",
        "# Print the resulting dictionary\n",
        "print(counts_dict)"
      ],
      "execution_count": null,
      "outputs": []
    },
    {
      "cell_type": "markdown",
      "metadata": {
        "id": "ucCrvr_5L2Fy"
      },
      "source": [
        "**Task #6** - Use generators to process the data. Define a generator function read_large_file() that produces a generator object which yields a single line from a file each time next() is called on it."
      ]
    },
    {
      "cell_type": "code",
      "metadata": {
        "id": "IlsmosiSNBpq"
      },
      "source": [
        "# Define read_large_file()\n",
        "def read_large_file(file_object):\n",
        "    \"\"\"A generator function to read a large file lazily.\"\"\"\n",
        "\n",
        "    # Loop indefinitely until the end of the file\n",
        "    while True:\n",
        "\n",
        "        # Read a line from the file: data\n",
        "        data = file_object.readline()\n",
        "\n",
        "        # Break if this is the end of the file\n",
        "        if not data:\n",
        "            break\n",
        "\n",
        "        # Yield the line of data\n",
        "        yield data\n",
        "        \n",
        "# Open a connection to the file\n",
        "with open('world_dev_ind.csv') as file:\n",
        "\n",
        "    # Create a generator object for the file: gen_file\n",
        "    gen_file = read_large_file(file)\n",
        "\n",
        "    # Print the first three lines of the file\n",
        "    print(next(gen_file))\n",
        "    print(next(gen_file))\n",
        "    print(next(gen_file))"
      ],
      "execution_count": null,
      "outputs": []
    },
    {
      "cell_type": "markdown",
      "metadata": {
        "id": "n0YX8MCiN1SA"
      },
      "source": [
        "**Task #7** -  Process the file line by line, to create a dictionary of the counts of how many times each country appears in a column in the dataset. For this exercise, however, you won't process just 1000 rows of data, you'll process the entire dataset!"
      ]
    },
    {
      "cell_type": "code",
      "metadata": {
        "id": "lspR66dXN6s6"
      },
      "source": [
        "# Initialize an empty dictionary: counts_dict\n",
        "counts_dict = {}\n",
        "\n",
        "# Open a connection to the file\n",
        "with open('world_dev_ind.csv') as file:\n",
        "\n",
        "    # Iterate over the generator from read_large_file()\n",
        "    for line in read_large_file(file):\n",
        "\n",
        "        row = line.split(',')\n",
        "        first_col = row[0]\n",
        "\n",
        "        if first_col in counts_dict.keys():\n",
        "            counts_dict[first_col] += 1\n",
        "        else:\n",
        "            counts_dict[first_col] = 1\n",
        "\n",
        "# Print            \n",
        "print(counts_dict)"
      ],
      "execution_count": null,
      "outputs": []
    },
    {
      "cell_type": "markdown",
      "metadata": {
        "id": "-aucXpCiOg9g"
      },
      "source": [
        "\n",
        "\n",
        "---\n",
        "For the summary, we will exercise loading large amount of data in chunks - which is another method for processing big amounts of data. \n",
        "\n",
        "**Task #8** - Read file in smalll chunks (size 10).\n"
      ]
    },
    {
      "cell_type": "code",
      "metadata": {
        "id": "Tv2jMevQPbs6"
      },
      "source": [
        "# Import the pandas package\n",
        "import pandas as pd\n",
        "\n",
        "# Initialize reader object: df_reader\n",
        "df_reader = pd.read_csv('ind_pop.csv', chunksize = 10)\n",
        "\n",
        "# Print two chunks\n",
        "print(next(df_reader))\n",
        "print(next(df_reader))"
      ],
      "execution_count": null,
      "outputs": []
    },
    {
      "cell_type": "markdown",
      "metadata": {
        "id": "z2B0ElhTPohd"
      },
      "source": [
        "**Task #9** - Read in a file using a bigger DataFrame chunk size and then process the data from the first chunk. To process the data, you will create another DataFrame composed of only the rows from a specific country. You will then zip together two of the columns from the new DataFrame, 'Total Population' and 'Urban population (% of total)'. \n",
        "\n",
        "Finally, you will create a list of tuples from the zip object, where each tuple is composed of a value from each of the two columns mentioned."
      ]
    },
    {
      "cell_type": "code",
      "metadata": {
        "id": "tlMVWKAHSomB"
      },
      "source": [
        "# Initialize reader object: urb_pop_reader\n",
        "urb_pop_reader = pd.read_csv(\"ind_pop_data.csv\", chunksize=1000)\n",
        "\n",
        "# Get the first DataFrame chunk: df_urb_pop\n",
        "df_urb_pop = next(urb_pop_reader)\n",
        "\n",
        "# Check out the head of the DataFrame\n",
        "print(df_urb_pop.head())\n",
        "\n",
        "# Check out specific country: df_pop_ceb\n",
        "df_pop_ceb = df_urb_pop[df_urb_pop['CountryCode'] == 'CEB']\n",
        "\n",
        "# Zip DataFrame columns of interest: pops\n",
        "pops = zip(df_pop_ceb['Total Population'],df_pop_ceb['Urban population (% of total)'])\n",
        "\n",
        "# Turn zip object into list: pops_list\n",
        "pops_list = list(pops)\n",
        "\n",
        "# Print pops_list\n",
        "print(pops_list)"
      ],
      "execution_count": null,
      "outputs": []
    },
    {
      "cell_type": "markdown",
      "metadata": {
        "id": "CXpHC2-EmT6a"
      },
      "source": [
        "**Task #10** Add a new column 'Total Urban Population' and create new set of values for it by using list comprehension from the list of tuples that you generated earlier. The first and second elements of each tuple consist of, respectively, values from the columns 'Total Population' and 'Urban population (% of total)'. The values in this new column 'Total Urban Population', therefore, are the product of the first and second element in each tuple. Furthermore, because the 2nd element is a percentage, you need to divide the entire result by 100, or alternatively, multiply it by 0.01.\n",
        "\n",
        "You will also plot the data from this new column to create a visualization of the urban population data."
      ]
    },
    {
      "cell_type": "code",
      "metadata": {
        "id": "NlVJqZJiqBQN"
      },
      "source": [
        "# Code from previous exercise\n",
        "urb_pop_reader = pd.read_csv('ind_pop_data.csv', chunksize=1000)\n",
        "df_urb_pop = next(urb_pop_reader)\n",
        "df_pop_ceb = df_urb_pop[df_urb_pop['CountryCode'] == 'CEB']\n",
        "pops = zip(df_pop_ceb['Total Population'], \n",
        "           df_pop_ceb['Urban population (% of total)'])\n",
        "pops_list = list(pops)\n",
        "\n",
        "# Use list comprehension to create new DataFrame column 'Total Urban Population'\n",
        "df_pop_ceb['Total Urban Population'] = [int(item[0] * item[1]/100) for item in pops_list]\n",
        "\n",
        "# Plot urban population data\n",
        "df_pop_ceb.plot(kind='scatter', x='Year', y='Total Urban Population')\n",
        "plt.show()"
      ],
      "execution_count": null,
      "outputs": []
    },
    {
      "cell_type": "markdown",
      "metadata": {
        "id": "wTiFSKNdqSRr"
      },
      "source": [
        "**Task #11** - Process all the data chunks."
      ]
    },
    {
      "cell_type": "code",
      "metadata": {
        "id": "I-ISj76Bq_do"
      },
      "source": [
        "# Initialize reader object: urb_pop_reader\n",
        "urb_pop_reader = pd.read_csv('ind_pop_data.csv', chunksize=1000)\n",
        "\n",
        "# Initialize empty DataFrame: data\n",
        "data = pd.DataFrame()\n",
        "\n",
        "# Iterate over each DataFrame chunk\n",
        "for df_urb_pop in urb_pop_reader:\n",
        "\n",
        "    # Check out specific country: df_pop_ceb\n",
        "    df_pop_ceb = df_urb_pop[df_urb_pop['CountryCode'] == 'CEB']\n",
        "\n",
        "    # Zip DataFrame columns of interest: pops\n",
        "    pops = zip(df_pop_ceb['Total Population'],\n",
        "                df_pop_ceb['Urban population (% of total)'])\n",
        "\n",
        "    # Turn zip object into list: pops_list\n",
        "    pops_list = list(pops)\n",
        "\n",
        "    # Use list comprehension to create new DataFrame column 'Total Urban Population'\n",
        "    df_pop_ceb['Total Urban Population'] = [int(tup[0] * tup[1] * 0.01) for tup in pops_list]\n",
        "    \n",
        "    # Append DataFrame chunk to data: data\n",
        "    data = data.append(df_pop_ceb)\n",
        "\n",
        "# Plot urban population data\n",
        "data.plot(kind='scatter', x='Year', y='Total Urban Population')\n",
        "plt.show()\n"
      ],
      "execution_count": null,
      "outputs": []
    },
    {
      "cell_type": "markdown",
      "metadata": {
        "id": "ZNN8AsuIrNnd"
      },
      "source": [
        "**Task #12** -  Put all the code for processing the data into a single function so that you can reuse the code without having to rewrite the same things all over again.\n",
        "\n",
        "You're going to define the function plot_pop() which takes two arguments: the filename of the file to be processed, and the country code of the rows you want to process in the dataset."
      ]
    },
    {
      "cell_type": "code",
      "metadata": {
        "id": "_mS8XWnMrTmV"
      },
      "source": [
        "# Define plot_pop()\n",
        "def plot_pop(filename, country_code):\n",
        "\n",
        "    # Initialize reader object: urb_pop_reader\n",
        "    urb_pop_reader = pd.read_csv(filename, chunksize=1000)\n",
        "\n",
        "    # Initialize empty DataFrame: data\n",
        "    data = pd.DataFrame()\n",
        "    \n",
        "    # Iterate over each DataFrame chunk\n",
        "    for df_urb_pop in urb_pop_reader:\n",
        "        # Check out specific country: df_pop_ceb\n",
        "        df_pop_ceb = df_urb_pop[df_urb_pop['CountryCode'] == country_code]\n",
        "\n",
        "        # Zip DataFrame columns of interest: pops\n",
        "        pops = zip(df_pop_ceb['Total Population'],\n",
        "                    df_pop_ceb['Urban population (% of total)'])\n",
        "\n",
        "        # Turn zip object into list: pops_list\n",
        "        pops_list = list(pops)\n",
        "\n",
        "        # Use list comprehension to create new DataFrame column 'Total Urban Population'\n",
        "        df_pop_ceb['Total Urban Population'] = [int(tup[0] * tup[1] * 0.01) for tup in pops_list]\n",
        "    \n",
        "        # Append DataFrame chunk to data: data\n",
        "        data = data.append(df_pop_ceb)\n",
        "\n",
        "    # Plot urban population data\n",
        "    data.plot(kind='scatter', x='Year', y='Total Urban Population')\n",
        "    plt.show()\n",
        "\n",
        "# Set the filename: fn\n",
        "fn = 'ind_pop_data.csv'\n",
        "\n",
        "# Call plot_pop for country code 'CEB'\n",
        "plot_pop('ind_pop_data.csv', 'CEB')\n",
        "\n",
        "# Call plot_pop for country code 'ARB'\n",
        "plot_pop('ind_pop_data.csv', 'ARB')"
      ],
      "execution_count": null,
      "outputs": []
    }
  ]
}