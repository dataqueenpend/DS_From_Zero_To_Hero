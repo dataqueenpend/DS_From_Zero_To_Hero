{
  "nbformat": 4,
  "nbformat_minor": 0,
  "metadata": {
    "colab": {
      "name": "Intro_to_Statistics.ipynb",
      "provenance": [],
      "collapsed_sections": [],
      "authorship_tag": "ABX9TyP10gsr6m1qq0FxN+MuSeiD",
      "include_colab_link": true
    },
    "kernelspec": {
      "name": "python3",
      "display_name": "Python 3"
    },
    "language_info": {
      "name": "python"
    }
  },
  "cells": [
    {
      "cell_type": "markdown",
      "metadata": {
        "id": "view-in-github",
        "colab_type": "text"
      },
      "source": [
        "<a href=\"https://colab.research.google.com/github/dataqueenpend/DS_From_Zero_To_Hero/blob/gh-pages/Intro_to_Statistics.ipynb\" target=\"_parent\"><img src=\"https://colab.research.google.com/assets/colab-badge.svg\" alt=\"Open In Colab\"/></a>"
      ]
    },
    {
      "cell_type": "markdown",
      "metadata": {
        "id": "oIYK0cNNLQ-f"
      },
      "source": [
        "#Introduction to Statistics in Python \n",
        "\n",
        "## Summary Statistics\n",
        "\n",
        "**Mean vs. median**\n",
        "\n",
        "The mean is the sum of all the data points divided by the total number of data points, and the median is the middle value of the dataset where 50% of the data is less than the median, and 50% of the data is greater than the median. In this exercise, you'll compare these two measures of center.\n",
        "\n",
        "* Import matplotlib.pyplot with the alias plt.\n",
        "* Subset food_consumption to get the rows where food_category is 'rice'.\n",
        "* Create a histogram of co2_emission for rice and show the plot.\n",
        "\n",
        "```\n",
        "# Import matplotlib.pyplot with alias plt\n",
        "import matplotlib.pyplot as plt\n",
        "\n",
        "# Subset for food_category equals rice\n",
        "rice_consumption = food_consumption[food_consumption['food_category']== 'rice']\n",
        "\n",
        "# Histogram of co2_emission for rice and show plot\n",
        "plt.hist(rice_consumption['co2_emission'])\n",
        "plt.show()\n",
        "```\n",
        "\n",
        "\n",
        "![image.png](data:image/png;base64,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)"
      ]
    },
    {
      "cell_type": "markdown",
      "metadata": {
        "id": "FI3vWQg0QH-9"
      },
      "source": [
        "* Take a look at the histogram you just created of different countries' CO2 emissions for rice. Which of the following terms best describes the shape of the data?\n",
        ">Right-skewed (tail on the right side)\n",
        "\n",
        "* Use .agg() to calculate the mean and median of co2_emission for rice.\n",
        "\n",
        "```\n",
        "# Subset for food_category equals rice\n",
        "rice_consumption = food_consumption[food_consumption['food_category'] == 'rice']\n",
        "\n",
        "# Calculate mean and median of co2_emission with .agg()\n",
        "print(rice_consumption['co2_emission'].agg([np.mean, np.median]))\n",
        "```\n",
        "\n",
        "```\n",
        "<script.py> output:\n",
        "    mean      37.591615\n",
        "    median    15.200000\n",
        "    Name: co2_emission, dtype: float64\n",
        "```\n",
        "\n",
        "* Given the skew of this data, what measure of central tendency best summarizes the kilograms of CO2 emissions per person per year for rice?\n",
        "> Median!"
      ]
    },
    {
      "cell_type": "markdown",
      "metadata": {
        "id": "eSIcwazJRDpM"
      },
      "source": [
        "###Measures of spread\n",
        "\n",
        "* **Variance** - *Average distance from each data point to the data's mean*\n",
        "\n",
        "**Calculating variance**\n",
        "\n",
        "1.   To calculate the variance, we start by calculating the distance between each point and the mean, so we get one number for every data point. then square each distance.\n",
        "2.   Then square each distance and then add them all together. \n",
        "3.   Finally, we divide the sum of squared distances by the number of data points minus 1, giving us the variance.\n",
        "\n",
        "> *The higher the variance, the more spread out the data is.* \n",
        "\n",
        "```\n",
        "#Subtract mean from each data point\n",
        "dists = msleep['sleep_total'] - np.mean(msleep['sleep_total'])\n",
        "print(dists)\n",
        "\n",
        "#Square each distance\n",
        "sq_dists = dists ** 2\n",
        "print(sq_dists)\n",
        "\n",
        "#Sum squared distances\n",
        "sum_sq_dists = np.sum(sq_dists)\n",
        "print(sum_sq_dists)\n",
        "\n",
        "#Divide by number of data points - 1\n",
        "variance = sum_sq_dists / (83 - 1)\n",
        "print(variance)\n",
        "```\n",
        "\n",
        "**We can calculate the variance in one step using np-dot-var, setting the ddof argument to 1.**\n",
        "\n",
        "! If we don't specify ddof equals 1, a slightly different formula is used to calculate variance that should only be used on a full population, not a sample.\n",
        "\n",
        "```\n",
        "#Use np.var()\n",
        "np.var(msleep['sleep_total'], ddof=1)\n",
        "\n",
        "#Without ddof=1 , population variance is calculated instead of sample variance :\n",
        "np.var(msleep['sleep_total'])\n",
        "```\n",
        "\n",
        "\n",
        "* **Standard deviation** - *The standard deviation is another measure of spread, calculated by taking the square root of the variance.* \n",
        "\n",
        "!Units are usually easier to understand since they're not squared.\n",
        "\n",
        "```\n",
        "#Standard deviation\n",
        "np.sqrt(np.var(msleep['sleep_total'], ddof=1))\n",
        "\n",
        "#or in one line:\n",
        "np.std(msleep['sleep_total'], ddof=1)\n",
        "```\n"
      ]
    },
    {
      "cell_type": "markdown",
      "metadata": {
        "id": "7zXn_6RmLhef"
      },
      "source": [
        "##Random Numbers and Probability"
      ]
    },
    {
      "cell_type": "markdown",
      "metadata": {
        "id": "r1WKmkzML7FE"
      },
      "source": [
        ""
      ]
    },
    {
      "cell_type": "markdown",
      "metadata": {
        "id": "IzvvxLMILjze"
      },
      "source": [
        "##More Distributions and the Central Limit Theorem"
      ]
    },
    {
      "cell_type": "markdown",
      "metadata": {
        "id": "0OfDyi9tLmO9"
      },
      "source": [
        "##Correlation and Experimental Design"
      ]
    }
  ]
}