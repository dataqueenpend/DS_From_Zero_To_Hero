{
  "nbformat": 4,
  "nbformat_minor": 0,
  "metadata": {
    "colab": {
      "name": "Most common functions-methods-commands.ipynb",
      "provenance": [],
      "collapsed_sections": [],
      "authorship_tag": "ABX9TyPFCzcpEyBbV2Z5yXTCSDi9",
      "include_colab_link": true
    },
    "kernelspec": {
      "name": "python3",
      "display_name": "Python 3"
    },
    "language_info": {
      "name": "python"
    }
  },
  "cells": [
    {
      "cell_type": "markdown",
      "metadata": {
        "id": "view-in-github",
        "colab_type": "text"
      },
      "source": [
        "<a href=\"https://colab.research.google.com/github/dataqueenpend/DS_From_Zero_To_Hero/blob/gh-pages/Most_common_functions_methods_commands.ipynb\" target=\"_parent\"><img src=\"https://colab.research.google.com/assets/colab-badge.svg\" alt=\"Open In Colab\"/></a>"
      ]
    },
    {
      "cell_type": "markdown",
      "metadata": {
        "id": "xztjO8izIVUQ"
      },
      "source": [
        "## Dictionary"
      ]
    },
    {
      "cell_type": "code",
      "metadata": {
        "id": "3ViK_tKqIf0i"
      },
      "source": [
        "thisdict = {\n",
        "  \"brand\": \"Ford\",\n",
        "  \"model\": \"Mustang\",\n",
        "  \"year\": 1964\n",
        "}\n",
        "\n",
        "#Values\n",
        "thisdict[\"year\"] = 2018 #Changing dictionary values\n",
        "thisdict.update({\"year\": 2020}) #Changing the dictionary values with .update() method\n",
        "x = thisdict[\"model\"] #Access dicionary value\n",
        "x = thisdict.get(\"model\") #Access dictionary values with .get\n",
        "x = thisdict.values() #Printing the values of the dictionary\n",
        "\n",
        "#Keys\n",
        "x = thisdict.keys() #Printing the keys of the dictionary\n",
        "\n",
        "#Key&values\n",
        "x = thisdict.items() #Printing the keys and values of the dictionary in key:value order\n",
        "thisdict.update({\"color\": \"red\"}) # Adding new key:value pair into dictionary with.update() method\n",
        "thisdict.pop(\"model\") #Removing the item with a specific key\n",
        "del thisdict[\"model\"] #Removing the item with a specific key\n",
        "thisdict.popitem() #Removing last item in the dictionary\n",
        "\n",
        "thisdict.clear() #Empting a dictionary\n",
        "del thisdict #Deleting the whole dictionary"
      ],
      "execution_count": null,
      "outputs": []
    },
    {
      "cell_type": "markdown",
      "metadata": {
        "id": "ez634k1cUoWy"
      },
      "source": [
        "## List"
      ]
    },
    {
      "cell_type": "code",
      "metadata": {
        "id": "jeOrh2TcUsEI"
      },
      "source": [
        "thislist = [\"apple\", \"banana\", \"cherry\"]\n",
        "\n",
        "len(thislist) #Check the number of the elements in the list\n",
        "thislist[1] #Access list elements - through index\n",
        "thislist[2:5] #Slicing the list - accesing elements in a range\n",
        "thislist[1] = \"blackcurrant\" #Changing the element of the list through index\n",
        "thislist[1:3] = [\"blackcurrant\", \"watermelon\"] #Changing the elements of the list in range\n"
      ],
      "execution_count": null,
      "outputs": []
    }
  ]
}