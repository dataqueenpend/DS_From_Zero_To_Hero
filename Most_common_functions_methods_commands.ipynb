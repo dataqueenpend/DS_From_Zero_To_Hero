{
  "nbformat": 4,
  "nbformat_minor": 0,
  "metadata": {
    "colab": {
      "name": "Most common functions-methods-commands.ipynb",
      "provenance": [],
      "collapsed_sections": [],
      "authorship_tag": "ABX9TyOaf26ZenEIPgTxpDrNEZLQ",
      "include_colab_link": true
    },
    "kernelspec": {
      "name": "python3",
      "display_name": "Python 3"
    },
    "language_info": {
      "name": "python"
    }
  },
  "cells": [
    {
      "cell_type": "markdown",
      "metadata": {
        "id": "view-in-github",
        "colab_type": "text"
      },
      "source": [
        "<a href=\"https://colab.research.google.com/github/dataqueenpend/DS_From_Zero_To_Hero/blob/gh-pages/Most_common_functions_methods_commands.ipynb\" target=\"_parent\"><img src=\"https://colab.research.google.com/assets/colab-badge.svg\" alt=\"Open In Colab\"/></a>"
      ]
    },
    {
      "cell_type": "markdown",
      "metadata": {
        "id": "64YMe-6zlbNI"
      },
      "source": [
        " if in trouble, go to https:\n",
        " * [Python]('https://www.w3schools.com/python/default.asp')\n",
        " * [Pandas]('https://pandas.pydata.org/docs/user_guide/index.html')\n",
        " * [Matplotlib]('https://matplotlib.org/stable/gallery/index.html')\n",
        " * [Seaborn]('https://seaborn.pydata.org/api.html')\n",
        " * [SciPy]('https://docs.scipy.org/doc/scipy/tutorial/index.html')\n",
        "\n",
        "##Useful tricks, that can be used almost in any case\n",
        "\n",
        " "
      ]
    },
    {
      "cell_type": "code",
      "metadata": {
        "id": "6Ay94Ul0lk8A"
      },
      "source": [
        "#Swapping the values of the variable\n",
        "a,b = b,a #The values stored in var a is stored in var b, the value of var b is stored in var a\n",
        "a[1],a[-1] = a[-1],a[1] #Swapping values in a list"
      ],
      "execution_count": null,
      "outputs": []
    },
    {
      "cell_type": "markdown",
      "metadata": {
        "id": "xztjO8izIVUQ"
      },
      "source": [
        "## Dictionary"
      ]
    },
    {
      "cell_type": "code",
      "metadata": {
        "id": "3ViK_tKqIf0i"
      },
      "source": [
        "thisdict = {\n",
        "  \"brand\": \"Ford\",\n",
        "  \"model\": \"Mustang\",\n",
        "  \"year\": 1964\n",
        "}\n",
        "\n",
        "#Values\n",
        "thisdict[\"year\"] = 2018 #Changes dictionary values\n",
        "thisdict.update({\"year\": 2020}) #Changes the dictionary values with .update() method\n",
        "x = thisdict[\"model\"] #Access dicionary value\n",
        "x = thisdict.get(\"model\") #Access dictionary values with .get\n",
        "x = thisdict.values() #Prints the values of the dictionary\n",
        "\n",
        "#Keys\n",
        "x = thisdict.keys() #Prints the keys of the dictionary\n",
        "\n",
        "#Key&values\n",
        "x = thisdict.items() #Prints the keys and values of the dictionary in key:value order\n",
        "thisdict.update({\"color\": \"red\"}) # Adds new key:value pair into dictionary with.update() method\n",
        "thisdict.pop(\"model\") #Removes the item with a specific key\n",
        "del thisdict[\"model\"] #Removes the item with a specific key\n",
        "thisdict.popitem() #Removes last item in the dictionary\n",
        "\n",
        "thisdict.clear() #Empties a dictionary\n",
        "del thisdict #Deletes the whole dictionary"
      ],
      "execution_count": null,
      "outputs": []
    },
    {
      "cell_type": "markdown",
      "metadata": {
        "id": "ez634k1cUoWy"
      },
      "source": [
        "## List"
      ]
    },
    {
      "cell_type": "code",
      "metadata": {
        "id": "jeOrh2TcUsEI"
      },
      "source": [
        "thislist = [\"apple\", \"banana\", \"cherry\"]\n",
        "\n",
        "len(thislist) #Checks the number of the elements in the list\n",
        "\n",
        "thislist[1] #Access list elements - through index\n",
        "thislist[2:5] #Slices the list - access elements in a range\n",
        "thislist[1] = \"blackcurrant\" #Changes/Adds the element of the list through index\n",
        "thislist[1:3] = [\"blackcurrant\", \"watermelon\"] #Changes the elements of the list in range\n",
        "\n",
        "sorted(thislist)#Sorted gives a new sorted list\n",
        "thislist.sort()#Sort, sorts an existing list\n"
      ],
      "execution_count": null,
      "outputs": []
    },
    {
      "cell_type": "markdown",
      "metadata": {
        "id": "-C1i9ufAneGQ"
      },
      "source": [
        "## Boolean\n",
        "\n",
        "\n"
      ]
    },
    {
      "cell_type": "markdown",
      "metadata": {
        "id": "ZO6ZZpy-F2Hz"
      },
      "source": [
        "## DataFrame"
      ]
    },
    {
      "cell_type": "code",
      "metadata": {
        "id": "leb3ihCxF62x"
      },
      "source": [
        "import pandas as pd \n",
        "\n",
        "#Importing files with Pandas\n",
        "#Read csv from url\n",
        "url = \"https://assets.datacamp.com/production/repositories/469/datasets/8fb59b9a99957c3b9b1c82b623aea54d8ccbcd9f/2008_all_states.csv\"\n",
        "df = pd.read_csv(url)\n",
        "\n",
        "#DataFrame EDA\n",
        "df.shape #Calculates number of rows and columns of the DataFrame\n",
        "df.columns #Shows column names of the DataFrame in a index data structure - similar to a list\n",
        "df['col_name'].value_counts().sort_index() #Calcutes the number of values in selected DataFrame (and sorts from highest to the lowest)\n",
        "df['col_name'].describe() #Calculates common used statistics for the selected column in the DataFrame\n",
        "\n",
        "#Cleaning the DataFrame\n",
        "new_var = df.dropna(subset['col_name1', 'col_name2']) #Dropps NAN rows and subset the DataFrame, in this case selects two columns, stors it in a new variable\n",
        "\n",
        "#Manipulating the DataFrame\n",
        "col_sel = df['col_name'] #Selects DataFrame column -> returns Pandas Series\n",
        "df['col_name'].replace([0, 1], np.nan) #Replaces selected values (can be stored in a list) with other values (can be nan)\n",
        "df.groupby('col_name') #Groups by col_name in the DataFrame, returns Groupby objects (acts similar to the DataFrame)\n",
        "\n",
        "#Filtering the DataFrame\n",
        "df['col_name'] >= 37 #Filters the selected column with a comparison operator (==, !=, <, >, <=, >=)\n",
        "new_var = (col_name >=14) & (col_name <16) #Filters variable/column of the DataFrame with a multiple comparison operators\n"
      ],
      "execution_count": null,
      "outputs": []
    },
    {
      "cell_type": "markdown",
      "metadata": {
        "id": "DZMt4N_XCQUf"
      },
      "source": [
        "## NumPy"
      ]
    },
    {
      "cell_type": "code",
      "metadata": {
        "id": "TIWP2_OvCSRO"
      },
      "source": [
        "import numpy as np\n",
        "\n",
        "np.mean() #Calculates mean (average)\n",
        "np.std() # Calculates standard deviation\n"
      ],
      "execution_count": null,
      "outputs": []
    },
    {
      "cell_type": "markdown",
      "metadata": {
        "id": "8Kxsz-4vyt68"
      },
      "source": [
        "## Matplotlib"
      ]
    },
    {
      "cell_type": "code",
      "metadata": {
        "id": "9zvmiCJgyyR1"
      },
      "source": [
        "import matplotlib.pyplot as plt\n",
        "\n",
        "#Visualization for numerical data type\n",
        "#Histogram\n",
        "plt.hist(var_name_of_selected_col/df['col_name'/numpy array], bins=20, histtype='step') #Histogram - best for discrete, continous data and large datasets\n",
        "\n",
        "#Barchart\n",
        "plt.bar(var_name_of_selected_col, )\n",
        "\n",
        "#Scatter plot\n",
        "plt.plot(df, 'o', alpha=0.2) #Alternative way o creating scatter plot(faster) - best for checking if there is a relation between two numerical variables\n",
        "\n",
        "\n",
        "#Label the axes\n",
        "plt.xlabel('col_name1') \n",
        "plt.ylabel('col_name2')\n",
        "# Show the figure\n",
        "plt.show()"
      ],
      "execution_count": null,
      "outputs": []
    },
    {
      "cell_type": "markdown",
      "metadata": {
        "id": "Qck17GM4xzNV"
      },
      "source": [
        "## Seaborn"
      ]
    },
    {
      "cell_type": "code",
      "metadata": {
        "id": "89vfmpGCx1Je"
      },
      "source": [
        "import seaborn as sns\n",
        "#Type help(name_of_the_plot) for more info about the plot\n",
        "help(sns.swarmplot)\n",
        "\n",
        "\n",
        "#Swarm Plot\n",
        "sns.swarmplot(x='var_on_x_axes', y='var_on_y_axes', data=df) #Plots Swarm Plot, data = df/sliced df\n",
        "\n",
        "#Box Plot\n",
        "sns.boxplot(x='var_on_x_axes', y='var_on_y_axes', data=df) #Plots Box Plot, data = df/sliced df - if the swarm plot gets cluttered \n",
        "\n",
        "#Violin Plot\n",
        "sns.violinplot(x='var_on_x_axes', y='var_on_y_axes', data=df) #Plots Violin Plot, data = df/sliced df\n",
        "\n",
        "#KDE Plot\n",
        "sns.kdeplot(data=df, x=\"\") #Plots KDE plot, optional x argument if series object, data = df/series object\n",
        "\n",
        "\n",
        "#Show the figure\n",
        "plt.show()"
      ],
      "execution_count": null,
      "outputs": []
    },
    {
      "cell_type": "markdown",
      "metadata": {
        "id": "zSqliIDVDbbY"
      },
      "source": [
        "## Statistics \n",
        "\n",
        "Use **CDF**s for exploration.\n",
        "\n",
        "Use **PMF**s if there are a small number of unique values.\n",
        "\n",
        "Use **ECDF**s IF \n",
        "\n",
        "Use **KDE** if there are a lot of values.\n",
        "\n",
        "Use **Logistic Regression** if the data is categorical (each respondent belongs to one of a specified set of categories).\n",
        "\n",
        "\n",
        "* Can't measure non linear relationships:\n",
        "  * Use **Correlation** if you want to see if there is relathionship between the variables. \n",
        "\n",
        "  * Use **Simple Regression** if"
      ]
    },
    {
      "cell_type": "code",
      "metadata": {
        "id": "HooKHLlvDmDL"
      },
      "source": [
        "only_columns.corr() #Calculates the correlation between the subsetted columns stored in the variables only_columns\n",
        "linregress(xs,ys) #Calculates simple regression between xs and ys (subsetted columns with dropped NAN)"
      ],
      "execution_count": null,
      "outputs": []
    },
    {
      "cell_type": "code",
      "metadata": {
        "id": "BxmKOSDrXV90"
      },
      "source": [
        "#Making ECDF\n",
        "\n",
        "import numpy as np\n",
        "x = np.sort(df['col_name'])\n",
        "y = np.arange(1, len(x)+1) / len(x)\n",
        "_ = plt.plot(x, y, marker='.', linestyle='none')\n",
        "_ = plt.xlabel('label_x')\n",
        "_ = plt.ylabel('ECDF')\n",
        "plt.margins(0.02) # Keeps data off plot edges\n",
        "plt.show()"
      ],
      "execution_count": null,
      "outputs": []
    },
    {
      "cell_type": "markdown",
      "metadata": {
        "id": "JVo3WSYgmIWf"
      },
      "source": [
        "Simple **summary statistics**"
      ]
    },
    {
      "cell_type": "code",
      "metadata": {
        "id": "w6xz9vW_mRHg"
      },
      "source": [
        "import numpy as np\n",
        "\n",
        "np.mean('column_name') #Calculates the average\n",
        "np.median('column_name') #Calculates the median - middle value of the dataset (data needs to be sorted)\n",
        "np.percentile(df['col_name'], [25, 50, 75]) #Calculates the percentiles of the given numbers store in a list\n",
        "np.var(df['col_name']) #Calculates the variance - average of the squared distance from the mean (square the distance from the mean, and then take the average of all of these values)\n",
        "np.std(df['col_name']) # Calculates the standard deviation - the square root of the variance "
      ],
      "execution_count": null,
      "outputs": []
    }
  ]
}