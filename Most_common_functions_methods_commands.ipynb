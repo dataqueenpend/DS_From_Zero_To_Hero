{
  "nbformat": 4,
  "nbformat_minor": 0,
  "metadata": {
    "colab": {
      "name": "Most common functions-methods-commands.ipynb",
      "provenance": [],
      "collapsed_sections": [],
      "authorship_tag": "ABX9TyOG1B5+z3rhteCZFQoLX7nj",
      "include_colab_link": true
    },
    "kernelspec": {
      "name": "python3",
      "display_name": "Python 3"
    },
    "language_info": {
      "name": "python"
    }
  },
  "cells": [
    {
      "cell_type": "markdown",
      "metadata": {
        "id": "view-in-github",
        "colab_type": "text"
      },
      "source": [
        "<a href=\"https://colab.research.google.com/github/dataqueenpend/DS_From_Zero_To_Hero/blob/gh-pages/Most_common_functions_methods_commands.ipynb\" target=\"_parent\"><img src=\"https://colab.research.google.com/assets/colab-badge.svg\" alt=\"Open In Colab\"/></a>"
      ]
    },
    {
      "cell_type": "markdown",
      "metadata": {
        "id": "xztjO8izIVUQ"
      },
      "source": [
        "## Dictionary"
      ]
    },
    {
      "cell_type": "code",
      "metadata": {
        "id": "3ViK_tKqIf0i"
      },
      "source": [
        "thisdict = {\n",
        "  \"brand\": \"Ford\",\n",
        "  \"model\": \"Mustang\",\n",
        "  \"year\": 1964\n",
        "}\n",
        "\n",
        "#Values\n",
        "thisdict[\"year\"] = 2018 #Changes dictionary values\n",
        "thisdict.update({\"year\": 2020}) #Changes the dictionary values with .update() method\n",
        "x = thisdict[\"model\"] #Access dicionary value\n",
        "x = thisdict.get(\"model\") #Access dictionary values with .get\n",
        "x = thisdict.values() #Prints the values of the dictionary\n",
        "\n",
        "#Keys\n",
        "x = thisdict.keys() #Prints the keys of the dictionary\n",
        "\n",
        "#Key&values\n",
        "x = thisdict.items() #Prints the keys and values of the dictionary in key:value order\n",
        "thisdict.update({\"color\": \"red\"}) # Adds new key:value pair into dictionary with.update() method\n",
        "thisdict.pop(\"model\") #Removes the item with a specific key\n",
        "del thisdict[\"model\"] #Removes the item with a specific key\n",
        "thisdict.popitem() #Removes last item in the dictionary\n",
        "\n",
        "thisdict.clear() #Empties a dictionary\n",
        "del thisdict #Deletes the whole dictionary"
      ],
      "execution_count": null,
      "outputs": []
    },
    {
      "cell_type": "markdown",
      "metadata": {
        "id": "ez634k1cUoWy"
      },
      "source": [
        "## List"
      ]
    },
    {
      "cell_type": "code",
      "metadata": {
        "id": "jeOrh2TcUsEI"
      },
      "source": [
        "thislist = [\"apple\", \"banana\", \"cherry\"]\n",
        "\n",
        "len(thislist) #Checks the number of the elements in the list\n",
        "thislist[1] #Access list elements - through index\n",
        "thislist[2:5] #Slices the list - access elements in a range\n",
        "thislist[1] = \"blackcurrant\" #Changes the element of the list through index\n",
        "thislist[1:3] = [\"blackcurrant\", \"watermelon\"] #Changes the elements of the list in range\n"
      ],
      "execution_count": null,
      "outputs": []
    },
    {
      "cell_type": "markdown",
      "metadata": {
        "id": "-C1i9ufAneGQ"
      },
      "source": [
        ""
      ]
    },
    {
      "cell_type": "markdown",
      "metadata": {
        "id": "ZO6ZZpy-F2Hz"
      },
      "source": [
        "## DataFrame"
      ]
    },
    {
      "cell_type": "code",
      "metadata": {
        "id": "leb3ihCxF62x"
      },
      "source": [
        "import pandas as pd \n",
        "\n",
        "#DataFrame EDA\n",
        "df.shape #Calculates number of rows and columns of the DataFrame\n",
        "df.columns #Shows column names of the DataFrame in a index data structure - similar to a list\n",
        "df['col_name'].value_counts().sort_index() #Calcutes the number of values in selected DataFrame (and sorts from highest to the lowest)\n",
        "df['col_name'].describe() #Calculates common used statistics for the selected column in the DataFrame\n",
        "\n",
        "#Manipulating the DataFrame\n",
        "col_sel = df['col_name'] #Selects DataFrame column -> returns Pandas Series\n",
        "df['col_name'].replace([0, 1], np.nan) #Replaces selected values (can be stored in a list) with other values (can be nan)\n",
        "\n"
      ],
      "execution_count": null,
      "outputs": []
    },
    {
      "cell_type": "markdown",
      "metadata": {
        "id": "8Kxsz-4vyt68"
      },
      "source": [
        "## Matplotlib"
      ]
    },
    {
      "cell_type": "code",
      "metadata": {
        "id": "9zvmiCJgyyR1"
      },
      "source": [
        "import matplotlib.pyplot as plt\n",
        "\n",
        "#Visualization for numerical data type\n",
        "#Histogram\n",
        "plt.hist(var_name_of_selected_col, bins=20, histtype='step') #Histogram - best for discrete, continous data and large datasets\n",
        "plt.xlabel('col_name1') #Label the axes\n",
        "plt.ylabel('col_name2')\n",
        "\n",
        "# Show the figure\n",
        "plt.show()"
      ],
      "execution_count": null,
      "outputs": []
    }
  ]
}