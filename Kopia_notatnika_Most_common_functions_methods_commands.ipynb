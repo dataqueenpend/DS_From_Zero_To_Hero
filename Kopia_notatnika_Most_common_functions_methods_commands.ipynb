{
  "nbformat": 4,
  "nbformat_minor": 0,
  "metadata": {
    "colab": {
      "name": "Kopia notatnika Most common functions-methods-commands.ipynb",
      "provenance": [],
      "collapsed_sections": [],
      "authorship_tag": "ABX9TyO9KuCzw1eRxiQnaIWae5XD",
      "include_colab_link": true
    },
    "kernelspec": {
      "name": "python3",
      "display_name": "Python 3"
    },
    "language_info": {
      "name": "python"
    }
  },
  "cells": [
    {
      "cell_type": "markdown",
      "metadata": {
        "id": "view-in-github",
        "colab_type": "text"
      },
      "source": [
        "<a href=\"https://colab.research.google.com/github/dataqueenpend/DS_From_Zero_To_Hero/blob/gh-pages/Kopia_notatnika_Most_common_functions_methods_commands.ipynb\" target=\"_parent\"><img src=\"https://colab.research.google.com/assets/colab-badge.svg\" alt=\"Open In Colab\"/></a>"
      ]
    },
    {
      "cell_type": "markdown",
      "metadata": {
        "id": "64YMe-6zlbNI"
      },
      "source": [
        " if in trouble, go to https:\n",
        " * [Python]('https://www.w3schools.com/python/default.asp')\n",
        " * [Pandas]('https://pandas.pydata.org/docs/user_guide/index.html')\n",
        " * [Matplotlib]('https://matplotlib.org/stable/gallery/index.html')\n",
        " * [Seaborn]('https://seaborn.pydata.org/api.html')\n",
        " * [SciPy]('https://docs.scipy.org/doc/scipy/tutorial/index.html')\n",
        "\n",
        "##Useful tricks, that can be used almost in any case\n",
        "\n",
        " "
      ]
    },
    {
      "cell_type": "code",
      "metadata": {
        "id": "6Ay94Ul0lk8A"
      },
      "source": [
        "#Swapping the values of the variable\n",
        "a,b = b,a #The values stored in var a is stored in var b, the value of var b is stored in var a\n",
        "a[1],a[-1] = a[-1],a[1] #Swapping values in a list\n",
        "function.__doc__) #Retrieving docstring of a function"
      ],
      "execution_count": null,
      "outputs": []
    },
    {
      "cell_type": "markdown",
      "metadata": {
        "id": "-tsIyOpb2KjY"
      },
      "source": [
        "##Strings"
      ]
    },
    {
      "cell_type": "code",
      "metadata": {
        "id": "6pLZJbIq2MXe"
      },
      "source": [
        "#String formatting\n",
        "my_num = 5\n",
        "my_str = \"Hello\"\n",
        "f = \"my_num is {}, and my_str is \\\"{}\\\".\".format(my_num, my_str) "
      ],
      "execution_count": null,
      "outputs": []
    },
    {
      "cell_type": "markdown",
      "metadata": {
        "id": "xztjO8izIVUQ"
      },
      "source": [
        "## Dictionary"
      ]
    },
    {
      "cell_type": "code",
      "metadata": {
        "id": "3ViK_tKqIf0i"
      },
      "source": [
        "thisdict = {\n",
        "  \"brand\": \"Ford\",\n",
        "  \"model\": \"Mustang\",\n",
        "  \"year\": 1964\n",
        "}\n",
        "\n",
        "#Values\n",
        "thisdict[\"year\"] = 2018 #Changes dictionary values\n",
        "thisdict.update({\"year\": 2020}) #Changes the dictionary values with .update() method\n",
        "x = thisdict[\"model\"] #Access dicionary value\n",
        "x = thisdict.get(\"model\") #Access dictionary values with .get\n",
        "x = thisdict.values() #Prints the values of the dictionary\n",
        "\n",
        "\n",
        "#Keys\n",
        "x = thisdict.keys() #Prints the keys of the dictionary\n",
        "\n",
        "#Key&values\n",
        "x = thisdict.items() #Prints the keys and values of the dictionary in key:value order\n",
        "thisdict.update({\"color\": \"red\"}) # Adds new key:value pair into dictionary with.update() method\n",
        "thisdict.pop(\"model\") #Removes the item with a specific key\n",
        "del thisdict[\"model\"] #Removes the item with a specific key\n",
        "thisdict.popitem() #Removes last item in the dictionary\n",
        "\n",
        "thisdict.clear() #Empties a dictionary\n",
        "del thisdict #Deletes the whole dictionary"
      ],
      "execution_count": null,
      "outputs": []
    },
    {
      "cell_type": "markdown",
      "metadata": {
        "id": "ez634k1cUoWy"
      },
      "source": [
        "## List"
      ]
    },
    {
      "cell_type": "code",
      "metadata": {
        "id": "jeOrh2TcUsEI"
      },
      "source": [
        "thislist = [\"apple\", \"banana\", \"cherry\"]\n",
        "\n",
        "len(thislist) #Checks the number of the elements in the list\n",
        "\n",
        "thislist[1] #Access list elements - through index\n",
        "thislist[2:5] #Slices the list - access elements in a range\n",
        "thislist[1] = \"blackcurrant\" #Changes/Adds the element of the list through index\n",
        "thislist[1:3] = [\"blackcurrant\", \"watermelon\"] #Changes the elements of the list in range\n",
        "boardgames.insert(0, 'Gloomhaven') #Insert some value to list at certain index\n",
        "\n",
        "sorted(thislist)#Sorted gives a new sorted list\n",
        "thislist.sort()#Sort, sorts an existing list\n",
        "\n",
        "[num ** 2 for num in range(10) if num % 2 == 0] #List comprehension - formula, loop, condition\n"
      ],
      "execution_count": null,
      "outputs": []
    },
    {
      "cell_type": "markdown",
      "metadata": {
        "id": "-C1i9ufAneGQ"
      },
      "source": [
        "## Boolean\n",
        "\n",
        "\n"
      ]
    },
    {
      "cell_type": "markdown",
      "metadata": {
        "id": "Sx8ZFblTZ3JS"
      },
      "source": [
        "#Generators"
      ]
    },
    {
      "cell_type": "code",
      "metadata": {
        "id": "3jE-QoUoZ40Y"
      },
      "source": [
        "lst = ['numpy', 'pandas', 'requests']\n",
        "lst_gen = (pkg for pkg in lst)\n",
        "print(lst_gen)\n",
        "next(lst_gen) #Calling the generator object"
      ],
      "execution_count": null,
      "outputs": []
    },
    {
      "cell_type": "code",
      "metadata": {
        "id": "5YLFWEfKaGwe"
      },
      "source": [
        "a = {1, 2, 3, 4}\n",
        "b = {3, 4, 5, 6}\n",
        "a.intersection(b) #Returns those values which are the same in both "
      ],
      "execution_count": null,
      "outputs": []
    },
    {
      "cell_type": "markdown",
      "metadata": {
        "id": "XZFNf6kQAQWp"
      },
      "source": [
        "##Objects and classes\n",
        "GO TO https://www.python-course.eu/python3_class_and_instance_attributes.php when in trouble\n"
      ]
    },
    {
      "cell_type": "code",
      "metadata": {
        "id": "lsT6hK-eA_UB"
      },
      "source": [
        "class MyClass: #Creates class\n",
        "  x = 5\n",
        "\n",
        "p1 = MyClass() #Creates objects\n",
        "print(p1.x)\n",
        "\n",
        "\n",
        "class A: #What is class attribute\n",
        "    a = \"I am a class attribute!\"\n",
        "\n",
        "x = A()\n",
        "y = A()\n",
        "x.a"
      ],
      "execution_count": null,
      "outputs": []
    },
    {
      "cell_type": "markdown",
      "metadata": {
        "id": "dYWVvOfWBWMv"
      },
      "source": [
        "Use the **__init__()** (constructor) function to assign values to object properties, or other operations that are necessary to do when the object is being created:"
      ]
    },
    {
      "cell_type": "code",
      "metadata": {
        "id": "F0mo3TYUBbT-"
      },
      "source": [
        "class Person: \n",
        "  def __init__(self, name, age): #Here is a function__init__, self arg is mandatory,  self  has to be the first parameter of any function in the class! #Constructor medthod so to speak\n",
        "    self.name = name\n",
        "    self.age = age\n",
        "\n",
        "p1 = Person(\"John\", 36)\n",
        "\n",
        "print(p1.name)\n",
        "print(p1.age)"
      ],
      "execution_count": null,
      "outputs": []
    },
    {
      "cell_type": "markdown",
      "metadata": {
        "id": "FrjbS_dbBqA0"
      },
      "source": [
        "Objects can also contain methods. **Methods in objects** are functions that belong to the object."
      ]
    },
    {
      "cell_type": "code",
      "metadata": {
        "id": "aTiX0lj4BuzZ"
      },
      "source": [
        "class Person:\n",
        "  def __init__(self, name, age):\n",
        "    self.name = name\n",
        "    self.age = age\n",
        "\n",
        "  def myfunc(self): #Here is a method\n",
        "    print(\"Hello my name is \" + self.name)\n",
        "\n",
        "p1 = Person(\"John\", 36)\n",
        "p1.myfunc() #Here the method is executed in p1 object"
      ],
      "execution_count": null,
      "outputs": []
    },
    {
      "cell_type": "markdown",
      "metadata": {
        "id": "hkR_KtsuDyyx"
      },
      "source": [
        "Modyfing the class:"
      ]
    },
    {
      "cell_type": "code",
      "metadata": {
        "id": "mNLBYERdD8ub"
      },
      "source": [
        "p1.age = 40 #Modifies object properties\n",
        "del p1.age #Deletes object properties\n",
        "del p1 #Deletes objects\n",
        "\n",
        "class Person:#Class definitions cannot be empty, but if you for some reason have a class definition with no content, put in the pass statement to avoid getting an error.\n",
        "  pass"
      ],
      "execution_count": null,
      "outputs": []
    },
    {
      "cell_type": "markdown",
      "metadata": {
        "id": "6FE4tq_f25ZJ"
      },
      "source": [
        "Methods in OOP:"
      ]
    },
    {
      "cell_type": "code",
      "metadata": {
        "id": "RKQC86dZ3C7m"
      },
      "source": [
        "# String Representation\n",
        "#__str__is called when you use print() or str() on an object - \"user-friendly\" output describing an object\n",
        "class Customer:\n",
        "  def __init__(self, name, balance):\n",
        "  self.name, self.balance = name, balance\n",
        "\n",
        "  def __str__(self):\n",
        "    cust_str = \"\"\"\n",
        "    Customer:\n",
        "      name: {name}\n",
        "       balance: {balance}\n",
        "    \"\"\".format(name = self.name, balance = self.balance)\n",
        "  return cust_str \n",
        "\n",
        "\n",
        "#__repr__ is called when you use repr() on an object, print the object in the console without calling print() -  return the expression that, when evaluated, will return the same object, ensuring the reproducibility of your code.\n",
        "class Customer:\n",
        "  def __init__(self, name, balance):\n",
        "    self.name, self.balance = name, balance\n",
        "\n",
        "  def __repr__(self): \n",
        "    # Notice the '...' around name\n",
        "    return \"Customer('{name}', {balance})\".format(name = self.name, balance = self.balance)\n",
        "cust = Customer(\"Maryam Azar\", 3000)\n",
        "cust # <--- # Will implicitly call __repr__()"
      ],
      "execution_count": null,
      "outputs": []
    },
    {
      "cell_type": "markdown",
      "metadata": {
        "id": "9LwmNh_zDuYM"
      },
      "source": [
        "Exceptions:\n"
      ]
    },
    {
      "cell_type": "code",
      "metadata": {
        "id": "fn0giyqMD2FX"
      },
      "source": [
        "try:\n",
        "  # Try running some code\n",
        "except ExceptionNameHere:\n",
        "  # Run this code if ExceptionNameHere happens\n",
        "except AnotherExceptionHere: #<-- multiple except blocks\n",
        "  # Run this code if AnotherExceptionHere happens\n",
        "...\n",
        "finally: #<-- optional\n",
        "  # Run this code no matter what\n",
        "\n",
        "\n",
        "#Raise an error\n",
        "raise ValueError(\"Invalid length!\") # <--- Will stop the program and raise an erro\n",
        "\n",
        "\n",
        "#Custom exceptions\n",
        "# To define a custom exception, just define a class that inherits from the built-in Exception class or one of its subclasses. The class itself can be empty - inheritance alone is enough to ensure that Python will treat this class as an exception class.\n",
        "class BalanceError(Exception): pass\n",
        "\n",
        "class Customer:\n",
        "  def __init__(self, name, balance):\n",
        "    if balance < 0 :\n",
        "      raise BalanceError(\"Balance has to be non-negative!\") #If balance <0 custom exceptions error which we constructed earlier will be raised\n",
        "    else:\n",
        "      self.name, self.balance = name, balance"
      ],
      "execution_count": null,
      "outputs": []
    },
    {
      "cell_type": "code",
      "metadata": {
        "id": "LfLHq6dQDypv"
      },
      "source": [
        ""
      ],
      "execution_count": null,
      "outputs": []
    },
    {
      "cell_type": "markdown",
      "metadata": {
        "id": "ZO6ZZpy-F2Hz"
      },
      "source": [
        "## DataFrame"
      ]
    },
    {
      "cell_type": "code",
      "metadata": {
        "id": "leb3ihCxF62x"
      },
      "source": [
        "import pandas as pd \n",
        "\n",
        "#Importing files with Pandas\n",
        "#Read csv from url\n",
        "url = \"https://url.csv\"\n",
        "df = pd.read_csv(url)\n",
        "\n",
        "#DataFrame EDA\n",
        "df.shape #Calculates number of rows and columns of the DataFrame\n",
        "df.columns #Shows column names of the DataFrame in a index data structure - similar to a list\n",
        "df['col_name'].value_counts().sort_index() #Calcutes the number of values in selected DataFrame (and sorts from highest to the lowest)\n",
        "df.value_counts('col_name') #Calculates the number of values in the column\n",
        "df['col_name'].describe() #Calculates common used statistics for the selected column in the DataFrame\n",
        "df.apply(np.sqrt) #Calculates/applies np.sqrt on the df\n",
        "\n",
        "#Cleaning the DataFrame\n",
        "new_var = df.dropna(subset['col_name1', 'col_name2']) #Dropps NAN rows and subset the DataFrame, in this case selects two columns, stors it in a new variable\n",
        "df.reset_index(drop=True) #Reset the index - when you manipulate the df in the way that rows will not be eneumerated from 0 (0,1,2,3,4, etc)\n",
        "df.columns = ['country','year','population','continent','life_exp','gdp_per_cap'] #Naming the columns in pandas\n",
        "\n",
        "#Manipulating the DataFrame\n",
        "col_sel = df['col_name'] #Selects DataFrame column -> returns Pandas Series\n",
        "DF[(DF[\"COL_NAME\"]=='ROW') | (DF[\"COL_NAME\"]=='ROW')] #Selects specific rows from the df \n",
        "df['col_name'].replace([0, 1], np.nan) #Replaces selected values (can be stored in a list) with other values (can be nan)\n",
        "df.groupby('col_name') #Groups by col_name in the DataFrame, returns Groupby objects (acts similar to the DataFrame)\n",
        "df.sort_index().loc['creative'] #Sorts selected column \n",
        "df.columns = list_column_names #Changes dataframe columns name to the column names in the list\n",
        "\n",
        "#Filtering the DataFrame\n",
        "df['col_name'] >= 37 #Filters the selected column with a comparison operator (==, !=, <, >, <=, >=)\n",
        "new_var = (col_name >=14) & (col_name <16) #Filters variable/column of the DataFrame with a multiple comparison operators\n",
        "outliers = emissions_by_country[(emissions_by_country < lower) | (emissions_by_country > upper)] #Filtering subsetted DataFrame with values stored in variable lower and upper\n"
      ],
      "execution_count": null,
      "outputs": []
    },
    {
      "cell_type": "markdown",
      "metadata": {
        "id": "DZMt4N_XCQUf"
      },
      "source": [
        "## NumPy"
      ]
    },
    {
      "cell_type": "code",
      "metadata": {
        "id": "TIWP2_OvCSRO"
      },
      "source": [
        "import numpy as np\n",
        "\n",
        "#Creating an arrays\n",
        "np.empty() #Creates an array without initializing the entries of given shape and type. \n",
        "\n",
        "#Array operations\n",
        "np.concatenate() #Concats number of arrays. Takes a tuple of arrays for concatenation.\n",
        "\n",
        "#Random functions\n",
        "np.random.permutation() #Randomly scrables the data ine the array\n",
        "\n",
        "\n",
        "\n"
      ],
      "execution_count": null,
      "outputs": []
    },
    {
      "cell_type": "markdown",
      "metadata": {
        "id": "8Kxsz-4vyt68"
      },
      "source": [
        "## Matplotlib"
      ]
    },
    {
      "cell_type": "code",
      "metadata": {
        "id": "9zvmiCJgyyR1"
      },
      "source": [
        "import matplotlib.pyplot as plt\n",
        "\n",
        "#Visualization for numerical data type\n",
        "#Histogram\n",
        "plt.hist(var_name_of_selected_col/df['col_name'/numpy array], bins=20, histtype='step') #Histogram - best for discrete, continous data and large datasets\n",
        "#or\n",
        "# Create histogram of co2_emission for food_category 'beef'\n",
        "food_consumption[food_consumption['food_category'] == 'beef']['co2_emission'].hist() #In this way you can create histogram selecting specific value in one column and numerical value in the other column\n",
        "\n",
        "#Barchart\n",
        "plt.bar(var_name_of_selected_col, )\n",
        "\n",
        "#Scatter plot\n",
        "plt.plot(df, 'o', alpha=0.2) #Alternative way o creating scatter plot(faster) - best for checking if there is a relation between two numerical variables\n",
        "sns.scatterplot( data=world_happiness, x='hapiness_score', y='life_exp')\n",
        "\n",
        "#Bin edges on integers \n",
        "# Compute bin edges: bins\n",
        "bins = np.arange(0, max(n_defaults) + 1.5) - 0.5\n",
        "# Generate histogram\n",
        "plt.hist(n_defaults, bins=bins, normed=True)\n",
        "\n",
        "\n",
        "#Label the axes\n",
        "plt.xlabel('col_name1') \n",
        "plt.ylabel('col_name2')\n",
        "# Show the figure\n",
        "plt.show()"
      ],
      "execution_count": null,
      "outputs": []
    },
    {
      "cell_type": "markdown",
      "metadata": {
        "id": "Qck17GM4xzNV"
      },
      "source": [
        "## Seaborn"
      ]
    },
    {
      "cell_type": "code",
      "metadata": {
        "id": "89vfmpGCx1Je"
      },
      "source": [
        "import seaborn as sns\n",
        "#Type help(name_of_the_plot) for more info about the plot\n",
        "help(sns.swarmplot)\n",
        "\n",
        "#Line Plot\n",
        "sns.lineplot(data=df, x='col_name1', y='col_name2') #Plots line plot\n",
        "\n",
        "#Dist Plot \n",
        "sns.distplot(df['col_name'], kde=False, bins=10) #Plots distplot which is similar to the matplotlib histogram\n",
        "\n",
        "#Swarm Plot\n",
        "sns.swarmplot(x='var_on_x_axes', y='var_on_y_axes', data=df) #Plots Swarm Plot, data = df/sliced df\n",
        "\n",
        "#Box Plot\n",
        "sns.boxplot(x='var_on_x_axes', y='var_on_y_axes', data=df) #Plots Box Plot, data = df/sliced df - if the swarm plot gets cluttered \n",
        "\n",
        "#Violin Plot\n",
        "sns.violinplot(x='var_on_x_axes', y='var_on_y_axes', data=df) #Plots Violin Plot, data = df/sliced df\n",
        "\n",
        "#KDE Plot\n",
        "sns.kdeplot(data=df, x=\"\") #Plots KDE plot, optional x argument if series object, data = df/series object\n",
        "\n",
        "#Point Plot\n",
        "sns.pointplot(data=df, y=\"DRG Definition\", x=\"Average Covered Charges\", hue=\"Region\")\n",
        "\n",
        "#Heatmap\n",
        "sns.heatmap(df.corr(), square=True, cmap='RdYlGn') #Plots heatmap with a correlation of different vars in the df\n",
        "\n",
        "#FacetGrid\n",
        "sns.FacetGrid(tips, col=\"name\", row=\"name\") #Plots empty facet grid\n",
        "\n",
        "g = sns.FacetGrid(tips, col=\"time\",  row=\"sex\") #Initializes Facet Grid\n",
        "g.map(sns.scatterplot, \"total_bill\", \"tip\") #Mapps Facet Grid\n",
        "g.set_axis_labels(\"Total bill\", \"Count\") #Labels for Facet Grid axes\n",
        "\n",
        "#Paiplot - shortcut for PairGrid\n",
        "sns.pairplot(df, vars=[\"Fair_Mrkt_Rent\", \"Median_Income\"], kind='reg', diag_kind='hist') #Multiple plotting in one line, vars, kind, dig_kind are optional\n",
        "\n",
        "g = sns.PairGrid(df, vars=[\"Fair_Mrkt_Rent\",\"Median_Income\"]) #Alternative way o creating paitplot with customization of plots\n",
        "g = g.map_diag(plt.hist)\n",
        "g = g.map_offdiag(plt.scatter)\n",
        "\n",
        "#Add vertical line\n",
        "plt.axvline(50, color='green') #Adds a vertical line in desired color at the middle of x axes\n",
        "#Apply log transformation into the data\n",
        "ax.set_yscale(\"log\")\n",
        "#Set x_ticks\n",
        "ax.set_xticks(xticks) #In the parantheses is a variable in which we store the position of x-ticks\n",
        "# Label axes\n",
        "_ = plt.xlabel('parental beak depth (mm)')\n",
        "_ = plt.ylabel('offspring beak depth (mm)')\n",
        "# Add legend\n",
        "_ = plt.legend(('G. fortis', 'G. scandens'), loc='lower right')\n",
        "#Set margins\n",
        "plt.margins(0.02)\n",
        "#Height of the bars of the histogram is equal to one\n",
        "_ = plt.hist(normed=True)\n",
        "\n",
        "#Optional arguments - put those line into line of plot creation\n",
        "order=category_order #Generates plot in which columns are showed in specific order\n",
        "\n",
        "#Shared axes\n",
        "fig, (ax0, ax1) = plt.subplots(nrows=1, ncols=2, sharey=True) #sharey=True\n",
        "sns.distplot(avocado.query('region == \"NewYork\"')['AveragePrice'], ax=ax0) #ax=ax0\n",
        "sns.distplot(avocado.query('region == \"Philadelphia\"')['AveragePrice'], ax=ax1) #ax=ax1\n",
        "\n",
        "#Show the figure\n",
        "plt.show()"
      ],
      "execution_count": null,
      "outputs": []
    },
    {
      "cell_type": "markdown",
      "metadata": {
        "id": "zSqliIDVDbbY"
      },
      "source": [
        "## Statistics \n",
        "\n",
        "Use **CDF**s for exploration.\n",
        "\n",
        "Use **PMF**s if there are a small number of unique values.\n",
        "\n",
        "Use **ECDF**s allows you to plot a feature of your data in order from least to greatest and see the whole feature as if is distributed across the data set. It is build on **empirical** data.\n",
        "\n",
        "Use **KDE** if there are a lot of values.\n",
        "\n",
        "Use **Logistic Regression** if the data is categorical (each respondent belongs to one of a specified set of categories).\n",
        "\n",
        "\n",
        "* Can't measure non linear relationships:\n",
        "  * Use **Correlation** if you want to see if there is relathionship between the variables. \n",
        "\n",
        "  * Use **Simple Regression** if"
      ]
    },
    {
      "cell_type": "code",
      "metadata": {
        "id": "HooKHLlvDmDL"
      },
      "source": [
        "only_columns.corr() #Calculates the correlation between the subsetted columns stored in the variables only_columns\n",
        "linregress(xs,ys) #Calculates simple regression between xs and ys (subsetted columns with dropped NAN)"
      ],
      "execution_count": null,
      "outputs": []
    },
    {
      "cell_type": "code",
      "metadata": {
        "id": "ejcw5G0_zZH7"
      },
      "source": [
        "#ECDF function - for future use(can be use to compute the CDF also, but the data input should contain theorethical data, not the real data)\n",
        "def ecdf(data):\n",
        "    \"\"\"Compute ECDF for a one-dimensional array of measurements.\"\"\"\n",
        "    # Number of data points: n\n",
        "    n = len(data)\n",
        "\n",
        "    # x-data for the ECDF: x\n",
        "    x = np.sort(data)\n",
        "\n",
        "    # y-data for the ECDF: y\n",
        "    y = np.arange(1, n+1) / n\n",
        "\n",
        "    return x, y"
      ],
      "execution_count": null,
      "outputs": []
    },
    {
      "cell_type": "code",
      "metadata": {
        "id": "BxmKOSDrXV90"
      },
      "source": [
        "#Making ECDF\n",
        "import matplotlib.pyplot as plt\n",
        "import numpy as np\n",
        "x = np.sort(df['col_name'])\n",
        "y = np.arange(1, len(x)+1) / len(x)\n",
        "_ = plt.plot(x, y, marker='.', linestyle='none')\n",
        "_ = plt.xlabel('label_x')\n",
        "_ = plt.ylabel('ECDF')\n",
        "plt.margins(0.02) # Keeps data off plot edges\n",
        "plt.show()"
      ],
      "execution_count": null,
      "outputs": []
    },
    {
      "cell_type": "markdown",
      "metadata": {
        "id": "JVo3WSYgmIWf"
      },
      "source": [
        "Simple **summary statistics**\n",
        "\n",
        "* **Variance** - Average distance from each data point to the data's mean.\n",
        "* **Covariance** - (+/-)  positives value indicate that two variable moves in the same direction / negative values show that two variable moves in the inverse direction.\n",
        "* **Standard Deviation** - measures the dispersion of a dataset relative to its mean.\n",
        "  * SEM - **standard error of the mean** - Under not-too-restrictive conditions, the value of the mean will always be Normally distributed. Caculates given by the standard deviation of the data divided by the square root of the number of data points. ```sem = np.std(data) / np.sqrt(len(data))```\n",
        "* **Pearson correlation coefficient** -  a measure of how much of the variability in two variables is due to them being correlated (range -1(negatively correlated:1(possitevely corelated). The Pearson correlation coefficient is the ratio of the covariance to the geometric mean of the variances of the two data sets. \n",
        "\n",
        "* **Interquartile range (IQR)** - The interquartile range, or IQR, is another measure of spread. It's the distance between the 25th and 75th percentile, which is also the height of the box in a boxplot. We can calculate it using the quantile function, or using the iqr function from scipy-dot-stats to get 5-point-9 hours."
      ]
    },
    {
      "cell_type": "code",
      "metadata": {
        "id": "w6xz9vW_mRHg"
      },
      "source": [
        "import numpy as np\n",
        "\n",
        "\n",
        "emissions_by_country = food_consumption.groupby('country')['co2_emission'].sum() #Calculate the sum() of values in the column co2 grouped by specific column (country)\n",
        "np.mean('column_name') #Calculates the average\n",
        "np.median('column_name') #Calculates the median - middle value of the dataset (data needs to be sorted)\n",
        "np.percentile(df['col_name'], [25, 50, 75]) #Calculates the percentiles of the given numbers store in a list\n",
        "np.var(df['col_name']) #Calculates the variance - average of the squared distance from the mean (square the distance from the mean, and then take the average of all of these values)\n",
        "np.std(df['col_name']) #Calculates the standard deviation - the square root of the variance \n",
        "np.cov(x, y) #Calculates covariance for two sets (x,y) of variables. Returns an 2darray - covariance matrix, in which one array stores variance of the first dataset, second array stores variance of the second dataset. Together they create covariance matrix.\n",
        "np.corrcoef(x, y) # Calculates pearson correlation coefficient (x,y).\n",
        "\n",
        "np.quantile(msleep['sleep_total'], 0.75) - np.quantile(msleep['sleep_total'], 0.25) #Calculates IQR\n",
        "# or\n",
        "from scipy.stats import iqr\n",
        "iqr(msleep['sleep_total'])\n",
        "stats.iqr(pH) #Calculates iqr from var pH"
      ],
      "execution_count": null,
      "outputs": []
    },
    {
      "cell_type": "code",
      "metadata": {
        "id": "bLpmQnFo8E63"
      },
      "source": [
        "#Function pearson correlation coefficient\n",
        "def pearson_r(x, y):\n",
        "    \"\"\"Compute Pearson correlation coefficient between two arrays.\"\"\"\n",
        "    # Compute correlation matrix: corr_mat\n",
        "    corr_mat = np.corrcoef(x,y)\n",
        " \n",
        " \n",
        "    # Return entry [0,1]\n",
        "    return corr_mat[0,1]"
      ],
      "execution_count": null,
      "outputs": []
    },
    {
      "cell_type": "markdown",
      "metadata": {
        "id": "iMnyfoB7WRI7"
      },
      "source": [
        "## Hacker Statistics\n",
        " For discrete variables:\n",
        "* **Discrete probability distribution** - describes the probability of each possible outcome in a scenario. We can also talk about the expected value of a distribution, which is the mean of a distribution. We can calculate this by multiplying each value by its probabilityand summing.\n",
        "* **Binomial distribution** - The binomial distribution describes the probability of the number of successes in a sequence of independent trials. In other words, it can tell us the probability of getting some number of heads in a sequence of coin flips.\n",
        "* **Poissson distribution** - the Poisson distribution is a limit of the Binomial distribution for rare events. Events in poisson the distribution don't have a time-relationship between themselves. They occur randomly - like child births/aviation catastrophes etc. \n",
        " \n",
        " \n",
        " For continous variables:\n",
        "* **Normal(gaussian) distribution** - The normal distribution shape is commonly referred to as a \"bell curve\". The normal distribution has a few important properties:\n",
        "    * it's symmetrical, so the left side is a mirror image of the right\n",
        "    * just like any continuous distribution, the area beneath the curve is 1\n",
        "    * the probability never hits 0, even if it looks like it does at the tail ends. Only 0.006% of its area is contained beyond the edges of this graph\n",
        "    * is described by its mean and standard deviation.\n",
        "* **Exponential distribution** - represents the probability of a certain time passing between Poisson (random) events.\n",
        "\n",
        "\n",
        "Regression:\n",
        "* **Least squares** - can be computed with **np.polyfit()**, the process of finding the parameters for which the sum of the squares of the residuals is minimal. Residuals - points away from the line. Slope - slope of the line. Intercept - point of y axes intercept. \n",
        "  * Regression equation```y = a*x + b```.\n",
        "\n",
        "**Non-linear relathionship?**\n",
        " Certain statistical methods rely on variables having a linear relationship\n",
        "  * Correlation coeffcient\n",
        "  * Linear regression. \n",
        "\n",
        "*There are lots of transformations that can be used to make a relationship more linear*:\n",
        "\n",
        "* **Log transformation** - When data is highly skewed, we can apply a log transformation ```msleep['log_bodywt'] = np.log(msleep['bodywt'])```\n",
        "* taking the square root sqrt(x)\n",
        "* or reciprocal of a variable 1 / x, \n",
        "* Combinations of these, e.g.:\n",
        "    * log(x) and log(y)\n",
        "    * sqrt(x) and 1 / y"
      ]
    },
    {
      "cell_type": "markdown",
      "metadata": {
        "id": "-3njuiD0hYBC"
      },
      "source": [
        "![image.png](data:image/png;base64,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)"
      ]
    },
    {
      "cell_type": "markdown",
      "metadata": {
        "id": "mgmibG3EhYyd"
      },
      "source": [
        "![image.png](data:image/png;base64,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)"
      ]
    },
    {
      "cell_type": "markdown",
      "metadata": {
        "id": "xGms_IfGheHM"
      },
      "source": [
        "![image.png](data:image/png;base64,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)"
      ]
    },
    {
      "cell_type": "markdown",
      "metadata": {
        "id": "6b91VC93hinD"
      },
      "source": [
        "![image.png](data:image/png;base64,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)"
      ]
    },
    {
      "cell_type": "markdown",
      "metadata": {
        "id": "LLZj_-Azhm5z"
      },
      "source": [
        "![image.png](data:image/png;base64,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)"
      ]
    },
    {
      "cell_type": "code",
      "metadata": {
        "id": "5rKlxnH2WUUq"
      },
      "source": [
        "import numpy as np\n",
        "np.random.seed() #Function that allows to reproduce random calculations. Takes a numerical value as an argument. It is not advisible to use anymore.\n",
        "sample = np.random.choice(data, 5) #Generates random sample from data, 2nd arg is size \n",
        "np.random.randint(2, size=10) #Generates random integer values\n",
        " \n",
        "np.random.random() #Generates a random number between 0 and 1. Size the number of generated number by passing argument size = any number.\n",
        "np.random.binomial(n,p) #Draw samples from a binomial distribution (takes two arguments n(Parameter of the distribution  >= 0) and p(Parameter of the distribution, >= 0 and <=1), and optional size) \n",
        "np.random.poisson(mean, size=10000) #Draw samples from poisson distribution (1st arg = mean, 2nd arg= size of the sample )\n",
        "\n",
        "np.random.normal(mean, std, size=) #Draw samples from normal distribution (takes values as arguments for mean, std and size)\n",
        "np.random.exponential() #Drwa samples from an exponential distribution (takes single parameter - the typical interval time of the events occurance(the mean interval time))\n",
        "\n",
        "#or \n",
        "# 1 = head, 0 = tails\n",
        "from scipy.stats import binom \n",
        "binom.rvs(1, 0.5, size=1) #Siulating binary distribution with scipy.stats binom\n",
        "\n",
        "#Regression line\n",
        "np.polyfit(total_votes, dem_share, 1) #Computing least squares. Takes x,y data, and the degree of polynomial. Linear functions - 1. Returns slope and intercept of the best fit line."
      ],
      "execution_count": null,
      "outputs": []
    },
    {
      "cell_type": "markdown",
      "metadata": {
        "id": "z38nLZ3gHkkF"
      },
      "source": [
        "## Bootstraping \n",
        "**Bootstrapping** - the use of resampled data to perform statistical inference. With bootstraping we can answear a question: what would happen if we could repeat the data acquisition an infinite number of times. Can we **use only the data we** actually **have to get close to the same result as an infinitude of experiments**? Yes. With bootraping technique.\n",
        "\n",
        "* **Bootstrap sample** - a resampled array of the data\n",
        "* **Bootstrap replicate** - a statistic computed from a resampled array\n",
        "\n"
      ]
    },
    {
      "cell_type": "code",
      "metadata": {
        "id": "PwSOJaz9ITqz"
      },
      "source": [
        "import numpy as np\n",
        "\n",
        "#Resampling engine: np.random.choice()\n",
        "np.random.choice([1,2,3,4,5], size=5) \n",
        "\n",
        "#Computing a bootstrap replicate\n",
        "bs_sample = np.random.choice(michelson_speed_of_light,size=100)"
      ],
      "execution_count": null,
      "outputs": []
    },
    {
      "cell_type": "code",
      "metadata": {
        "id": "OZPC9f2Yu8l2"
      },
      "source": [
        "#Bootstrap replicate function\n",
        "def bootstrap_replicate_1d(data, func): #Replicates a given data and calculates a desired function\n",
        "  \"\"\"Generate bootstrap replicate of 1D data.\"\"\"\n",
        "  bs_sample = np.random.choice(data, len(data))\n",
        "  return func(bs_sample)\n",
        "\n",
        "#For many replicates\n",
        "def bootstrap_many_replicates(data, func,size = 1):\n",
        "  bs_replicates = np.empty(size)\n",
        "  for i in range(size):\n",
        "    bs_replicates[i] = bootstrap_replicate_1d(data, func)\n",
        "  return bs_replicates"
      ],
      "execution_count": null,
      "outputs": []
    },
    {
      "cell_type": "markdown",
      "metadata": {
        "id": "LeGa637pX66P"
      },
      "source": [
        "###Shifting data to share the same mean(f.e.)\n"
      ]
    },
    {
      "cell_type": "code",
      "metadata": {
        "id": "Q9KHCzEZYAm-"
      },
      "source": [
        "# Compute mean of all forces: mean_force\n",
        "mean_force = np.mean(forces_concat)\n",
        " \n",
        "# Generate shifted arrays\n",
        "force_a_shifted = force_a - np.mean(force_a) + mean_force\n",
        "force_b_shifted = force_b - np.mean(force_b) + mean_force\n",
        " \n",
        "# Compute 10,000 bootstrap replicates from shifted arrays\n",
        "bs_replicates_a = draw_bs_reps(force_a_shifted, np.mean, size=10000)\n",
        "bs_replicates_b = draw_bs_reps(force_b_shifted, np.mean, size=10000)\n",
        " \n",
        "# Get replicates of difference of means: bs_replicates\n",
        "bs_replicates = bs_replicates_a - bs_replicates_b\n",
        " \n",
        "# Compute and print p-value: p\n",
        "p = np.sum(bs_replicates >= empirical_diff_means) / len(bs_replicates)\n",
        "print('p-value =', p)"
      ],
      "execution_count": null,
      "outputs": []
    },
    {
      "cell_type": "markdown",
      "metadata": {
        "id": "ICLHo4R3xdoU"
      },
      "source": [
        "### Confidence interval of a statistic\n",
        "Confidence intervals gives **upper and lower bounds on the range of parameter values you might expect to get if we repeat our measurements**. \n",
        "\n",
        "If we repeated measurements over and over again, p% of the observed values would lie within the p% confidence interval.\n",
        "\n",
        "We can calculate them by taking a percentiles of the bootstrap replicates with ```np.percentile()```.\n",
        "\n"
      ]
    },
    {
      "cell_type": "code",
      "metadata": {
        "id": "u_h5bCRg7-IJ"
      },
      "source": [
        "np.percentile(data, [2.5, 97.5]) #Returns the 95% confidence interval of data"
      ],
      "execution_count": null,
      "outputs": []
    },
    {
      "cell_type": "markdown",
      "metadata": {
        "id": "a3TcrLiXCqy4"
      },
      "source": [
        "###Pairs bootstrap for linear regression\n",
        "Resample data in pairs, compute confdence intervals from percentiles of bootstrap replicates."
      ]
    },
    {
      "cell_type": "code",
      "metadata": {
        "id": "CZ7Hi-KODans"
      },
      "source": [
        "#Generating a pairs bootstrap sample\n",
        "inds = np.arange(len(total_votes))\n",
        "bs_inds = np.random.choice(inds, len(inds))\n",
        "bs_total_votes = total_votes[bs_inds]\n",
        "bs_dem_share = dem_share[bs_inds]\n",
        "\n",
        "#Computing linear regression\n",
        "bs_slope, bs_intercept = np.polyfit(bs_total_votes, bs_dem_share, 1)\n",
        "#Fit of original\n",
        "np.polyfit(total_votes, dem_share, 1)"
      ],
      "execution_count": null,
      "outputs": []
    },
    {
      "cell_type": "code",
      "metadata": {
        "id": "rsCIkSICF6qD"
      },
      "source": [
        "#Multiple bootstrap pairs for linear regression\n",
        "def draw_bs_pairs_linreg(x, y, size=1):\n",
        "    \"\"\"Perform pairs bootstrap for linear regression.\"\"\"\n",
        "\n",
        "    # Set up array of indices to sample from: inds\n",
        "    inds = np.arange(len(x))\n",
        "\n",
        "    # Initialize replicates: bs_slope_reps, bs_intercept_reps\n",
        "    bs_slope_reps = np.empty(size)\n",
        "    bs_intercept_reps = np.empty(size)\n",
        "\n",
        "    # Generate replicates\n",
        "    for i in range(size):\n",
        "        bs_inds = np.random.choice(inds, size=len(inds))\n",
        "        bs_x, bs_y = x[bs_inds], y[bs_inds]\n",
        "        bs_slope_reps[i], bs_intercept_reps[i] = np.polyfit(bs_x, bs_y, 1)\n",
        "\n",
        "    return bs_slope_reps, bs_intercept_reps\n"
      ],
      "execution_count": null,
      "outputs": []
    },
    {
      "cell_type": "code",
      "metadata": {
        "id": "FU9ly3OsDG_s"
      },
      "source": [
        "#Bootstrap pairs for a single statistic\n",
        "\n",
        "def draw_bs_pairs(x, y, func, size=1):\n",
        "    \"\"\"Perform pairs bootstrap for a single statistic.\"\"\"\n",
        "\n",
        "    # Set up array of indices to sample from: inds\n",
        "    inds = np.arange(len(x))\n",
        "\n",
        "    # Initialize replicates: bs_replicates\n",
        "    bs_replicates = np.empty(size)\n",
        "\n",
        "    # Generate replicates\n",
        "    for i in range(size):\n",
        "        bs_inds = np.random.choice(inds, size=len(inds))\n",
        "        bs_x, bs_y = x[bs_inds], y[bs_inds]\n",
        "        bs_replicates[i] = func(bs_x,bs_y)\n",
        "\n",
        "    return bs_replicates"
      ],
      "execution_count": null,
      "outputs": []
    },
    {
      "cell_type": "code",
      "metadata": {
        "id": "C7jWhuJsksir"
      },
      "source": [
        "#Displaying the linear regression results\n",
        "\n",
        "# Make scatter plot of 1975 data\n",
        "_ = plt.plot(bl_1975, bd_1975, marker='.',\n",
        "             linestyle='none', color='blue', alpha=0.5)\n",
        "# Make scatter plot of 2012 data\n",
        "_ = plt.plot(bl_2012, bd_2012, marker='.',\n",
        "             linestyle='none', color='red', alpha=0.5)\n",
        "# Label axes and make legend\n",
        "_ = plt.xlabel('beak length (mm)')\n",
        "_ = plt.ylabel('beak depth (mm)')\n",
        "_ = plt.legend(('1975', '2012'), loc='upper left')\n",
        "# Generate x-values for bootstrap lines: x\n",
        "x = np.array([10, 17])\n",
        "# Plot the bootstrap lines\n",
        "for i in range(100):\n",
        "    plt.plot(x, bs_slope_reps_1975[i] * x + bs_intercept_reps_1975[i],\n",
        "             linewidth=0.5, alpha=0.2, color='blue')\n",
        "    plt.plot(x, bs_slope_reps_2012[i] * x + bs_intercept_reps_2012[i],\n",
        "             linewidth=0.5, alpha=0.2, color='red')\n",
        "# Draw the plot again\n",
        "plt.show()"
      ],
      "execution_count": null,
      "outputs": []
    },
    {
      "cell_type": "markdown",
      "metadata": {
        "id": "lCMvZ5gCABs8"
      },
      "source": [
        "#hypothesis testing with scipy stats"
      ]
    },
    {
      "cell_type": "code",
      "metadata": {
        "id": "fMcTS0djAFLC"
      },
      "source": [
        "from scipy import stats\n",
        "\n",
        "\n",
        "stats.chisquare(os_purchases, axis=None)\n",
        "stats.ttest_ind(group_a, group_b)#statistical test to test the hypothesis that the mean time on the site is different for the two groups.\n",
        "\n",
        "\n",
        "stats.ttest_1samp(spend, 8)#or\n",
        "tstat, pval = stats.ttest_1samp(ages, 40)"
      ],
      "execution_count": null,
      "outputs": []
    },
    {
      "cell_type": "markdown",
      "metadata": {
        "id": "Mp6tDvePLIzD"
      },
      "source": [
        "###Hypothesis testing \n",
        "(Null hypothesis) Assessment of how reasonable the observed data are assuming a hypothesis is true.\n",
        "#### **Pipeline for hypothesis testing**\n",
        "* Clearly state the null hypothesis\n",
        "* Define your test statistic\n",
        "* Generate many sets of simulated data assuming the null\n",
        "hypothesis is true\n",
        "* Compute the test statistic for each simulated data set\n",
        "* The p-value is the fraction of your simulated data sets for\n",
        "which the test statistic is at least as extreme as for the real\n",
        "data\n",
        "\n",
        "\n",
        " Techniques:\n",
        "\n",
        "* **Permutation** - random reordering of entries in an array. Great way to simulate the hypothesis that two variables have identical probability distributions."
      ]
    },
    {
      "cell_type": "code",
      "metadata": {
        "id": "Ad9fxafWMeqx"
      },
      "source": [
        "#Generating a permutation sample\n",
        "import numpy as np\n",
        "\n",
        "dem_share_both = np.concatenate((dem_share_PA, dem_share_OH))\n",
        "dem_share_perm = np.random.permutation(dem_share_both)\n",
        "perm_sample_PA = dem_share_perm[:len(dem_share_PA)] #Labels all the samples with a length of the first category and with a label of first category\n",
        "perm_sample_OH = dem_share_perm[len(dem_share_PA):] #Labels all the remaining data with the label of the second category\n",
        "\n",
        "#Permutation sample function\n",
        "def permutation_sample(data1, data2):\n",
        "    \"\"\"Generate a permutation sample from two data sets.\"\"\"\n",
        " \n",
        "    # Concatenate the data sets: data\n",
        "    data = np.concatenate((data1, data2))\n",
        " \n",
        "    # Permute the concatenated array: permuted_data\n",
        "    permuted_data = np.random.permutation(data)\n",
        " \n",
        "    # Split the permuted array into two: perm_sample_1, perm_sample_2\n",
        "    perm_sample_1 = permuted_data[:len(data1)]\n",
        "    perm_sample_2 = permuted_data[len(data1):]\n",
        " \n",
        "    return perm_sample_1, perm_sample_2\n",
        "\n",
        "#Many permutation samples function\n",
        "\n",
        "def draw_perm_reps(data_1, data_2, func, size=1):\n",
        "    \"\"\"Generate multiple permutation replicates.\"\"\"\n",
        "\n",
        "    # Initialize array of replicates: perm_replicates\n",
        "    perm_replicates = np.empty(size)\n",
        "\n",
        "    for i in range(size):\n",
        "        # Generate permutation sample\n",
        "        perm_sample_1, perm_sample_2 = permutation_sample(data_1, data_2)\n",
        "\n",
        "        # Compute the test statistic\n",
        "        perm_replicates[i] = func(perm_sample_1, perm_sample_2)\n",
        "\n",
        "    return perm_replicates"
      ],
      "execution_count": null,
      "outputs": []
    },
    {
      "cell_type": "markdown",
      "metadata": {
        "id": "wXj0wac88C_2"
      },
      "source": [
        "* **Test statistic** A single number that can be computed from observed data\n",
        "and from data you simulate under the null hypothesis. It serves as a basis of comparison between the two. The test statistic is impervious to the change.\n",
        "* **p-value** The probability of obtaining a value of your test statistic that\n",
        "is at least as extreme as what was observed, under the\n",
        "assumption the null hypothesis is true. If the **p-value** is **small**, we can assume that the data is stastically significant. \n",
        "If:\n",
        "    * **p-value == 0** - try increasing the number of replicates to continue to move the upper bound on your p-value lower and lower."
      ]
    },
    {
      "cell_type": "code",
      "metadata": {
        "id": "BSfckWE1lvqo"
      },
      "source": [
        "# Compute p-value: p\n",
        "p = np.sum(perm_replicates >= empirical_diff_means) / len(perm_replicates) #Computes p-value - sum of permutation replicates >= empiral mean of the data divided by length of permutation replicates \n"
      ],
      "execution_count": null,
      "outputs": []
    },
    {
      "cell_type": "markdown",
      "metadata": {
        "id": "gt5EHR9eYp--"
      },
      "source": [
        "####Methods of Hypothesis testing:\n",
        "\n",
        "* **A/B test** Used by organizations to determine whetther the new strategy gives a better result. The result can be only True/False.\n",
        "\n"
      ]
    },
    {
      "cell_type": "code",
      "metadata": {
        "id": "PR7ry8rEZlRU"
      },
      "source": [
        "#Function that rearrange two arrays into 1 and 0/True and False\n",
        "\n",
        "import numpy as np\n",
        "# clickthrough_A, clickthrough_B: arr. of 1s and 0s\n",
        "def diff_frac(data_A, data_B):\n",
        "  frac_A = np.sum(data_A) / len(data_A)\n",
        "  frac_B = np.sum(data_B) / len(data_B)\n",
        "  return frac_B - frac_A\n",
        "diff_frac_obs = diff_frac(clickthrough_A, clickthrough_B)"
      ],
      "execution_count": null,
      "outputs": []
    },
    {
      "cell_type": "code",
      "metadata": {
        "id": "3C6qaQu3acrT"
      },
      "source": [
        "#By using data transferred into 1/0 we perform A/B test\n",
        "perm_replicates = np.empty(10000)\n",
        "for i in range(10000):\n",
        "  perm_replicates[i] = permutation_replicate(clickthrough_A, clickthrough_B, diff_frac)\n",
        "p_value = np.sum(perm_replicates >= diff_frac_obs) / 10000\n",
        "p_value"
      ],
      "execution_count": null,
      "outputs": []
    },
    {
      "cell_type": "markdown",
      "metadata": {
        "id": "hRXePb_oZkDd"
      },
      "source": [
        "* **Hypothesis test of correlation with pipeline**:\n",
        "  * Posit null hypothesis: the two variables are completely\n",
        "uncorrelated\n",
        "  * Simulate data assuming null hypothesis is true\n",
        "  *Use Pearson correlation, ρ , as test statistic\n",
        "  * Compute p-value as fraction of replicates that have ρ at least\n",
        "as large as observed."
      ]
    }
  ]
}