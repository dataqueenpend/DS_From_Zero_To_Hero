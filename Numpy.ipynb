{
  "nbformat": 4,
  "nbformat_minor": 0,
  "metadata": {
    "colab": {
      "name": "Numpy.ipynb",
      "provenance": [],
      "collapsed_sections": [],
      "authorship_tag": "ABX9TyOBGVsZ0IK6D37g45RmmURG",
      "include_colab_link": true
    },
    "kernelspec": {
      "name": "python3",
      "display_name": "Python 3"
    },
    "language_info": {
      "name": "python"
    }
  },
  "cells": [
    {
      "cell_type": "markdown",
      "metadata": {
        "id": "view-in-github",
        "colab_type": "text"
      },
      "source": [
        "<a href=\"https://colab.research.google.com/github/dataqueenpend/DS_From_Zero_To_Hero/blob/gh-pages/Numpy.ipynb\" target=\"_parent\"><img src=\"https://colab.research.google.com/assets/colab-badge.svg\" alt=\"Open In Colab\"/></a>"
      ]
    },
    {
      "cell_type": "markdown",
      "metadata": {
        "id": "sBGaiVCvZQTb"
      },
      "source": [
        "# NumPy \n",
        "\n",
        "##### What is NumPy?\n",
        "\n",
        "Numerical Python library - casually going by the name of **NumPy** - is a core Python package for scientific computing. It adds to the Python possibility to use **multi-dimensional arrays** and perform more advanced mathematical operations. \n",
        "\n",
        "NumPy is build with C, wrapped with a Python API. And precisely this C base is responsible for NumPy **high-performance and speed**.\n",
        "\n",
        "##### Why use NumPy?\n",
        "\n",
        "NumPy is **fast**, **useful** and allows the user to perform many different Data Science tasks with less amount of code. Furthermore, NumPy is an underlying library for other popular Python packages such as:\n",
        "* Matplotlib\n",
        "* Pandas\n",
        "* Scikit-learn\n",
        "\n",
        "and those above are a must in Machine Learning, Deep Learning and Data Science. To use other tools based on NumPy is good to know this library first - it is easier to understand them, if the user has a comprehension of the fundamentals behind them. \n",
        "\n",
        "##### NumPy Arrays\n",
        "\n",
        "Main object of NumPy is multi-dimensional table object called **ndarray**. Why 'nd'? It reffers to **n-number of dimensions**, which means that one can create with NumPy simple 1d-arrays as well as 2d-arrays, 3d-arrays and whatever number of dimensional array one want. \n",
        "\n",
        "All elements store in the Array are the same type. If upon a creation of array we pass to it **elements of different type**, they **will be unified to one** the most suitable. "
      ]
    },
    {
      "cell_type": "code",
      "metadata": {
        "colab": {
          "base_uri": "https://localhost:8080/"
        },
        "id": "TS73dfCfA6Jx",
        "outputId": "dfe5e9ff-bfa1-4da3-b532-d79e3a18c4ed"
      },
      "source": [
        "import numpy as np\n",
        "l = [1,2,'s', 1 and 1]\n",
        "l_c_a = np.array(l)\n",
        "print(l_c_a)\n",
        "print(type(l_c_a))\n",
        "print(type(l_c_a[0]))\n",
        "print(type(l_c_a[2]))\n",
        "print(type(l_c_a[3]))"
      ],
      "execution_count": null,
      "outputs": [
        {
          "output_type": "stream",
          "text": [
            "['1' '2' 's' '1']\n",
            "<class 'numpy.ndarray'>\n",
            "<class 'numpy.str_'>\n",
            "<class 'numpy.str_'>\n",
            "<class 'numpy.str_'>\n"
          ],
          "name": "stdout"
        }
      ]
    },
    {
      "cell_type": "markdown",
      "metadata": {
        "id": "KVyof-yOB-Qa"
      },
      "source": [
        "In above example we have 3 types of data:\n",
        "* integer\n",
        "* string\n",
        "* bool\n",
        "\n",
        "The most suitable conversion for NumPy was to stored all the elements of the previous list in one type array consisting only string type elements ```numpy.str_```.\n",
        "\n",
        "This feature of the NumPy arrays is really helpful, especially while working with corrupted data sets. \n",
        "\n",
        "But let's take a one step back. Straight to the beginning...\n",
        "\n",
        "#### Installing and importing NumPy\n",
        "\n",
        "\n"
      ]
    },
    {
      "cell_type": "markdown",
      "metadata": {
        "id": "S2lvpWv_lU_c"
      },
      "source": [
        "If you want to start using NumPy library, the first thing you need to do is to install and import it. \n",
        "\n",
        "If you are **using your operating system for coding** you need to install NumPy before the import. \n"
      ]
    },
    {
      "cell_type": "code",
      "metadata": {
        "id": "4hlWZcg_xLxM"
      },
      "source": [
        "pip install numpy"
      ],
      "execution_count": null,
      "outputs": []
    },
    {
      "cell_type": "markdown",
      "metadata": {
        "id": "drfN7Se0xUMj"
      },
      "source": [
        "or "
      ]
    },
    {
      "cell_type": "code",
      "metadata": {
        "id": "WG6o9Q2axWGC"
      },
      "source": [
        "conda install numpy"
      ],
      "execution_count": null,
      "outputs": []
    },
    {
      "cell_type": "markdown",
      "metadata": {
        "id": "I-Kyh5_Bxbaq"
      },
      "source": [
        "**Don't want to use your own machine?** No problem! There are multiple tools (like [Google Collaboratory](https://colab.research.google.com/notebooks/welcome.ipynb?hl=pl)) for Python users, in which you don't need to trouble yourself with installing every single Python library or the updates. And before using NumPy code all you need to do is just import NumPy.  "
      ]
    },
    {
      "cell_type": "code",
      "metadata": {
        "id": "6Ud-jRY9xfEL"
      },
      "source": [
        "import numpy as np"
      ],
      "execution_count": null,
      "outputs": []
    },
    {
      "cell_type": "markdown",
      "metadata": {
        "id": "Tloo3lSNxiY0"
      },
      "source": [
        "We are importing numpy as *np* in order to short the commands - means for easier and quicker use. It's a commonly you short, and you will see it almost everytime when someone is using NumPy. "
      ]
    },
    {
      "cell_type": "markdown",
      "metadata": {
        "id": "VV8lMD7wybLz"
      },
      "source": [
        ""
      ]
    },
    {
      "cell_type": "markdown",
      "metadata": {
        "id": "hZsIz6fQ7OrN"
      },
      "source": [
        "## NumPy Arrays vs. Lists"
      ]
    },
    {
      "cell_type": "markdown",
      "metadata": {
        "id": "zTrHoKaH7x4t"
      },
      "source": [
        "## Creating an Array"
      ]
    }
  ]
}