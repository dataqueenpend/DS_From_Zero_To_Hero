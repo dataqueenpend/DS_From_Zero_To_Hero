{
  "nbformat": 4,
  "nbformat_minor": 0,
  "metadata": {
    "colab": {
      "name": "Numpy.ipynb",
      "provenance": [],
      "collapsed_sections": [],
      "authorship_tag": "ABX9TyPTth1k/9CpDiPIS2dfr33/",
      "include_colab_link": true
    },
    "kernelspec": {
      "name": "python3",
      "display_name": "Python 3"
    },
    "language_info": {
      "name": "python"
    }
  },
  "cells": [
    {
      "cell_type": "markdown",
      "metadata": {
        "id": "view-in-github",
        "colab_type": "text"
      },
      "source": [
        "<a href=\"https://colab.research.google.com/github/dataqueenpend/DS_From_Zero_To_Hero/blob/gh-pages/Numpy.ipynb\" target=\"_parent\"><img src=\"https://colab.research.google.com/assets/colab-badge.svg\" alt=\"Open In Colab\"/></a>"
      ]
    },
    {
      "cell_type": "markdown",
      "metadata": {
        "id": "sBGaiVCvZQTb"
      },
      "source": [
        "# NumPy \n",
        "\n",
        "##### What is NumPy?\n",
        "\n",
        "Numerical Python library - casually going by the name of **NumPy** - is a core Python package for scientific computing. It adds to the Python possibility to use **multi-dimensional arrays** and perform more advanced mathematical operations. \n",
        "\n",
        "NumPy is build with C, wrapped with a Python API. And precisely this C base is responsible for NumPy **high-performance and speed**.\n",
        "\n",
        "##### Why use NumPy?\n",
        "\n",
        "NumPy is **fast**, **useful** and allows the user to perform many different Data Science tasks with less amount of code. Furthermore, NumPy is an underlying library for other popular Python packages such as:\n",
        "* Matplotlib\n",
        "* Pandas\n",
        "* Scikit-learn\n",
        "\n",
        "and those above are a must in Machine Learning, Deep Learning and Data Science. To use other tools based on NumPy is good to know this library first - it is easier to understand them, if the user has a comprehension of the fundamentals behind them. \n",
        "\n",
        "##### NumPy Arrays\n",
        "\n",
        "Main object of NumPy is multi-dimensional table object called **ndarray**. Why 'nd'? It reffers to **n-number of dimensions**, which means that one can create with NumPy simple 1d-arrays as well as 2d-arrays, 3d-arrays and whatever number of dimensional array one want. "
      ]
    },
    {
      "cell_type": "markdown",
      "metadata": {
        "id": "hZsIz6fQ7OrN"
      },
      "source": [
        "## NumPy Arrays vs. Lists"
      ]
    },
    {
      "cell_type": "markdown",
      "metadata": {
        "id": "zTrHoKaH7x4t"
      },
      "source": [
        "## Creating an Array"
      ]
    }
  ]
}