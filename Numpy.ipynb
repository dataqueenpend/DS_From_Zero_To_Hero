{
  "nbformat": 4,
  "nbformat_minor": 0,
  "metadata": {
    "colab": {
      "name": "Numpy.ipynb",
      "provenance": [],
      "collapsed_sections": [],
      "authorship_tag": "ABX9TyPTOnjYTEXOqBylPLxw+qjn",
      "include_colab_link": true
    },
    "kernelspec": {
      "name": "python3",
      "display_name": "Python 3"
    },
    "language_info": {
      "name": "python"
    }
  },
  "cells": [
    {
      "cell_type": "markdown",
      "metadata": {
        "id": "view-in-github",
        "colab_type": "text"
      },
      "source": [
        "<a href=\"https://colab.research.google.com/github/dataqueenpend/DS_From_Zero_To_Hero/blob/gh-pages/Numpy.ipynb\" target=\"_parent\"><img src=\"https://colab.research.google.com/assets/colab-badge.svg\" alt=\"Open In Colab\"/></a>"
      ]
    },
    {
      "cell_type": "markdown",
      "metadata": {
        "id": "sBGaiVCvZQTb"
      },
      "source": [
        "# NumPy - Basic info\n",
        "\n",
        "##### What is NumPy?\n",
        "\n",
        "Numerical Python library - casually going by the name of **NumPy** - is a core Python package for scientific computing. It adds to the Python possibility to use **multi-dimensional arrays** and perform more advanced mathematical operations. \n",
        "\n",
        "NumPy is build with C, wrapped with a Python API. And precisely this C base is responsible for NumPy **high-performance and speed**.\n",
        "\n",
        "##### Why use NumPy?\n",
        "\n",
        "NumPy is **fast**, **useful** and allows the user to perform many different Data Science tasks with less amount of code. Furthermore, NumPy is an underlying library for other popular Python packages such as:\n",
        "* Matplotlib\n",
        "* Pandas\n",
        "* Scikit-learn\n",
        "\n",
        "and those above are a must in Machine Learning, Deep Learning and Data Science. To use other tools based on NumPy is good to know this library first - it is easier to understand them, if the user has a comprehension of the fundamentals behind them. \n",
        "\n",
        "##### NumPy Arrays\n",
        "\n",
        "Main object of NumPy is multi-dimensional table object called **ndarray**. Why 'nd'? It reffers to **n-number of dimensions**, which means that one can create with NumPy simple 1d-arrays as well as 2d-arrays, 3d-arrays and whatever number of dimensional array one want. \n",
        "\n",
        "All elements store in the Array are the same type. If upon a creation of array we pass to it **elements of different type**, they **will be unified to one** the most suitable. "
      ]
    },
    {
      "cell_type": "code",
      "metadata": {
        "colab": {
          "base_uri": "https://localhost:8080/"
        },
        "id": "TS73dfCfA6Jx",
        "outputId": "dfe5e9ff-bfa1-4da3-b532-d79e3a18c4ed"
      },
      "source": [
        "import numpy as np\n",
        "l = [1,2,'s', 1 and 1]\n",
        "l_c_a = np.array(l)\n",
        "print(l_c_a)\n",
        "print(type(l_c_a))\n",
        "print(type(l_c_a[0]))\n",
        "print(type(l_c_a[2]))\n",
        "print(type(l_c_a[3]))"
      ],
      "execution_count": null,
      "outputs": [
        {
          "output_type": "stream",
          "text": [
            "['1' '2' 's' '1']\n",
            "<class 'numpy.ndarray'>\n",
            "<class 'numpy.str_'>\n",
            "<class 'numpy.str_'>\n",
            "<class 'numpy.str_'>\n"
          ],
          "name": "stdout"
        }
      ]
    },
    {
      "cell_type": "markdown",
      "metadata": {
        "id": "KVyof-yOB-Qa"
      },
      "source": [
        "In above example we have 3 types of data:\n",
        "* integer\n",
        "* string\n",
        "* bool\n",
        "\n",
        "The most suitable conversion for NumPy was to stored all the elements of the previous list in one type array consisting only string type elements ```numpy.str_```.\n",
        "\n",
        "This feature of the NumPy arrays is really helpful, especially while working with corrupted data sets. \n",
        "\n",
        "---"
      ]
    },
    {
      "cell_type": "markdown",
      "metadata": {
        "id": "S2lvpWv_lU_c"
      },
      "source": [
        "But let's take a one step back. Straight to the beginning...\n",
        "\n",
        "#### Installing and importing NumPy\n",
        "\n",
        "\n",
        "If you want to start using NumPy library, the first thing you need to do is to install and import it. \n",
        "\n",
        "If you are **using your operating system for coding** you need to install NumPy before the import. \n"
      ]
    },
    {
      "cell_type": "code",
      "metadata": {
        "id": "4hlWZcg_xLxM"
      },
      "source": [
        "pip install numpy"
      ],
      "execution_count": null,
      "outputs": []
    },
    {
      "cell_type": "markdown",
      "metadata": {
        "id": "drfN7Se0xUMj"
      },
      "source": [
        "or "
      ]
    },
    {
      "cell_type": "code",
      "metadata": {
        "id": "WG6o9Q2axWGC"
      },
      "source": [
        "conda install numpy"
      ],
      "execution_count": null,
      "outputs": []
    },
    {
      "cell_type": "markdown",
      "metadata": {
        "id": "I-Kyh5_Bxbaq"
      },
      "source": [
        "**Don't want to use your own machine?** No problem! There are multiple tools (like [Google Collaboratory](https://colab.research.google.com/notebooks/welcome.ipynb?hl=pl)) for Python users, in which you don't need to trouble yourself with installing every single Python library or the updates. And before using NumPy code all you need to do is just import NumPy.  "
      ]
    },
    {
      "cell_type": "code",
      "metadata": {
        "id": "6Ud-jRY9xfEL"
      },
      "source": [
        "import numpy as np"
      ],
      "execution_count": 5,
      "outputs": []
    },
    {
      "cell_type": "markdown",
      "metadata": {
        "id": "Tloo3lSNxiY0"
      },
      "source": [
        "We are importing NumPy as *np* in order to short the commands - means for easier and quicker use. It's a commonly you short, and you will see it almost everytime when someone is using NumPy. "
      ]
    },
    {
      "cell_type": "markdown",
      "metadata": {
        "id": "zTrHoKaH7x4t"
      },
      "source": [
        "## Creating an Array\n",
        "\n",
        "Ready to **create your first NumPy Array**? Let's do it! \n",
        "\n",
        "We've already installed and imported NumPy library, so we can start building some arrays. To do so, we use ```np.array``` function, pass to it some numerical data and store it all in a new variable."
      ]
    },
    {
      "cell_type": "code",
      "metadata": {
        "id": "PCM9cTav690i"
      },
      "source": [
        "new_array = np.array([1,2,3,4,5])"
      ],
      "execution_count": 6,
      "outputs": []
    },
    {
      "cell_type": "markdown",
      "metadata": {
        "id": "AA8qs9eh7G3x"
      },
      "source": [
        "It is done? \n",
        "\n",
        "Let's check the data type of this object. "
      ]
    },
    {
      "cell_type": "code",
      "metadata": {
        "colab": {
          "base_uri": "https://localhost:8080/"
        },
        "id": "r-jM54fM7R0Z",
        "outputId": "4c8d026b-96bb-4d0b-cc82-e37e857773eb"
      },
      "source": [
        "type(new_array)"
      ],
      "execution_count": 7,
      "outputs": [
        {
          "output_type": "execute_result",
          "data": {
            "text/plain": [
              "numpy.ndarray"
            ]
          },
          "metadata": {
            "tags": []
          },
          "execution_count": 7
        }
      ]
    },
    {
      "cell_type": "markdown",
      "metadata": {
        "id": "s4OvTX_C7ZBR"
      },
      "source": [
        "Great! \n",
        "\n",
        "**We've just created an numpy array!** But what about those famous **n**darray. Let's create some multi-dimensional array. "
      ]
    },
    {
      "cell_type": "code",
      "metadata": {
        "colab": {
          "base_uri": "https://localhost:8080/"
        },
        "id": "HmAQlWyC749I",
        "outputId": "02314dd0-9534-4b65-966c-13a701fb9984"
      },
      "source": [
        "new_2d_array = np.array([[1.0, 2.0, 3.0], [4.0, 5.0, 6.0]]) # Let's use some floats to do this!\n",
        "type(new_2d_array) # Checking the type of object we have"
      ],
      "execution_count": 9,
      "outputs": [
        {
          "output_type": "execute_result",
          "data": {
            "text/plain": [
              "numpy.ndarray"
            ]
          },
          "metadata": {
            "tags": []
          },
          "execution_count": 9
        }
      ]
    },
    {
      "cell_type": "markdown",
      "metadata": {
        "id": "586IDKDp8c0T"
      },
      "source": [
        "It is as easy, as creating 1d array! But **take a closer look at this one**... Did you see double square brackets? Remember that when we create multi-dimensional array, we need to store every 'dimension' in dedicated square brackets! \n",
        "\n",
        "Let's take a look on our freshly created 2d array."
      ]
    },
    {
      "cell_type": "code",
      "metadata": {
        "colab": {
          "base_uri": "https://localhost:8080/"
        },
        "id": "wiP59Yzb9gnT",
        "outputId": "2ba0c5a9-6420-46ad-d0f8-c73dd2e4702a"
      },
      "source": [
        "print(new_2d_array)"
      ],
      "execution_count": 10,
      "outputs": [
        {
          "output_type": "stream",
          "text": [
            "[[1. 2. 3.]\n",
            " [4. 5. 6.]]\n"
          ],
          "name": "stdout"
        }
      ]
    },
    {
      "cell_type": "markdown",
      "metadata": {
        "id": "gKWlo1wz9jia"
      },
      "source": [
        "Beautiful matrix! \n",
        "\n",
        "Now we know how to create single and multi-dimensional arrays. What will you say for a little NumPy vs. List exepriment? \n",
        "\n",
        "Are ready for more NumPy? "
      ]
    },
    {
      "cell_type": "markdown",
      "metadata": {
        "id": "hZsIz6fQ7OrN"
      },
      "source": [
        "## NumPy Arrays vs. Lists\n",
        "\n",
        "Why use NumPy Arrays instead of Python lists? There are multiple reasons to do that. We've covered a bit above. Arrays are faster, homogenous (store only one type of data), and they give us enourmous ways to store and manipulate numerical data inside them. \n",
        "\n",
        "##### Let's look at some example, shall we? \n",
        "\n",
        "Say... We want to **add values stored in the first list, to the values store in the second list. Each by each**. Can we do it with a list?"
      ]
    },
    {
      "cell_type": "code",
      "metadata": {
        "id": "NM_xxWD7we_z"
      },
      "source": [
        "list1 = [1,2,3,4,5]\n",
        "list2 = [2,3,4,5,6]\n"
      ],
      "execution_count": 1,
      "outputs": []
    },
    {
      "cell_type": "markdown",
      "metadata": {
        "id": "JQ-jHkHny8Jw"
      },
      "source": [
        "We've created 2 lists. Let's add them!"
      ]
    },
    {
      "cell_type": "code",
      "metadata": {
        "colab": {
          "base_uri": "https://localhost:8080/"
        },
        "id": "AWe83jS2zBTC",
        "outputId": "4b9d6a30-4b73-496d-aacf-7b1b74549999"
      },
      "source": [
        "completelist = list1 + list2\n",
        "print(completelist)"
      ],
      "execution_count": 3,
      "outputs": [
        {
          "output_type": "stream",
          "text": [
            "[1, 2, 3, 4, 5, 2, 3, 4, 5, 6]\n"
          ],
          "name": "stdout"
        }
      ]
    },
    {
      "cell_type": "markdown",
      "metadata": {
        "id": "_ZGejhixzNQn"
      },
      "source": [
        "Did the result of adding lists together was as we desired? \n",
        "Unfortunatelly not. By adding two lists we've created a new list storing all the elements of two previous lists. \n",
        "\n",
        "**Can we sum the elements of** ```list1``` **to elements of** ```list2```**?** \n",
        "Yes, we can do that. And it would look like that:"
      ]
    },
    {
      "cell_type": "code",
      "metadata": {
        "colab": {
          "base_uri": "https://localhost:8080/"
        },
        "id": "g_fss99S0dqo",
        "outputId": "5fe6199b-aa26-4d08-b8c5-0f5c7c5d7b1c"
      },
      "source": [
        "result = [] # Creating an empty list\n",
        "for a,b in zip(list1, list2): # Itterating with an iterator a,b through zipped list1 and list2\n",
        "  result.append(a + b)# Appending sum of elements from the lists to the new list\n",
        "result\n"
      ],
      "execution_count": 4,
      "outputs": [
        {
          "output_type": "execute_result",
          "data": {
            "text/plain": [
              "[3, 5, 7, 9, 11]"
            ]
          },
          "metadata": {
            "tags": []
          },
          "execution_count": 4
        }
      ]
    },
    {
      "cell_type": "markdown",
      "metadata": {
        "id": "3tQtzRYz1jrB"
      },
      "source": [
        "**Looks rather complicated for such a basic operation, isn't it?** Or even if it is not (for you), with arrays it can be done quicker and simpler. \n",
        "\n",
        "Let's take a look. \n",
        "\n",
        "* We'll transform our lists into np.arrays."
      ]
    },
    {
      "cell_type": "code",
      "metadata": {
        "colab": {
          "base_uri": "https://localhost:8080/"
        },
        "id": "K42o4ljc3ck4",
        "outputId": "6177e9f5-2ee5-4338-c0dd-4b23106dc72d"
      },
      "source": [
        "np_array1 = np.array(list1)\n",
        "np_array2 = np.array(list2)\n",
        "\n",
        "type(np_array1)"
      ],
      "execution_count": 12,
      "outputs": [
        {
          "output_type": "execute_result",
          "data": {
            "text/plain": [
              "numpy.ndarray"
            ]
          },
          "metadata": {
            "tags": []
          },
          "execution_count": 12
        }
      ]
    },
    {
      "cell_type": "markdown",
      "metadata": {
        "id": "KoginKoYHL3b"
      },
      "source": [
        "* And add them together. How it will go?"
      ]
    },
    {
      "cell_type": "code",
      "metadata": {
        "colab": {
          "base_uri": "https://localhost:8080/"
        },
        "id": "QU7WslhiHVKh",
        "outputId": "40938d89-fe3f-453c-a272-915afb2746db"
      },
      "source": [
        "print([np_array1, np_array2]) # Printing what our arrays contains before summing up the ellements of the lists\n",
        "np_array1 + np_array2 "
      ],
      "execution_count": 14,
      "outputs": [
        {
          "output_type": "stream",
          "text": [
            "[array([1, 2, 3, 4, 5]), array([2, 3, 4, 5, 6])]\n"
          ],
          "name": "stdout"
        },
        {
          "output_type": "execute_result",
          "data": {
            "text/plain": [
              "array([ 3,  5,  7,  9, 11])"
            ]
          },
          "metadata": {
            "tags": []
          },
          "execution_count": 14
        }
      ]
    },
    {
      "cell_type": "markdown",
      "metadata": {
        "id": "pljIpQEVIOcy"
      },
      "source": [
        "Great! Finally we have the **sum of the elements** from the first array and the corresponding values from the second array. \n",
        "\n",
        "We can perform this way also different types of basic operations."
      ]
    },
    {
      "cell_type": "code",
      "metadata": {
        "colab": {
          "base_uri": "https://localhost:8080/"
        },
        "id": "X2xbDU6FI7YT",
        "outputId": "08036ee4-1a80-468c-c4c2-519525973328"
      },
      "source": [
        "np_array1 * np_array2 # Multiplication"
      ],
      "execution_count": 15,
      "outputs": [
        {
          "output_type": "execute_result",
          "data": {
            "text/plain": [
              "array([ 2,  6, 12, 20, 30])"
            ]
          },
          "metadata": {
            "tags": []
          },
          "execution_count": 15
        }
      ]
    },
    {
      "cell_type": "code",
      "metadata": {
        "colab": {
          "base_uri": "https://localhost:8080/"
        },
        "id": "0hLkxpLDJB2y",
        "outputId": "c2cce5b0-3658-47f4-95ac-b6cd13b8987c"
      },
      "source": [
        "np_array1 / np_array2 # Division"
      ],
      "execution_count": 16,
      "outputs": [
        {
          "output_type": "execute_result",
          "data": {
            "text/plain": [
              "array([0.5       , 0.66666667, 0.75      , 0.8       , 0.83333333])"
            ]
          },
          "metadata": {
            "tags": []
          },
          "execution_count": 16
        }
      ]
    },
    {
      "cell_type": "code",
      "metadata": {
        "colab": {
          "base_uri": "https://localhost:8080/"
        },
        "id": "irBr2dA3JI3O",
        "outputId": "a3369285-1d20-4593-fea7-1dc26009edec"
      },
      "source": [
        "np_array1 - np_array2 # Subtraction"
      ],
      "execution_count": 17,
      "outputs": [
        {
          "output_type": "execute_result",
          "data": {
            "text/plain": [
              "array([-1, -1, -1, -1, -1])"
            ]
          },
          "metadata": {
            "tags": []
          },
          "execution_count": 17
        }
      ]
    },
    {
      "cell_type": "markdown",
      "metadata": {
        "id": "KyoYQNJVBh3F"
      },
      "source": [
        "## Basic operations in Arrays"
      ]
    }
  ]
}