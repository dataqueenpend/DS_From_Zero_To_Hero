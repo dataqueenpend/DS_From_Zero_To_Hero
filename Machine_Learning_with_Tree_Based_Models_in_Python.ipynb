{
  "nbformat": 4,
  "nbformat_minor": 0,
  "metadata": {
    "colab": {
      "name": "Machine Learning with Tree-Based Models in Python.ipynb",
      "provenance": [],
      "authorship_tag": "ABX9TyN+OoKXtqPG4m0tICeQ/bGx",
      "include_colab_link": true
    },
    "kernelspec": {
      "name": "python3",
      "display_name": "Python 3"
    },
    "language_info": {
      "name": "python"
    }
  },
  "cells": [
    {
      "cell_type": "markdown",
      "metadata": {
        "id": "view-in-github",
        "colab_type": "text"
      },
      "source": [
        "<a href=\"https://colab.research.google.com/github/dataqueenpend/DS_From_Zero_To_Hero/blob/gh-pages/Machine_Learning_with_Tree_Based_Models_in_Python.ipynb\" target=\"_parent\"><img src=\"https://colab.research.google.com/assets/colab-badge.svg\" alt=\"Open In Colab\"/></a>"
      ]
    },
    {
      "cell_type": "markdown",
      "metadata": {
        "id": "PMEfsmn6i3H8"
      },
      "source": [
        "#Machine Learning with Tree-Based Models in Python\n",
        "\n",
        "course from DataCamp\n",
        "modified notes and solved exercises by me"
      ]
    },
    {
      "cell_type": "markdown",
      "metadata": {
        "id": "Q9kX4Hcdi8_L"
      },
      "source": [
        "##Classification and Regression Trees"
      ]
    },
    {
      "cell_type": "markdown",
      "metadata": {
        "id": "u24nQGtNi_xz"
      },
      "source": [
        "##The Bias-Variance Tradeoff"
      ]
    },
    {
      "cell_type": "markdown",
      "metadata": {
        "id": "C5b_HikJjCFd"
      },
      "source": [
        "##Bagging and Random Forests"
      ]
    },
    {
      "cell_type": "markdown",
      "metadata": {
        "id": "7zpkyamfjI28"
      },
      "source": [
        "##Boosting"
      ]
    },
    {
      "cell_type": "markdown",
      "metadata": {
        "id": "Llu8hGN2jLqs"
      },
      "source": [
        "##Model Tuning"
      ]
    }
  ]
}