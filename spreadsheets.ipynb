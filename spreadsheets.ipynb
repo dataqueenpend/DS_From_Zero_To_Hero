{
  "nbformat": 4,
  "nbformat_minor": 0,
  "metadata": {
    "colab": {
      "name": "spreadsheets.ipynb",
      "provenance": [],
      "collapsed_sections": [],
      "authorship_tag": "ABX9TyM8uNPkdfDJkiYz0GRfF2HW",
      "include_colab_link": true
    },
    "kernelspec": {
      "name": "python3",
      "display_name": "Python 3"
    },
    "language_info": {
      "name": "python"
    }
  },
  "cells": [
    {
      "cell_type": "markdown",
      "metadata": {
        "id": "view-in-github",
        "colab_type": "text"
      },
      "source": [
        "<a href=\"https://colab.research.google.com/github/dataqueenpend/DS_From_Zero_To_Hero/blob/gh-pages/spreadsheets.ipynb\" target=\"_parent\"><img src=\"https://colab.research.google.com/assets/colab-badge.svg\" alt=\"Open In Colab\"/></a>"
      ]
    },
    {
      "cell_type": "markdown",
      "metadata": {
        "id": "mMgHcyUfVQIq"
      },
      "source": [
        "###Conditions \n",
        "\n",
        "* AVERAGEIF - ```= ŚREDNIA.JEŻELI(B3:B26, \"> 2017-07-01\", D3:D26)```\n",
        "\n",
        ">**range**: the range on which the criterion will be checked \n",
        "\n",
        "> **criterion**: the pattern that will be checked, e.g. \"Dylan\"\n",
        "\n",
        "> **average_range**: the range of values that will be summed up\n"
      ]
    },
    {
      "cell_type": "markdown",
      "metadata": {
        "id": "29fq0sXIWRuK"
      },
      "source": [
        "### Filters - FILTER, DATEVALUE, MEDIAN\n",
        "\n",
        "* FILTER - =AVERAGE(FILTER(D3:D26, E3:E26 = \"Dinner\")) #RANGE OF FILTERING, CONDITION\n",
        "\n",
        "> **condition**: is not a string, but rather a range of logical values, for example A1:A5 > 5.\n",
        "\n",
        "> **DATEVALUE(date_string)**: evaluates to the date object of a date_string\n",
        "  * =MEDIANA(FILTER($D$3:$D$26,$B$3:$B$26<=DATA.WARTOŚĆ(\"2017-07-01\"))) "
      ]
    },
    {
      "cell_type": "markdown",
      "metadata": {
        "id": "a3EcwYpnZGNp"
      },
      "source": [
        "### Lookups\n",
        "\n",
        "https://support.microsoft.com/en-us/office/lookup-function-446d94af-663b-451d-8251-369d5e3864cb\n",
        "\n",
        "* lookup - VLOOKUP(search_key, range, index, is_sorted)\n",
        "> = WYSZUKAJ.PIONOWO(C3, $B$15:$D$26, 2, FAŁSZ)\n",
        "  * search_key: the value to search for\n",
        "  * range: the lookup table, without the headers. You typically use an absolute reference for this.\n",
        "  * index: the column number of the value to be returned, where the first column in range is numbered 1 - Index actually refers to the number of the column, relative to the range you defined.\n",
        "  * is_sorted: should be FALSE for now\n",
        "\n",
        "* Horizontal lookup - HLOOKUP - HLOOKUP(search_key, range, index, is_sorted)\n",
        "> =WYSZUKAJ.POZIOMO(E3, $C$29:$H$30,2,PRAWDA)\n",
        "  * The *key* will be looked for in the uppermost row, and *index* now refers to the row number.\n",
        "  * *is_sorted*. If set to TRUE (default), the function assumes that the values in range are sorted. When this is the case, the match doesn't have to be exact, but HLOOKUP will look for the closest match less than or equal to search_key. If search_key is FALSE, an exact match is required.\n",
        "\n",
        "\n",
        "* Weighted average - SUMPRODUCT, HLOOKUP - SUMPRODUCT(array1, [array2, ...])"
      ]
    },
    {
      "cell_type": "markdown",
      "metadata": {
        "id": "YfHUIgFhknAW"
      },
      "source": [
        "#Pivot tables\n",
        "\n",
        "* Populating Pivot Table\n",
        "\n",
        "  * Rows:\n",
        "    * Select Add in the pivot table editor next to the Rows section, and choose Name; this will list the name of each company in the dataset.\n",
        "    * Now click the X in the upper right section of the Name box in the pivot table editor, this will remove the names.\n",
        "    * Now select Add and choose Headquarters, select Add again, and choose Industry.\n",
        "    * Columns:\n",
        "      * Select Add in the pivot table editor next to the Columns section, and choose Industry; this will list each industry in the dataset.\n",
        "      * Now click the X in the upper right section of the Industry box in the pivot table editor, this will remove the names.\n",
        "      * Now select Add and choose Year, select Add again, and choose Headquarters.\n",
        "\n",
        "* Rearrange rows and columns\n",
        "  * To do this, all you need to do is Click and Drag the Labels, and place them where you want them to go. F.e. Drag Industry into the Rows section, and place it above Name in the Pivot Table on the right.\n",
        "\n",
        "* Values\n",
        "  * Selecting values:\n",
        "  > *You can click on the Add button in the Values section in order to choose the field that you want added to the pivot table.*\n",
        "\n",
        "  > *The pivot table will then perform a calculation, such as SUM or COUNT on your selected value, and it will populate the pivot table with the result of that calculation.*\n",
        "    \n",
        "    * Select Profit in the Values section.\n",
        "    * To remove the the value, click the X in the top right corner of the Profit box.\n",
        "    * Now select Revenue in the Values section.\n",
        "\n",
        "  * Selecting multiple values: \n",
        "  > *You can also select multiple values at the same time in order to see more data at once. The pivot table will then show each value separately.*\n",
        "\n",
        "  > *You can rearrange the values using the same Click and Drag method as before.*\n",
        "    * Select Profit in the Values section.\n",
        "    * Then select Revenue in the Values section.\n",
        "    * Now move Revenue above Profit.\n",
        "\n",
        "* Filters in a pivot table\n",
        "  * Selecting filters: \n",
        "  > *Let's start organizing the data.*\n",
        "\n",
        "  > *One option is to filter the data. You can do this by selecting a field in the Filter section of the pivot table editor.*\n",
        "\n",
        "  > *This will then give you the option to filter based on the contents of that field.*\n",
        "\n",
        "    * Click on the Add button in the Filters section and select Month.\n",
        "    * Once the Month box appears, you can then click the dropdown box that appears, and select an individual month. This time, select January.\n",
        "\n",
        "  * Filtering by using a string:\n",
        "    * Click on the Add button in the Filters section and select City.\n",
        "    * Once the City box appears, you will need to clear all of the selections, then select only the cities in California.\n",
        "  \n",
        "  * Filtering on min/max values:\n",
        "    * In the Filters section, select the two highest and two lowest values.\n",
        "  \n",
        "### Changing the calculation of values\n",
        "  * Counting text values:\n",
        "  > *In this example you will need to count how many films were released in each year.*\n",
        "\n",
        "  > *In order to do this, you'll need to use the following fields: Release Year and Title*\n",
        "\n",
        "    * Add Release Year to the Rows section to list all of the years.\n",
        "    * Add Title to the Values section, and select the proper counting method.\n",
        "    (count a)\n",
        "  * Counting numerical values:\n",
        "    * Add Language to the Rows section to list all of the languages.\n",
        "    * Add Gross to the Values section, and select the proper counting method. Several methods may work, but in this case we want to use the method that counts numerical values - count\n",
        "  * Minimum and maximum values:\n",
        "  > You'll need to add Budget to the Values section twice, with the first one showing the minimum value, and the second one showing the maximum value.\n",
        "\n",
        "    * Average and median:\n",
        "      > You'll need to add Gross to the Values section twice, with the first one showing the average value, and the second one showing the median value.\n",
        "\n",
        "\n",
        "  * Calculated fields:\n",
        "    * Create a calculated field:\n",
        "      * click on values and then calculated field, enter the right formula, you can add any title on the column name you want\n",
        "\n",
        "  * Data as percentages, drilling down, & grouping:\n",
        "    * Percentage of grand total:\n",
        "      > Add Gross to the Values section a second time, and modify it so that it shows the data as a percentage of the grand total. You may also need to change the number formatting afterwards, to show the values as percentages.\n",
        "    * Percentage of rows:\n",
        "      > Modify the options for Gross so that the data in the pivot table is shown as percentages for each year. (Each year should add up to 100%). You may need to change the number format to show the data as percentages. (click on the % sign on top)\n",
        "\n",
        "      * Grouping rows:\n",
        "        > Create a Group Rule using an interval of 50,000,000. You can leave the Min and Max at their default settings.\n",
        "This is one option that is not found in the pivot table editor; instead, you'll need to right-click somewhere.\n",
        "\n",
        "###Adding or Changing Data\n",
        "\n",
        "The most common method is to use descriptive fields for the rows and columns, and to use measurements for the values. What does this mean? Descriptive fields are non-numerical categories. This would be a category such as Industry, or Year, or Product Type. These are fields that you would want to use to filter and organize your data, but you won’t necessarily be performing any mathematical calculations on these fields. Measurements are the fields that you do want to perform mathematical calculations on. These are the fields that you would want to add together, such as Revenue, total inches of Rainfall, and so on. There are certainly cases where this dynamic can be flipped, but this will give you a good starting point.\n",
        "\n",
        "\n"
      ]
    }
  ]
}