{
  "nbformat": 4,
  "nbformat_minor": 0,
  "metadata": {
    "colab": {
      "name": "Functions in Python.ipynb",
      "provenance": [],
      "collapsed_sections": [],
      "authorship_tag": "ABX9TyOaa9HVXSl6vdyb4HjM4+uY",
      "include_colab_link": true
    },
    "kernelspec": {
      "name": "python3",
      "display_name": "Python 3"
    },
    "language_info": {
      "name": "python"
    }
  },
  "cells": [
    {
      "cell_type": "markdown",
      "metadata": {
        "id": "view-in-github",
        "colab_type": "text"
      },
      "source": [
        "<a href=\"https://colab.research.google.com/github/dataqueenpend/DS_From_Zero_To_Hero/blob/gh-pages/Functions_in_Python.ipynb\" target=\"_parent\"><img src=\"https://colab.research.google.com/assets/colab-badge.svg\" alt=\"Open In Colab\"/></a>"
      ]
    },
    {
      "cell_type": "markdown",
      "metadata": {
        "id": "FUnVMxIecoOM"
      },
      "source": [
        "#Functions in Python\n",
        "\n",
        "DataCamp exercises\n",
        "solved by me\n",
        "\n",
        "## Best Practices\n",
        "**Crafting a docstring**\n",
        "* Copy the following string and add it as the docstring for the function: Count the number of times `letter` appears in `content`.\n",
        "\n"
      ]
    },
    {
      "cell_type": "code",
      "metadata": {
        "id": "16xVGHwRfJde"
      },
      "source": [
        "# Add a docstring to count_letter()\n",
        "def count_letter(content, letter):\n",
        "  \"\"\"Count the number of times `letter` appears in `content\"\"\"\n",
        "  if (not isinstance(letter, str)) or len(letter) != 1:\n",
        "    raise ValueError('`letter` must be a single character string.')\n",
        "  return len([char for char in content if char == letter])"
      ],
      "execution_count": null,
      "outputs": []
    },
    {
      "cell_type": "markdown",
      "metadata": {
        "id": "6rjIPaZhfLiU"
      },
      "source": [
        "* Now add the arguments section, using the Google style for docstrings. Use str to indicate a string."
      ]
    },
    {
      "cell_type": "code",
      "metadata": {
        "id": "17TCb5tRfOL7"
      },
      "source": [
        "def count_letter(content, letter):\n",
        "  \"\"\"Count the number of times `letter` appears in `content`.\n",
        "\n",
        "  # Add a Google style arguments section\n",
        "  Args:\n",
        "    content (str): The string to search.\n",
        "    letter (str): The letter to search for.\n",
        "  \"\"\"\n",
        "  if (not isinstance(letter, str)) or len(letter) != 1:\n",
        "    raise ValueError('`letter` must be a single character string.')\n",
        "  return len([char for char in content if char == letter])"
      ],
      "execution_count": null,
      "outputs": []
    },
    {
      "cell_type": "markdown",
      "metadata": {
        "id": "ctiwnddcgI6V"
      },
      "source": [
        "* Add a returns section that informs the user the return value is an int."
      ]
    },
    {
      "cell_type": "code",
      "metadata": {
        "id": "nwKvpFLCgdMb"
      },
      "source": [
        "def count_letter(content, letter):\n",
        "  \"\"\"Count the number of times `letter` appears in `content`.\n",
        "\n",
        "  Args:\n",
        "    content (str): The string to search.\n",
        "    letter (str): The letter to search for.\n",
        "\n",
        "  # Add a returns section\n",
        "  Returns:\n",
        "    int\n",
        "  \"\"\"\n",
        "  if (not isinstance(letter, str)) or len(letter) != 1:\n",
        "    raise ValueError('\"letter\" must be a single character string.')\n",
        "  return len([char for char in content if char == letter])"
      ],
      "execution_count": null,
      "outputs": []
    },
    {
      "cell_type": "markdown",
      "metadata": {
        "id": "Jj_iQNPQgfyl"
      },
      "source": [
        "* Finally, add some information about the ValueError that gets raised when the arguments aren't correct."
      ]
    },
    {
      "cell_type": "code",
      "metadata": {
        "id": "UAIxwCMwgtvj"
      },
      "source": [
        "def count_letter(content, letter):\n",
        "  \"\"\"Count the number of times `letter` appears in `content`.\n",
        "\n",
        "  Args:\n",
        "    content (str): The string to search.\n",
        "    letter (str): The letter to search for.\n",
        "\n",
        "  Returns:\n",
        "    int\n",
        "\n",
        "  # Add a section detailing what errors might be raised\n",
        "  Raises:\n",
        "    ValueError: If `letter` is not a one-character string.\n",
        "  \"\"\"\n",
        "  if (not isinstance(letter, str)) or len(letter) != 1:\n",
        "    raise ValueError('`letter` must be a single character string.')\n",
        "  return len([char for char in content if char == letter])"
      ],
      "execution_count": null,
      "outputs": []
    },
    {
      "cell_type": "markdown",
      "metadata": {
        "id": "Z2ZFjNr6g3Ud"
      },
      "source": [
        "**Retrieving docstrings**\n",
        "\n",
        "* Begin by getting the docstring for the function count_letter(). Use an attribute of the count_letter() function"
      ]
    },
    {
      "cell_type": "code",
      "metadata": {
        "colab": {
          "base_uri": "https://localhost:8080/"
        },
        "id": "KHaX4r4ahQAE",
        "outputId": "8fd2e994-8174-47e6-e73b-e2cf41b329d6"
      },
      "source": [
        "# Get the \"count_letter\" docstring by using an attribute of the function\n",
        "docstring = count_letter.__doc__\n",
        "\n",
        "border = '#' * 28\n",
        "print('{}\\n{}\\n{}'.format(border, docstring, border))"
      ],
      "execution_count": null,
      "outputs": [
        {
          "output_type": "stream",
          "text": [
            "############################\n",
            "Count the number of times `letter` appears in `content`.\n",
            "\n",
            "  Args:\n",
            "    content (str): The string to search.\n",
            "    letter (str): The letter to search for.\n",
            "\n",
            "  Returns:\n",
            "    int\n",
            "\n",
            "  # Add a section detailing what errors might be raised\n",
            "  Raises:\n",
            "    ValueError: If `letter` is not a one-character string.\n",
            "  \n",
            "############################\n"
          ],
          "name": "stdout"
        }
      ]
    },
    {
      "cell_type": "markdown",
      "metadata": {
        "id": "4wEukpU8ianU"
      },
      "source": [
        "* Now use a function from the inspect module to get a better-formatted version of count_letter()'s docstring"
      ]
    },
    {
      "cell_type": "code",
      "metadata": {
        "colab": {
          "base_uri": "https://localhost:8080/"
        },
        "id": "6lMzhss8ifhU",
        "outputId": "13ddff1a-2a24-475f-cc82-5e26f1f6e0f4"
      },
      "source": [
        "import inspect\n",
        "\n",
        "# Inspect the count_letter() function to get its docstring\n",
        "docstring = inspect.getdoc(count_letter)\n",
        "\n",
        "border = '#' * 28\n",
        "print('{}\\n{}\\n{}'.format(border, docstring, border))"
      ],
      "execution_count": null,
      "outputs": [
        {
          "output_type": "stream",
          "text": [
            "############################\n",
            "Count the number of times `letter` appears in `content`.\n",
            "\n",
            "Args:\n",
            "  content (str): The string to search.\n",
            "  letter (str): The letter to search for.\n",
            "\n",
            "Returns:\n",
            "  int\n",
            "\n",
            "# Add a section detailing what errors might be raised\n",
            "Raises:\n",
            "  ValueError: If `letter` is not a one-character string.\n",
            "############################\n"
          ],
          "name": "stdout"
        }
      ]
    },
    {
      "cell_type": "markdown",
      "metadata": {
        "id": "ZbsGX5RKio0N"
      },
      "source": [
        "* Now create a build_tooltip() function that can extract the docstring from any function that we pass to it."
      ]
    },
    {
      "cell_type": "code",
      "metadata": {
        "colab": {
          "base_uri": "https://localhost:8080/"
        },
        "id": "yarAR8BmjQ4V",
        "outputId": "3838648a-58d2-46c2-957d-7a4cfa97d879"
      },
      "source": [
        "import inspect\n",
        "\n",
        "def build_tooltip(function):\n",
        "  \"\"\"Create a tooltip for any function that shows the\n",
        "  function's docstring.\n",
        "\n",
        "  Args:\n",
        "    function (callable): The function we want a tooltip for.\n",
        "\n",
        "  Returns:\n",
        "    str\n",
        "  \"\"\"\n",
        "  # Get the docstring for the \"function\" argument by using inspect\n",
        "  docstring = inspect.getdoc(function)\n",
        "  border = '#' * 28\n",
        "  return '{}\\n{}\\n{}'.format(border, docstring, border)\n",
        "\n",
        "print(build_tooltip(count_letter))\n",
        "print(build_tooltip(range))\n",
        "print(build_tooltip(print))"
      ],
      "execution_count": null,
      "outputs": [
        {
          "output_type": "stream",
          "text": [
            "############################\n",
            "Count the number of times `letter` appears in `content`.\n",
            "\n",
            "Args:\n",
            "  content (str): The string to search.\n",
            "  letter (str): The letter to search for.\n",
            "\n",
            "Returns:\n",
            "  int\n",
            "\n",
            "# Add a section detailing what errors might be raised\n",
            "Raises:\n",
            "  ValueError: If `letter` is not a one-character string.\n",
            "############################\n",
            "############################\n",
            "range(stop) -> range object\n",
            "range(start, stop[, step]) -> range object\n",
            "\n",
            "Return an object that produces a sequence of integers from start (inclusive)\n",
            "to stop (exclusive) by step.  range(i, j) produces i, i+1, i+2, ..., j-1.\n",
            "start defaults to 0, and stop is omitted!  range(4) produces 0, 1, 2, 3.\n",
            "These are exactly the valid indices for a list of 4 elements.\n",
            "When step is given, it specifies the increment (or decrement).\n",
            "############################\n",
            "############################\n",
            "print(value, ..., sep=' ', end='\\n', file=sys.stdout, flush=False)\n",
            "\n",
            "Prints the values to a stream, or to sys.stdout by default.\n",
            "Optional keyword arguments:\n",
            "file:  a file-like object (stream); defaults to the current sys.stdout.\n",
            "sep:   string inserted between values, default a space.\n",
            "end:   string appended after the last value, default a newline.\n",
            "flush: whether to forcibly flush the stream.\n",
            "############################\n"
          ],
          "name": "stdout"
        }
      ]
    },
    {
      "cell_type": "markdown",
      "metadata": {
        "id": "Ik_rW_wzjnwd"
      },
      "source": [
        "### DRY and \"Do One Thing\"\n",
        "\n",
        "**Extract a function**\n",
        "\n",
        "* Finish the function so that it returns the z-scores of a column.\n",
        "* Use the function to calculate the z-scores for each year (df['y1_z'], df['y2_z'], etc.) from the raw GPA scores (df.y1_gpa, df.y2_gpa, etc.).\n"
      ]
    },
    {
      "cell_type": "code",
      "metadata": {
        "id": "sQAUZLJ1lpVz"
      },
      "source": [
        "def standardize(column):\n",
        "  \"\"\"Standardize the values in a column.\n",
        "\n",
        "  Args:\n",
        "    column (pandas Series): The data to standardize.\n",
        "\n",
        "  Returns:\n",
        "    pandas Series: the values as z-scores\n",
        "  \"\"\"\n",
        "  # Finish the function so that it returns the z-scores\n",
        "  z_score = (column - column.mean()) / column.std()\n",
        "  return z_score\n",
        "\n",
        "# Use the standardize() function to calculate the z-scores\n",
        "df['y1_z'] = standardize(df.y1_gpa)\n",
        "df['y2_z'] = standardize(df.y2_gpa)\n",
        "df['y3_z'] = standardize(df.y3_gpa)\n",
        "df['y4_z'] = standardize(df.y4_gpa)"
      ],
      "execution_count": null,
      "outputs": []
    },
    {
      "cell_type": "markdown",
      "metadata": {
        "id": "fd-WTElCnLJf"
      },
      "source": [
        "**Split up a function**\n",
        "* Write the mean() function."
      ]
    },
    {
      "cell_type": "code",
      "metadata": {
        "id": "580F0CuQngqn"
      },
      "source": [
        "def mean(values):\n",
        "  \"\"\"Get the mean of a sorted list of values\n",
        "\n",
        "  Args:\n",
        "    values (iterable of float): A list of numbers\n",
        "\n",
        "  Returns:\n",
        "    float\n",
        "  \"\"\"\n",
        "  # Write the mean() function\n",
        "  mean = sum(values) / len(values)\n",
        "  return mean"
      ],
      "execution_count": null,
      "outputs": []
    },
    {
      "cell_type": "markdown",
      "metadata": {
        "id": "PPwk7P_ZntMm"
      },
      "source": [
        "* Write the median() function."
      ]
    },
    {
      "cell_type": "code",
      "metadata": {
        "id": "R_4La66Tn7vW"
      },
      "source": [
        "def median(values):\n",
        "  \"\"\"Get the median of a sorted list of values\n",
        "\n",
        "  Args:\n",
        "    values (iterable of float): A list of numbers\n",
        "\n",
        "  Returns:\n",
        "    float\n",
        "  \"\"\"\n",
        "  # Write the median() function\n",
        "  midpoint = int(len(values) / 2)\n",
        "  if len(values) % 2 == 0:\n",
        "    median = (values[midpoint - 1] + values[midpoint]) / 2\n",
        "  else:\n",
        "    median = values[midpoint]\n",
        "  return median"
      ],
      "execution_count": null,
      "outputs": []
    },
    {
      "cell_type": "markdown",
      "metadata": {
        "id": "SkV2IJOvoDyG"
      },
      "source": [
        "### Pass by assignment\n",
        "\n",
        "**Best practice for default arguments**\n",
        "* Change the default value of df to an immutable value to follow best practices.\n",
        "* Update the code of the function so that a new DataFrame is created if the caller didn't pass one."
      ]
    },
    {
      "cell_type": "code",
      "metadata": {
        "id": "Ml9UCJHKsRem"
      },
      "source": [
        "# Use an immutable variable for the default argument\n",
        "def better_add_column(values, df=None):\n",
        "  \"\"\"Add a column of `values` to a DataFrame `df`.\n",
        "  The column will be named \"col_<n>\" where \"n\" is\n",
        "  the numerical index of the column.\n",
        "\n",
        "  Args:\n",
        "    values (iterable): The values of the new column\n",
        "    df (DataFrame, optional): The DataFrame to update.\n",
        "      If no DataFrame is passed, one is created by default.\n",
        "\n",
        "  Returns:\n",
        "    DataFrame\n",
        "  \"\"\"\n",
        "  # Update the function to create a default DataFrame\n",
        "  if df is None:\n",
        "    df = pandas.DataFrame()\n",
        "  df['col_{}'.format(len(df.columns))] = values\n",
        "  return df"
      ],
      "execution_count": null,
      "outputs": []
    },
    {
      "cell_type": "markdown",
      "metadata": {
        "id": "kx5NFocbsXT5"
      },
      "source": [
        "## Context managers\n",
        "\n"
      ]
    }
  ]
}