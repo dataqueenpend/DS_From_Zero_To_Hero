{
  "nbformat": 4,
  "nbformat_minor": 0,
  "metadata": {
    "colab": {
      "name": "Functions in Python.ipynb",
      "provenance": [],
      "collapsed_sections": [],
      "authorship_tag": "ABX9TyOgHFm2vQGTCJUSljFFpFG1",
      "include_colab_link": true
    },
    "kernelspec": {
      "name": "python3",
      "display_name": "Python 3"
    },
    "language_info": {
      "name": "python"
    }
  },
  "cells": [
    {
      "cell_type": "markdown",
      "metadata": {
        "id": "view-in-github",
        "colab_type": "text"
      },
      "source": [
        "<a href=\"https://colab.research.google.com/github/dataqueenpend/DS_From_Zero_To_Hero/blob/gh-pages/Functions_in_Python.ipynb\" target=\"_parent\"><img src=\"https://colab.research.google.com/assets/colab-badge.svg\" alt=\"Open In Colab\"/></a>"
      ]
    },
    {
      "cell_type": "markdown",
      "metadata": {
        "id": "FUnVMxIecoOM"
      },
      "source": [
        "#Functions in Python\n",
        "\n",
        "DataCamp exercises\n",
        "solved by me\n",
        "\n",
        "## Best Practices\n",
        "**Crafting a docstring**\n",
        "* Copy the following string and add it as the docstring for the function: Count the number of times `letter` appears in `content`.\n",
        "\n"
      ]
    },
    {
      "cell_type": "code",
      "metadata": {
        "id": "16xVGHwRfJde"
      },
      "source": [
        "# Add a docstring to count_letter()\n",
        "def count_letter(content, letter):\n",
        "  \"\"\"Count the number of times `letter` appears in `content\"\"\"\n",
        "  if (not isinstance(letter, str)) or len(letter) != 1:\n",
        "    raise ValueError('`letter` must be a single character string.')\n",
        "  return len([char for char in content if char == letter])"
      ],
      "execution_count": null,
      "outputs": []
    },
    {
      "cell_type": "markdown",
      "metadata": {
        "id": "6rjIPaZhfLiU"
      },
      "source": [
        "* Now add the arguments section, using the Google style for docstrings. Use str to indicate a string."
      ]
    },
    {
      "cell_type": "code",
      "metadata": {
        "id": "17TCb5tRfOL7"
      },
      "source": [
        "def count_letter(content, letter):\n",
        "  \"\"\"Count the number of times `letter` appears in `content`.\n",
        "\n",
        "  # Add a Google style arguments section\n",
        "  Args:\n",
        "    content (str): The string to search.\n",
        "    letter (str): The letter to search for.\n",
        "  \"\"\"\n",
        "  if (not isinstance(letter, str)) or len(letter) != 1:\n",
        "    raise ValueError('`letter` must be a single character string.')\n",
        "  return len([char for char in content if char == letter])"
      ],
      "execution_count": null,
      "outputs": []
    },
    {
      "cell_type": "markdown",
      "metadata": {
        "id": "ctiwnddcgI6V"
      },
      "source": [
        "* Add a returns section that informs the user the return value is an int."
      ]
    },
    {
      "cell_type": "code",
      "metadata": {
        "id": "nwKvpFLCgdMb"
      },
      "source": [
        "def count_letter(content, letter):\n",
        "  \"\"\"Count the number of times `letter` appears in `content`.\n",
        "\n",
        "  Args:\n",
        "    content (str): The string to search.\n",
        "    letter (str): The letter to search for.\n",
        "\n",
        "  # Add a returns section\n",
        "  Returns:\n",
        "    int\n",
        "  \"\"\"\n",
        "  if (not isinstance(letter, str)) or len(letter) != 1:\n",
        "    raise ValueError('\"letter\" must be a single character string.')\n",
        "  return len([char for char in content if char == letter])"
      ],
      "execution_count": null,
      "outputs": []
    },
    {
      "cell_type": "markdown",
      "metadata": {
        "id": "Jj_iQNPQgfyl"
      },
      "source": [
        "* Finally, add some information about the ValueError that gets raised when the arguments aren't correct."
      ]
    },
    {
      "cell_type": "code",
      "metadata": {
        "id": "UAIxwCMwgtvj"
      },
      "source": [
        "def count_letter(content, letter):\n",
        "  \"\"\"Count the number of times `letter` appears in `content`.\n",
        "\n",
        "  Args:\n",
        "    content (str): The string to search.\n",
        "    letter (str): The letter to search for.\n",
        "\n",
        "  Returns:\n",
        "    int\n",
        "\n",
        "  # Add a section detailing what errors might be raised\n",
        "  Raises:\n",
        "    ValueError: If `letter` is not a one-character string.\n",
        "  \"\"\"\n",
        "  if (not isinstance(letter, str)) or len(letter) != 1:\n",
        "    raise ValueError('`letter` must be a single character string.')\n",
        "  return len([char for char in content if char == letter])"
      ],
      "execution_count": null,
      "outputs": []
    },
    {
      "cell_type": "markdown",
      "metadata": {
        "id": "Z2ZFjNr6g3Ud"
      },
      "source": [
        "**Retrieving docstrings**\n",
        "\n",
        "* Begin by getting the docstring for the function count_letter(). Use an attribute of the count_letter() function"
      ]
    },
    {
      "cell_type": "code",
      "metadata": {
        "colab": {
          "base_uri": "https://localhost:8080/"
        },
        "id": "KHaX4r4ahQAE",
        "outputId": "8fd2e994-8174-47e6-e73b-e2cf41b329d6"
      },
      "source": [
        "# Get the \"count_letter\" docstring by using an attribute of the function\n",
        "docstring = count_letter.__doc__\n",
        "\n",
        "border = '#' * 28\n",
        "print('{}\\n{}\\n{}'.format(border, docstring, border))"
      ],
      "execution_count": null,
      "outputs": [
        {
          "output_type": "stream",
          "text": [
            "############################\n",
            "Count the number of times `letter` appears in `content`.\n",
            "\n",
            "  Args:\n",
            "    content (str): The string to search.\n",
            "    letter (str): The letter to search for.\n",
            "\n",
            "  Returns:\n",
            "    int\n",
            "\n",
            "  # Add a section detailing what errors might be raised\n",
            "  Raises:\n",
            "    ValueError: If `letter` is not a one-character string.\n",
            "  \n",
            "############################\n"
          ],
          "name": "stdout"
        }
      ]
    },
    {
      "cell_type": "markdown",
      "metadata": {
        "id": "4wEukpU8ianU"
      },
      "source": [
        "* Now use a function from the inspect module to get a better-formatted version of count_letter()'s docstring"
      ]
    },
    {
      "cell_type": "code",
      "metadata": {
        "colab": {
          "base_uri": "https://localhost:8080/"
        },
        "id": "6lMzhss8ifhU",
        "outputId": "13ddff1a-2a24-475f-cc82-5e26f1f6e0f4"
      },
      "source": [
        "import inspect\n",
        "\n",
        "# Inspect the count_letter() function to get its docstring\n",
        "docstring = inspect.getdoc(count_letter)\n",
        "\n",
        "border = '#' * 28\n",
        "print('{}\\n{}\\n{}'.format(border, docstring, border))"
      ],
      "execution_count": null,
      "outputs": [
        {
          "output_type": "stream",
          "text": [
            "############################\n",
            "Count the number of times `letter` appears in `content`.\n",
            "\n",
            "Args:\n",
            "  content (str): The string to search.\n",
            "  letter (str): The letter to search for.\n",
            "\n",
            "Returns:\n",
            "  int\n",
            "\n",
            "# Add a section detailing what errors might be raised\n",
            "Raises:\n",
            "  ValueError: If `letter` is not a one-character string.\n",
            "############################\n"
          ],
          "name": "stdout"
        }
      ]
    },
    {
      "cell_type": "markdown",
      "metadata": {
        "id": "ZbsGX5RKio0N"
      },
      "source": [
        "* Now create a build_tooltip() function that can extract the docstring from any function that we pass to it."
      ]
    },
    {
      "cell_type": "code",
      "metadata": {
        "colab": {
          "base_uri": "https://localhost:8080/"
        },
        "id": "yarAR8BmjQ4V",
        "outputId": "3838648a-58d2-46c2-957d-7a4cfa97d879"
      },
      "source": [
        "import inspect\n",
        "\n",
        "def build_tooltip(function):\n",
        "  \"\"\"Create a tooltip for any function that shows the\n",
        "  function's docstring.\n",
        "\n",
        "  Args:\n",
        "    function (callable): The function we want a tooltip for.\n",
        "\n",
        "  Returns:\n",
        "    str\n",
        "  \"\"\"\n",
        "  # Get the docstring for the \"function\" argument by using inspect\n",
        "  docstring = inspect.getdoc(function)\n",
        "  border = '#' * 28\n",
        "  return '{}\\n{}\\n{}'.format(border, docstring, border)\n",
        "\n",
        "print(build_tooltip(count_letter))\n",
        "print(build_tooltip(range))\n",
        "print(build_tooltip(print))"
      ],
      "execution_count": null,
      "outputs": [
        {
          "output_type": "stream",
          "text": [
            "############################\n",
            "Count the number of times `letter` appears in `content`.\n",
            "\n",
            "Args:\n",
            "  content (str): The string to search.\n",
            "  letter (str): The letter to search for.\n",
            "\n",
            "Returns:\n",
            "  int\n",
            "\n",
            "# Add a section detailing what errors might be raised\n",
            "Raises:\n",
            "  ValueError: If `letter` is not a one-character string.\n",
            "############################\n",
            "############################\n",
            "range(stop) -> range object\n",
            "range(start, stop[, step]) -> range object\n",
            "\n",
            "Return an object that produces a sequence of integers from start (inclusive)\n",
            "to stop (exclusive) by step.  range(i, j) produces i, i+1, i+2, ..., j-1.\n",
            "start defaults to 0, and stop is omitted!  range(4) produces 0, 1, 2, 3.\n",
            "These are exactly the valid indices for a list of 4 elements.\n",
            "When step is given, it specifies the increment (or decrement).\n",
            "############################\n",
            "############################\n",
            "print(value, ..., sep=' ', end='\\n', file=sys.stdout, flush=False)\n",
            "\n",
            "Prints the values to a stream, or to sys.stdout by default.\n",
            "Optional keyword arguments:\n",
            "file:  a file-like object (stream); defaults to the current sys.stdout.\n",
            "sep:   string inserted between values, default a space.\n",
            "end:   string appended after the last value, default a newline.\n",
            "flush: whether to forcibly flush the stream.\n",
            "############################\n"
          ],
          "name": "stdout"
        }
      ]
    },
    {
      "cell_type": "markdown",
      "metadata": {
        "id": "Ik_rW_wzjnwd"
      },
      "source": [
        "### DRY and \"Do One Thing\"\n",
        "\n",
        "**Extract a function**\n",
        "\n",
        "* Finish the function so that it returns the z-scores of a column.\n",
        "* Use the function to calculate the z-scores for each year (df['y1_z'], df['y2_z'], etc.) from the raw GPA scores (df.y1_gpa, df.y2_gpa, etc.).\n"
      ]
    },
    {
      "cell_type": "code",
      "metadata": {
        "id": "sQAUZLJ1lpVz"
      },
      "source": [
        "def standardize(column):\n",
        "  \"\"\"Standardize the values in a column.\n",
        "\n",
        "  Args:\n",
        "    column (pandas Series): The data to standardize.\n",
        "\n",
        "  Returns:\n",
        "    pandas Series: the values as z-scores\n",
        "  \"\"\"\n",
        "  # Finish the function so that it returns the z-scores\n",
        "  z_score = (column - column.mean()) / column.std()\n",
        "  return z_score\n",
        "\n",
        "# Use the standardize() function to calculate the z-scores\n",
        "df['y1_z'] = standardize(df.y1_gpa)\n",
        "df['y2_z'] = standardize(df.y2_gpa)\n",
        "df['y3_z'] = standardize(df.y3_gpa)\n",
        "df['y4_z'] = standardize(df.y4_gpa)"
      ],
      "execution_count": null,
      "outputs": []
    },
    {
      "cell_type": "markdown",
      "metadata": {
        "id": "fd-WTElCnLJf"
      },
      "source": [
        "**Split up a function**\n",
        "* Write the mean() function."
      ]
    },
    {
      "cell_type": "code",
      "metadata": {
        "id": "580F0CuQngqn"
      },
      "source": [
        "def mean(values):\n",
        "  \"\"\"Get the mean of a sorted list of values\n",
        "\n",
        "  Args:\n",
        "    values (iterable of float): A list of numbers\n",
        "\n",
        "  Returns:\n",
        "    float\n",
        "  \"\"\"\n",
        "  # Write the mean() function\n",
        "  mean = sum(values) / len(values)\n",
        "  return mean"
      ],
      "execution_count": null,
      "outputs": []
    },
    {
      "cell_type": "markdown",
      "metadata": {
        "id": "PPwk7P_ZntMm"
      },
      "source": [
        "* Write the median() function."
      ]
    },
    {
      "cell_type": "code",
      "metadata": {
        "id": "R_4La66Tn7vW"
      },
      "source": [
        "def median(values):\n",
        "  \"\"\"Get the median of a sorted list of values\n",
        "\n",
        "  Args:\n",
        "    values (iterable of float): A list of numbers\n",
        "\n",
        "  Returns:\n",
        "    float\n",
        "  \"\"\"\n",
        "  # Write the median() function\n",
        "  midpoint = int(len(values) / 2)\n",
        "  if len(values) % 2 == 0:\n",
        "    median = (values[midpoint - 1] + values[midpoint]) / 2\n",
        "  else:\n",
        "    median = values[midpoint]\n",
        "  return median"
      ],
      "execution_count": null,
      "outputs": []
    },
    {
      "cell_type": "markdown",
      "metadata": {
        "id": "SkV2IJOvoDyG"
      },
      "source": [
        "### Pass by assignment\n",
        "\n",
        "**Best practice for default arguments**\n",
        "* Change the default value of df to an immutable value to follow best practices.\n",
        "* Update the code of the function so that a new DataFrame is created if the caller didn't pass one."
      ]
    },
    {
      "cell_type": "code",
      "metadata": {
        "id": "Ml9UCJHKsRem"
      },
      "source": [
        "# Use an immutable variable for the default argument\n",
        "def better_add_column(values, df=None):\n",
        "  \"\"\"Add a column of `values` to a DataFrame `df`.\n",
        "  The column will be named \"col_<n>\" where \"n\" is\n",
        "  the numerical index of the column.\n",
        "\n",
        "  Args:\n",
        "    values (iterable): The values of the new column\n",
        "    df (DataFrame, optional): The DataFrame to update.\n",
        "      If no DataFrame is passed, one is created by default.\n",
        "\n",
        "  Returns:\n",
        "    DataFrame\n",
        "  \"\"\"\n",
        "  # Update the function to create a default DataFrame\n",
        "  if df is None:\n",
        "    df = pandas.DataFrame()\n",
        "  df['col_{}'.format(len(df.columns))] = values\n",
        "  return df"
      ],
      "execution_count": null,
      "outputs": []
    },
    {
      "cell_type": "markdown",
      "metadata": {
        "id": "kx5NFocbsXT5"
      },
      "source": [
        "## Context managers\n",
        "\n",
        "### Using a context manager\n",
        "\n",
        "* Use the open() context manager to open alice.txt and assign the file to the file variable.\n",
        "```\n",
        "# Open \"alice.txt\" and assign the file to \"file\"\n",
        "with open('alice.txt') as file:\n",
        "  text = file.read()\n",
        "n = 0\n",
        "for word in text.split():\n",
        "  if word.lower() in ['cat', 'cats']:\n",
        "    n += 1\n",
        "print('Lewis Carroll uses the word \"cat\" {} times'.format(n))\n",
        "\n",
        "\n",
        "**Learn what code runs faster with context manager**\n",
        "\n",
        "* Use the timer() context manager to time how long process_with_numpy(image) takes to run.\n",
        "* Use the timer() context manager to time how long process_with_pytorch(image) takes to run.\n",
        "\n",
        "\n",
        "```\n",
        "image = get_image_from_instagram()\n",
        "\n",
        "# Time how long process_with_numpy(image) takes to run\n",
        "with timer():\n",
        "  print('Numpy version')\n",
        "  process_with_numpy(image)\n",
        "\n",
        "# Time how long process_with_pytorch(image) takes to run\n",
        "with timer():\n",
        "  print('Pytorch version')\n",
        "  process_with_pytorch(image)\n",
        "```\n",
        "\n",
        "### Writing context manager\n",
        "\n",
        "**Creating timer() context manager - how long processing is taking?**\n",
        "\n",
        "\n",
        "* Add a decorator from the contextlib module to the timer() function that will make it act like a context manager.\n",
        "* Send control from the timer() function to the context block.\n",
        "\n",
        "```\n",
        "# Add a decorator that will make timer() a context manager\n",
        "@contextlib.contextmanager\n",
        "def timer():\n",
        "  \"\"\"Time the execution of a context block.\n",
        "\n",
        "  Yields:\n",
        "    None\n",
        "  \"\"\"\n",
        "  start = time.time()\n",
        "  # Send control back to the context block\n",
        "  yield\n",
        "  end = time.time()\n",
        "  print('Elapsed: {:.2f}s'.format(end - start))\n",
        "\n",
        "with timer():\n",
        "  print('This should take approximately 0.25 seconds')\n",
        "  time.sleep(0.25)\n",
        "```\n",
        "\n",
        "**A read-only open() context manager**\n",
        "\n",
        "* Yield control from open_read_only() to the context block, ensuring that the read_only_file object gets assigned to my_file.\n",
        "* Use read_only_file's .close() method to ensure that you don't leave open files lying around\n",
        "\n",
        "```\n",
        "@contextlib.contextmanager\n",
        "def open_read_only(filename):\n",
        "  \"\"\"Open a file in read-only mode.\n",
        "\n",
        "  Args:\n",
        "    filename (str): The location of the file to read\n",
        "\n",
        "  Yields:\n",
        "    file object\n",
        "  \"\"\"\n",
        "  read_only_file = open(filename, mode='r')\n",
        "  # Yield read_only_file so it can be assigned to my_file\n",
        "  yield read_only_file\n",
        "  # Close read_only_file\n",
        "  read_only_file.close()\n",
        "\n",
        "with open_read_only('my_file.txt') as my_file:\n",
        "  print(my_file.read())\n",
        "```\n",
        "\n",
        "**Nested context manager**\n",
        "\n",
        "* Use the stock('NVDA') context manager and assign the result to nvda.\n",
        "* Open a file for writing with open('NVDA.txt', 'w') and assign the file object to f_out so you can record the price over time.\n",
        "\n",
        "```\n",
        "# Use the \"stock('NVDA')\" context manager\n",
        "# and assign the result to the variable \"nvda\"\n",
        "with stock('NVDA') as nvda:\n",
        "  # Open \"NVDA.txt\" for writing as f_out\n",
        "  with  open('NVDA.txt' , 'w') as f_out:\n",
        "    for _ in range(10):\n",
        "      value = nvda.price()\n",
        "      print('Logging ${:.2f} for NVDA'.format(value))\n",
        "      f_out.write('{:.2f}\\n'.format(value))\n",
        "```\n",
        "\n",
        "**Handling error with context manager**\n",
        "\n",
        "* Add a statement that lets you handle any errors that might occur inside the context.\n",
        "* Add a statement that ensures os.chdir(current_dir) will be called, whether there was an error or not\n",
        "\n",
        "\n",
        "\n"
      ]
    },
    {
      "cell_type": "code",
      "metadata": {
        "id": "8Hre6DBCGZ1Y"
      },
      "source": [
        "def in_dir(directory):\n",
        "  \"\"\"Change current working directory to `directory`,\n",
        "  allow the user to run some code, and change back.\n",
        "\n",
        "  Args:\n",
        "    directory (str): The path to a directory to work in.\n",
        "  \"\"\"\n",
        "  current_dir = os.getcwd()\n",
        "  os.chdir(directory)\n",
        "\n",
        "  # Add code that lets you handle errors\n",
        "  try:\n",
        "    yield\n",
        "  # Ensure the directory is reset,\n",
        "  # whether there was an error or not\n",
        "  finally:\n",
        "    os.chdir(current_dir)"
      ],
      "execution_count": 2,
      "outputs": []
    },
    {
      "cell_type": "markdown",
      "metadata": {
        "id": "HX1Sv0jaG49f"
      },
      "source": [
        "## Decorators\n",
        "\n",
        "### Functions are objects\n",
        "\n",
        "**Command line app**\n",
        "\n",
        "* Add the functions std(), minimum(), and maximum() to the function_map dictionary, like we did with mean().\n",
        "* The name of the function the user wants to call is stored in func_name. Use the dictionary of functions, function_map, to call the chosen function and pass data as an argument.\n",
        "\n",
        "```\n",
        "# Add the missing function references to the function map\n",
        "function_map = {\n",
        "  'mean': mean,\n",
        "  'std': std,\n",
        "  'minimum': minimum,\n",
        "  'maximum': maximum\n",
        "}\n",
        "\n",
        "data = load_data()\n",
        "print(data)\n",
        "\n",
        "func_name = get_user_input()\n",
        "\n",
        "# Call the chosen function and pass \"data\" as an argument\n",
        "function_map[func_name](data)\n",
        "```\n",
        "\n",
        "**Checking the function functionality - calling a function on a function**\n",
        "\n",
        "* Call has_docstring() on your co-worker's load_and_plot_data() function.\n",
        "\n",
        "```\n",
        "# Call has_docstring() on the load_and_plot_data() function\n",
        "ok = has_docstring(load_and_plot_data)\n",
        "\n",
        "if not ok:\n",
        "  print(\"load_and_plot_data() doesn't have a docstring!\")\n",
        "else:\n",
        "  print(\"load_and_plot_data() looks ok\")\n",
        "```\n",
        "\n",
        "* Check if the function as_2D() has a docstring.\n",
        "\n",
        "```\n",
        "# Call has_docstring() on the as_2D() function\n",
        "ok = has_docstring(as_2D)\n",
        "\n",
        "if not ok:\n",
        "  print(\"as_2D() doesn't have a docstring!\")\n",
        "else:\n",
        "  print(\"as_2D() looks ok\")\n",
        "```\n",
        "\n",
        "* Check if the function log_product() has a docstring.\n",
        "\n",
        "```\n",
        "# Call has_docstring() on the log_product() function\n",
        "ok = has_docstring(log_product)\n",
        "\n",
        "if not ok:\n",
        "  print(\"log_product() doesn't have a docstring!\")\n",
        "else:\n",
        "  print(\"log_product() looks ok\")\n",
        "```\n",
        "\n",
        "**Returning function with a function**\n",
        "\n",
        "* Define the subtract() function. It should take two arguments and return the first argument minus the second argument.\n",
        "\n",
        "```\n",
        "def create_math_function(func_name):\n",
        "  if func_name == 'add':\n",
        "    def add(a, b):\n",
        "      return a + b\n",
        "    return add\n",
        "  elif func_name == 'subtract':\n",
        "    # Define the subtract() function\n",
        "    def subtract(a,b):\n",
        "      return a-b\n",
        "    return subtract\n",
        "  else:\n",
        "    print(\"I don't know that one\")\n",
        "    \n",
        "add = create_math_function('add')\n",
        "print('5 + 2 = {}'.format(add(5, 2)))\n",
        "\n",
        "subtract = create_math_function('subtract')\n",
        "print('5 - 2 = {}'.format(subtract(5, 2)))\n",
        "```\n",
        "\n",
        "### Scope\n",
        "\n",
        "**Modifying variables outside the local scope**\n",
        "\n",
        "* Add a keyword that lets us update call_count from inside the function.\n"
      ]
    },
    {
      "cell_type": "code",
      "metadata": {
        "colab": {
          "base_uri": "https://localhost:8080/"
        },
        "id": "50YbYtR0Rm7I",
        "outputId": "5b7d6363-7429-45b4-8ccc-42c9b9c6a33c"
      },
      "source": [
        "call_count = 0\n",
        "\n",
        "def my_function():\n",
        "  # Use a keyword that lets us update call_count \n",
        "  global call_count\n",
        "  call_count += 1\n",
        "  \n",
        "  print(\"You've called my_function() {} times!\".format(\n",
        "    call_count\n",
        "  ))\n",
        "  \n",
        "for _ in range(20):\n",
        "  my_function()"
      ],
      "execution_count": 4,
      "outputs": [
        {
          "output_type": "stream",
          "text": [
            "You've called my_function() 1 times!\n",
            "You've called my_function() 2 times!\n",
            "You've called my_function() 3 times!\n",
            "You've called my_function() 4 times!\n",
            "You've called my_function() 5 times!\n",
            "You've called my_function() 6 times!\n",
            "You've called my_function() 7 times!\n",
            "You've called my_function() 8 times!\n",
            "You've called my_function() 9 times!\n",
            "You've called my_function() 10 times!\n",
            "You've called my_function() 11 times!\n",
            "You've called my_function() 12 times!\n",
            "You've called my_function() 13 times!\n",
            "You've called my_function() 14 times!\n",
            "You've called my_function() 15 times!\n",
            "You've called my_function() 16 times!\n",
            "You've called my_function() 17 times!\n",
            "You've called my_function() 18 times!\n",
            "You've called my_function() 19 times!\n",
            "You've called my_function() 20 times!\n"
          ],
          "name": "stdout"
        }
      ]
    },
    {
      "cell_type": "markdown",
      "metadata": {
        "id": "QzL88NXiSU62"
      },
      "source": [
        "* Add a keyword that lets us modify file_contents from inside save_contents().\n",
        "\n",
        "```\n",
        "def read_files():\n",
        "  file_contents = None\n",
        "  \n",
        "  def save_contents(filename):\n",
        "    # Add a keyword that lets us modify file_contents\n",
        "    nonlocal file_contents\n",
        "    if file_contents is None:\n",
        "      file_contents = []\n",
        "    with open(filename) as fin:\n",
        "      file_contents.append(fin.read())\n",
        "      \n",
        "  for filename in ['1984.txt', 'MobyDick.txt', 'CatsEye.txt']:\n",
        "    save_contents(filename)\n",
        "    \n",
        "  return file_contents\n",
        "\n",
        "print('\\n'.join(read_files()))\n",
        "```\n",
        "\n",
        "\n",
        "* Add a keyword to done in check_is_done() so that wait_until_done() eventually stops looping.\n",
        "\n",
        "```\n",
        "def wait_until_done():\n",
        "  def check_is_done():\n",
        "    # Add a keyword so that wait_until_done() \n",
        "    # doesn't run forever\n",
        "    global done\n",
        "    if random.random() < 0.1:\n",
        "      done = True\n",
        "      \n",
        "  while not done:\n",
        "    check_is_done()\n",
        "\n",
        "done = False\n",
        "wait_until_done()\n",
        "\n",
        "print('Work done? {}'.format(done))\n",
        "```\n",
        "### Closures\n",
        "\n",
        "**Is there a closure here?**\n",
        "\n",
        "* Use an attribute of the my_func() function to show that it has a closure that is not None.\n",
        "\n"
      ]
    },
    {
      "cell_type": "code",
      "metadata": {
        "colab": {
          "base_uri": "https://localhost:8080/"
        },
        "id": "bj4HyjChWZIT",
        "outputId": "3798a97e-0813-4e4b-d1dc-ace6a901fce1"
      },
      "source": [
        "def return_a_func(arg1, arg2):\n",
        "  def new_func():\n",
        "    print('arg1 was {}'.format(arg1))\n",
        "    print('arg2 was {}'.format(arg2))\n",
        "  return new_func\n",
        "    \n",
        "my_func = return_a_func(2, 17)\n",
        "\n",
        "# Show that my_func()'s closure is not None\n",
        "print(my_func.__closure__ is not None)"
      ],
      "execution_count": 7,
      "outputs": [
        {
          "output_type": "stream",
          "text": [
            "True\n"
          ],
          "name": "stdout"
        }
      ]
    },
    {
      "cell_type": "markdown",
      "metadata": {
        "id": "6An4-3QbWnmC"
      },
      "source": [
        "* Show that there are two variables in the closure."
      ]
    },
    {
      "cell_type": "code",
      "metadata": {
        "colab": {
          "base_uri": "https://localhost:8080/"
        },
        "id": "qciNNXKiW0w_",
        "outputId": "aeb0c246-c6f8-4168-bc27-90dc41865392"
      },
      "source": [
        "def return_a_func(arg1, arg2):\n",
        "  def new_func():\n",
        "    print('arg1 was {}'.format(arg1))\n",
        "    print('arg2 was {}'.format(arg2))\n",
        "  return new_func\n",
        "    \n",
        "my_func = return_a_func(2, 17)\n",
        "\n",
        "print(my_func.__closure__ is not None)\n",
        "\n",
        "# Show that there are two variables in the closure\n",
        "print(len(my_func.__closure__) == 2)"
      ],
      "execution_count": 8,
      "outputs": [
        {
          "output_type": "stream",
          "text": [
            "True\n",
            "True\n"
          ],
          "name": "stdout"
        }
      ]
    },
    {
      "cell_type": "markdown",
      "metadata": {
        "id": "kOn3g2kRXx5P"
      },
      "source": [
        "* Get the values of the variables in the closure so you can show that they are equal to [2, 17], the arguments passed to return_a_func().\n"
      ]
    },
    {
      "cell_type": "code",
      "metadata": {
        "colab": {
          "base_uri": "https://localhost:8080/"
        },
        "id": "QVWJpTX9X16E",
        "outputId": "15437fbc-be46-46c2-fd65-7a9fb79a11dd"
      },
      "source": [
        "def return_a_func(arg1, arg2):\n",
        "  def new_func():\n",
        "    print('arg1 was {}'.format(arg1))\n",
        "    print('arg2 was {}'.format(arg2))\n",
        "  return new_func\n",
        "    \n",
        "my_func = return_a_func(2, 17)\n",
        "\n",
        "print(my_func.__closure__ is not None)\n",
        "print(len(my_func.__closure__) == 2)\n",
        "\n",
        "# Get the values of the variables in the closure\n",
        "closure_values = [\n",
        "  my_func.__closure__[i].cell_contents for i in range(2)\n",
        "]\n",
        "print(closure_values == [2, 17])"
      ],
      "execution_count": 9,
      "outputs": [
        {
          "output_type": "stream",
          "text": [
            "True\n",
            "True\n",
            "True\n"
          ],
          "name": "stdout"
        }
      ]
    },
    {
      "cell_type": "markdown",
      "metadata": {
        "id": "CttDkP0aYXmW"
      },
      "source": [
        "**Values are safe because of closures**\n",
        "\n",
        "* Show that you still get the original message even if you redefine my_special_function() to only print \"hello\".\n",
        "\n"
      ]
    },
    {
      "cell_type": "code",
      "metadata": {
        "colab": {
          "base_uri": "https://localhost:8080/"
        },
        "id": "4ECCfXURZ_jk",
        "outputId": "837de871-c797-47ee-d7fb-5a70458aae7c"
      },
      "source": [
        "def my_special_function():\n",
        "  print('You are running my_special_function()')\n",
        "  \n",
        "def get_new_func(func):\n",
        "  def call_func():\n",
        "    func()\n",
        "  return call_func\n",
        "\n",
        "new_func = get_new_func(my_special_function)\n",
        "\n",
        "# Redefine my_special_function() to just print \"hello\"\n",
        "def my_special_function():\n",
        "  print('hello')\n",
        "\n",
        "new_func()"
      ],
      "execution_count": 10,
      "outputs": [
        {
          "output_type": "stream",
          "text": [
            "You are running my_special_function()\n"
          ],
          "name": "stdout"
        }
      ]
    },
    {
      "cell_type": "markdown",
      "metadata": {
        "id": "UxCj0x9HaA6e"
      },
      "source": [
        "* Show that even if you delete my_special_function(), you can still call new_func() without any problems."
      ]
    },
    {
      "cell_type": "code",
      "metadata": {
        "colab": {
          "base_uri": "https://localhost:8080/"
        },
        "id": "Yj-TfDQGaV_Y",
        "outputId": "70b5f57c-c251-499f-85ca-bdf37b219e02"
      },
      "source": [
        "def my_special_function():\n",
        "  print('You are running my_special_function()')\n",
        "  \n",
        "def get_new_func(func):\n",
        "  def call_func():\n",
        "    func()\n",
        "  return call_func\n",
        "\n",
        "new_func = get_new_func(my_special_function)\n",
        "\n",
        "# Delete my_special_function()\n",
        "del my_special_function\n",
        "\n",
        "new_func()"
      ],
      "execution_count": 11,
      "outputs": [
        {
          "output_type": "stream",
          "text": [
            "You are running my_special_function()\n"
          ],
          "name": "stdout"
        }
      ]
    },
    {
      "cell_type": "markdown",
      "metadata": {
        "id": "OQ4z6FHoahhR"
      },
      "source": [
        "* Show that you still get the original message even if you overwrite my_special_function() with the new function."
      ]
    },
    {
      "cell_type": "code",
      "metadata": {
        "colab": {
          "base_uri": "https://localhost:8080/"
        },
        "id": "F49CknJJakUF",
        "outputId": "85cfb640-4ab0-4b36-92d9-545ed8e15ff2"
      },
      "source": [
        "def my_special_function():\n",
        "  print('You are running my_special_function()')\n",
        "  \n",
        "def get_new_func(func):\n",
        "  def call_func():\n",
        "    func()\n",
        "  return call_func\n",
        "\n",
        "# Overwrite `my_special_function` with the new function\n",
        "my_special_function = get_new_func(my_special_function)\n",
        "\n",
        "my_special_function()"
      ],
      "execution_count": 12,
      "outputs": [
        {
          "output_type": "stream",
          "text": [
            "You are running my_special_function()\n"
          ],
          "name": "stdout"
        }
      ]
    },
    {
      "cell_type": "markdown",
      "metadata": {
        "id": "9y-L3RLXa4hf"
      },
      "source": [
        "## Decorators\n",
        "\n",
        "**Decorators syntax**\n",
        "\n",
        "* Decorate my_function() with the print_args() decorator by redefining the my_function variable.\n",
        "\n",
        "```\n",
        "def my_function(a, b, c):\n",
        "  print(a + b + c)\n",
        "\n",
        "# Decorate my_function() with the print_args() decorator\n",
        "my_function = print_args(my_function)\n",
        "\n",
        "my_function(1, 2, 3)\n",
        "```\n",
        "\n",
        "\n",
        "* Decorate my_function() with the print_args() decorator using decorator syntax.\n",
        "\n",
        "```\n",
        "# Decorate my_function() with the print_args() decorator\n",
        "@print_args\n",
        "def my_function(a, b, c):\n",
        "  print(a + b + c)\n",
        "\n",
        "my_function(1, 2, 3)\n",
        "```\n",
        "\n",
        "**Defining a decorator**\n",
        "\n",
        "* Call the function being decorated and pass it the positional arguments *args.\n",
        "* Return the new decorated function."
      ]
    },
    {
      "cell_type": "code",
      "metadata": {
        "colab": {
          "base_uri": "https://localhost:8080/"
        },
        "id": "WHeDCqjFeY_I",
        "outputId": "f7ebbd5d-5bc6-4b60-bef7-ae7a32b2229e"
      },
      "source": [
        "def print_before_and_after(func):\n",
        "  def wrapper(*args):\n",
        "    print('Before {}'.format(func.__name__))\n",
        "    # Call the function being decorated with *args\n",
        "    func(*args)\n",
        "    print('After {}'.format(func.__name__))\n",
        "  # Return the nested function\n",
        "  return wrapper\n",
        "\n",
        "@print_before_and_after\n",
        "def multiply(a, b):\n",
        "  print(a * b)\n",
        "\n",
        "multiply(5, 10)"
      ],
      "execution_count": 14,
      "outputs": [
        {
          "output_type": "stream",
          "text": [
            "Before multiply\n",
            "50\n",
            "After multiply\n"
          ],
          "name": "stdout"
        }
      ]
    },
    {
      "cell_type": "markdown",
      "metadata": {
        "id": "0b2jhUMle8wI"
      },
      "source": [
        "## Real-world decorators\n",
        "\n",
        "**Checking the type of the returned object with a decorator**"
      ]
    },
    {
      "cell_type": "code",
      "metadata": {
        "colab": {
          "base_uri": "https://localhost:8080/"
        },
        "id": "DZjqNWUUl3F4",
        "outputId": "a83eedb0-eec4-4b5c-fabd-f1634965d634"
      },
      "source": [
        "def print_return_type(func):\n",
        "  # Define wrapper(), the decorated function\n",
        "  def wrapper(*args,**kwargs):\n",
        "    # Call the function being decorated\n",
        "    result = func(*args, **kwargs)\n",
        "    print('{}() returned type {}'.format(\n",
        "      func.__name__, type(result)\n",
        "    ))\n",
        "    return result\n",
        "  # Return the decorated function\n",
        "  return wrapper\n",
        "  \n",
        "@print_return_type\n",
        "def foo(value):\n",
        "  return value\n",
        "  \n",
        "print(foo(42))\n",
        "print(foo([1, 2, 3]))\n",
        "print(foo({'a': 42}))"
      ],
      "execution_count": 15,
      "outputs": [
        {
          "output_type": "stream",
          "text": [
            "foo() returned type <class 'int'>\n",
            "42\n",
            "foo() returned type <class 'list'>\n",
            "[1, 2, 3]\n",
            "foo() returned type <class 'dict'>\n",
            "{'a': 42}\n"
          ],
          "name": "stdout"
        }
      ]
    },
    {
      "cell_type": "markdown",
      "metadata": {
        "id": "Dt51fKGpmD57"
      },
      "source": [
        "**Counting decorator**\n",
        "\n",
        "* Call the function being decorated and return the result.\n",
        "* Return the new decorated function.\n",
        "* Decorate foo() with the counter() decorator.\n"
      ]
    },
    {
      "cell_type": "code",
      "metadata": {
        "colab": {
          "base_uri": "https://localhost:8080/"
        },
        "id": "cZaJi37QmW10",
        "outputId": "81c4dc1d-19f2-4697-e536-60993d6493f2"
      },
      "source": [
        "def counter(func):\n",
        "  def wrapper(*args, **kwargs):\n",
        "    wrapper.count += 1\n",
        "    # Call the function being decorated and return the result\n",
        "    return counter(wrapper)\n",
        "  wrapper.count = 0\n",
        "  # Return the new decorated function\n",
        "  return wrapper\n",
        "\n",
        "# Decorate foo() with the counter() decorator\n",
        "@counter\n",
        "def foo():\n",
        "  print('calling foo()')\n",
        "  \n",
        "foo()\n",
        "foo()\n",
        "\n",
        "print('foo() was called {} times.'.format(foo.count))"
      ],
      "execution_count": 16,
      "outputs": [
        {
          "output_type": "stream",
          "text": [
            "foo() was called 2 times.\n"
          ],
          "name": "stdout"
        }
      ]
    },
    {
      "cell_type": "markdown",
      "metadata": {
        "id": "FlwRRy9znjPp"
      },
      "source": [
        "### Decorators and metadata\n",
        "\n",
        "**Preserving docstrings when decorating functions**\n",
        "\n",
        "* Decorate print_sum() with the add_hello() decorator to replicate the issue that your friend saw - that the docstring disappears.\n",
        "\n"
      ]
    },
    {
      "cell_type": "code",
      "metadata": {
        "colab": {
          "base_uri": "https://localhost:8080/"
        },
        "id": "dQLBG2Ivrf9V",
        "outputId": "7000cdf5-f5b0-4e9a-fbea-0454d537096e"
      },
      "source": [
        "def add_hello(func):\n",
        "  def wrapper(*args, **kwargs):\n",
        "    print('Hello')\n",
        "    return func(*args, **kwargs)\n",
        "  return wrapper\n",
        "\n",
        "# Decorate print_sum() with the add_hello() decorator\n",
        "@add_hello\n",
        "def print_sum(a, b):\n",
        "  \"\"\"Adds two numbers and prints the sum\"\"\"\n",
        "  print(a + b)\n",
        "  \n",
        "print_sum(10, 20)\n",
        "print_sum_docstring = print_sum.__doc__\n",
        "print(print_sum_docstring)"
      ],
      "execution_count": 17,
      "outputs": [
        {
          "output_type": "stream",
          "text": [
            "Hello\n",
            "30\n",
            "None\n"
          ],
          "name": "stdout"
        }
      ]
    },
    {
      "cell_type": "markdown",
      "metadata": {
        "id": "eCyU-kVzrhSD"
      },
      "source": [
        "* To show your friend that they are printing the wrapper() function's docstring, not the print_sum() docstring, add the following docstring to wrapper():\n",
        "```\n",
        "\"\"\"Print 'hello' and then call the decorated function.\"\"\"\n",
        "```\n"
      ]
    },
    {
      "cell_type": "code",
      "metadata": {
        "colab": {
          "base_uri": "https://localhost:8080/"
        },
        "id": "_cPzm5Arr5Zo",
        "outputId": "494c06c3-0b80-49fe-d2ab-2f30c544c32d"
      },
      "source": [
        "def add_hello(func):\n",
        "  # Add a docstring to wrapper\n",
        "  def wrapper(*args, **kwargs):\n",
        "    \"\"\"Print 'hello' and then call the decorated function.\"\"\"\n",
        "    print('Hello')\n",
        "    return func(*args, **kwargs)\n",
        "  return wrapper\n",
        "\n",
        "@add_hello\n",
        "def print_sum(a, b):\n",
        "  \"\"\"Adds two numbers and prints the sum\"\"\"\n",
        "  print(a + b)\n",
        "  \n",
        "print_sum(10, 20)\n",
        "print_sum_docstring = print_sum.__doc__\n",
        "print(print_sum_docstring)"
      ],
      "execution_count": 18,
      "outputs": [
        {
          "output_type": "stream",
          "text": [
            "Hello\n",
            "30\n",
            "Print 'hello' and then call the decorated function.\n"
          ],
          "name": "stdout"
        }
      ]
    },
    {
      "cell_type": "markdown",
      "metadata": {
        "id": "NAPJxJpzr9TS"
      },
      "source": [
        "* Import a function that will allow you to add the metadata from print_sum() to the decorated version of print_sum()."
      ]
    },
    {
      "cell_type": "code",
      "metadata": {
        "colab": {
          "base_uri": "https://localhost:8080/"
        },
        "id": "IDYS2CqAsBL2",
        "outputId": "e77595c8-f98c-4438-b793-e4daee9f2242"
      },
      "source": [
        "# Import the function you need to fix the problem\n",
        "from functools import wraps\n",
        "\n",
        "def add_hello(func):\n",
        "  def wrapper(*args, **kwargs):\n",
        "    \"\"\"Print 'hello' and then call the decorated function.\"\"\"\n",
        "    print('Hello')\n",
        "    return func(*args, **kwargs)\n",
        "  return wrapper\n",
        "  \n",
        "@add_hello\n",
        "def print_sum(a, b):\n",
        "  \"\"\"Adds two numbers and prints the sum\"\"\"\n",
        "  print(a + b)\n",
        "  \n",
        "print_sum(10, 20)\n",
        "print_sum_docstring = print_sum.__doc__\n",
        "print(print_sum_docstring)"
      ],
      "execution_count": 19,
      "outputs": [
        {
          "output_type": "stream",
          "text": [
            "Hello\n",
            "30\n",
            "Print 'hello' and then call the decorated function.\n"
          ],
          "name": "stdout"
        }
      ]
    },
    {
      "cell_type": "markdown",
      "metadata": {
        "id": "yPD2F5K6sXSi"
      },
      "source": [
        "* Finally, decorate wrapper() so that the metadata from func() is preserved in the new decorated function."
      ]
    },
    {
      "cell_type": "code",
      "metadata": {
        "colab": {
          "base_uri": "https://localhost:8080/"
        },
        "id": "ekteLyD4sby8",
        "outputId": "ec9cb432-3d8c-42a7-c3f5-a1ff532f48e5"
      },
      "source": [
        "from functools import wraps\n",
        "\n",
        "def add_hello(func):\n",
        "  # Decorate wrapper() so that it keeps func()'s metadata\n",
        "  @wraps(func)\n",
        "  def wrapper(*args, **kwargs):\n",
        "    \"\"\"Print 'hello' and then call the decorated function.\"\"\"\n",
        "    print('Hello')\n",
        "    return func(*args, **kwargs)\n",
        "  return wrapper\n",
        "  \n",
        "@add_hello\n",
        "def print_sum(a, b):\n",
        "  \"\"\"Adds two numbers and prints the sum\"\"\"\n",
        "  print(a + b)\n",
        "  \n",
        "print_sum(10, 20)\n",
        "print_sum_docstring = print_sum.__doc__\n",
        "print(print_sum_docstring)"
      ],
      "execution_count": 20,
      "outputs": [
        {
          "output_type": "stream",
          "text": [
            "Hello\n",
            "30\n",
            "Adds two numbers and prints the sum\n"
          ],
          "name": "stdout"
        }
      ]
    },
    {
      "cell_type": "markdown",
      "metadata": {
        "id": "dr3i424Os9bz"
      },
      "source": [
        "**Measuring decorator**\n",
        "\n",
        "* Call the original function instead of the decorated version by using an attribute of the function that the wraps() statement in your boss's decorator added to the decorated function."
      ]
    },
    {
      "cell_type": "code",
      "metadata": {
        "id": "EwKqXKWnu6NU"
      },
      "source": [
        "def check_everything(func):\n",
        "  @wraps(func)\n",
        "  def wrapper(*args, **kwargs):\n",
        "    check_inputs(*args, **kwargs)\n",
        "    result = func(*args, **kwargs)\n",
        "    check_outputs(result)\n",
        "    return result\n",
        "  return wrapper"
      ],
      "execution_count": 22,
      "outputs": []
    },
    {
      "cell_type": "markdown",
      "metadata": {
        "id": "q8v0w1pEvCJz"
      },
      "source": [
        "```\n",
        "@check_everything\n",
        "def duplicate(my_list):\n",
        "  \"\"\"Return a new list that repeats the input twice\"\"\"\n",
        "  return my_list + my_list\n",
        "\n",
        "t_start = time.time()\n",
        "duplicated_list = duplicate(list(range(50)))\n",
        "t_end = time.time()\n",
        "decorated_time = t_end - t_start\n",
        "\n",
        "t_start = time.time()\n",
        "# Call the original function instead of the decorated one\n",
        "duplicated_list = duplicate.__wrapped__(list(range(50)))\n",
        "t_end = time.time()\n",
        "undecorated_time = t_end - t_start\n",
        "\n",
        "print('Decorated time: {:.5f}s'.format(decorated_time))\n",
        "print('Undecorated time: {:.5f}s'.format(undecorated_time))\n",
        "```\n",
        "```\n",
        "<script.py> output:\n",
        "    Finished checking inputs\n",
        "    Finished checking outputs\n",
        "    Decorated time: 1.51203s\n",
        "    Undecorated time: 0.00007s\n",
        "```\n",
        "\n",
        "### Decorators that takes arguments\n",
        "\n",
        "**Run_n_times() decorator**\n",
        "\n",
        "* Add the run_n_times() decorator to print_sum() using decorator syntax so that print_sum() runs 10 times."
      ]
    },
    {
      "cell_type": "code",
      "metadata": {
        "id": "D0pL-IQ-zzFO"
      },
      "source": [
        "def run_n_times(n):\n",
        "  \"\"\"Define and return a decorator\"\"\"\n",
        "  def decorator(func):\n",
        "    def wrapper(*args, **kwargs):\n",
        "      for i in range(n):\n",
        "        func(*args, **kwargs)\n",
        "    return wrapper\n",
        "  return decorator"
      ],
      "execution_count": 25,
      "outputs": []
    },
    {
      "cell_type": "code",
      "metadata": {
        "colab": {
          "base_uri": "https://localhost:8080/"
        },
        "id": "lOJNjAm8ywZr",
        "outputId": "37a25f8f-3052-4710-a5d2-f349a2eb7c74"
      },
      "source": [
        "# Make print_sum() run 10 times with the run_n_times() decorator\n",
        "@run_n_times(10)\n",
        "def print_sum(a, b):\n",
        "  print(a + b)\n",
        "  \n",
        "print_sum(15, 20)"
      ],
      "execution_count": 26,
      "outputs": [
        {
          "output_type": "stream",
          "text": [
            "35\n",
            "35\n",
            "35\n",
            "35\n",
            "35\n",
            "35\n",
            "35\n",
            "35\n",
            "35\n",
            "35\n"
          ],
          "name": "stdout"
        }
      ]
    },
    {
      "cell_type": "markdown",
      "metadata": {
        "id": "OUyRzpOD0S33"
      },
      "source": [
        "* Use run_n_times() to create a decorator run_five_times() that will run any function five times."
      ]
    },
    {
      "cell_type": "code",
      "metadata": {
        "colab": {
          "base_uri": "https://localhost:8080/"
        },
        "id": "NWiZE-5q0bhN",
        "outputId": "30528151-5b34-400c-8024-e0447c186f9c"
      },
      "source": [
        "# Use run_n_times() to create the run_five_times() decorator\n",
        "run_five_times = run_n_times(5)\n",
        "\n",
        "@run_five_times\n",
        "def print_sum(a, b):\n",
        "  print(a + b)\n",
        "  \n",
        "print_sum(4, 100)"
      ],
      "execution_count": 27,
      "outputs": [
        {
          "output_type": "stream",
          "text": [
            "104\n",
            "104\n",
            "104\n",
            "104\n",
            "104\n"
          ],
          "name": "stdout"
        }
      ]
    },
    {
      "cell_type": "markdown",
      "metadata": {
        "id": "OR124k2H0eIj"
      },
      "source": [
        "* Here's the prank: use run_n_times() to modify the built-in print() function so that it always prints 20 times!"
      ]
    },
    {
      "cell_type": "code",
      "metadata": {
        "colab": {
          "base_uri": "https://localhost:8080/"
        },
        "id": "B21WsZY80wYY",
        "outputId": "58f900d0-59b3-41c5-c490-d3496420ccfb"
      },
      "source": [
        "# Modify the print() function to always run 20 times\n",
        "print = run_n_times(20)(print)\n",
        "\n",
        "print('What is happening?!?!')"
      ],
      "execution_count": 28,
      "outputs": [
        {
          "output_type": "stream",
          "text": [
            "What is happening?!?!\n",
            "What is happening?!?!\n",
            "What is happening?!?!\n",
            "What is happening?!?!\n",
            "What is happening?!?!\n",
            "What is happening?!?!\n",
            "What is happening?!?!\n",
            "What is happening?!?!\n",
            "What is happening?!?!\n",
            "What is happening?!?!\n",
            "What is happening?!?!\n",
            "What is happening?!?!\n",
            "What is happening?!?!\n",
            "What is happening?!?!\n",
            "What is happening?!?!\n",
            "What is happening?!?!\n",
            "What is happening?!?!\n",
            "What is happening?!?!\n",
            "What is happening?!?!\n",
            "What is happening?!?!\n"
          ],
          "name": "stdout"
        }
      ]
    },
    {
      "cell_type": "markdown",
      "metadata": {
        "id": "jWf6ZZxD0zMe"
      },
      "source": [
        "**HTML generator**\n",
        "\n",
        "* Return the decorator and the decorated function from the correct places in the new html() decorator.\n"
      ]
    },
    {
      "cell_type": "code",
      "metadata": {
        "id": "W9v5TOe33xLI"
      },
      "source": [
        "def html(open_tag, close_tag):\n",
        "  def decorator(func):\n",
        "    @wraps(func)\n",
        "    def wrapper(*args, **kwargs):\n",
        "      msg = func(*args, **kwargs)\n",
        "      return '{}{}{}'.format(open_tag, msg, close_tag)\n",
        "    # Return the decorated function\n",
        "    return wrapper\n",
        "  # Return the decorator\n",
        "  return decorator"
      ],
      "execution_count": 29,
      "outputs": []
    },
    {
      "cell_type": "markdown",
      "metadata": {
        "id": "5366tL6t42m-"
      },
      "source": [
        "* Use the html() decorator to wrap the return value of hello() in the strings <b> and </b> (the HTML tags that mean \"bold\")."
      ]
    },
    {
      "cell_type": "code",
      "metadata": {
        "id": "EYyP8rnK5SR6"
      },
      "source": [
        "def bold(func):\n",
        "  @wraps(func)\n",
        "  def wrapper(*args, **kwargs):\n",
        "    msg = func(*args, **kwargs)\n",
        "    return '<b>{}</b>'.format(msg)\n",
        "  return wrapper\n",
        "\n",
        "def italics(func):\n",
        "  @wraps(func)\n",
        "  def wrapper(*args, **kwargs):\n",
        "    msg = func(*args, **kwargs)\n",
        "    return '<i>{}</i>'.format(msg)\n",
        "  return wrapper"
      ],
      "execution_count": 31,
      "outputs": []
    },
    {
      "cell_type": "code",
      "metadata": {
        "colab": {
          "base_uri": "https://localhost:8080/"
        },
        "id": "xZvI8TAl5XhS",
        "outputId": "bc9cd06c-28e6-4d18-9ab9-f6c37ef8c5be"
      },
      "source": [
        "# Make hello() return bolded text\n",
        "@html('<b>','</b>' )\n",
        "def hello(name):\n",
        "  return 'Hello {}!'.format(name)\n",
        "  \n",
        "print(hello('Alice'))"
      ],
      "execution_count": 32,
      "outputs": [
        {
          "output_type": "stream",
          "text": [
            "<b>Hello Alice!</b>\n",
            "<b>Hello Alice!</b>\n",
            "<b>Hello Alice!</b>\n",
            "<b>Hello Alice!</b>\n",
            "<b>Hello Alice!</b>\n",
            "<b>Hello Alice!</b>\n",
            "<b>Hello Alice!</b>\n",
            "<b>Hello Alice!</b>\n",
            "<b>Hello Alice!</b>\n",
            "<b>Hello Alice!</b>\n",
            "<b>Hello Alice!</b>\n",
            "<b>Hello Alice!</b>\n",
            "<b>Hello Alice!</b>\n",
            "<b>Hello Alice!</b>\n",
            "<b>Hello Alice!</b>\n",
            "<b>Hello Alice!</b>\n",
            "<b>Hello Alice!</b>\n",
            "<b>Hello Alice!</b>\n",
            "<b>Hello Alice!</b>\n",
            "<b>Hello Alice!</b>\n"
          ],
          "name": "stdout"
        }
      ]
    },
    {
      "cell_type": "markdown",
      "metadata": {
        "id": "AalQCvrS6y3E"
      },
      "source": [
        "* Use html() to wrap the return value of goodbye() in the strings <i> and </i> (the HTML tags that mean \"italics\")."
      ]
    },
    {
      "cell_type": "code",
      "metadata": {
        "colab": {
          "base_uri": "https://localhost:8080/"
        },
        "id": "N6SMRZAw6vWU",
        "outputId": "d5c8af8e-84ca-4b01-929e-b19fb49adaac"
      },
      "source": [
        "# Make goodbye() return italicized text\n",
        "@html('<i>', '</i>')\n",
        "def goodbye(name):\n",
        "  return 'Goodbye {}.'.format(name)\n",
        "  \n",
        "print(goodbye('Alice'))"
      ],
      "execution_count": 33,
      "outputs": [
        {
          "output_type": "stream",
          "text": [
            "<i>Goodbye Alice.</i>\n",
            "<i>Goodbye Alice.</i>\n",
            "<i>Goodbye Alice.</i>\n",
            "<i>Goodbye Alice.</i>\n",
            "<i>Goodbye Alice.</i>\n",
            "<i>Goodbye Alice.</i>\n",
            "<i>Goodbye Alice.</i>\n",
            "<i>Goodbye Alice.</i>\n",
            "<i>Goodbye Alice.</i>\n",
            "<i>Goodbye Alice.</i>\n",
            "<i>Goodbye Alice.</i>\n",
            "<i>Goodbye Alice.</i>\n",
            "<i>Goodbye Alice.</i>\n",
            "<i>Goodbye Alice.</i>\n",
            "<i>Goodbye Alice.</i>\n",
            "<i>Goodbye Alice.</i>\n",
            "<i>Goodbye Alice.</i>\n",
            "<i>Goodbye Alice.</i>\n",
            "<i>Goodbye Alice.</i>\n",
            "<i>Goodbye Alice.</i>\n"
          ],
          "name": "stdout"
        }
      ]
    },
    {
      "cell_type": "markdown",
      "metadata": {
        "id": "u35r6P2l7HX-"
      },
      "source": [
        "* Use html() to wrap hello_goodbye() in a DIV, which is done by adding the strings <div> and </div> tags around a string."
      ]
    },
    {
      "cell_type": "code",
      "metadata": {
        "colab": {
          "base_uri": "https://localhost:8080/"
        },
        "id": "cwmve1lq7O94",
        "outputId": "77fc2aff-7523-4460-88a5-4c9063e55189"
      },
      "source": [
        "# Wrap the result of hello_goodbye() in <div> and </div>\n",
        "@html('<div>','</div>')\n",
        "def hello_goodbye(name):\n",
        "  return '\\n{}\\n{}\\n'.format(hello(name), goodbye(name))\n",
        "  \n",
        "print(hello_goodbye('Alice'))"
      ],
      "execution_count": 34,
      "outputs": [
        {
          "output_type": "stream",
          "text": [
            "<div>\n",
            "<b>Hello Alice!</b>\n",
            "<i>Goodbye Alice.</i>\n",
            "</div>\n",
            "<div>\n",
            "<b>Hello Alice!</b>\n",
            "<i>Goodbye Alice.</i>\n",
            "</div>\n",
            "<div>\n",
            "<b>Hello Alice!</b>\n",
            "<i>Goodbye Alice.</i>\n",
            "</div>\n",
            "<div>\n",
            "<b>Hello Alice!</b>\n",
            "<i>Goodbye Alice.</i>\n",
            "</div>\n",
            "<div>\n",
            "<b>Hello Alice!</b>\n",
            "<i>Goodbye Alice.</i>\n",
            "</div>\n",
            "<div>\n",
            "<b>Hello Alice!</b>\n",
            "<i>Goodbye Alice.</i>\n",
            "</div>\n",
            "<div>\n",
            "<b>Hello Alice!</b>\n",
            "<i>Goodbye Alice.</i>\n",
            "</div>\n",
            "<div>\n",
            "<b>Hello Alice!</b>\n",
            "<i>Goodbye Alice.</i>\n",
            "</div>\n",
            "<div>\n",
            "<b>Hello Alice!</b>\n",
            "<i>Goodbye Alice.</i>\n",
            "</div>\n",
            "<div>\n",
            "<b>Hello Alice!</b>\n",
            "<i>Goodbye Alice.</i>\n",
            "</div>\n",
            "<div>\n",
            "<b>Hello Alice!</b>\n",
            "<i>Goodbye Alice.</i>\n",
            "</div>\n",
            "<div>\n",
            "<b>Hello Alice!</b>\n",
            "<i>Goodbye Alice.</i>\n",
            "</div>\n",
            "<div>\n",
            "<b>Hello Alice!</b>\n",
            "<i>Goodbye Alice.</i>\n",
            "</div>\n",
            "<div>\n",
            "<b>Hello Alice!</b>\n",
            "<i>Goodbye Alice.</i>\n",
            "</div>\n",
            "<div>\n",
            "<b>Hello Alice!</b>\n",
            "<i>Goodbye Alice.</i>\n",
            "</div>\n",
            "<div>\n",
            "<b>Hello Alice!</b>\n",
            "<i>Goodbye Alice.</i>\n",
            "</div>\n",
            "<div>\n",
            "<b>Hello Alice!</b>\n",
            "<i>Goodbye Alice.</i>\n",
            "</div>\n",
            "<div>\n",
            "<b>Hello Alice!</b>\n",
            "<i>Goodbye Alice.</i>\n",
            "</div>\n",
            "<div>\n",
            "<b>Hello Alice!</b>\n",
            "<i>Goodbye Alice.</i>\n",
            "</div>\n",
            "<div>\n",
            "<b>Hello Alice!</b>\n",
            "<i>Goodbye Alice.</i>\n",
            "</div>\n"
          ],
          "name": "stdout"
        }
      ]
    },
    {
      "cell_type": "markdown",
      "metadata": {
        "id": "B2GkENqm7bjA"
      },
      "source": [
        "### How decorators can prove useful?\n",
        "\n",
        "**Tag your functions**\n",
        "\n",
        "* Define a new decorator, named decorator(), to return.\n",
        "* Ensure the decorated function keeps its metadata.\n",
        "* Call the function being decorated and return the result.\n",
        "* Return the new decorator."
      ]
    },
    {
      "cell_type": "code",
      "metadata": {
        "colab": {
          "base_uri": "https://localhost:8080/"
        },
        "id": "Tw2SHjdc9vVM",
        "outputId": "0c8baf59-6308-4002-e172-1b24ef89c32b"
      },
      "source": [
        "def tag(*tags):\n",
        "  # Define a new decorator, named \"decorator\", to return\n",
        "  def decorator(func):\n",
        "    # Ensure the decorated function keeps its metadata\n",
        "    @wraps(func)\n",
        "    def wrapper(*args, **kwargs):\n",
        "      # Call the function being decorated and return the result\n",
        "      return decorator(*args, **kwargs)\n",
        "    wrapper.tags = tags\n",
        "    return wrapper\n",
        "  # Return the new decorator\n",
        "  return decorator\n",
        "\n",
        "@tag('test', 'this is a tag')\n",
        "def foo():\n",
        "  pass\n",
        "\n",
        "print(foo.tags)"
      ],
      "execution_count": 35,
      "outputs": [
        {
          "output_type": "stream",
          "text": [
            "('test', 'this is a tag')\n",
            "('test', 'this is a tag')\n",
            "('test', 'this is a tag')\n",
            "('test', 'this is a tag')\n",
            "('test', 'this is a tag')\n",
            "('test', 'this is a tag')\n",
            "('test', 'this is a tag')\n",
            "('test', 'this is a tag')\n",
            "('test', 'this is a tag')\n",
            "('test', 'this is a tag')\n",
            "('test', 'this is a tag')\n",
            "('test', 'this is a tag')\n",
            "('test', 'this is a tag')\n",
            "('test', 'this is a tag')\n",
            "('test', 'this is a tag')\n",
            "('test', 'this is a tag')\n",
            "('test', 'this is a tag')\n",
            "('test', 'this is a tag')\n",
            "('test', 'this is a tag')\n",
            "('test', 'this is a tag')\n"
          ],
          "name": "stdout"
        }
      ]
    },
    {
      "cell_type": "markdown",
      "metadata": {
        "id": "Iyj3cOchAAtJ"
      },
      "source": [
        "**Checking the return data type of the function**\n",
        "\n",
        "* Start by completing the returns_dict() decorator so that it raises an AssertionError if the return type of the decorated function is not a dictionary."
      ]
    },
    {
      "cell_type": "code",
      "metadata": {
        "colab": {
          "base_uri": "https://localhost:8080/"
        },
        "id": "USkebZEHBoZA",
        "outputId": "41b18443-9a2c-490d-9ccd-45124f4cc3cb"
      },
      "source": [
        "def returns_dict(func):\n",
        "  # Complete the returns_dict() decorator\n",
        "  def wrapper(*args, **kwargs):\n",
        "    result = returns_dict(wrapper)\n",
        "    assert type(result) == dict\n",
        "    return result\n",
        "  return wrapper\n",
        "  \n",
        "@returns_dict\n",
        "def foo(value):\n",
        "  return value\n",
        "\n",
        "try:\n",
        "  print(foo([1,2,3]))\n",
        "except AssertionError:\n",
        "  print('foo() did not return a dict!')\n",
        "  "
      ],
      "execution_count": 36,
      "outputs": [
        {
          "output_type": "stream",
          "text": [
            "foo() did not return a dict!\n",
            "foo() did not return a dict!\n",
            "foo() did not return a dict!\n",
            "foo() did not return a dict!\n",
            "foo() did not return a dict!\n",
            "foo() did not return a dict!\n",
            "foo() did not return a dict!\n",
            "foo() did not return a dict!\n",
            "foo() did not return a dict!\n",
            "foo() did not return a dict!\n",
            "foo() did not return a dict!\n",
            "foo() did not return a dict!\n",
            "foo() did not return a dict!\n",
            "foo() did not return a dict!\n",
            "foo() did not return a dict!\n",
            "foo() did not return a dict!\n",
            "foo() did not return a dict!\n",
            "foo() did not return a dict!\n",
            "foo() did not return a dict!\n",
            "foo() did not return a dict!\n"
          ],
          "name": "stdout"
        }
      ]
    },
    {
      "cell_type": "markdown",
      "metadata": {
        "id": "JsVdcWP5Cefg"
      },
      "source": [
        "* Now complete the returns() decorator, which takes the expected return type as an argument."
      ]
    },
    {
      "cell_type": "code",
      "metadata": {
        "colab": {
          "base_uri": "https://localhost:8080/"
        },
        "id": "ekqylHh0Cjf5",
        "outputId": "f6f6dc22-5555-417b-c9a0-2236e004e0ab"
      },
      "source": [
        "def returns(return_type):\n",
        "  # Complete the returns() decorator\n",
        "  def decorator(func):\n",
        "    def wrapper(*args, **kwargs):\n",
        "      result = returns(wrapper)\n",
        "      assert type(result) == return_type\n",
        "      return result\n",
        "    return wrapper\n",
        "  return decorator\n",
        "  \n",
        "@returns(dict)\n",
        "def foo(value):\n",
        "  return value\n",
        "\n",
        "try:\n",
        "  print(foo([1,2,3]))\n",
        "except AssertionError:\n",
        "  print('foo() did not return a dict!')"
      ],
      "execution_count": 37,
      "outputs": [
        {
          "output_type": "stream",
          "text": [
            "foo() did not return a dict!\n",
            "foo() did not return a dict!\n",
            "foo() did not return a dict!\n",
            "foo() did not return a dict!\n",
            "foo() did not return a dict!\n",
            "foo() did not return a dict!\n",
            "foo() did not return a dict!\n",
            "foo() did not return a dict!\n",
            "foo() did not return a dict!\n",
            "foo() did not return a dict!\n",
            "foo() did not return a dict!\n",
            "foo() did not return a dict!\n",
            "foo() did not return a dict!\n",
            "foo() did not return a dict!\n",
            "foo() did not return a dict!\n",
            "foo() did not return a dict!\n",
            "foo() did not return a dict!\n",
            "foo() did not return a dict!\n",
            "foo() did not return a dict!\n",
            "foo() did not return a dict!\n"
          ],
          "name": "stdout"
        }
      ]
    }
  ]
}